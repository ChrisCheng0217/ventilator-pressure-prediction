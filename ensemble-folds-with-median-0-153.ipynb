{
 "cells": [
  {
   "cell_type": "markdown",
   "id": "25bc44b9",
   "metadata": {
    "papermill": {
     "duration": 0.01119,
     "end_time": "2021-10-03T10:08:44.877160",
     "exception": false,
     "start_time": "2021-10-03T10:08:44.865970",
     "status": "completed"
    },
    "tags": []
   },
   "source": [
    "# Ensemble Folds with MEDIAN - [0.153]\n",
    "This notebook is a fork of [Zhangxin's][1] notebook [here][2]. The purpose of this notebook is to demonstrate using **median** (instead of mean) to ensemble fold model predictions. Additionally it demonstrates \"rounding\" predictions to match the discrete target distribution observed in train data.\n",
    "\n",
    "Since the [competition metric][3] is MAE, using **median** is best. If the competition metric were RSME, then **mean** would be best.\n",
    "\n",
    "The original notebook ensembles its 10 fold models with **mean** (instead of median) and achieves **LB 0.157**. By using **median** we boost the LB by **+0.002** and by using \"rounding\", we boost LB by **+0.002** too. Both of these tricks together boost LB a total **+0.004**!\n",
    "\n",
    "[1]: https://www.kaggle.com/tenffe\n",
    "[2]: https://www.kaggle.com/tenffe/finetune-of-tensorflow-bidirectional-lstm\n",
    "[3]: https://www.kaggle.com/c/ventilator-pressure-prediction/overview/evaluation"
   ]
  },
  {
   "cell_type": "markdown",
   "id": "df805128",
   "metadata": {
    "papermill": {
     "duration": 0.009712,
     "end_time": "2021-10-03T10:08:44.897653",
     "exception": false,
     "start_time": "2021-10-03T10:08:44.887941",
     "status": "completed"
    },
    "tags": []
   },
   "source": [
    "# Train Targets are Discrete - EDA\n",
    "The discovery that train targets are discrete was first published in discussion [here][1], then [here][2]\n",
    "\n",
    "[1]: https://www.kaggle.com/c/ventilator-pressure-prediction/discussion/275897\n",
    "[2]: https://www.kaggle.com/c/ventilator-pressure-prediction/discussion/276083"
   ]
  },
  {
   "cell_type": "code",
   "execution_count": 1,
   "id": "dd50c0d7",
   "metadata": {
    "execution": {
     "iopub.execute_input": "2021-10-03T10:08:44.999893Z",
     "iopub.status.busy": "2021-10-03T10:08:44.999157Z",
     "iopub.status.idle": "2021-10-03T10:08:56.565031Z",
     "shell.execute_reply": "2021-10-03T10:08:56.564213Z",
     "shell.execute_reply.started": "2021-10-03T09:33:23.884894Z"
    },
    "papermill": {
     "duration": 11.657592,
     "end_time": "2021-10-03T10:08:56.565216",
     "exception": false,
     "start_time": "2021-10-03T10:08:44.907624",
     "status": "completed"
    },
    "tags": []
   },
   "outputs": [
    {
     "data": {
      "image/png": "[encoded data removed]",
      "text/plain": [
       "<Figure size 432x288 with 1 Axes>"
      ]
     },
     "metadata": {
      "needs_background": "light"
     },
     "output_type": "display_data"
    },
    {
     "name": "stdout",
     "output_type": "stream",
     "text": [
      "Max pressure = 64.82099173863948 Min pressure = -1.8957442945646408\n"
     ]
    }
   ],
   "source": [
    "import cupy, cudf, matplotlib.pyplot as plt\n",
    "train_gf = cudf.read_csv('../input/ventilator-pressure-prediction/train.csv')\n",
    "\n",
    "plt.title('Histogram of Train Pressures',size=14)\n",
    "plt.hist(train_gf.sample(100_000).pressure.to_array(),bins=100)\n",
    "plt.show()\n",
    "print('Max pressure =',train_gf.pressure.max(), 'Min pressure =',train_gf.pressure.min())"
   ]
  },
  {
   "cell_type": "code",
   "execution_count": 2,
   "id": "f4c2a79a",
   "metadata": {
    "execution": {
     "iopub.execute_input": "2021-10-03T10:08:56.593039Z",
     "iopub.status.busy": "2021-10-03T10:08:56.592326Z",
     "iopub.status.idle": "2021-10-03T10:08:57.180611Z",
     "shell.execute_reply": "2021-10-03T10:08:57.179984Z",
     "shell.execute_reply.started": "2021-10-03T09:49:40.737695Z"
    },
    "papermill": {
     "duration": 0.603686,
     "end_time": "2021-10-03T10:08:57.180767",
     "exception": false,
     "start_time": "2021-10-03T10:08:56.577081",
     "status": "completed"
    },
    "tags": []
   },
   "outputs": [
    {
     "name": "stdout",
     "output_type": "stream",
     "text": [
      "The first 25 unique pressures...\n"
     ]
    },
    {
     "data": {
      "text/plain": [
       "array([-1.89574429, -1.82544215, -1.75514   , -1.68483786, -1.61453571,\n",
       "       -1.54423357, -1.47393142, -1.40362928, -1.33332713, -1.26302499,\n",
       "       -1.19272284, -1.12242069, -1.05211855, -0.9818164 , -0.91151426,\n",
       "       -0.84121211, -0.77090997, -0.70060782, -0.63030568, -0.56000353,\n",
       "       -0.48970139, -0.41939924, -0.34909709, -0.27879495, -0.2084928 ])"
      ]
     },
     "execution_count": 2,
     "metadata": {},
     "output_type": "execute_result"
    }
   ],
   "source": [
    "all_pressure = cupy.sort( train_gf.pressure.unique().values )\n",
    "print('The first 25 unique pressures...')\n",
    "PRESSURE_MIN = all_pressure[0].item()\n",
    "PRESSURE_MAX = all_pressure[-1].item()\n",
    "all_pressure[:25]"
   ]
  },
  {
   "cell_type": "code",
   "execution_count": 3,
   "id": "d164a3ed",
   "metadata": {
    "execution": {
     "iopub.execute_input": "2021-10-03T10:08:57.209133Z",
     "iopub.status.busy": "2021-10-03T10:08:57.206539Z",
     "iopub.status.idle": "2021-10-03T10:08:57.673636Z",
     "shell.execute_reply": "2021-10-03T10:08:57.674089Z",
     "shell.execute_reply.started": "2021-10-03T09:49:43.050213Z"
    },
    "papermill": {
     "duration": 0.481279,
     "end_time": "2021-10-03T10:08:57.674245",
     "exception": false,
     "start_time": "2021-10-03T10:08:57.192966",
     "status": "completed"
    },
    "tags": []
   },
   "outputs": [
    {
     "name": "stdout",
     "output_type": "stream",
     "text": [
      "The differences between first 25 pressures...\n"
     ]
    },
    {
     "data": {
      "text/plain": [
       "array([0.07030215, 0.07030215, 0.07030215, 0.07030215, 0.07030215,\n",
       "       0.07030215, 0.07030215, 0.07030215, 0.07030215, 0.07030215,\n",
       "       0.07030215, 0.07030215, 0.07030215, 0.07030215, 0.07030215,\n",
       "       0.07030215, 0.07030215, 0.07030215, 0.07030215, 0.07030215,\n",
       "       0.07030215, 0.07030215, 0.07030215, 0.07030215, 0.07030215])"
      ]
     },
     "execution_count": 3,
     "metadata": {},
     "output_type": "execute_result"
    }
   ],
   "source": [
    "print('The differences between first 25 pressures...')\n",
    "PRESSURE_STEP = ( all_pressure[1] - all_pressure[0] ).item()\n",
    "all_pressure[1:26] - all_pressure[:25]"
   ]
  },
  {
   "cell_type": "markdown",
   "id": "71f13a1d",
   "metadata": {
    "papermill": {
     "duration": 0.01257,
     "end_time": "2021-10-03T10:08:57.699435",
     "exception": false,
     "start_time": "2021-10-03T10:08:57.686865",
     "status": "completed"
    },
    "tags": []
   },
   "source": [
    "# Load Data"
   ]
  },
  {
   "cell_type": "code",
   "execution_count": 4,
   "id": "2c7e3fb3",
   "metadata": {
    "_cell_guid": "3e5a0bd1-3e22-4b2c-a565-68985e55f95e",
    "_kg_hide-input": true,
    "_uuid": "e331dbcc-0346-4019-9ff6-b890154a878b",
    "execution": {
     "iopub.execute_input": "2021-10-03T10:08:57.730576Z",
     "iopub.status.busy": "2021-10-03T10:08:57.729891Z",
     "iopub.status.idle": "2021-10-03T10:09:12.165369Z",
     "shell.execute_reply": "2021-10-03T10:09:12.164460Z",
     "shell.execute_reply.started": "2021-10-03T09:33:35.358530Z"
    },
    "jupyter": {
     "outputs_hidden": false
    },
    "papermill": {
     "duration": 14.454263,
     "end_time": "2021-10-03T10:09:12.165542",
     "exception": false,
     "start_time": "2021-10-03T10:08:57.711279",
     "status": "completed"
    },
    "tags": []
   },
   "outputs": [],
   "source": [
    "import numpy as np\n",
    "import pandas as pd\n",
    "\n",
    "import optuna\n",
    "\n",
    "import os \n",
    "os.environ['TF_CPP_MIN_LOG_LEVEL'] = '3' \n",
    "# https://www.kaggle.com/c/ventilator-pressure-prediction/discussion/274717\n",
    "\n",
    "import tensorflow as tf, gc\n",
    "from tensorflow import keras\n",
    "import tensorflow.keras.backend as K\n",
    "from tensorflow.keras.callbacks import EarlyStopping, ModelCheckpoint\n",
    "from tensorflow.keras.callbacks import LearningRateScheduler, ReduceLROnPlateau\n",
    "from tensorflow.keras.optimizers.schedules import ExponentialDecay\n",
    "\n",
    "from sklearn.metrics import mean_absolute_error as mae\n",
    "from sklearn.preprocessing import RobustScaler, normalize\n",
    "from sklearn.model_selection import train_test_split, GroupKFold, KFold\n",
    "\n",
    "from IPython.display import display\n",
    "\n",
    "DEBUG = False\n",
    "TRAIN_MODEL = False\n",
    "\n",
    "train = pd.read_csv('../input/ventilator-pressure-prediction/train.csv')\n",
    "test = pd.read_csv('../input/ventilator-pressure-prediction/test.csv')\n",
    "submission = pd.read_csv('../input/ventilator-pressure-prediction/sample_submission.csv')\n",
    "\n",
    "if DEBUG:\n",
    "    train = train[:80*1000]"
   ]
  },
  {
   "cell_type": "markdown",
   "id": "60b94431",
   "metadata": {
    "papermill": {
     "duration": 0.01295,
     "end_time": "2021-10-03T10:09:12.190776",
     "exception": false,
     "start_time": "2021-10-03T10:09:12.177826",
     "status": "completed"
    },
    "tags": []
   },
   "source": [
    "# Engineer Features"
   ]
  },
  {
   "cell_type": "code",
   "execution_count": 5,
   "id": "d15eea2f",
   "metadata": {
    "_cell_guid": "13a36b46-7067-4b29-aad3-7e3b15e8415b",
    "_kg_hide-input": true,
    "_uuid": "dc41dbf2-f199-4b9d-bbd9-bf6084162b47",
    "execution": {
     "iopub.execute_input": "2021-10-03T10:09:12.240584Z",
     "iopub.status.busy": "2021-10-03T10:09:12.239799Z",
     "iopub.status.idle": "2021-10-03T10:10:11.616095Z",
     "shell.execute_reply": "2021-10-03T10:10:11.615600Z",
     "shell.execute_reply.started": "2021-10-03T09:33:49.351947Z"
    },
    "jupyter": {
     "outputs_hidden": false
    },
    "papermill": {
     "duration": 59.413634,
     "end_time": "2021-10-03T10:10:11.616236",
     "exception": false,
     "start_time": "2021-10-03T10:09:12.202602",
     "status": "completed"
    },
    "tags": []
   },
   "outputs": [],
   "source": [
    "def add_features(df):\n",
    "    df['area'] = df['time_step'] * df['u_in']\n",
    "    df['area'] = df.groupby('breath_id')['area'].cumsum()\n",
    "    \n",
    "    df['u_in_cumsum'] = (df['u_in']).groupby(df['breath_id']).cumsum()\n",
    "    \n",
    "    df['u_in_lag1'] = df.groupby('breath_id')['u_in'].shift(1)\n",
    "    df['u_out_lag1'] = df.groupby('breath_id')['u_out'].shift(1)\n",
    "    df['u_in_lag_back1'] = df.groupby('breath_id')['u_in'].shift(-1)\n",
    "    df['u_out_lag_back1'] = df.groupby('breath_id')['u_out'].shift(-1)\n",
    "    df['u_in_lag2'] = df.groupby('breath_id')['u_in'].shift(2)\n",
    "    df['u_out_lag2'] = df.groupby('breath_id')['u_out'].shift(2)\n",
    "    df['u_in_lag_back2'] = df.groupby('breath_id')['u_in'].shift(-2)\n",
    "    df['u_out_lag_back2'] = df.groupby('breath_id')['u_out'].shift(-2)\n",
    "    df['u_in_lag3'] = df.groupby('breath_id')['u_in'].shift(3)\n",
    "    df['u_out_lag3'] = df.groupby('breath_id')['u_out'].shift(3)\n",
    "    df['u_in_lag_back3'] = df.groupby('breath_id')['u_in'].shift(-3)\n",
    "    df['u_out_lag_back3'] = df.groupby('breath_id')['u_out'].shift(-3)\n",
    "    df['u_in_lag4'] = df.groupby('breath_id')['u_in'].shift(4)\n",
    "    df['u_out_lag4'] = df.groupby('breath_id')['u_out'].shift(4)\n",
    "    df['u_in_lag_back4'] = df.groupby('breath_id')['u_in'].shift(-4)\n",
    "    df['u_out_lag_back4'] = df.groupby('breath_id')['u_out'].shift(-4)\n",
    "    df = df.fillna(0)\n",
    "    \n",
    "    df['breath_id__u_in__max'] = df.groupby(['breath_id'])['u_in'].transform('max')\n",
    "    df['breath_id__u_out__max'] = df.groupby(['breath_id'])['u_out'].transform('max')\n",
    "    \n",
    "    df['u_in_diff1'] = df['u_in'] - df['u_in_lag1']\n",
    "    df['u_out_diff1'] = df['u_out'] - df['u_out_lag1']\n",
    "    df['u_in_diff2'] = df['u_in'] - df['u_in_lag2']\n",
    "    df['u_out_diff2'] = df['u_out'] - df['u_out_lag2']\n",
    "    \n",
    "    df['breath_id__u_in__diffmax'] = df.groupby(['breath_id'])['u_in'].transform('max') - df['u_in']\n",
    "    df['breath_id__u_in__diffmean'] = df.groupby(['breath_id'])['u_in'].transform('mean') - df['u_in']\n",
    "    \n",
    "    df['breath_id__u_in__diffmax'] = df.groupby(['breath_id'])['u_in'].transform('max') - df['u_in']\n",
    "    df['breath_id__u_in__diffmean'] = df.groupby(['breath_id'])['u_in'].transform('mean') - df['u_in']\n",
    "    \n",
    "    df['u_in_diff3'] = df['u_in'] - df['u_in_lag3']\n",
    "    df['u_out_diff3'] = df['u_out'] - df['u_out_lag3']\n",
    "    df['u_in_diff4'] = df['u_in'] - df['u_in_lag4']\n",
    "    df['u_out_diff4'] = df['u_out'] - df['u_out_lag4']\n",
    "    df['cross']= df['u_in']*df['u_out']\n",
    "    df['cross2']= df['time_step']*df['u_out']\n",
    "    \n",
    "    df['R'] = df['R'].astype(str)\n",
    "    df['C'] = df['C'].astype(str)\n",
    "    df['R__C'] = df[\"R\"].astype(str) + '__' + df[\"C\"].astype(str)\n",
    "    df = pd.get_dummies(df)\n",
    "    return df\n",
    "\n",
    "train = add_features(train)\n",
    "test = add_features(test)\n",
    "\n",
    "targets = train[['pressure']].to_numpy().reshape(-1, 80)\n",
    "train.drop(['pressure', 'id', 'breath_id'], axis=1, inplace=True)\n",
    "test = test.drop(['id', 'breath_id'], axis=1)\n",
    "\n",
    "RS = RobustScaler()\n",
    "train = RS.fit_transform(train)\n",
    "test = RS.transform(test)\n",
    "\n",
    "train = train.reshape(-1, 80, train.shape[-1])\n",
    "test = test.reshape(-1, 80, train.shape[-1])"
   ]
  },
  {
   "cell_type": "markdown",
   "id": "a7348a42",
   "metadata": {
    "papermill": {
     "duration": 0.012176,
     "end_time": "2021-10-03T10:10:11.640894",
     "exception": false,
     "start_time": "2021-10-03T10:10:11.628718",
     "status": "completed"
    },
    "tags": []
   },
   "source": [
    "# Infer Test Data"
   ]
  },
  {
   "cell_type": "code",
   "execution_count": 6,
   "id": "06a764c2",
   "metadata": {
    "_kg_hide-input": true,
    "execution": {
     "iopub.execute_input": "2021-10-03T10:10:11.677418Z",
     "iopub.status.busy": "2021-10-03T10:10:11.676881Z",
     "iopub.status.idle": "2021-10-03T10:17:28.823693Z",
     "shell.execute_reply": "2021-10-03T10:17:28.823177Z",
     "shell.execute_reply.started": "2021-10-03T09:35:33.913574Z"
    },
    "papermill": {
     "duration": 437.170882,
     "end_time": "2021-10-03T10:17:28.823848",
     "exception": false,
     "start_time": "2021-10-03T10:10:11.652966",
     "status": "completed"
    },
    "tags": []
   },
   "outputs": [
    {
     "name": "stdout",
     "output_type": "stream",
     "text": [
      "--------------- > Fold 1 < ---------------\n",
      "50/50 - 38s\n",
      "--------------- > Fold 2 < ---------------\n",
      "50/50 - 32s\n",
      "--------------- > Fold 3 < ---------------\n",
      "50/50 - 32s\n",
      "--------------- > Fold 4 < ---------------\n",
      "50/50 - 32s\n",
      "--------------- > Fold 5 < ---------------\n",
      "50/50 - 32s\n",
      "--------------- > Fold 6 < ---------------\n",
      "50/50 - 32s\n",
      "--------------- > Fold 7 < ---------------\n",
      "50/50 - 32s\n",
      "--------------- > Fold 8 < ---------------\n",
      "50/50 - 32s\n",
      "--------------- > Fold 9 < ---------------\n",
      "50/50 - 32s\n",
      "--------------- > Fold 10 < ---------------\n",
      "50/50 - 32s\n"
     ]
    }
   ],
   "source": [
    "EPOCH = 300\n",
    "BATCH_SIZE = 1024\n",
    "NUM_FOLDS = 10\n",
    "\n",
    "gpu_strategy = tf.distribute.get_strategy()\n",
    "\n",
    "with gpu_strategy.scope():\n",
    "    kf = KFold(n_splits=NUM_FOLDS, shuffle=True, random_state=2021)\n",
    "    test_preds = []\n",
    "    for fold, (train_idx, test_idx) in enumerate(kf.split(train, targets)):\n",
    "        K.clear_session()\n",
    "        \n",
    "        print('-'*15, '>', f'Fold {fold+1}', '<', '-'*15)\n",
    "        X_train, X_valid = train[train_idx], train[test_idx]\n",
    "        y_train, y_valid = targets[train_idx], targets[test_idx]\n",
    "        \n",
    "        checkpoint_filepath = f\"folds{fold}.hdf5\"\n",
    "        if TRAIN_MODEL:\n",
    "            model = keras.models.Sequential([\n",
    "                keras.layers.Input(shape=train.shape[-2:]),\n",
    "                keras.layers.Bidirectional(keras.layers.LSTM(1024, return_sequences=True)),\n",
    "                keras.layers.Bidirectional(keras.layers.LSTM(512, return_sequences=True)),\n",
    "                keras.layers.Bidirectional(keras.layers.LSTM(256, return_sequences=True)),\n",
    "                keras.layers.Bidirectional(keras.layers.LSTM(128, return_sequences=True)),\n",
    "                keras.layers.Dense(128, activation='selu'),\n",
    "                keras.layers.Dense(1),\n",
    "            ])\n",
    "            model.compile(optimizer=\"adam\", loss=\"mae\")\n",
    "\n",
    "            lr = ReduceLROnPlateau(monitor=\"val_loss\", factor=0.5, patience=10, verbose=1)\n",
    "            es = EarlyStopping(monitor=\"val_loss\", patience=60, verbose=1, mode=\"min\", restore_best_weights=True)\n",
    "            sv = keras.callbacks.ModelCheckpoint(\n",
    "                checkpoint_filepath, monitor='val_loss', verbose=1, save_best_only=True,\n",
    "                save_weights_only=False, mode='auto', save_freq='epoch',\n",
    "                options=None\n",
    "            )\n",
    "            model.fit(X_train, y_train, validation_data=(X_valid, y_valid), epochs=EPOCH, batch_size=BATCH_SIZE, callbacks=[lr, es, sv])\n",
    "        else:\n",
    "            model = keras.models.load_model('../input/finetune-of-tensorflow-bidirectional-lstm/'+checkpoint_filepath)\n",
    "            \n",
    "        test_preds.append(model.predict(test, batch_size=BATCH_SIZE, verbose=2).squeeze().reshape(-1, 1).squeeze())\n",
    "        \n",
    "        del model, X_train, X_valid; gc.collect()"
   ]
  },
  {
   "cell_type": "markdown",
   "id": "46fc8bcd",
   "metadata": {
    "papermill": {
     "duration": 0.016761,
     "end_time": "2021-10-03T10:17:28.858021",
     "exception": false,
     "start_time": "2021-10-03T10:17:28.841260",
     "status": "completed"
    },
    "tags": []
   },
   "source": [
    "# Post Process with Median and Round"
   ]
  },
  {
   "cell_type": "code",
   "execution_count": 7,
   "id": "e643a0cf",
   "metadata": {
    "execution": {
     "iopub.execute_input": "2021-10-03T10:17:28.899009Z",
     "iopub.status.busy": "2021-10-03T10:17:28.897772Z",
     "iopub.status.idle": "2021-10-03T10:18:02.659490Z",
     "shell.execute_reply": "2021-10-03T10:18:02.658522Z",
     "shell.execute_reply.started": "2021-10-03T09:50:00.850057Z"
    },
    "papermill": {
     "duration": 33.784586,
     "end_time": "2021-10-03T10:18:02.659632",
     "exception": false,
     "start_time": "2021-10-03T10:17:28.875046",
     "status": "completed"
    },
    "tags": []
   },
   "outputs": [],
   "source": [
    "# ENSEMBLE FOLDS WITH MEAN\n",
    "submission[\"pressure\"] = sum(test_preds)/NUM_FOLDS\n",
    "submission.to_csv('submission_mean_LB157.csv', index=False)\n",
    "\n",
    "# ENSEMBLE FOLDS WITH MEDIAN\n",
    "submission[\"pressure\"] = np.median(np.vstack(test_preds),axis=0)\n",
    "submission.to_csv('submission_median_LB155.csv', index=False)\n",
    "\n",
    "# ENSEMBLE FOLDS WITH MEDIAN AND ROUND PREDICTIONS\n",
    "submission[\"pressure\"] =\\\n",
    "    np.round( (submission.pressure - PRESSURE_MIN)/PRESSURE_STEP ) * PRESSURE_STEP + PRESSURE_MIN\n",
    "submission.pressure = np.clip(submission.pressure, PRESSURE_MIN, PRESSURE_MAX)\n",
    "submission.to_csv('submission_median_round_LB153.csv', index=False)"
   ]
  },
  {
   "cell_type": "markdown",
   "id": "63fa8c43",
   "metadata": {
    "papermill": {
     "duration": 0.017162,
     "end_time": "2021-10-03T10:18:02.694771",
     "exception": false,
     "start_time": "2021-10-03T10:18:02.677609",
     "status": "completed"
    },
    "tags": []
   },
   "source": [
    "# After PostProcess, Test Targets are Discrete - EDA"
   ]
  },
  {
   "cell_type": "code",
   "execution_count": 8,
   "id": "72af4299",
   "metadata": {
    "execution": {
     "iopub.execute_input": "2021-10-03T10:18:02.759808Z",
     "iopub.status.busy": "2021-10-03T10:18:02.758452Z",
     "iopub.status.idle": "2021-10-03T10:18:03.200444Z",
     "shell.execute_reply": "2021-10-03T10:18:03.200009Z",
     "shell.execute_reply.started": "2021-10-03T09:51:08.530740Z"
    },
    "papermill": {
     "duration": 0.488345,
     "end_time": "2021-10-03T10:18:03.200567",
     "exception": false,
     "start_time": "2021-10-03T10:18:02.712222",
     "status": "completed"
    },
    "tags": []
   },
   "outputs": [
    {
     "data": {
      "image/png": "[encoded data removed]",
      "text/plain": [
       "<Figure size 432x288 with 1 Axes>"
      ]
     },
     "metadata": {
      "needs_background": "light"
     },
     "output_type": "display_data"
    },
    {
     "name": "stdout",
     "output_type": "stream",
     "text": [
      "Max pressure = 64.82099173863328 Min pressure = -1.7551400036622216\n"
     ]
    }
   ],
   "source": [
    "plt.title('Histogram of Test Pressures',size=14)\n",
    "plt.hist(submission.sample(10_000).pressure.values, bins=100)\n",
    "plt.show()\n",
    "print('Max pressure =',submission.pressure.max(), 'Min pressure =',submission.pressure.min())"
   ]
  },
  {
   "cell_type": "code",
   "execution_count": 9,
   "id": "2fef575d",
   "metadata": {
    "execution": {
     "iopub.execute_input": "2021-10-03T10:18:03.243720Z",
     "iopub.status.busy": "2021-10-03T10:18:03.242896Z",
     "iopub.status.idle": "2021-10-03T10:18:03.287092Z",
     "shell.execute_reply": "2021-10-03T10:18:03.287551Z",
     "shell.execute_reply.started": "2021-10-03T10:03:02.308093Z"
    },
    "papermill": {
     "duration": 0.067768,
     "end_time": "2021-10-03T10:18:03.287690",
     "exception": false,
     "start_time": "2021-10-03T10:18:03.219922",
     "status": "completed"
    },
    "tags": []
   },
   "outputs": [
    {
     "name": "stdout",
     "output_type": "stream",
     "text": [
      "The differences between first 25 test pressures...\n"
     ]
    },
    {
     "data": {
      "text/plain": [
       "array([0.07030215, 0.07030215, 0.07030215, 0.07030215, 0.07030215,\n",
       "       0.07030215, 0.07030215, 0.07030215, 0.07030215, 0.07030215,\n",
       "       0.07030215, 0.07030215, 0.07030215, 0.07030215, 0.07030215,\n",
       "       0.07030215, 0.07030215, 0.07030215, 0.07030215, 0.07030215,\n",
       "       0.07030215, 0.07030215, 0.07030215, 0.07030215, 0.07030215])"
      ]
     },
     "execution_count": 9,
     "metadata": {},
     "output_type": "execute_result"
    }
   ],
   "source": [
    "all_pressure = np.sort( submission.pressure.unique() )\n",
    "print('The differences between first 25 test pressures...')\n",
    "all_pressure[1:26] - all_pressure[:25]"
   ]
  }
 ],
 "metadata": {
  "kernelspec": {
   "display_name": "Python 3",
   "language": "python",
   "name": "python3"
  },
  "language_info": {
   "codemirror_mode": {
    "name": "ipython",
    "version": 3
   },
   "file_extension": ".py",
   "mimetype": "text/x-python",
   "name": "python",
   "nbconvert_exporter": "python",
   "pygments_lexer": "ipython3",
   "version": "3.8.8"
  },
  "papermill": {
   "default_parameters": {},
   "duration": 567.950998,
   "end_time": "2021-10-03T10:18:06.072529",
   "environment_variables": {},
   "exception": null,
   "input_path": "__notebook__.ipynb",
   "output_path": "__notebook__.ipynb",
   "parameters": {},
   "start_time": "2021-10-03T10:08:38.121531",
   "version": "2.3.3"
  }
 },
 "nbformat": 4,
 "nbformat_minor": 5
}
