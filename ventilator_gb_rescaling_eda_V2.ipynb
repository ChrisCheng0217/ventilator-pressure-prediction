{
  "nbformat": 4,
  "nbformat_minor": 0,
  "metadata": {
    "kernelspec": {
      "language": "python",
      "display_name": "Python 3",
      "name": "python3"
    },
    "language_info": {
      "name": "python",
      "version": "3.7.10",
      "mimetype": "text/x-python",
      "codemirror_mode": {
        "name": "ipython",
        "version": 3
      },
      "pygments_lexer": "ipython3",
      "nbconvert_exporter": "python",
      "file_extension": ".py"
    },
    "colab": {
      "name": "ventilator-gb-rescaling-eda-V2.ipynb",
      "provenance": [],
      "collapsed_sections": [],
      "machine_shape": "hm",
      "include_colab_link": true
    },
    "accelerator": "TPU"
  },
  "cells": [
    {
      "cell_type": "markdown",
      "metadata": {
        "id": "view-in-github",
        "colab_type": "text"
      },
      "source": [
        "<a href=\"https://colab.research.google.com/github/bobbercheng/ventilator-pressure-prediction/blob/master/ventilator_gb_rescaling_eda_V2.ipynb\" target=\"_parent\"><img src=\"https://colab.research.google.com/assets/colab-badge.svg\" alt=\"Open In Colab\"/></a>"
      ]
    },
    {
      "cell_type": "markdown",
      "metadata": {
        "id": "Yh6Zg50KJQBQ"
      },
      "source": [
        "V1: Keep R/C, improve\n",
        "\n",
        "V2: Add R**2, no improve\n"
      ]
    },
    {
      "cell_type": "code",
      "metadata": {
        "id": "uslq2jL49nGk"
      },
      "source": [
        "# Update pandas version for Colab TPU\n",
        "#!pip install pandas==1.3.2"
      ],
      "execution_count": 1,
      "outputs": []
    },
    {
      "cell_type": "markdown",
      "metadata": {
        "id": "RBJlpUNI9com"
      },
      "source": [
        "## Import libraries"
      ]
    },
    {
      "cell_type": "code",
      "metadata": {
        "id": "iXzLriPA9coq"
      },
      "source": [
        "try:\n",
        "  import google.colab\n",
        "  IN_COLAB = True\n",
        "except:\n",
        "  IN_COLAB = False"
      ],
      "execution_count": 2,
      "outputs": []
    },
    {
      "cell_type": "code",
      "metadata": {
        "colab": {
          "base_uri": "https://localhost:8080/"
        },
        "id": "9esF__aG9cor",
        "outputId": "0f8f609d-ad56-434f-fe7f-74833f0e75ed"
      },
      "source": [
        "if IN_COLAB:\n",
        "  from google.colab import drive\n",
        "  drive.mount(\"/gdrive\", force_remount=True)"
      ],
      "execution_count": 3,
      "outputs": [
        {
          "output_type": "stream",
          "name": "stdout",
          "text": [
            "Mounted at /gdrive\n"
          ]
        }
      ]
    },
    {
      "cell_type": "code",
      "metadata": {
        "colab": {
          "base_uri": "https://localhost:8080/"
        },
        "id": "MZ_f3Z2M9cos",
        "outputId": "a82b1994-cab6-494d-fac4-c0737002f6be"
      },
      "source": [
        "if IN_COLAB:\n",
        "  !pip install kaggle\n",
        "  !mkdir /root/.kaggle\n",
        "  !cp /gdrive/MyDrive/ventilator-pressure-prediction/kaggle.json /root/.kaggle\n",
        "  !kaggle competitions download -c ventilator-pressure-prediction\n",
        "  !mkdir -p ../input/ventilator-pressure-prediction\n",
        "  !unzip '*.zip' -d ../input/ventilator-pressure-prediction\n",
        "  !ls ../input/ventilator-pressure-prediction"
      ],
      "execution_count": 4,
      "outputs": [
        {
          "output_type": "stream",
          "name": "stdout",
          "text": [
            "Requirement already satisfied: kaggle in /usr/local/lib/python3.7/dist-packages (1.5.12)\n",
            "Requirement already satisfied: urllib3 in /usr/local/lib/python3.7/dist-packages (from kaggle) (1.24.3)\n",
            "Requirement already satisfied: requests in /usr/local/lib/python3.7/dist-packages (from kaggle) (2.23.0)\n",
            "Requirement already satisfied: six>=1.10 in /usr/local/lib/python3.7/dist-packages (from kaggle) (1.15.0)\n",
            "Requirement already satisfied: python-slugify in /usr/local/lib/python3.7/dist-packages (from kaggle) (5.0.2)\n",
            "Requirement already satisfied: tqdm in /usr/local/lib/python3.7/dist-packages (from kaggle) (4.62.3)\n",
            "Requirement already satisfied: python-dateutil in /usr/local/lib/python3.7/dist-packages (from kaggle) (2.8.2)\n",
            "Requirement already satisfied: certifi in /usr/local/lib/python3.7/dist-packages (from kaggle) (2021.5.30)\n",
            "Requirement already satisfied: text-unidecode>=1.3 in /usr/local/lib/python3.7/dist-packages (from python-slugify->kaggle) (1.3)\n",
            "Requirement already satisfied: chardet<4,>=3.0.2 in /usr/local/lib/python3.7/dist-packages (from requests->kaggle) (3.0.4)\n",
            "Requirement already satisfied: idna<3,>=2.5 in /usr/local/lib/python3.7/dist-packages (from requests->kaggle) (2.10)\n",
            "mkdir: cannot create directory ‘/root/.kaggle’: File exists\n",
            "Warning: Looks like you're using an outdated API Version, please consider updating (server 1.5.12 / client 1.5.4)\n",
            "test.csv.zip: Skipping, found more recently modified local copy (use --force to force download)\n",
            "sample_submission.csv.zip: Skipping, found more recently modified local copy (use --force to force download)\n",
            "train.csv.zip: Skipping, found more recently modified local copy (use --force to force download)\n",
            "Archive:  train.csv.zip\n",
            "replace ../input/ventilator-pressure-prediction/train.csv? [y]es, [n]o, [A]ll, [N]one, [r]ename: N\n",
            "\n",
            "Archive:  sample_submission.csv.zip\n",
            "\n",
            "Archive:  test.csv.zip\n",
            "\n",
            "3 archives were successfully processed.\n",
            "sample_submission.csv  test.csv  train.csv\n"
          ]
        }
      ]
    },
    {
      "cell_type": "code",
      "metadata": {
        "execution": {
          "iopub.status.busy": "2021-10-21T17:30:55.782617Z",
          "iopub.execute_input": "2021-10-21T17:30:55.783998Z",
          "iopub.status.idle": "2021-10-21T17:30:55.793669Z",
          "shell.execute_reply.started": "2021-10-21T17:30:55.783937Z",
          "shell.execute_reply": "2021-10-21T17:30:55.792667Z"
        },
        "trusted": true,
        "id": "1TfjZidC9cos"
      },
      "source": [
        "import gc\n",
        "import numpy as np\n",
        "import pandas as pd\n",
        "import random\n",
        "import os\n",
        "from sklearn.model_selection import KFold\n",
        "from sklearn.preprocessing import RobustScaler\n",
        "from sklearn.metrics import mean_absolute_error\n",
        "\n",
        "import tensorflow as tf\n",
        "from tensorflow.keras.utils import plot_model\n",
        "from tensorflow.keras.models import Model, load_model\n",
        "from tensorflow.keras.callbacks import EarlyStopping\n",
        "from tensorflow.keras.callbacks import ModelCheckpoint\n",
        "from tensorflow.keras.callbacks import ReduceLROnPlateau\n",
        "from tensorflow.keras.layers import Bidirectional, LSTM\n",
        "from tensorflow.keras.layers import Dense, Dropout, Input\n",
        "from tensorflow.keras.layers import Concatenate, Add, GRU\n",
        "\n",
        "# Random Seed Initialize\n",
        "RANDOM_SEED = 42\n",
        "\n",
        "def seed_everything(seed=RANDOM_SEED):\n",
        "    os.environ['PYTHONHASHSEED'] = str(seed)\n",
        "    np.random.seed(seed)\n",
        "    random.seed(seed)\n",
        "    tf.random.set_seed(seed)\n",
        "    \n",
        "seed_everything()"
      ],
      "execution_count": 5,
      "outputs": []
    },
    {
      "cell_type": "markdown",
      "metadata": {
        "id": "XycyrO7g9cot"
      },
      "source": [
        "## Load datasets"
      ]
    },
    {
      "cell_type": "code",
      "metadata": {
        "execution": {
          "iopub.status.busy": "2021-10-21T17:24:55.352925Z",
          "iopub.execute_input": "2021-10-21T17:24:55.353455Z",
          "iopub.status.idle": "2021-10-21T17:25:06.101910Z",
          "shell.execute_reply.started": "2021-10-21T17:24:55.353418Z",
          "shell.execute_reply": "2021-10-21T17:25:06.100969Z"
        },
        "trusted": true,
        "colab": {
          "base_uri": "https://localhost:8080/",
          "height": 220
        },
        "id": "p_vUMe_39cot",
        "outputId": "d2bdcb90-59dc-4ad4-820d-e6d633f1b921"
      },
      "source": [
        "train_df = pd.read_csv('../input/ventilator-pressure-prediction/train.csv')\n",
        "print(f\"train_df: {train_df.shape}\")\n",
        "train_df.head()"
      ],
      "execution_count": 6,
      "outputs": [
        {
          "output_type": "stream",
          "name": "stdout",
          "text": [
            "train_df: (6036000, 8)\n"
          ]
        },
        {
          "output_type": "execute_result",
          "data": {
            "text/html": [
              "<div>\n",
              "<style scoped>\n",
              "    .dataframe tbody tr th:only-of-type {\n",
              "        vertical-align: middle;\n",
              "    }\n",
              "\n",
              "    .dataframe tbody tr th {\n",
              "        vertical-align: top;\n",
              "    }\n",
              "\n",
              "    .dataframe thead th {\n",
              "        text-align: right;\n",
              "    }\n",
              "</style>\n",
              "<table border=\"1\" class=\"dataframe\">\n",
              "  <thead>\n",
              "    <tr style=\"text-align: right;\">\n",
              "      <th></th>\n",
              "      <th>id</th>\n",
              "      <th>breath_id</th>\n",
              "      <th>R</th>\n",
              "      <th>C</th>\n",
              "      <th>time_step</th>\n",
              "      <th>u_in</th>\n",
              "      <th>u_out</th>\n",
              "      <th>pressure</th>\n",
              "    </tr>\n",
              "  </thead>\n",
              "  <tbody>\n",
              "    <tr>\n",
              "      <th>0</th>\n",
              "      <td>1</td>\n",
              "      <td>1</td>\n",
              "      <td>20</td>\n",
              "      <td>50</td>\n",
              "      <td>0.000000</td>\n",
              "      <td>0.083334</td>\n",
              "      <td>0</td>\n",
              "      <td>5.837492</td>\n",
              "    </tr>\n",
              "    <tr>\n",
              "      <th>1</th>\n",
              "      <td>2</td>\n",
              "      <td>1</td>\n",
              "      <td>20</td>\n",
              "      <td>50</td>\n",
              "      <td>0.033652</td>\n",
              "      <td>18.383041</td>\n",
              "      <td>0</td>\n",
              "      <td>5.907794</td>\n",
              "    </tr>\n",
              "    <tr>\n",
              "      <th>2</th>\n",
              "      <td>3</td>\n",
              "      <td>1</td>\n",
              "      <td>20</td>\n",
              "      <td>50</td>\n",
              "      <td>0.067514</td>\n",
              "      <td>22.509278</td>\n",
              "      <td>0</td>\n",
              "      <td>7.876254</td>\n",
              "    </tr>\n",
              "    <tr>\n",
              "      <th>3</th>\n",
              "      <td>4</td>\n",
              "      <td>1</td>\n",
              "      <td>20</td>\n",
              "      <td>50</td>\n",
              "      <td>0.101542</td>\n",
              "      <td>22.808822</td>\n",
              "      <td>0</td>\n",
              "      <td>11.742872</td>\n",
              "    </tr>\n",
              "    <tr>\n",
              "      <th>4</th>\n",
              "      <td>5</td>\n",
              "      <td>1</td>\n",
              "      <td>20</td>\n",
              "      <td>50</td>\n",
              "      <td>0.135756</td>\n",
              "      <td>25.355850</td>\n",
              "      <td>0</td>\n",
              "      <td>12.234987</td>\n",
              "    </tr>\n",
              "  </tbody>\n",
              "</table>\n",
              "</div>"
            ],
            "text/plain": [
              "   id  breath_id   R   C  time_step       u_in  u_out   pressure\n",
              "0   1          1  20  50   0.000000   0.083334      0   5.837492\n",
              "1   2          1  20  50   0.033652  18.383041      0   5.907794\n",
              "2   3          1  20  50   0.067514  22.509278      0   7.876254\n",
              "3   4          1  20  50   0.101542  22.808822      0  11.742872\n",
              "4   5          1  20  50   0.135756  25.355850      0  12.234987"
            ]
          },
          "metadata": {},
          "execution_count": 6
        }
      ]
    },
    {
      "cell_type": "code",
      "metadata": {
        "execution": {
          "iopub.status.busy": "2021-10-21T17:25:11.213742Z",
          "iopub.execute_input": "2021-10-21T17:25:11.214675Z",
          "iopub.status.idle": "2021-10-21T17:25:11.297152Z",
          "shell.execute_reply.started": "2021-10-21T17:25:11.214617Z",
          "shell.execute_reply": "2021-10-21T17:25:11.295985Z"
        },
        "trusted": true,
        "id": "R5oBMjYJ9cov"
      },
      "source": [
        "all_pressure = np.sort(train_df['pressure'].unique())\n",
        "pressure_min =  all_pressure[0].item()\n",
        "pressure_max = all_pressure[-1].item()\n",
        "pressure_step = (all_pressure[1] - all_pressure[0]).item()"
      ],
      "execution_count": 7,
      "outputs": []
    },
    {
      "cell_type": "code",
      "metadata": {
        "id": "80hIcGg09cou"
      },
      "source": [
        "DEBUG = True\n",
        "\n",
        "if DEBUG:\n",
        "    train_df = train_df[:80*10000]"
      ],
      "execution_count": 8,
      "outputs": []
    },
    {
      "cell_type": "code",
      "metadata": {
        "execution": {
          "iopub.status.busy": "2021-10-21T17:25:06.103441Z",
          "iopub.execute_input": "2021-10-21T17:25:06.104426Z",
          "iopub.status.idle": "2021-10-21T17:25:11.211412Z",
          "shell.execute_reply.started": "2021-10-21T17:25:06.104376Z",
          "shell.execute_reply": "2021-10-21T17:25:11.209506Z"
        },
        "trusted": true,
        "colab": {
          "base_uri": "https://localhost:8080/",
          "height": 220
        },
        "id": "y-0XhQ3a9cov",
        "outputId": "2cdea2b8-c74e-4586-d0b9-3d7243fb4464"
      },
      "source": [
        "test_df = pd.read_csv('../input/ventilator-pressure-prediction/test.csv')\n",
        "print(f\"test_df: {test_df.shape}\")\n",
        "test_df.head()"
      ],
      "execution_count": 9,
      "outputs": [
        {
          "output_type": "stream",
          "name": "stdout",
          "text": [
            "test_df: (4024000, 7)\n"
          ]
        },
        {
          "output_type": "execute_result",
          "data": {
            "text/html": [
              "<div>\n",
              "<style scoped>\n",
              "    .dataframe tbody tr th:only-of-type {\n",
              "        vertical-align: middle;\n",
              "    }\n",
              "\n",
              "    .dataframe tbody tr th {\n",
              "        vertical-align: top;\n",
              "    }\n",
              "\n",
              "    .dataframe thead th {\n",
              "        text-align: right;\n",
              "    }\n",
              "</style>\n",
              "<table border=\"1\" class=\"dataframe\">\n",
              "  <thead>\n",
              "    <tr style=\"text-align: right;\">\n",
              "      <th></th>\n",
              "      <th>id</th>\n",
              "      <th>breath_id</th>\n",
              "      <th>R</th>\n",
              "      <th>C</th>\n",
              "      <th>time_step</th>\n",
              "      <th>u_in</th>\n",
              "      <th>u_out</th>\n",
              "    </tr>\n",
              "  </thead>\n",
              "  <tbody>\n",
              "    <tr>\n",
              "      <th>0</th>\n",
              "      <td>1</td>\n",
              "      <td>0</td>\n",
              "      <td>5</td>\n",
              "      <td>20</td>\n",
              "      <td>0.000000</td>\n",
              "      <td>0.000000</td>\n",
              "      <td>0</td>\n",
              "    </tr>\n",
              "    <tr>\n",
              "      <th>1</th>\n",
              "      <td>2</td>\n",
              "      <td>0</td>\n",
              "      <td>5</td>\n",
              "      <td>20</td>\n",
              "      <td>0.031904</td>\n",
              "      <td>7.515046</td>\n",
              "      <td>0</td>\n",
              "    </tr>\n",
              "    <tr>\n",
              "      <th>2</th>\n",
              "      <td>3</td>\n",
              "      <td>0</td>\n",
              "      <td>5</td>\n",
              "      <td>20</td>\n",
              "      <td>0.063827</td>\n",
              "      <td>14.651675</td>\n",
              "      <td>0</td>\n",
              "    </tr>\n",
              "    <tr>\n",
              "      <th>3</th>\n",
              "      <td>4</td>\n",
              "      <td>0</td>\n",
              "      <td>5</td>\n",
              "      <td>20</td>\n",
              "      <td>0.095751</td>\n",
              "      <td>21.230610</td>\n",
              "      <td>0</td>\n",
              "    </tr>\n",
              "    <tr>\n",
              "      <th>4</th>\n",
              "      <td>5</td>\n",
              "      <td>0</td>\n",
              "      <td>5</td>\n",
              "      <td>20</td>\n",
              "      <td>0.127644</td>\n",
              "      <td>26.320956</td>\n",
              "      <td>0</td>\n",
              "    </tr>\n",
              "  </tbody>\n",
              "</table>\n",
              "</div>"
            ],
            "text/plain": [
              "   id  breath_id  R   C  time_step       u_in  u_out\n",
              "0   1          0  5  20   0.000000   0.000000      0\n",
              "1   2          0  5  20   0.031904   7.515046      0\n",
              "2   3          0  5  20   0.063827  14.651675      0\n",
              "3   4          0  5  20   0.095751  21.230610      0\n",
              "4   5          0  5  20   0.127644  26.320956      0"
            ]
          },
          "metadata": {},
          "execution_count": 9
        }
      ]
    },
    {
      "cell_type": "markdown",
      "metadata": {
        "id": "IVPWgQDL9cow"
      },
      "source": [
        "## Feature Engineering"
      ]
    },
    {
      "cell_type": "code",
      "metadata": {
        "execution": {
          "iopub.status.busy": "2021-10-21T17:25:11.298767Z",
          "iopub.execute_input": "2021-10-21T17:25:11.299164Z",
          "iopub.status.idle": "2021-10-21T17:27:48.006762Z",
          "shell.execute_reply.started": "2021-10-21T17:25:11.299125Z",
          "shell.execute_reply": "2021-10-21T17:27:48.005658Z"
        },
        "trusted": true,
        "colab": {
          "base_uri": "https://localhost:8080/"
        },
        "id": "1NHNQSZp9cow",
        "outputId": "56c91ffb-f992-4bd4-f3d8-c438c1613e7f"
      },
      "source": [
        "def add_features(df):\n",
        "    df['cross']= df['u_in'] * df['u_out']\n",
        "    df['cross2']= df['time_step'] * df['u_out']\n",
        "    df['area'] = df['time_step'] * df['u_in']\n",
        "    df['area'] = df.groupby('breath_id')['area'].cumsum()\n",
        "    df['time_step_cumsum'] = df.groupby(['breath_id'])['time_step'].cumsum()\n",
        "    df['u_in_cumsum'] = (df['u_in']).groupby(df['breath_id']).cumsum()\n",
        "    print(\"Step-1...Completed\")\n",
        "    \n",
        "    df['u_in_lag1'] = df.groupby('breath_id')['u_in'].shift(1)\n",
        "    df['u_out_lag1'] = df.groupby('breath_id')['u_out'].shift(1)\n",
        "    df['u_in_lag_back1'] = df.groupby('breath_id')['u_in'].shift(-1)\n",
        "    df['u_out_lag_back1'] = df.groupby('breath_id')['u_out'].shift(-1)\n",
        "    df['u_in_lag2'] = df.groupby('breath_id')['u_in'].shift(2)\n",
        "    df['u_out_lag2'] = df.groupby('breath_id')['u_out'].shift(2)\n",
        "    df['u_in_lag_back2'] = df.groupby('breath_id')['u_in'].shift(-2)\n",
        "    df['u_out_lag_back2'] = df.groupby('breath_id')['u_out'].shift(-2)\n",
        "    df['u_in_lag3'] = df.groupby('breath_id')['u_in'].shift(3)\n",
        "    df['u_out_lag3'] = df.groupby('breath_id')['u_out'].shift(3)\n",
        "    df['u_in_lag_back3'] = df.groupby('breath_id')['u_in'].shift(-3)\n",
        "    df['u_out_lag_back3'] = df.groupby('breath_id')['u_out'].shift(-3)\n",
        "    df['u_in_lag4'] = df.groupby('breath_id')['u_in'].shift(4)\n",
        "    df['u_out_lag4'] = df.groupby('breath_id')['u_out'].shift(4)\n",
        "    df['u_in_lag_back4'] = df.groupby('breath_id')['u_in'].shift(-4)\n",
        "    df['u_out_lag_back4'] = df.groupby('breath_id')['u_out'].shift(-4)\n",
        "    df = df.fillna(0)\n",
        "    print(\"Step-2...Completed\")\n",
        "    \n",
        "    df['breath_id__u_in__max'] = df.groupby(['breath_id'])['u_in'].transform('max')\n",
        "    df['breath_id__u_out__max'] = df.groupby(['breath_id'])['u_out'].transform('max')\n",
        "    df['breath_id__u_in__diffmax'] = df.groupby(['breath_id'])['u_in'].transform('max') - df['u_in']\n",
        "    df['breath_id__u_in__diffmean'] = df.groupby(['breath_id'])['u_in'].transform('mean') - df['u_in']\n",
        "    df['breath_id__u_in__diffmax'] = df.groupby(['breath_id'])['u_in'].transform('max') - df['u_in']\n",
        "    df['breath_id__u_in__diffmean'] = df.groupby(['breath_id'])['u_in'].transform('mean') - df['u_in']\n",
        "    print(\"Step-3...Completed\")\n",
        "    \n",
        "    df['u_in_diff1'] = df['u_in'] - df['u_in_lag1']\n",
        "    df['u_out_diff1'] = df['u_out'] - df['u_out_lag1']\n",
        "    df['u_in_diff2'] = df['u_in'] - df['u_in_lag2']\n",
        "    df['u_out_diff2'] = df['u_out'] - df['u_out_lag2']\n",
        "    df['u_in_diff3'] = df['u_in'] - df['u_in_lag3']\n",
        "    df['u_out_diff3'] = df['u_out'] - df['u_out_lag3']\n",
        "    df['u_in_diff4'] = df['u_in'] - df['u_in_lag4']\n",
        "    df['u_out_diff4'] = df['u_out'] - df['u_out_lag4']\n",
        "    print(\"Step-4...Completed\")\n",
        "    \n",
        "    df['one'] = 1\n",
        "    df['count'] = (df['one']).groupby(df['breath_id']).cumsum()\n",
        "    df['u_in_cummean'] =df['u_in_cumsum'] /df['count']\n",
        "    \n",
        "    df['breath_id_lag']=df['breath_id'].shift(1).fillna(0)\n",
        "    df['breath_id_lag2']=df['breath_id'].shift(2).fillna(0)\n",
        "    df['breath_id_lagsame']=np.select([df['breath_id_lag']==df['breath_id']],[1],0)\n",
        "    df['breath_id_lag2same']=np.select([df['breath_id_lag2']==df['breath_id']],[1],0)\n",
        "    df['breath_id__u_in_lag'] = df['u_in'].shift(1).fillna(0)\n",
        "    df['breath_id__u_in_lag'] = df['breath_id__u_in_lag'] * df['breath_id_lagsame']\n",
        "    df['breath_id__u_in_lag2'] = df['u_in'].shift(2).fillna(0)\n",
        "    df['breath_id__u_in_lag2'] = df['breath_id__u_in_lag2'] * df['breath_id_lag2same']\n",
        "    print(\"Step-5...Completed\")\n",
        "    \n",
        "    df['time_step_diff'] = df.groupby('breath_id')['time_step'].diff().fillna(0)\n",
        "    df['ewm_u_in_mean'] = (df\\\n",
        "                           .groupby('breath_id')['u_in']\\\n",
        "                           .ewm(halflife=9)\\\n",
        "                           .mean()\\\n",
        "                           .reset_index(level=0,drop=True))\n",
        "    df[[\"15_in_sum\",\"15_in_min\",\"15_in_max\",\"15_in_mean\"]] = (df\\\n",
        "                                                              .groupby('breath_id')['u_in']\\\n",
        "                                                              .rolling(window=15,min_periods=1)\\\n",
        "                                                              .agg({\"15_in_sum\":\"sum\",\n",
        "                                                                    \"15_in_min\":\"min\",\n",
        "                                                                    \"15_in_max\":\"max\",\n",
        "                                                                    \"15_in_mean\":\"mean\"\n",
        "                                                                    #\"15_in_std\":\"std\"\n",
        "                                                               })\\\n",
        "                                                               .reset_index(level=0,drop=True))\n",
        "    print(\"Step-6...Completed\")\n",
        "    \n",
        "    #df['u_in_diff_1_2'] = df['u_in_lag1'] - df['u_in_lag2']\n",
        "    #df['u_out_diff_1_2'] = df['u_out_lag1'] - df['u_out_lag2']\n",
        "    #df['u_in_lagback_diff_1_2'] = df['u_in_lag_back1'] - df['u_in_lag_back2']\n",
        "    #df['u_out_lagback_diff_1_2'] = df['u_out_lag_back1'] - df['u_out_lag_back2']\n",
        "    \n",
        "    df['u_in_lagback_diff1'] = df['u_in'] - df['u_in_lag_back1']\n",
        "    df['u_out_lagback_diff1'] = df['u_out'] - df['u_out_lag_back1']\n",
        "    df['u_in_lagback_diff2'] = df['u_in'] - df['u_in_lag_back2']\n",
        "    df['u_out_lagback_diff2'] = df['u_out'] - df['u_out_lag_back2']\n",
        "    print(\"Step-7...Completed\")\n",
        "    \n",
        "    df['R_cat'] = df['R'].astype(str)\n",
        "    df['C_cat'] = df['C'].astype(str)\n",
        "    df['R__C'] = df[\"R\"].astype(str) + '__' + df[\"C\"].astype(str)\n",
        "    df = pd.get_dummies(df)\n",
        "    print(\"Step-8...Completed\")\n",
        "    \n",
        "    return df\n",
        "\n",
        "\n",
        "print(\"Train data...\\n\")\n",
        "train = add_features(train_df)\n",
        "\n",
        "print(\"\\nTest data...\\n\")\n",
        "test = add_features(test_df)"
      ],
      "execution_count": 10,
      "outputs": [
        {
          "output_type": "stream",
          "name": "stdout",
          "text": [
            "Train data...\n",
            "\n",
            "Step-1...Completed\n",
            "Step-2...Completed\n",
            "Step-3...Completed\n",
            "Step-4...Completed\n",
            "Step-5...Completed\n",
            "Step-6...Completed\n",
            "Step-7...Completed\n",
            "Step-8...Completed\n",
            "\n",
            "Test data...\n",
            "\n",
            "Step-1...Completed\n",
            "Step-2...Completed\n",
            "Step-3...Completed\n",
            "Step-4...Completed\n",
            "Step-5...Completed\n",
            "Step-6...Completed\n",
            "Step-7...Completed\n",
            "Step-8...Completed\n"
          ]
        }
      ]
    },
    {
      "cell_type": "code",
      "metadata": {
        "execution": {
          "iopub.status.busy": "2021-10-21T17:28:07.762733Z",
          "iopub.execute_input": "2021-10-21T17:28:07.763099Z",
          "iopub.status.idle": "2021-10-21T17:28:07.795291Z",
          "shell.execute_reply.started": "2021-10-21T17:28:07.763065Z",
          "shell.execute_reply": "2021-10-21T17:28:07.794126Z"
        },
        "trusted": true,
        "colab": {
          "base_uri": "https://localhost:8080/"
        },
        "id": "PgRvxlmB9co0",
        "outputId": "63ed3b1d-3c3f-4d1a-e87c-7dc9c11363d8"
      },
      "source": [
        "train.head()"
      ],
      "execution_count": 11,
      "outputs": [
        {
          "output_type": "execute_result",
          "data": {
            "text/plain": [
              "((800000, 76),\n",
              "    id  breath_id   R   C  ...  R__C_50__50  R__C_5__10  R__C_5__20  R__C_5__50\n",
              " 0   1          1  20  50  ...            0           0           0           0\n",
              " 1   2          1  20  50  ...            0           0           0           0\n",
              " 2   3          1  20  50  ...            0           0           0           0\n",
              " 3   4          1  20  50  ...            0           0           0           0\n",
              " 4   5          1  20  50  ...            0           0           0           0\n",
              " \n",
              " [5 rows x 76 columns])"
            ]
          },
          "metadata": {},
          "execution_count": 11
        }
      ]
    },
    {
      "cell_type": "code",
      "metadata": {
        "colab": {
          "base_uri": "https://localhost:8080/"
        },
        "id": "Zcyv-iig9co0",
        "outputId": "ffe1e730-2380-457e-ffa9-8cc28a54ca93"
      },
      "source": [
        "del train_df\n",
        "del test_df\n",
        "gc.collect()"
      ],
      "execution_count": 12,
      "outputs": [
        {
          "output_type": "execute_result",
          "data": {
            "text/plain": [
              "117"
            ]
          },
          "metadata": {},
          "execution_count": 12
        }
      ]
    },
    {
      "cell_type": "code",
      "metadata": {
        "colab": {
          "base_uri": "https://localhost:8080/"
        },
        "id": "qip05b0r9co0",
        "outputId": "a5d349fd-bf37-433f-8712-df291a4f52da"
      },
      "source": [
        "targets = train[['pressure']].to_numpy().reshape(-1, 80)\n",
        "\n",
        "train.drop(['pressure','id', 'breath_id','one','count',\n",
        "            'breath_id_lag','breath_id_lag2','breath_id_lagsame',\n",
        "            'breath_id_lag2same'], axis=1, inplace=True)\n",
        "\n",
        "test = test.drop(['id', 'breath_id','one','count','breath_id_lag',\n",
        "                  'breath_id_lag2','breath_id_lagsame',\n",
        "                  'breath_id_lag2same'], axis=1)\n",
        "\n",
        "print(f\"train: {train.shape} \\ntest: {test.shape}\")"
      ],
      "execution_count": 13,
      "outputs": [
        {
          "output_type": "stream",
          "name": "stdout",
          "text": [
            "train: (800000, 67) \n",
            "test: (4024000, 67)\n"
          ]
        }
      ]
    },
    {
      "cell_type": "code",
      "metadata": {
        "colab": {
          "base_uri": "https://localhost:8080/"
        },
        "id": "OYWzQtL49co1",
        "outputId": "e99eac2c-108c-48f6-892f-82f91f05a0ed"
      },
      "source": [
        "scaler = RobustScaler()\n",
        "train = scaler.fit_transform(train)\n",
        "test = scaler.transform(test)\n",
        "\n",
        "train = train.reshape(-1, 80, train.shape[-1])\n",
        "test = test.reshape(-1, 80, train.shape[-1])\n",
        "\n",
        "print(f\"train: {train.shape} \\ntest: {test.shape} \\ntargets: {targets.shape}\")"
      ],
      "execution_count": 14,
      "outputs": [
        {
          "output_type": "stream",
          "name": "stdout",
          "text": [
            "train: (10000, 80, 67) \n",
            "test: (50300, 80, 67) \n",
            "targets: (10000, 80)\n"
          ]
        }
      ]
    },
    {
      "cell_type": "markdown",
      "metadata": {
        "id": "Osu14DeV9co1"
      },
      "source": [
        "## Hardware config"
      ]
    },
    {
      "cell_type": "code",
      "metadata": {
        "colab": {
          "base_uri": "https://localhost:8080/"
        },
        "id": "CisxazED9co1",
        "outputId": "f82d1950-5a7f-4e90-b2b8-33f8507e2e24"
      },
      "source": [
        "try:\n",
        "    tpu = tf.distribute.cluster_resolver.TPUClusterResolver()\n",
        "    tf.config.experimental_connect_to_cluster(tpu)\n",
        "    tf.tpu.experimental.initialize_tpu_system(tpu)\n",
        "    tpu_strategy = tf.distribute.experimental.TPUStrategy(tpu)\n",
        "    BATCH_SIZE = tpu_strategy.num_replicas_in_sync * 64\n",
        "    print(\"Running on TPU:\", tpu.master())\n",
        "    print(f\"Batch Size: {BATCH_SIZE}\")\n",
        "    \n",
        "except ValueError:\n",
        "    tpu_strategy = tf.distribute.get_strategy()\n",
        "    BATCH_SIZE = 512\n",
        "    print(f\"Running on {strategy.num_replicas_in_sync} replicas\")\n",
        "    print(f\"Batch Size: {BATCH_SIZE}\")"
      ],
      "execution_count": 15,
      "outputs": [
        {
          "output_type": "stream",
          "name": "stdout",
          "text": [
            "INFO:tensorflow:Clearing out eager caches\n"
          ]
        },
        {
          "output_type": "stream",
          "name": "stderr",
          "text": [
            "INFO:tensorflow:Clearing out eager caches\n"
          ]
        },
        {
          "output_type": "stream",
          "name": "stdout",
          "text": [
            "INFO:tensorflow:Initializing the TPU system: grpc://10.21.194.242:8470\n"
          ]
        },
        {
          "output_type": "stream",
          "name": "stderr",
          "text": [
            "INFO:tensorflow:Initializing the TPU system: grpc://10.21.194.242:8470\n"
          ]
        },
        {
          "output_type": "stream",
          "name": "stdout",
          "text": [
            "INFO:tensorflow:Finished initializing TPU system.\n"
          ]
        },
        {
          "output_type": "stream",
          "name": "stderr",
          "text": [
            "INFO:tensorflow:Finished initializing TPU system.\n",
            "WARNING:absl:`tf.distribute.experimental.TPUStrategy` is deprecated, please use  the non experimental symbol `tf.distribute.TPUStrategy` instead.\n"
          ]
        },
        {
          "output_type": "stream",
          "name": "stdout",
          "text": [
            "INFO:tensorflow:Found TPU system:\n"
          ]
        },
        {
          "output_type": "stream",
          "name": "stderr",
          "text": [
            "INFO:tensorflow:Found TPU system:\n"
          ]
        },
        {
          "output_type": "stream",
          "name": "stdout",
          "text": [
            "INFO:tensorflow:*** Num TPU Cores: 8\n"
          ]
        },
        {
          "output_type": "stream",
          "name": "stderr",
          "text": [
            "INFO:tensorflow:*** Num TPU Cores: 8\n"
          ]
        },
        {
          "output_type": "stream",
          "name": "stdout",
          "text": [
            "INFO:tensorflow:*** Num TPU Workers: 1\n"
          ]
        },
        {
          "output_type": "stream",
          "name": "stderr",
          "text": [
            "INFO:tensorflow:*** Num TPU Workers: 1\n"
          ]
        },
        {
          "output_type": "stream",
          "name": "stdout",
          "text": [
            "INFO:tensorflow:*** Num TPU Cores Per Worker: 8\n"
          ]
        },
        {
          "output_type": "stream",
          "name": "stderr",
          "text": [
            "INFO:tensorflow:*** Num TPU Cores Per Worker: 8\n"
          ]
        },
        {
          "output_type": "stream",
          "name": "stdout",
          "text": [
            "INFO:tensorflow:*** Available Device: _DeviceAttributes(/job:localhost/replica:0/task:0/device:CPU:0, CPU, 0, 0)\n"
          ]
        },
        {
          "output_type": "stream",
          "name": "stderr",
          "text": [
            "INFO:tensorflow:*** Available Device: _DeviceAttributes(/job:localhost/replica:0/task:0/device:CPU:0, CPU, 0, 0)\n"
          ]
        },
        {
          "output_type": "stream",
          "name": "stdout",
          "text": [
            "INFO:tensorflow:*** Available Device: _DeviceAttributes(/job:worker/replica:0/task:0/device:CPU:0, CPU, 0, 0)\n"
          ]
        },
        {
          "output_type": "stream",
          "name": "stderr",
          "text": [
            "INFO:tensorflow:*** Available Device: _DeviceAttributes(/job:worker/replica:0/task:0/device:CPU:0, CPU, 0, 0)\n"
          ]
        },
        {
          "output_type": "stream",
          "name": "stdout",
          "text": [
            "INFO:tensorflow:*** Available Device: _DeviceAttributes(/job:worker/replica:0/task:0/device:TPU:0, TPU, 0, 0)\n"
          ]
        },
        {
          "output_type": "stream",
          "name": "stderr",
          "text": [
            "INFO:tensorflow:*** Available Device: _DeviceAttributes(/job:worker/replica:0/task:0/device:TPU:0, TPU, 0, 0)\n"
          ]
        },
        {
          "output_type": "stream",
          "name": "stdout",
          "text": [
            "INFO:tensorflow:*** Available Device: _DeviceAttributes(/job:worker/replica:0/task:0/device:TPU:1, TPU, 0, 0)\n"
          ]
        },
        {
          "output_type": "stream",
          "name": "stderr",
          "text": [
            "INFO:tensorflow:*** Available Device: _DeviceAttributes(/job:worker/replica:0/task:0/device:TPU:1, TPU, 0, 0)\n"
          ]
        },
        {
          "output_type": "stream",
          "name": "stdout",
          "text": [
            "INFO:tensorflow:*** Available Device: _DeviceAttributes(/job:worker/replica:0/task:0/device:TPU:2, TPU, 0, 0)\n"
          ]
        },
        {
          "output_type": "stream",
          "name": "stderr",
          "text": [
            "INFO:tensorflow:*** Available Device: _DeviceAttributes(/job:worker/replica:0/task:0/device:TPU:2, TPU, 0, 0)\n"
          ]
        },
        {
          "output_type": "stream",
          "name": "stdout",
          "text": [
            "INFO:tensorflow:*** Available Device: _DeviceAttributes(/job:worker/replica:0/task:0/device:TPU:3, TPU, 0, 0)\n"
          ]
        },
        {
          "output_type": "stream",
          "name": "stderr",
          "text": [
            "INFO:tensorflow:*** Available Device: _DeviceAttributes(/job:worker/replica:0/task:0/device:TPU:3, TPU, 0, 0)\n"
          ]
        },
        {
          "output_type": "stream",
          "name": "stdout",
          "text": [
            "INFO:tensorflow:*** Available Device: _DeviceAttributes(/job:worker/replica:0/task:0/device:TPU:4, TPU, 0, 0)\n"
          ]
        },
        {
          "output_type": "stream",
          "name": "stderr",
          "text": [
            "INFO:tensorflow:*** Available Device: _DeviceAttributes(/job:worker/replica:0/task:0/device:TPU:4, TPU, 0, 0)\n"
          ]
        },
        {
          "output_type": "stream",
          "name": "stdout",
          "text": [
            "INFO:tensorflow:*** Available Device: _DeviceAttributes(/job:worker/replica:0/task:0/device:TPU:5, TPU, 0, 0)\n"
          ]
        },
        {
          "output_type": "stream",
          "name": "stderr",
          "text": [
            "INFO:tensorflow:*** Available Device: _DeviceAttributes(/job:worker/replica:0/task:0/device:TPU:5, TPU, 0, 0)\n"
          ]
        },
        {
          "output_type": "stream",
          "name": "stdout",
          "text": [
            "INFO:tensorflow:*** Available Device: _DeviceAttributes(/job:worker/replica:0/task:0/device:TPU:6, TPU, 0, 0)\n"
          ]
        },
        {
          "output_type": "stream",
          "name": "stderr",
          "text": [
            "INFO:tensorflow:*** Available Device: _DeviceAttributes(/job:worker/replica:0/task:0/device:TPU:6, TPU, 0, 0)\n"
          ]
        },
        {
          "output_type": "stream",
          "name": "stdout",
          "text": [
            "INFO:tensorflow:*** Available Device: _DeviceAttributes(/job:worker/replica:0/task:0/device:TPU:7, TPU, 0, 0)\n"
          ]
        },
        {
          "output_type": "stream",
          "name": "stderr",
          "text": [
            "INFO:tensorflow:*** Available Device: _DeviceAttributes(/job:worker/replica:0/task:0/device:TPU:7, TPU, 0, 0)\n"
          ]
        },
        {
          "output_type": "stream",
          "name": "stdout",
          "text": [
            "INFO:tensorflow:*** Available Device: _DeviceAttributes(/job:worker/replica:0/task:0/device:TPU_SYSTEM:0, TPU_SYSTEM, 0, 0)\n"
          ]
        },
        {
          "output_type": "stream",
          "name": "stderr",
          "text": [
            "INFO:tensorflow:*** Available Device: _DeviceAttributes(/job:worker/replica:0/task:0/device:TPU_SYSTEM:0, TPU_SYSTEM, 0, 0)\n"
          ]
        },
        {
          "output_type": "stream",
          "name": "stdout",
          "text": [
            "INFO:tensorflow:*** Available Device: _DeviceAttributes(/job:worker/replica:0/task:0/device:XLA_CPU:0, XLA_CPU, 0, 0)\n"
          ]
        },
        {
          "output_type": "stream",
          "name": "stderr",
          "text": [
            "INFO:tensorflow:*** Available Device: _DeviceAttributes(/job:worker/replica:0/task:0/device:XLA_CPU:0, XLA_CPU, 0, 0)\n"
          ]
        },
        {
          "output_type": "stream",
          "name": "stdout",
          "text": [
            "Running on TPU: grpc://10.21.194.242:8470\n",
            "Batch Size: 512\n"
          ]
        }
      ]
    },
    {
      "cell_type": "markdown",
      "metadata": {
        "id": "GAZMw10A9co1"
      },
      "source": [
        "## Rescaling layer"
      ]
    },
    {
      "cell_type": "code",
      "metadata": {
        "id": "qLou5BDt9co2"
      },
      "source": [
        "@tf.custom_gradient\n",
        "def round_with_gradients(x):\n",
        "    def grad(dy):\n",
        "        return dy\n",
        "    return tf.round(x), grad\n",
        "\n",
        "class ScaleLayer(tf.keras.layers.Layer):\n",
        "    def __init__(self):\n",
        "        super(ScaleLayer, self).__init__()\n",
        "        self.min = tf.constant(pressure_min, dtype=np.float32)\n",
        "        self.max = tf.constant(pressure_max, dtype=np.float32)\n",
        "        self.step = tf.constant(pressure_step, dtype=np.float32)\n",
        "\n",
        "    def call(self, inputs):\n",
        "        steps = tf.math.divide(tf.math.add(inputs, -self.min), self.step)\n",
        "        int_steps = round_with_gradients(steps)\n",
        "        rescaled_steps = tf.math.add(tf.math.multiply(int_steps, self.step), self.min)\n",
        "        clipped = tf.clip_by_value(rescaled_steps, self.min, self.max)\n",
        "        return clipped"
      ],
      "execution_count": 16,
      "outputs": []
    },
    {
      "cell_type": "markdown",
      "metadata": {
        "id": "5Ft0JBPC9co2"
      },
      "source": [
        "## Keras DNN Model"
      ]
    },
    {
      "cell_type": "code",
      "metadata": {
        "id": "_HuMFGY39co2"
      },
      "source": [
        "def dnn_model():\n",
        "    \n",
        "    x_input = Input(shape=(train.shape[-2:]))\n",
        "    \n",
        "    x1 = Bidirectional(LSTM(units=768, return_sequences=True))(x_input)\n",
        "    x2 = Bidirectional(LSTM(units=512, return_sequences=True))(x1)\n",
        "    x3 = Bidirectional(LSTM(units=256, return_sequences=True))(x2)\n",
        "    x4 = Bidirectional(LSTM(units=128, return_sequences=True))(x3)\n",
        "    \n",
        "    z2 = Bidirectional(GRU(units=256, return_sequences=True))(x2)\n",
        "    z3 = Bidirectional(GRU(units=128, return_sequences=True))(Add()([x3, z2]))\n",
        "    z4 = Bidirectional(GRU(units=64, return_sequences=True))(Add()([x4, z3]))\n",
        "    \n",
        "    x = Concatenate(axis=2)([x4, z2, z3, z4])\n",
        "    \n",
        "    x = Dense(units=128, activation='selu')(x)\n",
        "    \n",
        "    x = Dense(units=1)(x)\n",
        "    x_output = ScaleLayer()(x)\n",
        "\n",
        "    model = Model(inputs=x_input, outputs=x_output, \n",
        "                  name='DNN_Model')\n",
        "    return model"
      ],
      "execution_count": 17,
      "outputs": []
    },
    {
      "cell_type": "code",
      "metadata": {
        "colab": {
          "base_uri": "https://localhost:8080/"
        },
        "id": "_d8ybRJc9co2",
        "outputId": "0a0e4c14-ea3b-463a-b76b-761224908e3b"
      },
      "source": [
        "model = dnn_model()\n",
        "model.summary()"
      ],
      "execution_count": 18,
      "outputs": [
        {
          "output_type": "stream",
          "name": "stdout",
          "text": [
            "Model: \"DNN_Model\"\n",
            "__________________________________________________________________________________________________\n",
            "Layer (type)                    Output Shape         Param #     Connected to                     \n",
            "==================================================================================================\n",
            "input_1 (InputLayer)            [(None, 80, 67)]     0                                            \n",
            "__________________________________________________________________________________________________\n",
            "bidirectional (Bidirectional)   (None, 80, 1536)     5136384     input_1[0][0]                    \n",
            "__________________________________________________________________________________________________\n",
            "bidirectional_1 (Bidirectional) (None, 80, 1024)     8392704     bidirectional[0][0]              \n",
            "__________________________________________________________________________________________________\n",
            "bidirectional_2 (Bidirectional) (None, 80, 512)      2623488     bidirectional_1[0][0]            \n",
            "__________________________________________________________________________________________________\n",
            "bidirectional_4 (Bidirectional) (None, 80, 512)      1969152     bidirectional_1[0][0]            \n",
            "__________________________________________________________________________________________________\n",
            "add (Add)                       (None, 80, 512)      0           bidirectional_2[0][0]            \n",
            "                                                                 bidirectional_4[0][0]            \n",
            "__________________________________________________________________________________________________\n",
            "bidirectional_3 (Bidirectional) (None, 80, 256)      656384      bidirectional_2[0][0]            \n",
            "__________________________________________________________________________________________________\n",
            "bidirectional_5 (Bidirectional) (None, 80, 256)      493056      add[0][0]                        \n",
            "__________________________________________________________________________________________________\n",
            "add_1 (Add)                     (None, 80, 256)      0           bidirectional_3[0][0]            \n",
            "                                                                 bidirectional_5[0][0]            \n",
            "__________________________________________________________________________________________________\n",
            "bidirectional_6 (Bidirectional) (None, 80, 128)      123648      add_1[0][0]                      \n",
            "__________________________________________________________________________________________________\n",
            "concatenate (Concatenate)       (None, 80, 1152)     0           bidirectional_3[0][0]            \n",
            "                                                                 bidirectional_4[0][0]            \n",
            "                                                                 bidirectional_5[0][0]            \n",
            "                                                                 bidirectional_6[0][0]            \n",
            "__________________________________________________________________________________________________\n",
            "dense (Dense)                   (None, 80, 128)      147584      concatenate[0][0]                \n",
            "__________________________________________________________________________________________________\n",
            "dense_1 (Dense)                 (None, 80, 1)        129         dense[0][0]                      \n",
            "__________________________________________________________________________________________________\n",
            "scale_layer (ScaleLayer)        (None, 80, 1)        0           dense_1[0][0]                    \n",
            "==================================================================================================\n",
            "Total params: 19,542,529\n",
            "Trainable params: 19,542,529\n",
            "Non-trainable params: 0\n",
            "__________________________________________________________________________________________________\n"
          ]
        }
      ]
    },
    {
      "cell_type": "code",
      "metadata": {
        "colab": {
          "base_uri": "https://localhost:8080/",
          "height": 1000
        },
        "id": "e-M0ZMvC9co3",
        "outputId": "2ae44f89-5222-4e4a-abbf-7028cc2a5489"
      },
      "source": [
        "plot_model(\n",
        "    model, \n",
        "    to_file='Google_Brain_Keras_Model.png', \n",
        "    show_shapes=True,\n",
        "    show_layer_names=True\n",
        ")\n"
      ],
      "execution_count": 19,
      "outputs": [
        {
          "output_type": "execute_result",
          "data": {
            "image/png": "[encoded data removed]",
            "text/plain": [
              "<IPython.core.display.Image object>"
            ]
          },
          "metadata": {},
          "execution_count": 19
        }
      ]
    },
    {
      "cell_type": "code",
      "metadata": {
        "colab": {
          "base_uri": "https://localhost:8080/"
        },
        "id": "rxWQVBYm-0VK",
        "outputId": "dfc524c5-6d51-4708-bdc9-1e2baad7187e"
      },
      "source": [
        "del model\n",
        "gc.collect()"
      ],
      "execution_count": 20,
      "outputs": [
        {
          "output_type": "execute_result",
          "data": {
            "text/plain": [
              "9461"
            ]
          },
          "metadata": {},
          "execution_count": 20
        }
      ]
    },
    {
      "cell_type": "code",
      "metadata": {
        "id": "u1v9SMji9co3"
      },
      "source": [
        "#reset Keras Session\n",
        "def reset_keras():\n",
        "    sess = tf.compat.v1.keras.backend.get_session()\n",
        "    tf.compat.v1.keras.backend.clear_session()\n",
        "    sess.close()\n",
        "    sess = tf.compat.v1.keras.backend.get_session()\n",
        "\n",
        "    # use the same config as you used to create the session\n",
        "    config = tf.compat.v1.ConfigProto()\n",
        "    config.gpu_options.per_process_gpu_memory_fraction = 1\n",
        "    config.gpu_options.visible_device_list = \"0\"\n",
        "    tf.compat.v1.keras.backend.set_session(tf.compat.v1.Session(config=config))\n",
        "    gc.collect()\n",
        "\n",
        "reset_keras()"
      ],
      "execution_count": 21,
      "outputs": []
    },
    {
      "cell_type": "code",
      "metadata": {
        "id": "qDsDMBnE9co3"
      },
      "source": [
        "train_pred = np.zeros(targets.shape)"
      ],
      "execution_count": 22,
      "outputs": []
    },
    {
      "cell_type": "code",
      "metadata": {
        "colab": {
          "base_uri": "https://localhost:8080/",
          "height": 1000
        },
        "id": "SYJkCi1-9co3",
        "outputId": "e42720d7-0fcd-4455-a023-d1627a0df350"
      },
      "source": [
        "with tpu_strategy.scope():\n",
        "    \n",
        "    VERBOSE = 1\n",
        "    EPOCHS = 300\n",
        "    FOLDS = 7\n",
        "    if DEBUG:\n",
        "      EPOCHS = 100\n",
        "    test_preds = []\n",
        "    kf = KFold(n_splits=FOLDS, shuffle=True, random_state=2021)\n",
        "    \n",
        "    for fold, (train_idx, test_idx) in enumerate(kf.split(train, targets)):\n",
        "        X_train, X_valid = train[train_idx], train[test_idx]\n",
        "        y_train, y_valid = targets[train_idx], targets[test_idx]\n",
        "        \n",
        "        model = dnn_model()\n",
        "        model.compile(optimizer=\"adam\", loss=\"mae\")\n",
        "\n",
        "        lr = ReduceLROnPlateau(monitor=\"val_loss\", factor=0.75, \n",
        "                               patience=10, verbose=VERBOSE)\n",
        "        \n",
        "        chk_point = ModelCheckpoint(f'./Bidirect_LSTM_model_{fold+1}C.h5',\n",
        "                                    monitor='val_loss', verbose=VERBOSE, \n",
        "                                    save_best_only=True, mode='min')\n",
        "\n",
        "        es = EarlyStopping(monitor=\"val_loss\", patience=50, \n",
        "                           verbose=VERBOSE, mode=\"min\", \n",
        "                           restore_best_weights=True)\n",
        "        \n",
        "        model.fit(X_train, y_train, \n",
        "                  validation_data=(X_valid, y_valid), \n",
        "                  epochs=EPOCHS,\n",
        "                  verbose=VERBOSE,\n",
        "                  batch_size=BATCH_SIZE, \n",
        "                  callbacks=[lr, chk_point, es])\n",
        "        \n",
        "        y_true = y_valid.squeeze().reshape(-1, 1)\n",
        "        y_pred = model.predict(X_valid, batch_size=BATCH_SIZE).squeeze().reshape(-1, 1)\n",
        "        train_pred[test_idx] = y_pred.reshape(-1, 80)\n",
        "        score = mean_absolute_error(y_true, y_pred)\n",
        "        print(f\"Fold-{fold+1} | OOF Score: {score}\")\n",
        "        \n",
        "        test_preds.append(model.predict(test, batch_size=BATCH_SIZE).squeeze().reshape(-1, 1).squeeze())\n",
        "        \n",
        "        del X_train, X_valid, y_train, y_valid, model\n",
        "        reset_keras()\n",
        "        gc.collect()\n",
        "\n",
        "        if DEBUG:\n",
        "          break"
      ],
      "execution_count": 23,
      "outputs": [
        {
          "output_type": "stream",
          "name": "stdout",
          "text": [
            "Epoch 1/100\n",
            "17/17 [==============================] - 91s 3s/step - loss: 5.1366 - val_loss: 2.6632\n",
            "\n",
            "Epoch 00001: val_loss improved from inf to 2.66316, saving model to ./Bidirect_LSTM_model_1C.h5\n"
          ]
        },
        {
          "output_type": "stream",
          "name": "stderr",
          "text": [
            "/usr/local/lib/python3.7/dist-packages/keras/utils/generic_utils.py:497: CustomMaskWarning: Custom mask layers require a config and must override get_config. When loading, the custom mask layer must be passed to the custom_objects argument.\n",
            "  category=CustomMaskWarning)\n"
          ]
        },
        {
          "output_type": "stream",
          "name": "stdout",
          "text": [
            "Epoch 2/100\n",
            "17/17 [==============================] - 9s 511ms/step - loss: 2.0798 - val_loss: 1.6075\n",
            "\n",
            "Epoch 00002: val_loss improved from 2.66316 to 1.60751, saving model to ./Bidirect_LSTM_model_1C.h5\n",
            "Epoch 3/100\n",
            "17/17 [==============================] - 9s 511ms/step - loss: 1.7664 - val_loss: 1.6837\n",
            "\n",
            "Epoch 00003: val_loss did not improve from 1.60751\n",
            "Epoch 4/100\n",
            "17/17 [==============================] - 9s 511ms/step - loss: 1.2329 - val_loss: 1.0421\n",
            "\n",
            "Epoch 00004: val_loss improved from 1.60751 to 1.04208, saving model to ./Bidirect_LSTM_model_1C.h5\n",
            "Epoch 5/100\n",
            "17/17 [==============================] - 9s 512ms/step - loss: 0.9524 - val_loss: 0.8615\n",
            "\n",
            "Epoch 00005: val_loss improved from 1.04208 to 0.86151, saving model to ./Bidirect_LSTM_model_1C.h5\n",
            "Epoch 6/100\n",
            "17/17 [==============================] - 9s 510ms/step - loss: 0.8562 - val_loss: 0.8325\n",
            "\n",
            "Epoch 00006: val_loss improved from 0.86151 to 0.83251, saving model to ./Bidirect_LSTM_model_1C.h5\n",
            "Epoch 7/100\n",
            "17/17 [==============================] - 9s 514ms/step - loss: 0.8372 - val_loss: 0.8601\n",
            "\n",
            "Epoch 00007: val_loss did not improve from 0.83251\n",
            "Epoch 8/100\n",
            "17/17 [==============================] - 9s 511ms/step - loss: 0.7678 - val_loss: 0.8002\n",
            "\n",
            "Epoch 00008: val_loss improved from 0.83251 to 0.80022, saving model to ./Bidirect_LSTM_model_1C.h5\n",
            "Epoch 9/100\n",
            "17/17 [==============================] - 9s 515ms/step - loss: 0.7227 - val_loss: 0.6734\n",
            "\n",
            "Epoch 00009: val_loss improved from 0.80022 to 0.67342, saving model to ./Bidirect_LSTM_model_1C.h5\n",
            "Epoch 10/100\n",
            "17/17 [==============================] - 9s 510ms/step - loss: 0.6385 - val_loss: 0.6539\n",
            "\n",
            "Epoch 00010: val_loss improved from 0.67342 to 0.65387, saving model to ./Bidirect_LSTM_model_1C.h5\n",
            "Epoch 11/100\n",
            "17/17 [==============================] - 9s 511ms/step - loss: 0.6003 - val_loss: 0.6738\n",
            "\n",
            "Epoch 00011: val_loss did not improve from 0.65387\n",
            "Epoch 12/100\n",
            "17/17 [==============================] - 9s 510ms/step - loss: 0.5946 - val_loss: 0.5742\n",
            "\n",
            "Epoch 00012: val_loss improved from 0.65387 to 0.57418, saving model to ./Bidirect_LSTM_model_1C.h5\n",
            "Epoch 13/100\n",
            "17/17 [==============================] - 9s 511ms/step - loss: 0.5693 - val_loss: 0.5490\n",
            "\n",
            "Epoch 00013: val_loss improved from 0.57418 to 0.54899, saving model to ./Bidirect_LSTM_model_1C.h5\n",
            "Epoch 14/100\n",
            "17/17 [==============================] - 9s 511ms/step - loss: 0.5407 - val_loss: 0.5246\n",
            "\n",
            "Epoch 00014: val_loss improved from 0.54899 to 0.52460, saving model to ./Bidirect_LSTM_model_1C.h5\n",
            "Epoch 15/100\n",
            "17/17 [==============================] - 9s 510ms/step - loss: 0.5065 - val_loss: 0.5088\n",
            "\n",
            "Epoch 00015: val_loss improved from 0.52460 to 0.50882, saving model to ./Bidirect_LSTM_model_1C.h5\n",
            "Epoch 16/100\n",
            "17/17 [==============================] - 9s 512ms/step - loss: 0.5192 - val_loss: 0.5752\n",
            "\n",
            "Epoch 00016: val_loss did not improve from 0.50882\n",
            "Epoch 17/100\n",
            "17/17 [==============================] - 9s 511ms/step - loss: 0.5597 - val_loss: 0.5096\n",
            "\n",
            "Epoch 00017: val_loss did not improve from 0.50882\n",
            "Epoch 18/100\n",
            "17/17 [==============================] - 9s 512ms/step - loss: 0.4672 - val_loss: 0.4882\n",
            "\n",
            "Epoch 00018: val_loss improved from 0.50882 to 0.48818, saving model to ./Bidirect_LSTM_model_1C.h5\n",
            "Epoch 19/100\n",
            "17/17 [==============================] - 9s 511ms/step - loss: 0.5055 - val_loss: 0.5620\n",
            "\n",
            "Epoch 00019: val_loss did not improve from 0.48818\n",
            "Epoch 20/100\n",
            "17/17 [==============================] - 9s 511ms/step - loss: 0.4872 - val_loss: 0.4972\n",
            "\n",
            "Epoch 00020: val_loss did not improve from 0.48818\n",
            "Epoch 21/100\n",
            "17/17 [==============================] - 9s 510ms/step - loss: 0.4574 - val_loss: 0.5379\n",
            "\n",
            "Epoch 00021: val_loss did not improve from 0.48818\n",
            "Epoch 22/100\n",
            "17/17 [==============================] - 9s 512ms/step - loss: 0.4776 - val_loss: 0.5699\n",
            "\n",
            "Epoch 00022: val_loss did not improve from 0.48818\n",
            "Epoch 23/100\n",
            "17/17 [==============================] - 9s 510ms/step - loss: 0.4601 - val_loss: 0.4711\n",
            "\n",
            "Epoch 00023: val_loss improved from 0.48818 to 0.47111, saving model to ./Bidirect_LSTM_model_1C.h5\n",
            "Epoch 24/100\n",
            "17/17 [==============================] - 9s 511ms/step - loss: 0.4575 - val_loss: 0.4979\n",
            "\n",
            "Epoch 00024: val_loss did not improve from 0.47111\n",
            "Epoch 25/100\n",
            "17/17 [==============================] - 9s 510ms/step - loss: 0.4621 - val_loss: 0.4494\n",
            "\n",
            "Epoch 00025: val_loss improved from 0.47111 to 0.44943, saving model to ./Bidirect_LSTM_model_1C.h5\n",
            "Epoch 26/100\n",
            "17/17 [==============================] - 9s 510ms/step - loss: 0.4541 - val_loss: 0.4872\n",
            "\n",
            "Epoch 00026: val_loss did not improve from 0.44943\n",
            "Epoch 27/100\n",
            "17/17 [==============================] - 9s 510ms/step - loss: 0.4570 - val_loss: 0.4814\n",
            "\n",
            "Epoch 00027: val_loss did not improve from 0.44943\n",
            "Epoch 28/100\n",
            "17/17 [==============================] - 9s 512ms/step - loss: 0.4596 - val_loss: 0.5344\n",
            "\n",
            "Epoch 00028: val_loss did not improve from 0.44943\n",
            "Epoch 29/100\n",
            "17/17 [==============================] - 9s 511ms/step - loss: 0.4699 - val_loss: 0.4929\n",
            "\n",
            "Epoch 00029: val_loss did not improve from 0.44943\n",
            "Epoch 30/100\n",
            "17/17 [==============================] - 9s 512ms/step - loss: 0.4310 - val_loss: 0.4308\n",
            "\n",
            "Epoch 00030: val_loss improved from 0.44943 to 0.43082, saving model to ./Bidirect_LSTM_model_1C.h5\n",
            "Epoch 31/100\n",
            "17/17 [==============================] - 9s 539ms/step - loss: 0.3994 - val_loss: 0.4341\n",
            "\n",
            "Epoch 00031: val_loss did not improve from 0.43082\n",
            "Epoch 32/100\n",
            "17/17 [==============================] - 9s 512ms/step - loss: 0.4227 - val_loss: 0.4347\n",
            "\n",
            "Epoch 00032: val_loss did not improve from 0.43082\n",
            "Epoch 33/100\n",
            "17/17 [==============================] - 9s 511ms/step - loss: 0.4198 - val_loss: 0.4561\n",
            "\n",
            "Epoch 00033: val_loss did not improve from 0.43082\n",
            "Epoch 34/100\n",
            "17/17 [==============================] - 9s 512ms/step - loss: 0.4071 - val_loss: 0.4351\n",
            "\n",
            "Epoch 00034: val_loss did not improve from 0.43082\n",
            "Epoch 35/100\n",
            "17/17 [==============================] - 9s 510ms/step - loss: 0.3817 - val_loss: 0.4152\n",
            "\n",
            "Epoch 00035: val_loss improved from 0.43082 to 0.41521, saving model to ./Bidirect_LSTM_model_1C.h5\n",
            "Epoch 36/100\n",
            "17/17 [==============================] - 9s 511ms/step - loss: 0.3625 - val_loss: 0.4132\n",
            "\n",
            "Epoch 00036: val_loss improved from 0.41521 to 0.41317, saving model to ./Bidirect_LSTM_model_1C.h5\n",
            "Epoch 37/100\n",
            "17/17 [==============================] - 9s 510ms/step - loss: 0.3812 - val_loss: 0.4358\n",
            "\n",
            "Epoch 00037: val_loss did not improve from 0.41317\n",
            "Epoch 38/100\n",
            "17/17 [==============================] - 9s 510ms/step - loss: 0.3675 - val_loss: 0.4148\n",
            "\n",
            "Epoch 00038: val_loss did not improve from 0.41317\n",
            "Epoch 39/100\n",
            "17/17 [==============================] - 9s 511ms/step - loss: 0.3655 - val_loss: 0.3910\n",
            "\n",
            "Epoch 00039: val_loss improved from 0.41317 to 0.39098, saving model to ./Bidirect_LSTM_model_1C.h5\n",
            "Epoch 40/100\n",
            "17/17 [==============================] - 9s 511ms/step - loss: 0.3513 - val_loss: 0.4076\n",
            "\n",
            "Epoch 00040: val_loss did not improve from 0.39098\n",
            "Epoch 41/100\n",
            "17/17 [==============================] - 9s 517ms/step - loss: 0.3543 - val_loss: 0.3889\n",
            "\n",
            "Epoch 00041: val_loss improved from 0.39098 to 0.38891, saving model to ./Bidirect_LSTM_model_1C.h5\n",
            "Epoch 42/100\n",
            "17/17 [==============================] - 9s 513ms/step - loss: 0.3578 - val_loss: 0.4555\n",
            "\n",
            "Epoch 00042: val_loss did not improve from 0.38891\n",
            "Epoch 43/100\n",
            "17/17 [==============================] - 9s 511ms/step - loss: 0.3865 - val_loss: 0.4417\n",
            "\n",
            "Epoch 00043: val_loss did not improve from 0.38891\n",
            "Epoch 44/100\n",
            "17/17 [==============================] - 9s 510ms/step - loss: 0.3378 - val_loss: 0.3785\n",
            "\n",
            "Epoch 00044: val_loss improved from 0.38891 to 0.37848, saving model to ./Bidirect_LSTM_model_1C.h5\n",
            "Epoch 45/100\n",
            "17/17 [==============================] - 9s 512ms/step - loss: 0.3529 - val_loss: 0.4177\n",
            "\n",
            "Epoch 00045: val_loss did not improve from 0.37848\n",
            "Epoch 46/100\n",
            "17/17 [==============================] - 9s 511ms/step - loss: 0.3761 - val_loss: 0.4127\n",
            "\n",
            "Epoch 00046: val_loss did not improve from 0.37848\n",
            "Epoch 47/100\n",
            "17/17 [==============================] - 9s 513ms/step - loss: 0.3413 - val_loss: 0.4019\n",
            "\n",
            "Epoch 00047: val_loss did not improve from 0.37848\n",
            "Epoch 48/100\n",
            "17/17 [==============================] - 9s 511ms/step - loss: 0.3252 - val_loss: 0.4097\n",
            "\n",
            "Epoch 00048: val_loss did not improve from 0.37848\n",
            "Epoch 49/100\n",
            "17/17 [==============================] - 9s 510ms/step - loss: 0.3217 - val_loss: 0.3950\n",
            "\n",
            "Epoch 00049: val_loss did not improve from 0.37848\n",
            "Epoch 50/100\n",
            "17/17 [==============================] - 9s 510ms/step - loss: 0.3204 - val_loss: 0.3874\n",
            "\n",
            "Epoch 00050: val_loss did not improve from 0.37848\n",
            "Epoch 51/100\n",
            "17/17 [==============================] - 9s 514ms/step - loss: 0.3180 - val_loss: 0.3727\n",
            "\n",
            "Epoch 00051: val_loss improved from 0.37848 to 0.37270, saving model to ./Bidirect_LSTM_model_1C.h5\n",
            "Epoch 52/100\n",
            "17/17 [==============================] - 9s 511ms/step - loss: 0.3099 - val_loss: 0.3692\n",
            "\n",
            "Epoch 00052: val_loss improved from 0.37270 to 0.36916, saving model to ./Bidirect_LSTM_model_1C.h5\n",
            "Epoch 53/100\n",
            "17/17 [==============================] - 9s 512ms/step - loss: 0.3096 - val_loss: 0.3799\n",
            "\n",
            "Epoch 00053: val_loss did not improve from 0.36916\n",
            "Epoch 54/100\n",
            "17/17 [==============================] - 9s 511ms/step - loss: 0.3076 - val_loss: 0.3741\n",
            "\n",
            "Epoch 00054: val_loss did not improve from 0.36916\n",
            "Epoch 55/100\n",
            "17/17 [==============================] - 9s 512ms/step - loss: 0.3270 - val_loss: 0.3742\n",
            "\n",
            "Epoch 00055: val_loss did not improve from 0.36916\n",
            "Epoch 56/100\n",
            "17/17 [==============================] - 9s 512ms/step - loss: 0.3099 - val_loss: 0.3731\n",
            "\n",
            "Epoch 00056: val_loss did not improve from 0.36916\n",
            "Epoch 57/100\n",
            "17/17 [==============================] - 9s 511ms/step - loss: 0.3051 - val_loss: 0.3785\n",
            "\n",
            "Epoch 00057: val_loss did not improve from 0.36916\n",
            "Epoch 58/100\n",
            "17/17 [==============================] - 9s 511ms/step - loss: 0.3046 - val_loss: 0.3911\n",
            "\n",
            "Epoch 00058: val_loss did not improve from 0.36916\n",
            "Epoch 59/100\n",
            "17/17 [==============================] - 9s 512ms/step - loss: 0.3040 - val_loss: 0.3646\n",
            "\n",
            "Epoch 00059: val_loss improved from 0.36916 to 0.36456, saving model to ./Bidirect_LSTM_model_1C.h5\n",
            "Epoch 60/100\n",
            "17/17 [==============================] - 9s 510ms/step - loss: 0.2898 - val_loss: 0.3744\n",
            "\n",
            "Epoch 00060: val_loss did not improve from 0.36456\n",
            "Epoch 61/100\n",
            "17/17 [==============================] - 9s 511ms/step - loss: 0.2988 - val_loss: 0.3717\n",
            "\n",
            "Epoch 00061: val_loss did not improve from 0.36456\n",
            "Epoch 62/100\n",
            "17/17 [==============================] - 9s 509ms/step - loss: 0.3145 - val_loss: 0.3856\n",
            "\n",
            "Epoch 00062: val_loss did not improve from 0.36456\n",
            "Epoch 63/100\n",
            "17/17 [==============================] - 9s 511ms/step - loss: 0.3329 - val_loss: 0.3815\n",
            "\n",
            "Epoch 00063: val_loss did not improve from 0.36456\n",
            "Epoch 64/100\n",
            "17/17 [==============================] - 9s 510ms/step - loss: 0.2979 - val_loss: 0.3714\n",
            "\n",
            "Epoch 00064: val_loss did not improve from 0.36456\n",
            "Epoch 65/100\n",
            "17/17 [==============================] - 9s 510ms/step - loss: 0.2887 - val_loss: 0.3737\n",
            "\n",
            "Epoch 00065: val_loss did not improve from 0.36456\n",
            "Epoch 66/100\n",
            "17/17 [==============================] - 9s 510ms/step - loss: 0.2886 - val_loss: 0.3846\n",
            "\n",
            "Epoch 00066: val_loss did not improve from 0.36456\n",
            "Epoch 67/100\n",
            "17/17 [==============================] - 9s 512ms/step - loss: 0.2727 - val_loss: 0.3607\n",
            "\n",
            "Epoch 00067: val_loss improved from 0.36456 to 0.36068, saving model to ./Bidirect_LSTM_model_1C.h5\n",
            "Epoch 68/100\n",
            "17/17 [==============================] - 9s 511ms/step - loss: 0.2662 - val_loss: 0.3599\n",
            "\n",
            "Epoch 00068: val_loss improved from 0.36068 to 0.35993, saving model to ./Bidirect_LSTM_model_1C.h5\n",
            "Epoch 69/100\n",
            "17/17 [==============================] - 9s 511ms/step - loss: 0.2752 - val_loss: 0.3517\n",
            "\n",
            "Epoch 00069: val_loss improved from 0.35993 to 0.35174, saving model to ./Bidirect_LSTM_model_1C.h5\n",
            "Epoch 70/100\n",
            "17/17 [==============================] - 9s 511ms/step - loss: 0.2604 - val_loss: 0.3551\n",
            "\n",
            "Epoch 00070: val_loss did not improve from 0.35174\n",
            "Epoch 71/100\n",
            "17/17 [==============================] - 9s 512ms/step - loss: 0.2821 - val_loss: 0.3581\n",
            "\n",
            "Epoch 00071: val_loss did not improve from 0.35174\n",
            "Epoch 72/100\n",
            "17/17 [==============================] - 9s 510ms/step - loss: 0.2593 - val_loss: 0.3557\n",
            "\n",
            "Epoch 00072: val_loss did not improve from 0.35174\n",
            "Epoch 73/100\n",
            "17/17 [==============================] - 9s 511ms/step - loss: 0.2641 - val_loss: 0.3501\n",
            "\n",
            "Epoch 00073: val_loss improved from 0.35174 to 0.35014, saving model to ./Bidirect_LSTM_model_1C.h5\n",
            "Epoch 74/100\n",
            "17/17 [==============================] - 9s 510ms/step - loss: 0.2608 - val_loss: 0.3736\n",
            "\n",
            "Epoch 00074: val_loss did not improve from 0.35014\n",
            "Epoch 75/100\n",
            "17/17 [==============================] - 9s 511ms/step - loss: 0.2546 - val_loss: 0.3486\n",
            "\n",
            "Epoch 00075: val_loss improved from 0.35014 to 0.34856, saving model to ./Bidirect_LSTM_model_1C.h5\n",
            "Epoch 76/100\n",
            "17/17 [==============================] - 9s 510ms/step - loss: 0.2555 - val_loss: 0.3588\n",
            "\n",
            "Epoch 00076: val_loss did not improve from 0.34856\n",
            "Epoch 77/100\n",
            "17/17 [==============================] - 9s 513ms/step - loss: 0.2826 - val_loss: 0.3592\n",
            "\n",
            "Epoch 00077: val_loss did not improve from 0.34856\n",
            "Epoch 78/100\n",
            "17/17 [==============================] - 9s 510ms/step - loss: 0.2607 - val_loss: 0.3383\n",
            "\n",
            "Epoch 00078: val_loss improved from 0.34856 to 0.33835, saving model to ./Bidirect_LSTM_model_1C.h5\n",
            "Epoch 79/100\n",
            "17/17 [==============================] - 9s 513ms/step - loss: 0.2632 - val_loss: 0.3694\n",
            "\n",
            "Epoch 00079: val_loss did not improve from 0.33835\n",
            "Epoch 80/100\n",
            "17/17 [==============================] - 9s 509ms/step - loss: 0.2686 - val_loss: 0.3398\n",
            "\n",
            "Epoch 00080: val_loss did not improve from 0.33835\n",
            "Epoch 81/100\n",
            "17/17 [==============================] - 9s 511ms/step - loss: 0.2632 - val_loss: 0.3419\n",
            "\n",
            "Epoch 00081: val_loss did not improve from 0.33835\n",
            "Epoch 82/100\n",
            "17/17 [==============================] - 9s 510ms/step - loss: 0.2443 - val_loss: 0.3434\n",
            "\n",
            "Epoch 00082: val_loss did not improve from 0.33835\n",
            "Epoch 83/100\n",
            "17/17 [==============================] - 9s 548ms/step - loss: 0.2330 - val_loss: 0.3343\n",
            "\n",
            "Epoch 00083: val_loss improved from 0.33835 to 0.33431, saving model to ./Bidirect_LSTM_model_1C.h5\n",
            "Epoch 84/100\n",
            "17/17 [==============================] - 9s 511ms/step - loss: 0.2391 - val_loss: 0.3550\n",
            "\n",
            "Epoch 00084: val_loss did not improve from 0.33431\n",
            "Epoch 85/100\n",
            "17/17 [==============================] - 9s 512ms/step - loss: 0.2632 - val_loss: 0.3458\n",
            "\n",
            "Epoch 00085: val_loss did not improve from 0.33431\n",
            "Epoch 86/100\n",
            "17/17 [==============================] - 9s 510ms/step - loss: 0.2606 - val_loss: 0.3603\n",
            "\n",
            "Epoch 00086: val_loss did not improve from 0.33431\n",
            "Epoch 87/100\n",
            "17/17 [==============================] - 9s 511ms/step - loss: 0.2493 - val_loss: 0.3445\n",
            "\n",
            "Epoch 00087: val_loss did not improve from 0.33431\n",
            "Epoch 88/100\n",
            "17/17 [==============================] - 9s 511ms/step - loss: 0.2301 - val_loss: 0.3334\n",
            "\n",
            "Epoch 00088: val_loss improved from 0.33431 to 0.33343, saving model to ./Bidirect_LSTM_model_1C.h5\n",
            "Epoch 89/100\n",
            "17/17 [==============================] - 9s 512ms/step - loss: 0.2256 - val_loss: 0.3400\n",
            "\n",
            "Epoch 00089: val_loss did not improve from 0.33343\n",
            "Epoch 90/100\n",
            "17/17 [==============================] - 9s 510ms/step - loss: 0.2410 - val_loss: 0.3481\n",
            "\n",
            "Epoch 00090: val_loss did not improve from 0.33343\n",
            "Epoch 91/100\n",
            "17/17 [==============================] - 9s 512ms/step - loss: 0.2506 - val_loss: 0.3474\n",
            "\n",
            "Epoch 00091: val_loss did not improve from 0.33343\n",
            "Epoch 92/100\n",
            "17/17 [==============================] - 9s 511ms/step - loss: 0.2387 - val_loss: 0.3780\n",
            "\n",
            "Epoch 00092: val_loss did not improve from 0.33343\n",
            "Epoch 93/100\n",
            "17/17 [==============================] - 9s 512ms/step - loss: 0.2586 - val_loss: 0.3657\n",
            "\n",
            "Epoch 00093: val_loss did not improve from 0.33343\n",
            "Epoch 94/100\n",
            "17/17 [==============================] - 9s 511ms/step - loss: 0.2502 - val_loss: 0.3453\n",
            "\n",
            "Epoch 00094: val_loss did not improve from 0.33343\n",
            "Epoch 95/100\n",
            "17/17 [==============================] - 9s 512ms/step - loss: 0.2265 - val_loss: 0.3328\n",
            "\n",
            "Epoch 00095: val_loss improved from 0.33343 to 0.33278, saving model to ./Bidirect_LSTM_model_1C.h5\n",
            "Epoch 96/100\n",
            "17/17 [==============================] - 9s 512ms/step - loss: 0.2301 - val_loss: 0.3455\n",
            "\n",
            "Epoch 00096: val_loss did not improve from 0.33278\n",
            "Epoch 97/100\n",
            "17/17 [==============================] - 9s 511ms/step - loss: 0.2257 - val_loss: 0.3332\n",
            "\n",
            "Epoch 00097: val_loss did not improve from 0.33278\n",
            "Epoch 98/100\n",
            "17/17 [==============================] - 9s 512ms/step - loss: 0.2226 - val_loss: 0.3315\n",
            "\n",
            "Epoch 00098: val_loss improved from 0.33278 to 0.33152, saving model to ./Bidirect_LSTM_model_1C.h5\n",
            "Epoch 99/100\n",
            "17/17 [==============================] - 9s 512ms/step - loss: 0.2223 - val_loss: 0.3494\n",
            "\n",
            "Epoch 00099: val_loss did not improve from 0.33152\n",
            "Epoch 100/100\n",
            "17/17 [==============================] - 9s 511ms/step - loss: 0.2108 - val_loss: 0.3256\n",
            "\n",
            "Epoch 00100: val_loss improved from 0.33152 to 0.32555, saving model to ./Bidirect_LSTM_model_1C.h5\n",
            "Fold-1 | OOF Score: 0.3255526891906173\n"
          ]
        },
        {
          "output_type": "error",
          "ename": "IndexError",
          "evalue": "ignored",
          "traceback": [
            "\u001b[0;31m---------------------------------------------------------------------------\u001b[0m",
            "\u001b[0;31mIndexError\u001b[0m                                Traceback (most recent call last)",
            "\u001b[0;32m<ipython-input-23-fd4042574470>\u001b[0m in \u001b[0;36m<module>\u001b[0;34m()\u001b[0m\n\u001b[1;32m     47\u001b[0m \u001b[0;34m\u001b[0m\u001b[0m\n\u001b[1;32m     48\u001b[0m         \u001b[0;32mif\u001b[0m \u001b[0mDEBUG\u001b[0m\u001b[0;34m:\u001b[0m\u001b[0;34m\u001b[0m\u001b[0;34m\u001b[0m\u001b[0m\n\u001b[0;32m---> 49\u001b[0;31m           \u001b[0;32mbreak\u001b[0m\u001b[0;34m\u001b[0m\u001b[0;34m\u001b[0m\u001b[0m\n\u001b[0m",
            "\u001b[0;32m/usr/local/lib/python3.7/dist-packages/tensorflow/python/distribute/distribute_lib.py\u001b[0m in \u001b[0;36m__exit__\u001b[0;34m(self, exception_type, exception_value, traceback)\u001b[0m\n\u001b[1;32m    431\u001b[0m                          \"tf.distribute.set_strategy() out of `with` scope.\"),\n\u001b[1;32m    432\u001b[0m             e)\n\u001b[0;32m--> 433\u001b[0;31m     \u001b[0m_pop_per_thread_mode\u001b[0m\u001b[0;34m(\u001b[0m\u001b[0;34m)\u001b[0m\u001b[0;34m\u001b[0m\u001b[0;34m\u001b[0m\u001b[0m\n\u001b[0m\u001b[1;32m    434\u001b[0m \u001b[0;34m\u001b[0m\u001b[0m\n\u001b[1;32m    435\u001b[0m \u001b[0;34m\u001b[0m\u001b[0m\n",
            "\u001b[0;32m/usr/local/lib/python3.7/dist-packages/tensorflow/python/distribute/distribution_strategy_context.py\u001b[0m in \u001b[0;36m_pop_per_thread_mode\u001b[0;34m()\u001b[0m\n\u001b[1;32m     64\u001b[0m \u001b[0;34m\u001b[0m\u001b[0m\n\u001b[1;32m     65\u001b[0m \u001b[0;32mdef\u001b[0m \u001b[0m_pop_per_thread_mode\u001b[0m\u001b[0;34m(\u001b[0m\u001b[0;34m)\u001b[0m\u001b[0;34m:\u001b[0m\u001b[0;34m\u001b[0m\u001b[0;34m\u001b[0m\u001b[0m\n\u001b[0;32m---> 66\u001b[0;31m   \u001b[0mops\u001b[0m\u001b[0;34m.\u001b[0m\u001b[0mget_default_graph\u001b[0m\u001b[0;34m(\u001b[0m\u001b[0;34m)\u001b[0m\u001b[0;34m.\u001b[0m\u001b[0m_distribution_strategy_stack\u001b[0m\u001b[0;34m.\u001b[0m\u001b[0mpop\u001b[0m\u001b[0;34m(\u001b[0m\u001b[0;34m-\u001b[0m\u001b[0;36m1\u001b[0m\u001b[0;34m)\u001b[0m  \u001b[0;31m# pylint: disable=protected-access\u001b[0m\u001b[0;34m\u001b[0m\u001b[0;34m\u001b[0m\u001b[0m\n\u001b[0m\u001b[1;32m     67\u001b[0m \u001b[0;34m\u001b[0m\u001b[0m\n\u001b[1;32m     68\u001b[0m \u001b[0;34m\u001b[0m\u001b[0m\n",
            "\u001b[0;31mIndexError\u001b[0m: pop from empty list"
          ]
        }
      ]
    },
    {
      "cell_type": "markdown",
      "metadata": {
        "id": "fUanGPDq9co3"
      },
      "source": [
        "train_pred = train_pred.flatten()\n",
        "targets = targets.flatten()\n",
        "score = mean_absolute_error(targets, train_pred)\n",
        "print(f\"Train Score: {score}\")"
      ]
    },
    {
      "cell_type": "markdown",
      "metadata": {
        "id": "QHx2oF849co4"
      },
      "source": [
        "## Create submission file"
      ]
    },
    {
      "cell_type": "markdown",
      "metadata": {
        "id": "tS9VjV7K9co4"
      },
      "source": [
        "submission = pd.read_csv('../input/ventilator-pressure-prediction/sample_submission.csv')\n",
        "submission[\"pressure\"] = sum(test_preds)/5\n",
        "submission.to_csv('submission.csv', index=False)\n",
        "\n",
        "# ENSEMBLE FOLDS WITH MEDIAN\n",
        "#取中位数\n",
        "submission[\"pressure\"] = np.median(np.vstack(test_preds),axis=0)\n",
        "submission.to_csv('submission_median.csv', index=False)\n",
        "\n",
        "\n",
        "# ENSEMBLE FOLDS WITH MEDIAN AND ROUND PREDICTIONS\n",
        "submission[\"pressure\"] =\\\n",
        "    np.round( (submission.pressure - pressure_min)/pressure_step ) * pressure_step + pressure_min\n",
        "submission.pressure = np.clip(submission.pressure, pressure_min, pressure_max)\n",
        "submission.to_csv('submission_median_round.csv', index=False)"
      ]
    }
  ]
}