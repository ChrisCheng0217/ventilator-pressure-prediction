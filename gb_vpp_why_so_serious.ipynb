{
  "nbformat": 4,
  "nbformat_minor": 5,
  "metadata": {
    "kernelspec": {
      "display_name": "Python 3",
      "language": "python",
      "name": "python3"
    },
    "language_info": {
      "codemirror_mode": {
        "name": "ipython",
        "version": 3
      },
      "file_extension": ".py",
      "mimetype": "text/x-python",
      "name": "python",
      "nbconvert_exporter": "python",
      "pygments_lexer": "ipython3",
      "version": "3.7.10"
    },
    "papermill": {
      "default_parameters": {},
      "duration": 14331.868776,
      "end_time": "2021-10-03T20:34:59.527828",
      "environment_variables": {},
      "exception": null,
      "input_path": "__notebook__.ipynb",
      "output_path": "__notebook__.ipynb",
      "parameters": {},
      "start_time": "2021-10-03T16:36:07.659052",
      "version": "2.3.3"
    },
    "colab": {
      "name": "gb-vpp-why-so-serious.ipynb",
      "provenance": [],
      "machine_shape": "hm",
      "include_colab_link": true
    },
    "accelerator": "TPU"
  },
  "cells": [
    {
      "cell_type": "markdown",
      "metadata": {
        "id": "view-in-github",
        "colab_type": "text"
      },
      "source": [
        "<a href=\"https://colab.research.google.com/github/bobbercheng/ventilator-pressure-prediction/blob/master/gb_vpp_why_so_serious.ipynb\" target=\"_parent\"><img src=\"https://colab.research.google.com/assets/colab-badge.svg\" alt=\"Open In Colab\"/></a>"
      ]
    },
    {
      "cell_type": "code",
      "metadata": {
        "id": "bvW2rA2PY43p"
      },
      "source": [
        "#!pip install pandas==1.3.2"
      ],
      "id": "bvW2rA2PY43p",
      "execution_count": 1,
      "outputs": []
    },
    {
      "cell_type": "code",
      "metadata": {
        "colab": {
          "base_uri": "https://localhost:8080/"
        },
        "id": "Z56aXDYfZB4Z",
        "outputId": "e47057b4-28f3-4af3-b7f8-fe3efea80ede"
      },
      "source": [
        "from google.colab import drive\n",
        "drive.mount(\"/gdrive\", force_remount=True)"
      ],
      "id": "Z56aXDYfZB4Z",
      "execution_count": 2,
      "outputs": [
        {
          "output_type": "stream",
          "name": "stdout",
          "text": [
            "Mounted at /gdrive\n"
          ]
        }
      ]
    },
    {
      "cell_type": "code",
      "metadata": {
        "colab": {
          "base_uri": "https://localhost:8080/"
        },
        "id": "N8HueH8dZEtq",
        "outputId": "ba23afce-fc3e-40c8-c5ad-b93852b3a6ab"
      },
      "source": [
        "!pip install kaggle\n",
        "!mkdir /root/.kaggle\n",
        "!cp /gdrive/MyDrive/ventilator-pressure-prediction/kaggle.json /root/.kaggle\n",
        "!kaggle competitions download -c ventilator-pressure-prediction\n",
        "!mkdir -p /kaggle/input/ventilator-pressure-prediction\n",
        "!unzip '*.zip' -d /kaggle/input/ventilator-pressure-prediction\n",
        "!ls /kaggle/input/ventilator-pressure-prediction"
      ],
      "id": "N8HueH8dZEtq",
      "execution_count": 3,
      "outputs": [
        {
          "output_type": "stream",
          "name": "stdout",
          "text": [
            "Requirement already satisfied: kaggle in /usr/local/lib/python3.7/dist-packages (1.5.12)\n",
            "Requirement already satisfied: python-slugify in /usr/local/lib/python3.7/dist-packages (from kaggle) (5.0.2)\n",
            "Requirement already satisfied: python-dateutil in /usr/local/lib/python3.7/dist-packages (from kaggle) (2.8.2)\n",
            "Requirement already satisfied: requests in /usr/local/lib/python3.7/dist-packages (from kaggle) (2.23.0)\n",
            "Requirement already satisfied: six>=1.10 in /usr/local/lib/python3.7/dist-packages (from kaggle) (1.15.0)\n",
            "Requirement already satisfied: tqdm in /usr/local/lib/python3.7/dist-packages (from kaggle) (4.62.3)\n",
            "Requirement already satisfied: urllib3 in /usr/local/lib/python3.7/dist-packages (from kaggle) (1.24.3)\n",
            "Requirement already satisfied: certifi in /usr/local/lib/python3.7/dist-packages (from kaggle) (2021.5.30)\n",
            "Requirement already satisfied: text-unidecode>=1.3 in /usr/local/lib/python3.7/dist-packages (from python-slugify->kaggle) (1.3)\n",
            "Requirement already satisfied: idna<3,>=2.5 in /usr/local/lib/python3.7/dist-packages (from requests->kaggle) (2.10)\n",
            "Requirement already satisfied: chardet<4,>=3.0.2 in /usr/local/lib/python3.7/dist-packages (from requests->kaggle) (3.0.4)\n",
            "Warning: Looks like you're using an outdated API Version, please consider updating (server 1.5.12 / client 1.5.4)\n",
            "Downloading test.csv.zip to /content\n",
            " 88% 66.0M/75.4M [00:00<00:00, 78.4MB/s]\n",
            "100% 75.4M/75.4M [00:01<00:00, 77.7MB/s]\n",
            "Downloading sample_submission.csv.zip to /content\n",
            "  0% 0.00/8.50M [00:00<?, ?B/s]\n",
            "100% 8.50M/8.50M [00:00<00:00, 78.1MB/s]\n",
            "Downloading train.csv.zip to /content\n",
            " 88% 122M/139M [00:00<00:00, 138MB/s]\n",
            "100% 139M/139M [00:00<00:00, 151MB/s]\n",
            "Archive:  test.csv.zip\n",
            "  inflating: /kaggle/input/ventilator-pressure-prediction/test.csv  \n",
            "\n",
            "Archive:  sample_submission.csv.zip\n",
            "  inflating: /kaggle/input/ventilator-pressure-prediction/sample_submission.csv  \n",
            "\n",
            "Archive:  train.csv.zip\n",
            "  inflating: /kaggle/input/ventilator-pressure-prediction/train.csv  \n",
            "\n",
            "3 archives were successfully processed.\n",
            "sample_submission.csv  test.csv  train.csv\n"
          ]
        }
      ]
    },
    {
      "cell_type": "markdown",
      "metadata": {
        "papermill": {
          "duration": 0.016071,
          "end_time": "2021-10-03T16:36:15.306257",
          "exception": false,
          "start_time": "2021-10-03T16:36:15.290186",
          "status": "completed"
        },
        "tags": [],
        "id": "7aed157a"
      },
      "source": [
        "## Import libraries"
      ],
      "id": "7aed157a"
    },
    {
      "cell_type": "code",
      "metadata": {
        "_cell_guid": "3e5a0bd1-3e22-4b2c-a565-68985e55f95e",
        "_uuid": "e331dbcc-0346-4019-9ff6-b890154a878b",
        "execution": {
          "iopub.execute_input": "2021-10-03T16:36:15.342456Z",
          "iopub.status.busy": "2021-10-03T16:36:15.340714Z",
          "iopub.status.idle": "2021-10-03T16:36:20.911590Z",
          "shell.execute_reply": "2021-10-03T16:36:20.910875Z",
          "shell.execute_reply.started": "2021-10-03T09:37:10.165135Z"
        },
        "jupyter": {
          "outputs_hidden": false
        },
        "papermill": {
          "duration": 5.590303,
          "end_time": "2021-10-03T16:36:20.911768",
          "exception": false,
          "start_time": "2021-10-03T16:36:15.321465",
          "status": "completed"
        },
        "tags": [],
        "id": "43065692"
      },
      "source": [
        "import gc\n",
        "import numpy as np\n",
        "import pandas as pd\n",
        "from sklearn.model_selection import KFold\n",
        "from sklearn.preprocessing import RobustScaler\n",
        "from sklearn.metrics import mean_absolute_error\n",
        "\n",
        "import tensorflow as tf\n",
        "from tensorflow.keras.utils import plot_model\n",
        "from tensorflow.keras.models import Model, load_model\n",
        "from tensorflow.keras.callbacks import EarlyStopping\n",
        "from tensorflow.keras.callbacks import ModelCheckpoint\n",
        "from tensorflow.keras.callbacks import ReduceLROnPlateau\n",
        "from tensorflow.keras.layers import Bidirectional, LSTM\n",
        "from tensorflow.keras.layers import Dense, Dropout, Input\n",
        "from tensorflow.keras.layers import Concatenate, Add, GRU\n",
        "\n",
        "np.random.seed(42)\n",
        "tf.random.set_seed(42)"
      ],
      "id": "43065692",
      "execution_count": 4,
      "outputs": []
    },
    {
      "cell_type": "markdown",
      "metadata": {
        "papermill": {
          "duration": 0.015801,
          "end_time": "2021-10-03T16:36:20.943856",
          "exception": false,
          "start_time": "2021-10-03T16:36:20.928055",
          "status": "completed"
        },
        "tags": [],
        "id": "5f5be31b"
      },
      "source": [
        "## Load source datasets"
      ],
      "id": "5f5be31b"
    },
    {
      "cell_type": "code",
      "metadata": {
        "_cell_guid": "89eb257e-0ed2-4f8b-94d6-462a5e995eb1",
        "_uuid": "ca71d87d-6594-4f31-906d-0b53cd4c1374",
        "execution": {
          "iopub.execute_input": "2021-10-03T16:36:20.981184Z",
          "iopub.status.busy": "2021-10-03T16:36:20.980532Z",
          "iopub.status.idle": "2021-10-03T16:36:30.687917Z",
          "shell.execute_reply": "2021-10-03T16:36:30.688498Z",
          "shell.execute_reply.started": "2021-10-03T09:37:14.667967Z"
        },
        "jupyter": {
          "outputs_hidden": false
        },
        "papermill": {
          "duration": 9.729542,
          "end_time": "2021-10-03T16:36:30.688679",
          "exception": false,
          "start_time": "2021-10-03T16:36:20.959137",
          "status": "completed"
        },
        "tags": [],
        "colab": {
          "base_uri": "https://localhost:8080/",
          "height": 220
        },
        "id": "78258d25",
        "outputId": "38222bda-f4d3-4ad3-fe40-63a4c1b5e9ce"
      },
      "source": [
        "train_df = pd.read_csv('/kaggle/input/ventilator-pressure-prediction/train.csv')\n",
        "print(f\"train_df: {train_df.shape}\")\n",
        "train_df.head()"
      ],
      "id": "78258d25",
      "execution_count": 6,
      "outputs": [
        {
          "output_type": "stream",
          "name": "stdout",
          "text": [
            "train_df: (6036000, 8)\n"
          ]
        },
        {
          "output_type": "execute_result",
          "data": {
            "text/html": [
              "<div>\n",
              "<style scoped>\n",
              "    .dataframe tbody tr th:only-of-type {\n",
              "        vertical-align: middle;\n",
              "    }\n",
              "\n",
              "    .dataframe tbody tr th {\n",
              "        vertical-align: top;\n",
              "    }\n",
              "\n",
              "    .dataframe thead th {\n",
              "        text-align: right;\n",
              "    }\n",
              "</style>\n",
              "<table border=\"1\" class=\"dataframe\">\n",
              "  <thead>\n",
              "    <tr style=\"text-align: right;\">\n",
              "      <th></th>\n",
              "      <th>id</th>\n",
              "      <th>breath_id</th>\n",
              "      <th>R</th>\n",
              "      <th>C</th>\n",
              "      <th>time_step</th>\n",
              "      <th>u_in</th>\n",
              "      <th>u_out</th>\n",
              "      <th>pressure</th>\n",
              "    </tr>\n",
              "  </thead>\n",
              "  <tbody>\n",
              "    <tr>\n",
              "      <th>0</th>\n",
              "      <td>1</td>\n",
              "      <td>1</td>\n",
              "      <td>20</td>\n",
              "      <td>50</td>\n",
              "      <td>0.000000</td>\n",
              "      <td>0.083334</td>\n",
              "      <td>0</td>\n",
              "      <td>5.837492</td>\n",
              "    </tr>\n",
              "    <tr>\n",
              "      <th>1</th>\n",
              "      <td>2</td>\n",
              "      <td>1</td>\n",
              "      <td>20</td>\n",
              "      <td>50</td>\n",
              "      <td>0.033652</td>\n",
              "      <td>18.383041</td>\n",
              "      <td>0</td>\n",
              "      <td>5.907794</td>\n",
              "    </tr>\n",
              "    <tr>\n",
              "      <th>2</th>\n",
              "      <td>3</td>\n",
              "      <td>1</td>\n",
              "      <td>20</td>\n",
              "      <td>50</td>\n",
              "      <td>0.067514</td>\n",
              "      <td>22.509278</td>\n",
              "      <td>0</td>\n",
              "      <td>7.876254</td>\n",
              "    </tr>\n",
              "    <tr>\n",
              "      <th>3</th>\n",
              "      <td>4</td>\n",
              "      <td>1</td>\n",
              "      <td>20</td>\n",
              "      <td>50</td>\n",
              "      <td>0.101542</td>\n",
              "      <td>22.808822</td>\n",
              "      <td>0</td>\n",
              "      <td>11.742872</td>\n",
              "    </tr>\n",
              "    <tr>\n",
              "      <th>4</th>\n",
              "      <td>5</td>\n",
              "      <td>1</td>\n",
              "      <td>20</td>\n",
              "      <td>50</td>\n",
              "      <td>0.135756</td>\n",
              "      <td>25.355850</td>\n",
              "      <td>0</td>\n",
              "      <td>12.234987</td>\n",
              "    </tr>\n",
              "  </tbody>\n",
              "</table>\n",
              "</div>"
            ],
            "text/plain": [
              "   id  breath_id   R   C  time_step       u_in  u_out   pressure\n",
              "0   1          1  20  50   0.000000   0.083334      0   5.837492\n",
              "1   2          1  20  50   0.033652  18.383041      0   5.907794\n",
              "2   3          1  20  50   0.067514  22.509278      0   7.876254\n",
              "3   4          1  20  50   0.101542  22.808822      0  11.742872\n",
              "4   5          1  20  50   0.135756  25.355850      0  12.234987"
            ]
          },
          "metadata": {},
          "execution_count": 6
        }
      ]
    },
    {
      "cell_type": "code",
      "metadata": {
        "execution": {
          "iopub.execute_input": "2021-10-03T16:36:30.726060Z",
          "iopub.status.busy": "2021-10-03T16:36:30.725462Z",
          "iopub.status.idle": "2021-10-03T16:36:35.506212Z",
          "shell.execute_reply": "2021-10-03T16:36:35.506727Z",
          "shell.execute_reply.started": "2021-10-03T09:37:24.509116Z"
        },
        "papermill": {
          "duration": 4.802139,
          "end_time": "2021-10-03T16:36:35.506901",
          "exception": false,
          "start_time": "2021-10-03T16:36:30.704762",
          "status": "completed"
        },
        "tags": [],
        "colab": {
          "base_uri": "https://localhost:8080/",
          "height": 220
        },
        "id": "dc0ea23b",
        "outputId": "1b487dc5-b43b-4fcc-a7c7-8154df236196"
      },
      "source": [
        "test_df = pd.read_csv('/kaggle/input/ventilator-pressure-prediction/test.csv')\n",
        "print(f\"test_df: {test_df.shape}\")\n",
        "test_df.head()"
      ],
      "id": "dc0ea23b",
      "execution_count": 7,
      "outputs": [
        {
          "output_type": "stream",
          "name": "stdout",
          "text": [
            "test_df: (4024000, 7)\n"
          ]
        },
        {
          "output_type": "execute_result",
          "data": {
            "text/html": [
              "<div>\n",
              "<style scoped>\n",
              "    .dataframe tbody tr th:only-of-type {\n",
              "        vertical-align: middle;\n",
              "    }\n",
              "\n",
              "    .dataframe tbody tr th {\n",
              "        vertical-align: top;\n",
              "    }\n",
              "\n",
              "    .dataframe thead th {\n",
              "        text-align: right;\n",
              "    }\n",
              "</style>\n",
              "<table border=\"1\" class=\"dataframe\">\n",
              "  <thead>\n",
              "    <tr style=\"text-align: right;\">\n",
              "      <th></th>\n",
              "      <th>id</th>\n",
              "      <th>breath_id</th>\n",
              "      <th>R</th>\n",
              "      <th>C</th>\n",
              "      <th>time_step</th>\n",
              "      <th>u_in</th>\n",
              "      <th>u_out</th>\n",
              "    </tr>\n",
              "  </thead>\n",
              "  <tbody>\n",
              "    <tr>\n",
              "      <th>0</th>\n",
              "      <td>1</td>\n",
              "      <td>0</td>\n",
              "      <td>5</td>\n",
              "      <td>20</td>\n",
              "      <td>0.000000</td>\n",
              "      <td>0.000000</td>\n",
              "      <td>0</td>\n",
              "    </tr>\n",
              "    <tr>\n",
              "      <th>1</th>\n",
              "      <td>2</td>\n",
              "      <td>0</td>\n",
              "      <td>5</td>\n",
              "      <td>20</td>\n",
              "      <td>0.031904</td>\n",
              "      <td>7.515046</td>\n",
              "      <td>0</td>\n",
              "    </tr>\n",
              "    <tr>\n",
              "      <th>2</th>\n",
              "      <td>3</td>\n",
              "      <td>0</td>\n",
              "      <td>5</td>\n",
              "      <td>20</td>\n",
              "      <td>0.063827</td>\n",
              "      <td>14.651675</td>\n",
              "      <td>0</td>\n",
              "    </tr>\n",
              "    <tr>\n",
              "      <th>3</th>\n",
              "      <td>4</td>\n",
              "      <td>0</td>\n",
              "      <td>5</td>\n",
              "      <td>20</td>\n",
              "      <td>0.095751</td>\n",
              "      <td>21.230610</td>\n",
              "      <td>0</td>\n",
              "    </tr>\n",
              "    <tr>\n",
              "      <th>4</th>\n",
              "      <td>5</td>\n",
              "      <td>0</td>\n",
              "      <td>5</td>\n",
              "      <td>20</td>\n",
              "      <td>0.127644</td>\n",
              "      <td>26.320956</td>\n",
              "      <td>0</td>\n",
              "    </tr>\n",
              "  </tbody>\n",
              "</table>\n",
              "</div>"
            ],
            "text/plain": [
              "   id  breath_id  R   C  time_step       u_in  u_out\n",
              "0   1          0  5  20   0.000000   0.000000      0\n",
              "1   2          0  5  20   0.031904   7.515046      0\n",
              "2   3          0  5  20   0.063827  14.651675      0\n",
              "3   4          0  5  20   0.095751  21.230610      0\n",
              "4   5          0  5  20   0.127644  26.320956      0"
            ]
          },
          "metadata": {},
          "execution_count": 7
        }
      ]
    },
    {
      "cell_type": "markdown",
      "metadata": {
        "papermill": {
          "duration": 0.016531,
          "end_time": "2021-10-03T16:36:35.540224",
          "exception": false,
          "start_time": "2021-10-03T16:36:35.523693",
          "status": "completed"
        },
        "tags": [],
        "id": "9ab29f89"
      },
      "source": [
        "## Feature Engineering"
      ],
      "id": "9ab29f89"
    },
    {
      "cell_type": "code",
      "metadata": {
        "_cell_guid": "13a36b46-7067-4b29-aad3-7e3b15e8415b",
        "_uuid": "dc41dbf2-f199-4b9d-bbd9-bf6084162b47",
        "execution": {
          "iopub.execute_input": "2021-10-03T16:36:35.577339Z",
          "iopub.status.busy": "2021-10-03T16:36:35.576611Z",
          "iopub.status.idle": "2021-10-03T16:37:29.917288Z",
          "shell.execute_reply": "2021-10-03T16:37:29.916764Z",
          "shell.execute_reply.started": "2021-10-03T09:37:29.455864Z"
        },
        "jupyter": {
          "outputs_hidden": false
        },
        "papermill": {
          "duration": 54.360529,
          "end_time": "2021-10-03T16:37:29.917459",
          "exception": false,
          "start_time": "2021-10-03T16:36:35.556930",
          "status": "completed"
        },
        "tags": [],
        "colab": {
          "base_uri": "https://localhost:8080/"
        },
        "id": "41230a55",
        "outputId": "f2067d4f-4657-4ab5-ace2-867aa65ffff7"
      },
      "source": [
        "def add_features(df):\n",
        "    df['cross']= df['u_in'] * df['u_out']\n",
        "    df['cross2']= df['time_step'] * df['u_out']\n",
        "    df['area'] = df['time_step'] * df['u_in']\n",
        "    df['area'] = df.groupby('breath_id')['area'].cumsum()\n",
        "    df['u_in_cumsum'] = (df['u_in']).groupby(df['breath_id']).cumsum()\n",
        "    print(\"Step-1...Completed\")\n",
        "    \n",
        "    df['u_in_lag1'] = df.groupby('breath_id')['u_in'].shift(1)\n",
        "    df['u_out_lag1'] = df.groupby('breath_id')['u_out'].shift(1)\n",
        "    df['u_in_lag_back1'] = df.groupby('breath_id')['u_in'].shift(-1)\n",
        "    df['u_out_lag_back1'] = df.groupby('breath_id')['u_out'].shift(-1)\n",
        "    df['u_in_lag2'] = df.groupby('breath_id')['u_in'].shift(2)\n",
        "    df['u_out_lag2'] = df.groupby('breath_id')['u_out'].shift(2)\n",
        "    df['u_in_lag_back2'] = df.groupby('breath_id')['u_in'].shift(-2)\n",
        "    df['u_out_lag_back2'] = df.groupby('breath_id')['u_out'].shift(-2)\n",
        "    df['u_in_lag3'] = df.groupby('breath_id')['u_in'].shift(3)\n",
        "    df['u_out_lag3'] = df.groupby('breath_id')['u_out'].shift(3)\n",
        "    df['u_in_lag_back3'] = df.groupby('breath_id')['u_in'].shift(-3)\n",
        "    df['u_out_lag_back3'] = df.groupby('breath_id')['u_out'].shift(-3)\n",
        "    df['u_in_lag4'] = df.groupby('breath_id')['u_in'].shift(4)\n",
        "    df['u_out_lag4'] = df.groupby('breath_id')['u_out'].shift(4)\n",
        "    df['u_in_lag_back4'] = df.groupby('breath_id')['u_in'].shift(-4)\n",
        "    df['u_out_lag_back4'] = df.groupby('breath_id')['u_out'].shift(-4)\n",
        "    df = df.fillna(0)\n",
        "    print(\"Step-2...Completed\")\n",
        "    \n",
        "    df['breath_id__u_in__max'] = df.groupby(['breath_id'])['u_in'].transform('max')\n",
        "    df['breath_id__u_out__max'] = df.groupby(['breath_id'])['u_out'].transform('max')\n",
        "    df['breath_id__u_in__diffmax'] = df.groupby(['breath_id'])['u_in'].transform('max') - df['u_in']\n",
        "    df['breath_id__u_in__diffmean'] = df.groupby(['breath_id'])['u_in'].transform('mean') - df['u_in']\n",
        "    df['breath_id__u_in__diffmax'] = df.groupby(['breath_id'])['u_in'].transform('max') - df['u_in']\n",
        "    df['breath_id__u_in__diffmean'] = df.groupby(['breath_id'])['u_in'].transform('mean') - df['u_in']\n",
        "    print(\"Step-3...Completed\")\n",
        "    \n",
        "    df['u_in_diff1'] = df['u_in'] - df['u_in_lag1']\n",
        "    df['u_out_diff1'] = df['u_out'] - df['u_out_lag1']\n",
        "    df['u_in_diff2'] = df['u_in'] - df['u_in_lag2']\n",
        "    df['u_out_diff2'] = df['u_out'] - df['u_out_lag2']\n",
        "    df['u_in_diff3'] = df['u_in'] - df['u_in_lag3']\n",
        "    df['u_out_diff3'] = df['u_out'] - df['u_out_lag3']\n",
        "    df['u_in_diff4'] = df['u_in'] - df['u_in_lag4']\n",
        "    df['u_out_diff4'] = df['u_out'] - df['u_out_lag4']\n",
        "    print(\"Step-4...Completed\")\n",
        "    \n",
        "    df['one'] = 1\n",
        "    df['count'] = (df['one']).groupby(df['breath_id']).cumsum()\n",
        "    df['u_in_cummean'] =df['u_in_cumsum'] /df['count']\n",
        "    \n",
        "    df['breath_id_lag']=df['breath_id'].shift(1).fillna(0)\n",
        "    df['breath_id_lag2']=df['breath_id'].shift(2).fillna(0)\n",
        "    df['breath_id_lagsame']=np.select([df['breath_id_lag']==df['breath_id']],[1],0)\n",
        "    df['breath_id_lag2same']=np.select([df['breath_id_lag2']==df['breath_id']],[1],0)\n",
        "    df['breath_id__u_in_lag'] = df['u_in'].shift(1).fillna(0)\n",
        "    df['breath_id__u_in_lag'] = df['breath_id__u_in_lag'] * df['breath_id_lagsame']\n",
        "    df['breath_id__u_in_lag2'] = df['u_in'].shift(2).fillna(0)\n",
        "    df['breath_id__u_in_lag2'] = df['breath_id__u_in_lag2'] * df['breath_id_lag2same']\n",
        "    \n",
        "    df['R'] = df['R'].astype(str)\n",
        "    df['C'] = df['C'].astype(str)\n",
        "    df['R__C'] = df[\"R\"].astype(str) + '__' + df[\"C\"].astype(str)\n",
        "    df = pd.get_dummies(df)\n",
        "    print(\"Step-5...Completed\")\n",
        "    \n",
        "    return df\n",
        "\n",
        "\n",
        "print(\"Train data...\\n\")\n",
        "train = add_features(train_df)\n",
        "\n",
        "print(\"\\nTest data...\\n\")\n",
        "test = add_features(test_df)\n",
        "\n",
        "del train_df\n",
        "del test_df\n",
        "gc.collect()"
      ],
      "id": "41230a55",
      "execution_count": 8,
      "outputs": [
        {
          "output_type": "stream",
          "name": "stdout",
          "text": [
            "Train data...\n",
            "\n",
            "Step-1...Completed\n",
            "Step-2...Completed\n",
            "Step-3...Completed\n",
            "Step-4...Completed\n",
            "Step-5...Completed\n",
            "\n",
            "Test data...\n",
            "\n",
            "Step-1...Completed\n",
            "Step-2...Completed\n",
            "Step-3...Completed\n",
            "Step-4...Completed\n",
            "Step-5...Completed\n"
          ]
        },
        {
          "output_type": "execute_result",
          "data": {
            "text/plain": [
              "22"
            ]
          },
          "metadata": {},
          "execution_count": 8
        }
      ]
    },
    {
      "cell_type": "code",
      "metadata": {
        "_cell_guid": "01328860-fa2a-421c-9e5f-ea0048246f98",
        "_uuid": "346bf2c0-96d2-4da5-8837-c0f820294a85",
        "execution": {
          "iopub.execute_input": "2021-10-03T16:37:29.967231Z",
          "iopub.status.busy": "2021-10-03T16:37:29.966531Z",
          "iopub.status.idle": "2021-10-03T16:37:34.001876Z",
          "shell.execute_reply": "2021-10-03T16:37:34.002700Z",
          "shell.execute_reply.started": "2021-10-03T09:38:24.516378Z"
        },
        "jupyter": {
          "outputs_hidden": false
        },
        "papermill": {
          "duration": 4.064269,
          "end_time": "2021-10-03T16:37:34.002944",
          "exception": false,
          "start_time": "2021-10-03T16:37:29.938675",
          "status": "completed"
        },
        "tags": [],
        "id": "7c8c7dd4"
      },
      "source": [
        "targets = train[['pressure']].to_numpy().reshape(-1, 80)\n",
        "\n",
        "train.drop(['pressure','id', 'breath_id','one','count',\n",
        "            'breath_id_lag','breath_id_lag2','breath_id_lagsame',\n",
        "            'breath_id_lag2same'], axis=1, inplace=True)\n",
        "\n",
        "test = test.drop(['id', 'breath_id','one','count','breath_id_lag',\n",
        "                  'breath_id_lag2','breath_id_lagsame',\n",
        "                  'breath_id_lag2same'], axis=1)"
      ],
      "id": "7c8c7dd4",
      "execution_count": 9,
      "outputs": []
    },
    {
      "cell_type": "code",
      "metadata": {
        "execution": {
          "iopub.execute_input": "2021-10-03T16:37:34.056928Z",
          "iopub.status.busy": "2021-10-03T16:37:34.055960Z",
          "iopub.status.idle": "2021-10-03T16:37:45.696450Z",
          "shell.execute_reply": "2021-10-03T16:37:45.695758Z",
          "shell.execute_reply.started": "2021-10-03T09:38:28.579573Z"
        },
        "papermill": {
          "duration": 11.664986,
          "end_time": "2021-10-03T16:37:45.696604",
          "exception": false,
          "start_time": "2021-10-03T16:37:34.031618",
          "status": "completed"
        },
        "tags": [],
        "colab": {
          "base_uri": "https://localhost:8080/"
        },
        "id": "9f7a72db",
        "outputId": "ddaa6613-2e65-46a5-bf26-85bcff9cac11"
      },
      "source": [
        "scaler = RobustScaler()\n",
        "train = scaler.fit_transform(train)\n",
        "test = scaler.transform(test)\n",
        "\n",
        "train = train.reshape(-1, 80, train.shape[-1])\n",
        "test = test.reshape(-1, 80, train.shape[-1])\n",
        "\n",
        "print(f\"train: {train.shape} \\ntest: {test.shape} \\ntargets: {targets.shape}\")"
      ],
      "id": "9f7a72db",
      "execution_count": 10,
      "outputs": [
        {
          "output_type": "stream",
          "name": "stdout",
          "text": [
            "train: (75450, 80, 53) \n",
            "test: (50300, 80, 53) \n",
            "targets: (75450, 80)\n"
          ]
        }
      ]
    },
    {
      "cell_type": "markdown",
      "metadata": {
        "papermill": {
          "duration": 0.019944,
          "end_time": "2021-10-03T16:37:45.736964",
          "exception": false,
          "start_time": "2021-10-03T16:37:45.717020",
          "status": "completed"
        },
        "tags": [],
        "id": "3a71b457"
      },
      "source": [
        "## Hardware config"
      ],
      "id": "3a71b457"
    },
    {
      "cell_type": "code",
      "metadata": {
        "execution": {
          "iopub.execute_input": "2021-10-03T16:37:45.857492Z",
          "iopub.status.busy": "2021-10-03T16:37:45.854084Z",
          "iopub.status.idle": "2021-10-03T16:37:51.466511Z",
          "shell.execute_reply": "2021-10-03T16:37:51.467112Z",
          "shell.execute_reply.started": "2021-10-03T09:38:40.302931Z"
        },
        "papermill": {
          "duration": 5.709861,
          "end_time": "2021-10-03T16:37:51.467277",
          "exception": false,
          "start_time": "2021-10-03T16:37:45.757416",
          "status": "completed"
        },
        "tags": [],
        "colab": {
          "base_uri": "https://localhost:8080/"
        },
        "id": "c8cc9f2a",
        "outputId": "f8e81f6b-2e8c-42fc-fa55-58a14fe97ebd"
      },
      "source": [
        "try:\n",
        "    tpu = tf.distribute.cluster_resolver.TPUClusterResolver()\n",
        "    tf.config.experimental_connect_to_cluster(tpu)\n",
        "    tf.tpu.experimental.initialize_tpu_system(tpu)\n",
        "    tpu_strategy = tf.distribute.experimental.TPUStrategy(tpu)\n",
        "    BATCH_SIZE = tpu_strategy.num_replicas_in_sync * 64\n",
        "    print(\"Running on TPU:\", tpu.master())\n",
        "    print(f\"Batch Size: {BATCH_SIZE}\")\n",
        "    \n",
        "except ValueError:\n",
        "    strategy = tf.distribute.get_strategy()\n",
        "    BATCH_SIZE = 512\n",
        "    print(f\"Running on {strategy.num_replicas_in_sync} replicas\")\n",
        "    print(f\"Batch Size: {BATCH_SIZE}\")"
      ],
      "id": "c8cc9f2a",
      "execution_count": 11,
      "outputs": [
        {
          "output_type": "stream",
          "name": "stdout",
          "text": [
            "INFO:tensorflow:Clearing out eager caches\n"
          ]
        },
        {
          "output_type": "stream",
          "name": "stderr",
          "text": [
            "INFO:tensorflow:Clearing out eager caches\n"
          ]
        },
        {
          "output_type": "stream",
          "name": "stdout",
          "text": [
            "INFO:tensorflow:Initializing the TPU system: grpc://10.99.111.218:8470\n"
          ]
        },
        {
          "output_type": "stream",
          "name": "stderr",
          "text": [
            "INFO:tensorflow:Initializing the TPU system: grpc://10.99.111.218:8470\n"
          ]
        },
        {
          "output_type": "stream",
          "name": "stdout",
          "text": [
            "INFO:tensorflow:Finished initializing TPU system.\n"
          ]
        },
        {
          "output_type": "stream",
          "name": "stderr",
          "text": [
            "INFO:tensorflow:Finished initializing TPU system.\n",
            "WARNING:absl:`tf.distribute.experimental.TPUStrategy` is deprecated, please use  the non experimental symbol `tf.distribute.TPUStrategy` instead.\n"
          ]
        },
        {
          "output_type": "stream",
          "name": "stdout",
          "text": [
            "INFO:tensorflow:Found TPU system:\n"
          ]
        },
        {
          "output_type": "stream",
          "name": "stderr",
          "text": [
            "INFO:tensorflow:Found TPU system:\n"
          ]
        },
        {
          "output_type": "stream",
          "name": "stdout",
          "text": [
            "INFO:tensorflow:*** Num TPU Cores: 8\n"
          ]
        },
        {
          "output_type": "stream",
          "name": "stderr",
          "text": [
            "INFO:tensorflow:*** Num TPU Cores: 8\n"
          ]
        },
        {
          "output_type": "stream",
          "name": "stdout",
          "text": [
            "INFO:tensorflow:*** Num TPU Workers: 1\n"
          ]
        },
        {
          "output_type": "stream",
          "name": "stderr",
          "text": [
            "INFO:tensorflow:*** Num TPU Workers: 1\n"
          ]
        },
        {
          "output_type": "stream",
          "name": "stdout",
          "text": [
            "INFO:tensorflow:*** Num TPU Cores Per Worker: 8\n"
          ]
        },
        {
          "output_type": "stream",
          "name": "stderr",
          "text": [
            "INFO:tensorflow:*** Num TPU Cores Per Worker: 8\n"
          ]
        },
        {
          "output_type": "stream",
          "name": "stdout",
          "text": [
            "INFO:tensorflow:*** Available Device: _DeviceAttributes(/job:localhost/replica:0/task:0/device:CPU:0, CPU, 0, 0)\n"
          ]
        },
        {
          "output_type": "stream",
          "name": "stderr",
          "text": [
            "INFO:tensorflow:*** Available Device: _DeviceAttributes(/job:localhost/replica:0/task:0/device:CPU:0, CPU, 0, 0)\n"
          ]
        },
        {
          "output_type": "stream",
          "name": "stdout",
          "text": [
            "INFO:tensorflow:*** Available Device: _DeviceAttributes(/job:worker/replica:0/task:0/device:CPU:0, CPU, 0, 0)\n"
          ]
        },
        {
          "output_type": "stream",
          "name": "stderr",
          "text": [
            "INFO:tensorflow:*** Available Device: _DeviceAttributes(/job:worker/replica:0/task:0/device:CPU:0, CPU, 0, 0)\n"
          ]
        },
        {
          "output_type": "stream",
          "name": "stdout",
          "text": [
            "INFO:tensorflow:*** Available Device: _DeviceAttributes(/job:worker/replica:0/task:0/device:TPU:0, TPU, 0, 0)\n"
          ]
        },
        {
          "output_type": "stream",
          "name": "stderr",
          "text": [
            "INFO:tensorflow:*** Available Device: _DeviceAttributes(/job:worker/replica:0/task:0/device:TPU:0, TPU, 0, 0)\n"
          ]
        },
        {
          "output_type": "stream",
          "name": "stdout",
          "text": [
            "INFO:tensorflow:*** Available Device: _DeviceAttributes(/job:worker/replica:0/task:0/device:TPU:1, TPU, 0, 0)\n"
          ]
        },
        {
          "output_type": "stream",
          "name": "stderr",
          "text": [
            "INFO:tensorflow:*** Available Device: _DeviceAttributes(/job:worker/replica:0/task:0/device:TPU:1, TPU, 0, 0)\n"
          ]
        },
        {
          "output_type": "stream",
          "name": "stdout",
          "text": [
            "INFO:tensorflow:*** Available Device: _DeviceAttributes(/job:worker/replica:0/task:0/device:TPU:2, TPU, 0, 0)\n"
          ]
        },
        {
          "output_type": "stream",
          "name": "stderr",
          "text": [
            "INFO:tensorflow:*** Available Device: _DeviceAttributes(/job:worker/replica:0/task:0/device:TPU:2, TPU, 0, 0)\n"
          ]
        },
        {
          "output_type": "stream",
          "name": "stdout",
          "text": [
            "INFO:tensorflow:*** Available Device: _DeviceAttributes(/job:worker/replica:0/task:0/device:TPU:3, TPU, 0, 0)\n"
          ]
        },
        {
          "output_type": "stream",
          "name": "stderr",
          "text": [
            "INFO:tensorflow:*** Available Device: _DeviceAttributes(/job:worker/replica:0/task:0/device:TPU:3, TPU, 0, 0)\n"
          ]
        },
        {
          "output_type": "stream",
          "name": "stdout",
          "text": [
            "INFO:tensorflow:*** Available Device: _DeviceAttributes(/job:worker/replica:0/task:0/device:TPU:4, TPU, 0, 0)\n"
          ]
        },
        {
          "output_type": "stream",
          "name": "stderr",
          "text": [
            "INFO:tensorflow:*** Available Device: _DeviceAttributes(/job:worker/replica:0/task:0/device:TPU:4, TPU, 0, 0)\n"
          ]
        },
        {
          "output_type": "stream",
          "name": "stdout",
          "text": [
            "INFO:tensorflow:*** Available Device: _DeviceAttributes(/job:worker/replica:0/task:0/device:TPU:5, TPU, 0, 0)\n"
          ]
        },
        {
          "output_type": "stream",
          "name": "stderr",
          "text": [
            "INFO:tensorflow:*** Available Device: _DeviceAttributes(/job:worker/replica:0/task:0/device:TPU:5, TPU, 0, 0)\n"
          ]
        },
        {
          "output_type": "stream",
          "name": "stdout",
          "text": [
            "INFO:tensorflow:*** Available Device: _DeviceAttributes(/job:worker/replica:0/task:0/device:TPU:6, TPU, 0, 0)\n"
          ]
        },
        {
          "output_type": "stream",
          "name": "stderr",
          "text": [
            "INFO:tensorflow:*** Available Device: _DeviceAttributes(/job:worker/replica:0/task:0/device:TPU:6, TPU, 0, 0)\n"
          ]
        },
        {
          "output_type": "stream",
          "name": "stdout",
          "text": [
            "INFO:tensorflow:*** Available Device: _DeviceAttributes(/job:worker/replica:0/task:0/device:TPU:7, TPU, 0, 0)\n"
          ]
        },
        {
          "output_type": "stream",
          "name": "stderr",
          "text": [
            "INFO:tensorflow:*** Available Device: _DeviceAttributes(/job:worker/replica:0/task:0/device:TPU:7, TPU, 0, 0)\n"
          ]
        },
        {
          "output_type": "stream",
          "name": "stdout",
          "text": [
            "INFO:tensorflow:*** Available Device: _DeviceAttributes(/job:worker/replica:0/task:0/device:TPU_SYSTEM:0, TPU_SYSTEM, 0, 0)\n"
          ]
        },
        {
          "output_type": "stream",
          "name": "stderr",
          "text": [
            "INFO:tensorflow:*** Available Device: _DeviceAttributes(/job:worker/replica:0/task:0/device:TPU_SYSTEM:0, TPU_SYSTEM, 0, 0)\n"
          ]
        },
        {
          "output_type": "stream",
          "name": "stdout",
          "text": [
            "INFO:tensorflow:*** Available Device: _DeviceAttributes(/job:worker/replica:0/task:0/device:XLA_CPU:0, XLA_CPU, 0, 0)\n"
          ]
        },
        {
          "output_type": "stream",
          "name": "stderr",
          "text": [
            "INFO:tensorflow:*** Available Device: _DeviceAttributes(/job:worker/replica:0/task:0/device:XLA_CPU:0, XLA_CPU, 0, 0)\n"
          ]
        },
        {
          "output_type": "stream",
          "name": "stdout",
          "text": [
            "Running on TPU: grpc://10.99.111.218:8470\n",
            "Batch Size: 512\n"
          ]
        }
      ]
    },
    {
      "cell_type": "markdown",
      "metadata": {
        "papermill": {
          "duration": 0.020991,
          "end_time": "2021-10-03T16:37:51.509503",
          "exception": false,
          "start_time": "2021-10-03T16:37:51.488512",
          "status": "completed"
        },
        "tags": [],
        "id": "4c784edf"
      },
      "source": [
        "## Keras DNN Model"
      ],
      "id": "4c784edf"
    },
    {
      "cell_type": "code",
      "metadata": {
        "execution": {
          "iopub.execute_input": "2021-10-03T16:37:51.556526Z",
          "iopub.status.busy": "2021-10-03T16:37:51.555521Z",
          "iopub.status.idle": "2021-10-03T16:37:51.565212Z",
          "shell.execute_reply": "2021-10-03T16:37:51.565710Z",
          "shell.execute_reply.started": "2021-10-03T10:27:35.320185Z"
        },
        "papermill": {
          "duration": 0.035141,
          "end_time": "2021-10-03T16:37:51.565881",
          "exception": false,
          "start_time": "2021-10-03T16:37:51.530740",
          "status": "completed"
        },
        "tags": [],
        "id": "6f78a191"
      },
      "source": [
        "def dnn_model():\n",
        "    \n",
        "    x_input = Input(shape=(train.shape[-2:]))\n",
        "    \n",
        "    x1 = Bidirectional(LSTM(units=768, return_sequences=True))(x_input)\n",
        "    x2 = Bidirectional(LSTM(units=512, return_sequences=True))(x1)\n",
        "    x3 = Bidirectional(LSTM(units=256, return_sequences=True))(x2)\n",
        "    x4 = Bidirectional(LSTM(units=128, return_sequences=True))(x3)\n",
        "    \n",
        "    z2 = Bidirectional(GRU(units=256, return_sequences=True))(x2)\n",
        "    z3 = Bidirectional(GRU(units=128, return_sequences=True))(Add()([x3, z2]))\n",
        "    z4 = Bidirectional(GRU(units=64, return_sequences=True))(Add()([x4, z3]))\n",
        "    \n",
        "    x = Concatenate(axis=2)([x4, z2, z3, z4])\n",
        "    \n",
        "    x = Dense(units=128, activation='selu')(x)\n",
        "    \n",
        "    x_output = Dense(units=1)(x)\n",
        "\n",
        "    model = Model(inputs=x_input, outputs=x_output, \n",
        "                  name='DNN_Model')\n",
        "    return model"
      ],
      "id": "6f78a191",
      "execution_count": 12,
      "outputs": []
    },
    {
      "cell_type": "code",
      "metadata": {
        "execution": {
          "iopub.execute_input": "2021-10-03T16:37:51.613956Z",
          "iopub.status.busy": "2021-10-03T16:37:51.613019Z",
          "iopub.status.idle": "2021-10-03T16:37:56.123964Z",
          "shell.execute_reply": "2021-10-03T16:37:56.124492Z",
          "shell.execute_reply.started": "2021-10-03T10:27:36.385248Z"
        },
        "papermill": {
          "duration": 4.537471,
          "end_time": "2021-10-03T16:37:56.124664",
          "exception": false,
          "start_time": "2021-10-03T16:37:51.587193",
          "status": "completed"
        },
        "tags": [],
        "colab": {
          "base_uri": "https://localhost:8080/"
        },
        "id": "f84d4434",
        "outputId": "b6560112-b103-4154-8a4d-59d4f9beacd6"
      },
      "source": [
        "model = dnn_model()\n",
        "model.summary()"
      ],
      "id": "f84d4434",
      "execution_count": 13,
      "outputs": [
        {
          "output_type": "stream",
          "name": "stdout",
          "text": [
            "Model: \"DNN_Model\"\n",
            "__________________________________________________________________________________________________\n",
            "Layer (type)                    Output Shape         Param #     Connected to                     \n",
            "==================================================================================================\n",
            "input_1 (InputLayer)            [(None, 80, 53)]     0                                            \n",
            "__________________________________________________________________________________________________\n",
            "bidirectional (Bidirectional)   (None, 80, 1536)     5050368     input_1[0][0]                    \n",
            "__________________________________________________________________________________________________\n",
            "bidirectional_1 (Bidirectional) (None, 80, 1024)     8392704     bidirectional[0][0]              \n",
            "__________________________________________________________________________________________________\n",
            "bidirectional_2 (Bidirectional) (None, 80, 512)      2623488     bidirectional_1[0][0]            \n",
            "__________________________________________________________________________________________________\n",
            "bidirectional_4 (Bidirectional) (None, 80, 512)      1969152     bidirectional_1[0][0]            \n",
            "__________________________________________________________________________________________________\n",
            "add (Add)                       (None, 80, 512)      0           bidirectional_2[0][0]            \n",
            "                                                                 bidirectional_4[0][0]            \n",
            "__________________________________________________________________________________________________\n",
            "bidirectional_3 (Bidirectional) (None, 80, 256)      656384      bidirectional_2[0][0]            \n",
            "__________________________________________________________________________________________________\n",
            "bidirectional_5 (Bidirectional) (None, 80, 256)      493056      add[0][0]                        \n",
            "__________________________________________________________________________________________________\n",
            "add_1 (Add)                     (None, 80, 256)      0           bidirectional_3[0][0]            \n",
            "                                                                 bidirectional_5[0][0]            \n",
            "__________________________________________________________________________________________________\n",
            "bidirectional_6 (Bidirectional) (None, 80, 128)      123648      add_1[0][0]                      \n",
            "__________________________________________________________________________________________________\n",
            "concatenate (Concatenate)       (None, 80, 1152)     0           bidirectional_3[0][0]            \n",
            "                                                                 bidirectional_4[0][0]            \n",
            "                                                                 bidirectional_5[0][0]            \n",
            "                                                                 bidirectional_6[0][0]            \n",
            "__________________________________________________________________________________________________\n",
            "dense (Dense)                   (None, 80, 128)      147584      concatenate[0][0]                \n",
            "__________________________________________________________________________________________________\n",
            "dense_1 (Dense)                 (None, 80, 1)        129         dense[0][0]                      \n",
            "==================================================================================================\n",
            "Total params: 19,456,513\n",
            "Trainable params: 19,456,513\n",
            "Non-trainable params: 0\n",
            "__________________________________________________________________________________________________\n"
          ]
        }
      ]
    },
    {
      "cell_type": "code",
      "metadata": {
        "execution": {
          "iopub.execute_input": "2021-10-03T16:37:56.173930Z",
          "iopub.status.busy": "2021-10-03T16:37:56.173113Z",
          "iopub.status.idle": "2021-10-03T16:37:57.324750Z",
          "shell.execute_reply": "2021-10-03T16:37:57.325252Z",
          "shell.execute_reply.started": "2021-10-03T10:27:42.398372Z"
        },
        "papermill": {
          "duration": 1.178776,
          "end_time": "2021-10-03T16:37:57.325457",
          "exception": false,
          "start_time": "2021-10-03T16:37:56.146681",
          "status": "completed"
        },
        "tags": [],
        "colab": {
          "base_uri": "https://localhost:8080/",
          "height": 1000
        },
        "id": "79877848",
        "outputId": "f5d6b550-3156-4a8c-ff54-7a4d9c852374"
      },
      "source": [
        "plot_model(\n",
        "    model, \n",
        "    to_file='Google_Brain_Keras_Model.png', \n",
        "    show_shapes=True,\n",
        "    show_layer_names=True\n",
        ")"
      ],
      "id": "79877848",
      "execution_count": 14,
      "outputs": [
        {
          "output_type": "execute_result",
          "data": {
            "image/png": "[encoded data removed]",
            "text/plain": [
              "<IPython.core.display.Image object>"
            ]
          },
          "metadata": {},
          "execution_count": 14
        }
      ]
    },
    {
      "cell_type": "code",
      "metadata": {
        "execution": {
          "iopub.execute_input": "2021-10-03T16:37:57.387996Z",
          "iopub.status.busy": "2021-10-03T16:37:57.387228Z",
          "iopub.status.idle": "2021-10-03T20:34:43.398105Z",
          "shell.execute_reply": "2021-10-03T20:34:43.399295Z",
          "shell.execute_reply.started": "2021-10-03T10:28:04.293866Z"
        },
        "papermill": {
          "duration": 14206.049495,
          "end_time": "2021-10-03T20:34:43.401267",
          "exception": false,
          "start_time": "2021-10-03T16:37:57.351772",
          "status": "completed"
        },
        "tags": [],
        "colab": {
          "base_uri": "https://localhost:8080/",
          "height": 1000
        },
        "id": "33e58e5e",
        "outputId": "c143fd5e-b91b-4dec-97a4-5acfcf583b08"
      },
      "source": [
        "with tpu_strategy.scope():\n",
        "    \n",
        "    VERBOSE = 1\n",
        "    test_preds = []\n",
        "    train_preds = []\n",
        "    kf = KFold(n_splits=5, shuffle=True, random_state=2021)\n",
        "    \n",
        "    for fold, (train_idx, test_idx) in enumerate(kf.split(train, targets)):\n",
        "        X_train, X_valid = train[train_idx], train[test_idx]\n",
        "        y_train, y_valid = targets[train_idx], targets[test_idx]\n",
        "        \n",
        "        model = dnn_model()\n",
        "        model.compile(optimizer=\"adam\", loss=\"mae\")\n",
        "\n",
        "        lr = ReduceLROnPlateau(monitor=\"val_loss\", factor=0.75, \n",
        "                               patience=10, verbose=VERBOSE)\n",
        "        \n",
        "        save_locally = tf.saved_model.SaveOptions(experimental_io_device='/job:localhost')\n",
        "        checkpoint_name = f'./Bidirect_LSTM_model_{fold+1}C.h5'\n",
        "        chk_point = ModelCheckpoint(checkpoint_name, options=save_locally, \n",
        "                                    monitor='val_loss', verbose=VERBOSE, \n",
        "                                    save_best_only=True, mode='min')\n",
        "\n",
        "        es = EarlyStopping(monitor=\"val_loss\", patience=50, \n",
        "                           verbose=VERBOSE, mode=\"min\", \n",
        "                           restore_best_weights=True)\n",
        "        \n",
        "        model.fit(X_train, y_train, \n",
        "                  validation_data=(X_valid, y_valid), \n",
        "                  epochs=300,\n",
        "                  verbose=VERBOSE,\n",
        "                  batch_size=BATCH_SIZE, \n",
        "                  callbacks=[lr, chk_point, es])\n",
        "        \n",
        "        load_locally = tf.saved_model.LoadOptions(experimental_io_device='/job:localhost')\n",
        "        model = load_model(checkpoint_name, options=load_locally)\n",
        "        with open('/gdrive/MyDrive/ventilator-pressure-prediction/'+checkpoint_name, 'wb') as f:\n",
        "          f.write(open(checkpoint_name, 'rb').read())\n",
        "        \n",
        "        y_true = y_valid.squeeze().reshape(-1, 1)\n",
        "        y_pred = model.predict(X_valid, batch_size=BATCH_SIZE).squeeze().reshape(-1, 1)\n",
        "        score = mean_absolute_error(y_true, y_pred)\n",
        "        print(f\"Fold-{fold+1} | OOF Score: {score}\")\n",
        "        \n",
        "        test_preds.append(model.predict(test, batch_size=BATCH_SIZE).squeeze().reshape(-1, 1).squeeze())\n",
        "        train_preds.append(model.predict(train, batch_size=BATCH_SIZE).squeeze().reshape(-1, 1).squeeze())"
      ],
      "id": "33e58e5e",
      "execution_count": 16,
      "outputs": [
        {
          "output_type": "stream",
          "name": "stdout",
          "text": [
            "Epoch 1/300\n",
            "118/118 [==============================] - 140s 818ms/step - loss: 1.6704 - val_loss: 0.7598\n",
            "\n",
            "Epoch 00001: val_loss improved from inf to 0.75979, saving model to ./Bidirect_LSTM_model_1C.h5\n"
          ]
        },
        {
          "output_type": "stream",
          "name": "stderr",
          "text": [
            "/usr/local/lib/python3.7/dist-packages/keras/utils/generic_utils.py:497: CustomMaskWarning: Custom mask layers require a config and must override get_config. When loading, the custom mask layer must be passed to the custom_objects argument.\n",
            "  category=CustomMaskWarning)\n"
          ]
        },
        {
          "output_type": "stream",
          "name": "stdout",
          "text": [
            "Epoch 2/300\n",
            "118/118 [==============================] - 57s 485ms/step - loss: 0.6860 - val_loss: 0.6186\n",
            "\n",
            "Epoch 00002: val_loss improved from 0.75979 to 0.61860, saving model to ./Bidirect_LSTM_model_1C.h5\n",
            "Epoch 3/300\n",
            "118/118 [==============================] - 57s 485ms/step - loss: 0.5673 - val_loss: 0.6173\n",
            "\n",
            "Epoch 00003: val_loss improved from 0.61860 to 0.61734, saving model to ./Bidirect_LSTM_model_1C.h5\n",
            "Epoch 4/300\n",
            "118/118 [==============================] - 57s 485ms/step - loss: 0.5079 - val_loss: 0.4738\n",
            "\n",
            "Epoch 00004: val_loss improved from 0.61734 to 0.47382, saving model to ./Bidirect_LSTM_model_1C.h5\n",
            "Epoch 5/300\n",
            "118/118 [==============================] - 57s 485ms/step - loss: 0.4802 - val_loss: 0.4335\n",
            "\n",
            "Epoch 00005: val_loss improved from 0.47382 to 0.43348, saving model to ./Bidirect_LSTM_model_1C.h5\n",
            "Epoch 6/300\n",
            "118/118 [==============================] - 57s 486ms/step - loss: 0.4235 - val_loss: 0.3987\n",
            "\n",
            "Epoch 00006: val_loss improved from 0.43348 to 0.39872, saving model to ./Bidirect_LSTM_model_1C.h5\n",
            "Epoch 7/300\n",
            "118/118 [==============================] - 57s 486ms/step - loss: 0.4218 - val_loss: 0.3896\n",
            "\n",
            "Epoch 00007: val_loss improved from 0.39872 to 0.38959, saving model to ./Bidirect_LSTM_model_1C.h5\n",
            "Epoch 8/300\n",
            "118/118 [==============================] - 57s 486ms/step - loss: 0.3856 - val_loss: 0.3892\n",
            "\n",
            "Epoch 00008: val_loss improved from 0.38959 to 0.38925, saving model to ./Bidirect_LSTM_model_1C.h5\n",
            "Epoch 9/300\n",
            "118/118 [==============================] - 57s 485ms/step - loss: 0.3752 - val_loss: 0.3989\n",
            "\n",
            "Epoch 00009: val_loss did not improve from 0.38925\n",
            "Epoch 10/300\n",
            "118/118 [==============================] - 57s 486ms/step - loss: 0.3572 - val_loss: 0.3401\n",
            "\n",
            "Epoch 00010: val_loss improved from 0.38925 to 0.34008, saving model to ./Bidirect_LSTM_model_1C.h5\n",
            "Epoch 11/300\n",
            "118/118 [==============================] - 57s 486ms/step - loss: 0.3510 - val_loss: 0.3603\n",
            "\n",
            "Epoch 00011: val_loss did not improve from 0.34008\n",
            "Epoch 12/300\n",
            "118/118 [==============================] - 57s 486ms/step - loss: 0.3345 - val_loss: 0.3413\n",
            "\n",
            "Epoch 00012: val_loss did not improve from 0.34008\n",
            "Epoch 13/300\n",
            "118/118 [==============================] - 57s 486ms/step - loss: 0.3230 - val_loss: 0.3037\n",
            "\n",
            "Epoch 00013: val_loss improved from 0.34008 to 0.30375, saving model to ./Bidirect_LSTM_model_1C.h5\n",
            "Epoch 14/300\n",
            "118/118 [==============================] - 57s 485ms/step - loss: 0.3218 - val_loss: 0.3543\n",
            "\n",
            "Epoch 00014: val_loss did not improve from 0.30375\n",
            "Epoch 15/300\n",
            "118/118 [==============================] - 57s 486ms/step - loss: 0.3023 - val_loss: 0.3455\n",
            "\n",
            "Epoch 00015: val_loss did not improve from 0.30375\n",
            "Epoch 16/300\n",
            "118/118 [==============================] - 57s 486ms/step - loss: 0.3024 - val_loss: 0.3263\n",
            "\n",
            "Epoch 00016: val_loss did not improve from 0.30375\n",
            "Epoch 17/300\n",
            "118/118 [==============================] - 57s 486ms/step - loss: 0.2960 - val_loss: 0.2778\n",
            "\n",
            "Epoch 00017: val_loss improved from 0.30375 to 0.27779, saving model to ./Bidirect_LSTM_model_1C.h5\n",
            "Epoch 18/300\n",
            "118/118 [==============================] - 57s 486ms/step - loss: 0.2867 - val_loss: 0.2848\n",
            "\n",
            "Epoch 00018: val_loss did not improve from 0.27779\n",
            "Epoch 19/300\n",
            "118/118 [==============================] - 57s 486ms/step - loss: 0.2840 - val_loss: 0.2907\n",
            "\n",
            "Epoch 00019: val_loss did not improve from 0.27779\n",
            "Epoch 20/300\n",
            "118/118 [==============================] - 57s 485ms/step - loss: 0.2717 - val_loss: 0.2597\n",
            "\n",
            "Epoch 00020: val_loss improved from 0.27779 to 0.25966, saving model to ./Bidirect_LSTM_model_1C.h5\n",
            "Epoch 21/300\n",
            "118/118 [==============================] - 57s 485ms/step - loss: 0.2620 - val_loss: 0.2726\n",
            "\n",
            "Epoch 00021: val_loss did not improve from 0.25966\n",
            "Epoch 22/300\n",
            "118/118 [==============================] - 57s 486ms/step - loss: 0.2865 - val_loss: 0.2793\n",
            "\n",
            "Epoch 00022: val_loss did not improve from 0.25966\n",
            "Epoch 23/300\n",
            "118/118 [==============================] - 57s 486ms/step - loss: 0.2682 - val_loss: 0.2645\n",
            "\n",
            "Epoch 00023: val_loss did not improve from 0.25966\n",
            "Epoch 24/300\n",
            "118/118 [==============================] - 57s 486ms/step - loss: 0.2642 - val_loss: 0.2596\n",
            "\n",
            "Epoch 00024: val_loss improved from 0.25966 to 0.25957, saving model to ./Bidirect_LSTM_model_1C.h5\n",
            "Epoch 25/300\n",
            "118/118 [==============================] - 57s 486ms/step - loss: 0.2551 - val_loss: 0.2596\n",
            "\n",
            "Epoch 00025: val_loss did not improve from 0.25957\n",
            "Epoch 26/300\n",
            "118/118 [==============================] - 57s 486ms/step - loss: 0.2450 - val_loss: 0.2639\n",
            "\n",
            "Epoch 00026: val_loss did not improve from 0.25957\n",
            "Epoch 27/300\n",
            "118/118 [==============================] - 57s 486ms/step - loss: 0.2451 - val_loss: 0.2681\n",
            "\n",
            "Epoch 00027: val_loss did not improve from 0.25957\n",
            "Epoch 28/300\n",
            "118/118 [==============================] - 57s 486ms/step - loss: 0.2500 - val_loss: 0.2666\n",
            "\n",
            "Epoch 00028: val_loss did not improve from 0.25957\n",
            "Epoch 29/300\n",
            "118/118 [==============================] - 57s 486ms/step - loss: 0.2988 - val_loss: 0.2775\n",
            "\n",
            "Epoch 00029: val_loss did not improve from 0.25957\n",
            "Epoch 30/300\n",
            "118/118 [==============================] - 57s 486ms/step - loss: 0.2484 - val_loss: 0.2461\n",
            "\n",
            "Epoch 00030: val_loss improved from 0.25957 to 0.24613, saving model to ./Bidirect_LSTM_model_1C.h5\n",
            "Epoch 31/300\n",
            "118/118 [==============================] - 57s 486ms/step - loss: 0.2379 - val_loss: 0.2689\n",
            "\n",
            "Epoch 00031: val_loss did not improve from 0.24613\n",
            "Epoch 32/300\n",
            "118/118 [==============================] - 57s 486ms/step - loss: 0.2398 - val_loss: 0.2372\n",
            "\n",
            "Epoch 00032: val_loss improved from 0.24613 to 0.23718, saving model to ./Bidirect_LSTM_model_1C.h5\n",
            "Epoch 33/300\n",
            "118/118 [==============================] - 57s 486ms/step - loss: 0.2367 - val_loss: 0.2413\n",
            "\n",
            "Epoch 00033: val_loss did not improve from 0.23718\n",
            "Epoch 34/300\n",
            "118/118 [==============================] - 57s 486ms/step - loss: 0.2364 - val_loss: 0.2464\n",
            "\n",
            "Epoch 00034: val_loss did not improve from 0.23718\n",
            "Epoch 35/300\n",
            "118/118 [==============================] - 57s 486ms/step - loss: 0.2337 - val_loss: 0.2380\n",
            "\n",
            "Epoch 00035: val_loss did not improve from 0.23718\n",
            "Epoch 36/300\n",
            "118/118 [==============================] - 57s 486ms/step - loss: 0.2329 - val_loss: 0.2854\n",
            "\n",
            "Epoch 00036: val_loss did not improve from 0.23718\n",
            "Epoch 37/300\n",
            "118/118 [==============================] - 57s 486ms/step - loss: 0.2379 - val_loss: 0.2430\n",
            "\n",
            "Epoch 00037: val_loss did not improve from 0.23718\n",
            "Epoch 38/300\n",
            "118/118 [==============================] - 57s 485ms/step - loss: 0.2208 - val_loss: 0.2384\n",
            "\n",
            "Epoch 00038: val_loss did not improve from 0.23718\n",
            "Epoch 39/300\n",
            "118/118 [==============================] - 57s 486ms/step - loss: 0.2221 - val_loss: 0.2307\n",
            "\n",
            "Epoch 00039: val_loss improved from 0.23718 to 0.23072, saving model to ./Bidirect_LSTM_model_1C.h5\n",
            "Epoch 40/300\n",
            "118/118 [==============================] - 58s 492ms/step - loss: 0.2285 - val_loss: 0.2368\n",
            "\n",
            "Epoch 00040: val_loss did not improve from 0.23072\n",
            "Epoch 41/300\n",
            "118/118 [==============================] - 57s 486ms/step - loss: 0.2162 - val_loss: 0.2348\n",
            "\n",
            "Epoch 00041: val_loss did not improve from 0.23072\n",
            "Epoch 42/300\n",
            "118/118 [==============================] - 57s 486ms/step - loss: 0.2174 - val_loss: 0.2346\n",
            "\n",
            "Epoch 00042: val_loss did not improve from 0.23072\n",
            "Epoch 43/300\n",
            "118/118 [==============================] - 57s 486ms/step - loss: 0.2222 - val_loss: 0.2364\n",
            "\n",
            "Epoch 00043: val_loss did not improve from 0.23072\n",
            "Epoch 44/300\n",
            "118/118 [==============================] - 57s 485ms/step - loss: 0.2124 - val_loss: 0.2318\n",
            "\n",
            "Epoch 00044: val_loss did not improve from 0.23072\n",
            "Epoch 45/300\n",
            "118/118 [==============================] - 57s 486ms/step - loss: 0.2050 - val_loss: 0.2146\n",
            "\n",
            "Epoch 00045: val_loss improved from 0.23072 to 0.21457, saving model to ./Bidirect_LSTM_model_1C.h5\n",
            "Epoch 46/300\n",
            "118/118 [==============================] - 57s 486ms/step - loss: 0.2063 - val_loss: 0.2183\n",
            "\n",
            "Epoch 00046: val_loss did not improve from 0.21457\n",
            "Epoch 47/300\n",
            "118/118 [==============================] - 57s 486ms/step - loss: 0.1977 - val_loss: 0.2129\n",
            "\n",
            "Epoch 00047: val_loss improved from 0.21457 to 0.21287, saving model to ./Bidirect_LSTM_model_1C.h5\n",
            "Epoch 48/300\n",
            "118/118 [==============================] - 57s 486ms/step - loss: 0.2069 - val_loss: 0.2191\n",
            "\n",
            "Epoch 00048: val_loss did not improve from 0.21287\n",
            "Epoch 49/300\n",
            "118/118 [==============================] - 57s 486ms/step - loss: 0.1953 - val_loss: 0.2107\n",
            "\n",
            "Epoch 00049: val_loss improved from 0.21287 to 0.21066, saving model to ./Bidirect_LSTM_model_1C.h5\n",
            "Epoch 50/300\n",
            "118/118 [==============================] - 57s 486ms/step - loss: 0.1950 - val_loss: 0.2338\n",
            "\n",
            "Epoch 00050: val_loss did not improve from 0.21066\n",
            "Epoch 51/300\n",
            "118/118 [==============================] - 57s 486ms/step - loss: 0.2041 - val_loss: 0.2500\n",
            "\n",
            "Epoch 00051: val_loss did not improve from 0.21066\n",
            "Epoch 52/300\n",
            "118/118 [==============================] - 57s 486ms/step - loss: 0.2076 - val_loss: 0.2184\n",
            "\n",
            "Epoch 00052: val_loss did not improve from 0.21066\n",
            "Epoch 53/300\n",
            "118/118 [==============================] - 57s 486ms/step - loss: 0.2041 - val_loss: 0.2150\n",
            "\n",
            "Epoch 00053: val_loss did not improve from 0.21066\n",
            "Epoch 54/300\n",
            "118/118 [==============================] - 57s 485ms/step - loss: 0.2311 - val_loss: 0.2655\n",
            "\n",
            "Epoch 00054: val_loss did not improve from 0.21066\n",
            "Epoch 55/300\n",
            "118/118 [==============================] - 57s 486ms/step - loss: 0.2350 - val_loss: 0.2246\n",
            "\n",
            "Epoch 00055: val_loss did not improve from 0.21066\n",
            "Epoch 56/300\n",
            "118/118 [==============================] - 57s 486ms/step - loss: 0.2179 - val_loss: 0.2289\n",
            "\n",
            "Epoch 00056: val_loss did not improve from 0.21066\n",
            "Epoch 57/300\n",
            "118/118 [==============================] - 57s 485ms/step - loss: 0.1964 - val_loss: 0.2055\n",
            "\n",
            "Epoch 00057: val_loss improved from 0.21066 to 0.20554, saving model to ./Bidirect_LSTM_model_1C.h5\n",
            "Epoch 58/300\n",
            "118/118 [==============================] - 57s 486ms/step - loss: 0.1914 - val_loss: 0.2078\n",
            "\n",
            "Epoch 00058: val_loss did not improve from 0.20554\n",
            "Epoch 59/300\n",
            "118/118 [==============================] - 57s 486ms/step - loss: 0.1944 - val_loss: 0.2360\n",
            "\n",
            "Epoch 00059: val_loss did not improve from 0.20554\n",
            "Epoch 60/300\n",
            "118/118 [==============================] - 57s 486ms/step - loss: 0.1945 - val_loss: 0.2044\n",
            "\n",
            "Epoch 00060: val_loss improved from 0.20554 to 0.20438, saving model to ./Bidirect_LSTM_model_1C.h5\n",
            "Epoch 61/300\n",
            "118/118 [==============================] - 57s 486ms/step - loss: 0.1920 - val_loss: 0.2269\n",
            "\n",
            "Epoch 00061: val_loss did not improve from 0.20438\n",
            "Epoch 62/300\n",
            "118/118 [==============================] - 57s 486ms/step - loss: 0.1837 - val_loss: 0.1982\n",
            "\n",
            "Epoch 00062: val_loss improved from 0.20438 to 0.19820, saving model to ./Bidirect_LSTM_model_1C.h5\n",
            "Epoch 63/300\n",
            "118/118 [==============================] - 57s 486ms/step - loss: 0.1891 - val_loss: 0.2027\n",
            "\n",
            "Epoch 00063: val_loss did not improve from 0.19820\n",
            "Epoch 64/300\n",
            "118/118 [==============================] - 57s 486ms/step - loss: 0.1778 - val_loss: 0.1942\n",
            "\n",
            "Epoch 00064: val_loss improved from 0.19820 to 0.19415, saving model to ./Bidirect_LSTM_model_1C.h5\n",
            "Epoch 65/300\n",
            "118/118 [==============================] - 57s 485ms/step - loss: 0.1918 - val_loss: 0.2181\n",
            "\n",
            "Epoch 00065: val_loss did not improve from 0.19415\n",
            "Epoch 66/300\n",
            "118/118 [==============================] - 57s 486ms/step - loss: 0.1866 - val_loss: 0.2102\n",
            "\n",
            "Epoch 00066: val_loss did not improve from 0.19415\n",
            "Epoch 67/300\n",
            "118/118 [==============================] - 57s 486ms/step - loss: 0.1901 - val_loss: 0.2058\n",
            "\n",
            "Epoch 00067: val_loss did not improve from 0.19415\n",
            "Epoch 68/300\n",
            "118/118 [==============================] - 57s 486ms/step - loss: 0.1786 - val_loss: 0.1961\n",
            "\n",
            "Epoch 00068: val_loss did not improve from 0.19415\n",
            "Epoch 69/300\n",
            "118/118 [==============================] - 57s 486ms/step - loss: 0.1727 - val_loss: 0.2014\n",
            "\n",
            "Epoch 00069: val_loss did not improve from 0.19415\n",
            "Epoch 70/300\n",
            "118/118 [==============================] - 57s 486ms/step - loss: 0.1794 - val_loss: 0.2005\n",
            "\n",
            "Epoch 00070: val_loss did not improve from 0.19415\n",
            "Epoch 71/300\n",
            "118/118 [==============================] - 57s 486ms/step - loss: 0.1694 - val_loss: 0.2049\n",
            "\n",
            "Epoch 00071: val_loss did not improve from 0.19415\n",
            "Epoch 72/300\n",
            "118/118 [==============================] - 57s 486ms/step - loss: 0.1953 - val_loss: 0.2015\n",
            "\n",
            "Epoch 00072: val_loss did not improve from 0.19415\n",
            "Epoch 73/300\n",
            "118/118 [==============================] - 57s 486ms/step - loss: 0.1869 - val_loss: 0.2045\n",
            "\n",
            "Epoch 00073: val_loss did not improve from 0.19415\n",
            "Epoch 74/300\n",
            "118/118 [==============================] - 57s 486ms/step - loss: 0.1801 - val_loss: 0.2040\n",
            "\n",
            "Epoch 00074: ReduceLROnPlateau reducing learning rate to 0.0007500000356230885.\n",
            "\n",
            "Epoch 00074: val_loss did not improve from 0.19415\n",
            "Epoch 75/300\n",
            "118/118 [==============================] - 57s 486ms/step - loss: 0.1652 - val_loss: 0.1823\n",
            "\n",
            "Epoch 00075: val_loss improved from 0.19415 to 0.18234, saving model to ./Bidirect_LSTM_model_1C.h5\n",
            "Epoch 76/300\n",
            "118/118 [==============================] - 57s 486ms/step - loss: 0.1519 - val_loss: 0.1830\n",
            "\n",
            "Epoch 00076: val_loss did not improve from 0.18234\n",
            "Epoch 77/300\n",
            "118/118 [==============================] - 57s 486ms/step - loss: 0.1509 - val_loss: 0.1847\n",
            "\n",
            "Epoch 00077: val_loss did not improve from 0.18234\n",
            "Epoch 78/300\n",
            "118/118 [==============================] - 57s 486ms/step - loss: 0.1476 - val_loss: 0.1784\n",
            "\n",
            "Epoch 00078: val_loss improved from 0.18234 to 0.17841, saving model to ./Bidirect_LSTM_model_1C.h5\n",
            "Epoch 79/300\n",
            "118/118 [==============================] - 57s 486ms/step - loss: 0.1510 - val_loss: 0.1874\n",
            "\n",
            "Epoch 00079: val_loss did not improve from 0.17841\n",
            "Epoch 80/300\n",
            "118/118 [==============================] - 57s 486ms/step - loss: 0.1627 - val_loss: 0.1889\n",
            "\n",
            "Epoch 00080: val_loss did not improve from 0.17841\n",
            "Epoch 81/300\n",
            "118/118 [==============================] - 57s 485ms/step - loss: 0.1516 - val_loss: 0.1888\n",
            "\n",
            "Epoch 00081: val_loss did not improve from 0.17841\n",
            "Epoch 82/300\n",
            "118/118 [==============================] - 57s 486ms/step - loss: 0.1497 - val_loss: 0.1841\n",
            "\n",
            "Epoch 00082: val_loss did not improve from 0.17841\n",
            "Epoch 83/300\n",
            "118/118 [==============================] - 57s 486ms/step - loss: 0.1449 - val_loss: 0.1803\n",
            "\n",
            "Epoch 00083: val_loss did not improve from 0.17841\n",
            "Epoch 84/300\n",
            "118/118 [==============================] - 57s 486ms/step - loss: 0.1462 - val_loss: 0.1962\n",
            "\n",
            "Epoch 00084: val_loss did not improve from 0.17841\n",
            "Epoch 85/300\n",
            "118/118 [==============================] - 57s 486ms/step - loss: 0.1435 - val_loss: 0.1802\n",
            "\n",
            "Epoch 00085: val_loss did not improve from 0.17841\n",
            "Epoch 86/300\n",
            "118/118 [==============================] - 57s 486ms/step - loss: 0.1427 - val_loss: 0.1973\n",
            "\n",
            "Epoch 00086: val_loss did not improve from 0.17841\n",
            "Epoch 87/300\n",
            "118/118 [==============================] - 57s 486ms/step - loss: 0.1443 - val_loss: 0.1810\n",
            "\n",
            "Epoch 00087: val_loss did not improve from 0.17841\n",
            "Epoch 88/300\n",
            "118/118 [==============================] - 57s 486ms/step - loss: 0.1370 - val_loss: 0.1758\n",
            "\n",
            "Epoch 00088: val_loss improved from 0.17841 to 0.17576, saving model to ./Bidirect_LSTM_model_1C.h5\n",
            "Epoch 89/300\n",
            "118/118 [==============================] - 57s 486ms/step - loss: 0.1372 - val_loss: 0.1779\n",
            "\n",
            "Epoch 00089: val_loss did not improve from 0.17576\n",
            "Epoch 90/300\n",
            "118/118 [==============================] - 57s 486ms/step - loss: 0.1423 - val_loss: 0.1975\n",
            "\n",
            "Epoch 00090: val_loss did not improve from 0.17576\n",
            "Epoch 91/300\n",
            "118/118 [==============================] - 57s 486ms/step - loss: 0.1471 - val_loss: 0.1809\n",
            "\n",
            "Epoch 00091: val_loss did not improve from 0.17576\n",
            "Epoch 92/300\n",
            "118/118 [==============================] - 57s 486ms/step - loss: 0.1712 - val_loss: 0.1963\n",
            "\n",
            "Epoch 00092: val_loss did not improve from 0.17576\n",
            "Epoch 93/300\n",
            "118/118 [==============================] - 57s 486ms/step - loss: 0.1502 - val_loss: 0.1825\n",
            "\n",
            "Epoch 00093: val_loss did not improve from 0.17576\n",
            "Epoch 94/300\n",
            "118/118 [==============================] - 57s 486ms/step - loss: 0.1427 - val_loss: 0.1802\n",
            "\n",
            "Epoch 00094: val_loss did not improve from 0.17576\n",
            "Epoch 95/300\n",
            "118/118 [==============================] - 57s 486ms/step - loss: 0.1468 - val_loss: 0.1844\n",
            "\n",
            "Epoch 00095: val_loss did not improve from 0.17576\n",
            "Epoch 96/300\n",
            "118/118 [==============================] - 57s 486ms/step - loss: 0.1407 - val_loss: 0.1889\n",
            "\n",
            "Epoch 00096: val_loss did not improve from 0.17576\n",
            "Epoch 97/300\n",
            "118/118 [==============================] - 57s 485ms/step - loss: 0.1439 - val_loss: 0.1858\n",
            "\n",
            "Epoch 00097: val_loss did not improve from 0.17576\n",
            "Epoch 98/300\n",
            "118/118 [==============================] - 57s 486ms/step - loss: 0.1381 - val_loss: 0.1786\n",
            "\n",
            "Epoch 00098: ReduceLROnPlateau reducing learning rate to 0.0005625000048894435.\n",
            "\n",
            "Epoch 00098: val_loss did not improve from 0.17576\n",
            "Epoch 99/300\n",
            "118/118 [==============================] - 57s 486ms/step - loss: 0.1289 - val_loss: 0.1758\n",
            "\n",
            "Epoch 00099: val_loss did not improve from 0.17576\n",
            "Epoch 100/300\n",
            "118/118 [==============================] - 57s 486ms/step - loss: 0.1248 - val_loss: 0.1719\n",
            "\n",
            "Epoch 00100: val_loss improved from 0.17576 to 0.17191, saving model to ./Bidirect_LSTM_model_1C.h5\n",
            "Epoch 101/300\n",
            "118/118 [==============================] - 57s 486ms/step - loss: 0.1298 - val_loss: 0.1761\n",
            "\n",
            "Epoch 00101: val_loss did not improve from 0.17191\n",
            "Epoch 102/300\n",
            "118/118 [==============================] - 57s 485ms/step - loss: 0.1235 - val_loss: 0.1806\n",
            "\n",
            "Epoch 00102: val_loss did not improve from 0.17191\n",
            "Epoch 103/300\n",
            "118/118 [==============================] - 57s 486ms/step - loss: 0.1238 - val_loss: 0.1750\n",
            "\n",
            "Epoch 00103: val_loss did not improve from 0.17191\n",
            "Epoch 104/300\n",
            "118/118 [==============================] - 57s 486ms/step - loss: 0.1181 - val_loss: 0.1750\n",
            "\n",
            "Epoch 00104: val_loss did not improve from 0.17191\n",
            "Epoch 105/300\n",
            "118/118 [==============================] - 57s 485ms/step - loss: 0.1162 - val_loss: 0.1691\n",
            "\n",
            "Epoch 00105: val_loss improved from 0.17191 to 0.16911, saving model to ./Bidirect_LSTM_model_1C.h5\n",
            "Epoch 106/300\n",
            "118/118 [==============================] - 57s 486ms/step - loss: 0.1135 - val_loss: 0.1695\n",
            "\n",
            "Epoch 00106: val_loss did not improve from 0.16911\n",
            "Epoch 107/300\n",
            "118/118 [==============================] - 57s 485ms/step - loss: 0.1133 - val_loss: 0.1698\n",
            "\n",
            "Epoch 00107: val_loss did not improve from 0.16911\n",
            "Epoch 108/300\n",
            "118/118 [==============================] - 57s 486ms/step - loss: 0.1114 - val_loss: 0.1709\n",
            "\n",
            "Epoch 00108: val_loss did not improve from 0.16911\n",
            "Epoch 109/300\n",
            "118/118 [==============================] - 57s 486ms/step - loss: 0.1107 - val_loss: 0.1695\n",
            "\n",
            "Epoch 00109: val_loss did not improve from 0.16911\n",
            "Epoch 110/300\n",
            "118/118 [==============================] - 57s 485ms/step - loss: 0.1095 - val_loss: 0.1697\n",
            "\n",
            "Epoch 00110: val_loss did not improve from 0.16911\n",
            "Epoch 111/300\n",
            "118/118 [==============================] - 57s 486ms/step - loss: 0.1099 - val_loss: 0.1709\n",
            "\n",
            "Epoch 00111: val_loss did not improve from 0.16911\n",
            "Epoch 112/300\n",
            "118/118 [==============================] - 57s 485ms/step - loss: 0.1087 - val_loss: 0.1690\n",
            "\n",
            "Epoch 00112: val_loss improved from 0.16911 to 0.16902, saving model to ./Bidirect_LSTM_model_1C.h5\n",
            "Epoch 113/300\n",
            "118/118 [==============================] - 57s 486ms/step - loss: 0.1098 - val_loss: 0.1759\n",
            "\n",
            "Epoch 00113: val_loss did not improve from 0.16902\n",
            "Epoch 114/300\n",
            "118/118 [==============================] - 57s 486ms/step - loss: 0.1083 - val_loss: 0.1728\n",
            "\n",
            "Epoch 00114: val_loss did not improve from 0.16902\n",
            "Epoch 115/300\n",
            "118/118 [==============================] - 57s 486ms/step - loss: 0.1078 - val_loss: 0.1770\n",
            "\n",
            "Epoch 00115: ReduceLROnPlateau reducing learning rate to 0.0004218749818392098.\n",
            "\n",
            "Epoch 00115: val_loss did not improve from 0.16902\n",
            "Epoch 116/300\n",
            "118/118 [==============================] - 57s 486ms/step - loss: 0.1060 - val_loss: 0.1691\n",
            "\n",
            "Epoch 00116: val_loss did not improve from 0.16902\n",
            "Epoch 117/300\n",
            "118/118 [==============================] - 57s 486ms/step - loss: 0.0992 - val_loss: 0.1691\n",
            "\n",
            "Epoch 00117: val_loss did not improve from 0.16902\n",
            "Epoch 118/300\n",
            "118/118 [==============================] - 57s 486ms/step - loss: 0.0977 - val_loss: 0.1676\n",
            "\n",
            "Epoch 00118: val_loss improved from 0.16902 to 0.16760, saving model to ./Bidirect_LSTM_model_1C.h5\n",
            "Epoch 119/300\n",
            "118/118 [==============================] - 57s 486ms/step - loss: 0.0972 - val_loss: 0.1681\n",
            "\n",
            "Epoch 00119: val_loss did not improve from 0.16760\n",
            "Epoch 120/300\n",
            "118/118 [==============================] - 57s 486ms/step - loss: 0.0974 - val_loss: 0.1682\n",
            "\n",
            "Epoch 00120: val_loss did not improve from 0.16760\n",
            "Epoch 121/300\n",
            "118/118 [==============================] - 57s 485ms/step - loss: 0.0969 - val_loss: 0.1684\n",
            "\n",
            "Epoch 00121: val_loss did not improve from 0.16760\n",
            "Epoch 122/300\n",
            "118/118 [==============================] - 57s 486ms/step - loss: 0.0953 - val_loss: 0.1678\n",
            "\n",
            "Epoch 00122: val_loss did not improve from 0.16760\n",
            "Epoch 123/300\n",
            "118/118 [==============================] - 57s 486ms/step - loss: 0.0942 - val_loss: 0.1675\n",
            "\n",
            "Epoch 00123: val_loss improved from 0.16760 to 0.16753, saving model to ./Bidirect_LSTM_model_1C.h5\n",
            "Epoch 124/300\n",
            "118/118 [==============================] - 58s 494ms/step - loss: 0.0931 - val_loss: 0.1682\n",
            "\n",
            "Epoch 00124: val_loss did not improve from 0.16753\n",
            "Epoch 125/300\n",
            "118/118 [==============================] - 57s 486ms/step - loss: 0.0934 - val_loss: 0.1688\n",
            "\n",
            "Epoch 00125: val_loss did not improve from 0.16753\n",
            "Epoch 126/300\n",
            "118/118 [==============================] - 57s 486ms/step - loss: 0.0932 - val_loss: 0.1687\n",
            "\n",
            "Epoch 00126: val_loss did not improve from 0.16753\n",
            "Epoch 127/300\n",
            "118/118 [==============================] - 57s 486ms/step - loss: 0.0918 - val_loss: 0.1686\n",
            "\n",
            "Epoch 00127: val_loss did not improve from 0.16753\n",
            "Epoch 128/300\n",
            "118/118 [==============================] - 57s 486ms/step - loss: 0.0908 - val_loss: 0.1695\n",
            "\n",
            "Epoch 00128: ReduceLROnPlateau reducing learning rate to 0.00031640623637940735.\n",
            "\n",
            "Epoch 00128: val_loss did not improve from 0.16753\n",
            "Epoch 129/300\n",
            "118/118 [==============================] - 57s 486ms/step - loss: 0.0866 - val_loss: 0.1676\n",
            "\n",
            "Epoch 00129: val_loss did not improve from 0.16753\n",
            "Epoch 130/300\n",
            "118/118 [==============================] - 57s 486ms/step - loss: 0.0840 - val_loss: 0.1682\n",
            "\n",
            "Epoch 00130: val_loss did not improve from 0.16753\n",
            "Epoch 131/300\n",
            "118/118 [==============================] - 57s 486ms/step - loss: 0.0832 - val_loss: 0.1685\n",
            "\n",
            "Epoch 00131: val_loss did not improve from 0.16753\n",
            "Epoch 132/300\n",
            "118/118 [==============================] - 57s 486ms/step - loss: 0.0834 - val_loss: 0.1679\n",
            "\n",
            "Epoch 00132: val_loss did not improve from 0.16753\n",
            "Epoch 133/300\n",
            "118/118 [==============================] - 57s 486ms/step - loss: 0.0819 - val_loss: 0.1684\n",
            "\n",
            "Epoch 00133: val_loss did not improve from 0.16753\n",
            "Epoch 134/300\n",
            "118/118 [==============================] - 57s 486ms/step - loss: 0.0818 - val_loss: 0.1689\n",
            "\n",
            "Epoch 00134: val_loss did not improve from 0.16753\n",
            "Epoch 135/300\n",
            "118/118 [==============================] - 57s 486ms/step - loss: 0.0819 - val_loss: 0.1699\n",
            "\n",
            "Epoch 00135: val_loss did not improve from 0.16753\n",
            "Epoch 136/300\n",
            "118/118 [==============================] - 57s 486ms/step - loss: 0.0820 - val_loss: 0.1696\n",
            "\n",
            "Epoch 00136: val_loss did not improve from 0.16753\n",
            "Epoch 137/300\n",
            "118/118 [==============================] - 57s 486ms/step - loss: 0.0816 - val_loss: 0.1683\n",
            "\n",
            "Epoch 00137: val_loss did not improve from 0.16753\n",
            "Epoch 138/300\n",
            "118/118 [==============================] - 57s 485ms/step - loss: 0.0796 - val_loss: 0.1691\n",
            "\n",
            "Epoch 00138: ReduceLROnPlateau reducing learning rate to 0.00023730468819849193.\n",
            "\n",
            "Epoch 00138: val_loss did not improve from 0.16753\n",
            "Epoch 139/300\n",
            "118/118 [==============================] - 57s 486ms/step - loss: 0.0761 - val_loss: 0.1691\n",
            "\n",
            "Epoch 00139: val_loss did not improve from 0.16753\n",
            "Epoch 140/300\n",
            "118/118 [==============================] - 57s 486ms/step - loss: 0.0744 - val_loss: 0.1684\n",
            "\n",
            "Epoch 00140: val_loss did not improve from 0.16753\n",
            "Epoch 141/300\n",
            "118/118 [==============================] - 57s 486ms/step - loss: 0.0735 - val_loss: 0.1679\n",
            "\n",
            "Epoch 00141: val_loss did not improve from 0.16753\n",
            "Epoch 142/300\n",
            "118/118 [==============================] - 57s 486ms/step - loss: 0.0730 - val_loss: 0.1684\n",
            "\n",
            "Epoch 00142: val_loss did not improve from 0.16753\n",
            "Epoch 143/300\n",
            "118/118 [==============================] - 57s 486ms/step - loss: 0.0728 - val_loss: 0.1684\n",
            "\n",
            "Epoch 00143: val_loss did not improve from 0.16753\n",
            "Epoch 144/300\n",
            "118/118 [==============================] - 57s 486ms/step - loss: 0.0724 - val_loss: 0.1688\n",
            "\n",
            "Epoch 00144: val_loss did not improve from 0.16753\n",
            "Epoch 145/300\n",
            "118/118 [==============================] - 57s 486ms/step - loss: 0.0726 - val_loss: 0.1686\n",
            "\n",
            "Epoch 00145: val_loss did not improve from 0.16753\n",
            "Epoch 146/300\n",
            "118/118 [==============================] - 57s 486ms/step - loss: 0.0715 - val_loss: 0.1688\n",
            "\n",
            "Epoch 00146: val_loss did not improve from 0.16753\n",
            "Epoch 147/300\n",
            "118/118 [==============================] - 57s 487ms/step - loss: 0.0710 - val_loss: 0.1688\n",
            "\n",
            "Epoch 00147: val_loss did not improve from 0.16753\n",
            "Epoch 148/300\n",
            "118/118 [==============================] - 57s 486ms/step - loss: 0.0712 - val_loss: 0.1687\n",
            "\n",
            "Epoch 00148: ReduceLROnPlateau reducing learning rate to 0.00017797851614886895.\n",
            "\n",
            "Epoch 00148: val_loss did not improve from 0.16753\n",
            "Epoch 149/300\n",
            "118/118 [==============================] - 57s 486ms/step - loss: 0.0680 - val_loss: 0.1684\n",
            "\n",
            "Epoch 00149: val_loss did not improve from 0.16753\n",
            "Epoch 150/300\n",
            "118/118 [==============================] - 57s 486ms/step - loss: 0.0666 - val_loss: 0.1683\n",
            "\n",
            "Epoch 00150: val_loss did not improve from 0.16753\n",
            "Epoch 151/300\n",
            "118/118 [==============================] - 57s 486ms/step - loss: 0.0661 - val_loss: 0.1685\n",
            "\n",
            "Epoch 00151: val_loss did not improve from 0.16753\n",
            "Epoch 152/300\n",
            "118/118 [==============================] - 57s 486ms/step - loss: 0.0658 - val_loss: 0.1687\n",
            "\n",
            "Epoch 00152: val_loss did not improve from 0.16753\n",
            "Epoch 153/300\n",
            "118/118 [==============================] - 57s 486ms/step - loss: 0.0653 - val_loss: 0.1691\n",
            "\n",
            "Epoch 00153: val_loss did not improve from 0.16753\n",
            "Epoch 154/300\n",
            "118/118 [==============================] - 57s 486ms/step - loss: 0.0650 - val_loss: 0.1695\n",
            "\n",
            "Epoch 00154: val_loss did not improve from 0.16753\n",
            "Epoch 155/300\n",
            "118/118 [==============================] - 57s 486ms/step - loss: 0.0651 - val_loss: 0.1691\n",
            "\n",
            "Epoch 00155: val_loss did not improve from 0.16753\n",
            "Epoch 156/300\n",
            "118/118 [==============================] - 57s 486ms/step - loss: 0.0646 - val_loss: 0.1693\n",
            "\n",
            "Epoch 00156: val_loss did not improve from 0.16753\n",
            "Epoch 157/300\n",
            "118/118 [==============================] - 57s 485ms/step - loss: 0.0645 - val_loss: 0.1695\n",
            "\n",
            "Epoch 00157: val_loss did not improve from 0.16753\n",
            "Epoch 158/300\n",
            "118/118 [==============================] - 57s 486ms/step - loss: 0.0642 - val_loss: 0.1698\n",
            "\n",
            "Epoch 00158: ReduceLROnPlateau reducing learning rate to 0.0001334838816546835.\n",
            "\n",
            "Epoch 00158: val_loss did not improve from 0.16753\n",
            "Epoch 159/300\n",
            "118/118 [==============================] - 57s 485ms/step - loss: 0.0623 - val_loss: 0.1690\n",
            "\n",
            "Epoch 00159: val_loss did not improve from 0.16753\n",
            "Epoch 160/300\n",
            "118/118 [==============================] - 57s 485ms/step - loss: 0.0610 - val_loss: 0.1694\n",
            "\n",
            "Epoch 00160: val_loss did not improve from 0.16753\n",
            "Epoch 161/300\n",
            "118/118 [==============================] - 57s 486ms/step - loss: 0.0608 - val_loss: 0.1691\n",
            "\n",
            "Epoch 00161: val_loss did not improve from 0.16753\n",
            "Epoch 162/300\n",
            "118/118 [==============================] - 57s 486ms/step - loss: 0.0601 - val_loss: 0.1695\n",
            "\n",
            "Epoch 00162: val_loss did not improve from 0.16753\n",
            "Epoch 163/300\n",
            "118/118 [==============================] - 57s 486ms/step - loss: 0.0601 - val_loss: 0.1695\n",
            "\n",
            "Epoch 00163: val_loss did not improve from 0.16753\n",
            "Epoch 164/300\n",
            "118/118 [==============================] - 57s 486ms/step - loss: 0.0596 - val_loss: 0.1696\n",
            "\n",
            "Epoch 00164: val_loss did not improve from 0.16753\n",
            "Epoch 165/300\n",
            "118/118 [==============================] - 57s 486ms/step - loss: 0.0595 - val_loss: 0.1697\n",
            "\n",
            "Epoch 00165: val_loss did not improve from 0.16753\n",
            "Epoch 166/300\n",
            "118/118 [==============================] - 57s 486ms/step - loss: 0.0594 - val_loss: 0.1700\n",
            "\n",
            "Epoch 00166: val_loss did not improve from 0.16753\n",
            "Epoch 167/300\n",
            "118/118 [==============================] - 57s 486ms/step - loss: 0.0591 - val_loss: 0.1700\n",
            "\n",
            "Epoch 00167: val_loss did not improve from 0.16753\n",
            "Epoch 168/300\n",
            "118/118 [==============================] - 57s 486ms/step - loss: 0.0591 - val_loss: 0.1698\n",
            "\n",
            "Epoch 00168: ReduceLROnPlateau reducing learning rate to 0.00010011290578404441.\n",
            "\n",
            "Epoch 00168: val_loss did not improve from 0.16753\n",
            "Epoch 169/300\n",
            "118/118 [==============================] - 57s 486ms/step - loss: 0.0575 - val_loss: 0.1700\n",
            "\n",
            "Epoch 00169: val_loss did not improve from 0.16753\n",
            "Epoch 170/300\n",
            "118/118 [==============================] - 57s 486ms/step - loss: 0.0565 - val_loss: 0.1700\n",
            "\n",
            "Epoch 00170: val_loss did not improve from 0.16753\n",
            "Epoch 171/300\n",
            "118/118 [==============================] - 57s 486ms/step - loss: 0.0562 - val_loss: 0.1699\n",
            "\n",
            "Epoch 00171: val_loss did not improve from 0.16753\n",
            "Epoch 172/300\n",
            "118/118 [==============================] - 57s 486ms/step - loss: 0.0560 - val_loss: 0.1703\n",
            "\n",
            "Epoch 00172: val_loss did not improve from 0.16753\n",
            "Epoch 173/300\n",
            "118/118 [==============================] - 57s 486ms/step - loss: 0.0558 - val_loss: 0.1701\n",
            "\n",
            "Epoch 00173: val_loss did not improve from 0.16753\n",
            "Restoring model weights from the end of the best epoch.\n",
            "Epoch 00173: early stopping\n"
          ]
        },
        {
          "output_type": "error",
          "ename": "NameError",
          "evalue": "ignored",
          "traceback": [
            "\u001b[0;31m---------------------------------------------------------------------------\u001b[0m",
            "\u001b[0;31mNameError\u001b[0m                                 Traceback (most recent call last)",
            "\u001b[0;32m<ipython-input-16-0b9be6c6926f>\u001b[0m in \u001b[0;36m<module>\u001b[0;34m()\u001b[0m\n\u001b[1;32m     36\u001b[0m         \u001b[0mmodel\u001b[0m \u001b[0;34m=\u001b[0m \u001b[0mload_model\u001b[0m\u001b[0;34m(\u001b[0m\u001b[0mcheckpoint_name\u001b[0m\u001b[0;34m,\u001b[0m \u001b[0moptions\u001b[0m\u001b[0;34m=\u001b[0m\u001b[0mload_locally\u001b[0m\u001b[0;34m)\u001b[0m\u001b[0;34m\u001b[0m\u001b[0;34m\u001b[0m\u001b[0m\n\u001b[1;32m     37\u001b[0m         \u001b[0;32mwith\u001b[0m \u001b[0mopen\u001b[0m\u001b[0;34m(\u001b[0m\u001b[0;34m'/gdrive/MyDrive/ventilator-pressure-prediction/'\u001b[0m\u001b[0;34m+\u001b[0m\u001b[0mcheckpoint_name\u001b[0m\u001b[0;34m,\u001b[0m \u001b[0;34m'wb'\u001b[0m\u001b[0;34m)\u001b[0m \u001b[0;32mas\u001b[0m \u001b[0mf\u001b[0m\u001b[0;34m:\u001b[0m\u001b[0;34m\u001b[0m\u001b[0;34m\u001b[0m\u001b[0m\n\u001b[0;32m---> 38\u001b[0;31m           \u001b[0mf\u001b[0m\u001b[0;34m.\u001b[0m\u001b[0mwrite\u001b[0m\u001b[0;34m(\u001b[0m\u001b[0mopen\u001b[0m\u001b[0;34m(\u001b[0m\u001b[0mcheckpoint_filepath\u001b[0m\u001b[0;34m,\u001b[0m \u001b[0;34m'rb'\u001b[0m\u001b[0;34m)\u001b[0m\u001b[0;34m.\u001b[0m\u001b[0mread\u001b[0m\u001b[0;34m(\u001b[0m\u001b[0;34m)\u001b[0m\u001b[0;34m)\u001b[0m\u001b[0;34m\u001b[0m\u001b[0;34m\u001b[0m\u001b[0m\n\u001b[0m\u001b[1;32m     39\u001b[0m \u001b[0;34m\u001b[0m\u001b[0m\n\u001b[1;32m     40\u001b[0m         \u001b[0my_true\u001b[0m \u001b[0;34m=\u001b[0m \u001b[0my_valid\u001b[0m\u001b[0;34m.\u001b[0m\u001b[0msqueeze\u001b[0m\u001b[0;34m(\u001b[0m\u001b[0;34m)\u001b[0m\u001b[0;34m.\u001b[0m\u001b[0mreshape\u001b[0m\u001b[0;34m(\u001b[0m\u001b[0;34m-\u001b[0m\u001b[0;36m1\u001b[0m\u001b[0;34m,\u001b[0m \u001b[0;36m1\u001b[0m\u001b[0;34m)\u001b[0m\u001b[0;34m\u001b[0m\u001b[0;34m\u001b[0m\u001b[0m\n",
            "\u001b[0;31mNameError\u001b[0m: name 'checkpoint_filepath' is not defined"
          ]
        }
      ]
    },
    {
      "cell_type": "markdown",
      "metadata": {
        "papermill": {
          "duration": 0.029297,
          "end_time": "2021-10-03T20:34:43.460558",
          "exception": false,
          "start_time": "2021-10-03T20:34:43.431261",
          "status": "completed"
        },
        "tags": [],
        "id": "cab26ba6"
      },
      "source": [
        "## Create submission file"
      ],
      "id": "cab26ba6"
    },
    {
      "cell_type": "code",
      "metadata": {
        "execution": {
          "iopub.execute_input": "2021-10-03T20:34:43.529768Z",
          "iopub.status.busy": "2021-10-03T20:34:43.528891Z",
          "iopub.status.idle": "2021-10-03T20:34:56.713767Z",
          "shell.execute_reply": "2021-10-03T20:34:56.712877Z"
        },
        "papermill": {
          "duration": 13.223046,
          "end_time": "2021-10-03T20:34:56.713920",
          "exception": false,
          "start_time": "2021-10-03T20:34:43.490874",
          "status": "completed"
        },
        "tags": [],
        "id": "f84c3a4d"
      },
      "source": [
        "submission = pd.read_csv('/kaggle/input/ventilator-pressure-prediction/sample_submission.csv')\n",
        "submission[\"pressure\"] = sum(test_preds)/5\n",
        "submission.to_csv('submission.csv', index=False)"
      ],
      "id": "f84c3a4d",
      "execution_count": null,
      "outputs": []
    },
    {
      "cell_type": "code",
      "metadata": {
        "papermill": {
          "duration": 0.028936,
          "end_time": "2021-10-03T20:34:56.772233",
          "exception": false,
          "start_time": "2021-10-03T20:34:56.743297",
          "status": "completed"
        },
        "tags": [],
        "id": "108561ed"
      },
      "source": [
        "submission[\"pressure\"] = sum(train_preds)/5\n",
        "submission.to_csv('submission_train.csv', index=False)"
      ],
      "id": "108561ed",
      "execution_count": null,
      "outputs": []
    },
    {
      "cell_type": "code",
      "metadata": {
        "id": "5-fvHJvyZ2ZL"
      },
      "source": [
        "!zip cnn_models.zip *.hdf5\n",
        "!zip submission.zip *.csv"
      ],
      "id": "5-fvHJvyZ2ZL",
      "execution_count": null,
      "outputs": []
    },
    {
      "cell_type": "code",
      "metadata": {
        "id": "GUzQFzu_Z6N1"
      },
      "source": [
        "with open('/gdrive/MyDrive/ventilator-pressure-prediction/submission.zip', 'wb') as f:\n",
        "  f.write(open('submission.zip', 'rb').read())\n",
        "\n",
        "with open('/gdrive/MyDrive/ventilator-pressure-prediction/cnn_models.zip', 'wb') as f:\n",
        "  f.write(open('cnn_models.zip', 'rb').read())"
      ],
      "id": "GUzQFzu_Z6N1",
      "execution_count": null,
      "outputs": []
    },
    {
      "cell_type": "code",
      "metadata": {
        "id": "OCFYpXtxbGXO"
      },
      "source": [
        ""
      ],
      "id": "OCFYpXtxbGXO",
      "execution_count": null,
      "outputs": []
    }
  ]
}