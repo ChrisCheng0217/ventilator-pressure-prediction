{
  "nbformat": 4,
  "nbformat_minor": 0,
  "metadata": {
    "kernelspec": {
      "language": "python",
      "display_name": "Python 3",
      "name": "python3"
    },
    "language_info": {
      "name": "python",
      "version": "3.7.10",
      "mimetype": "text/x-python",
      "codemirror_mode": {
        "name": "ipython",
        "version": 3
      },
      "pygments_lexer": "ipython3",
      "nbconvert_exporter": "python",
      "file_extension": ".py"
    },
    "colab": {
      "name": "ventilator-gb-rescaling-eda-V3.ipynb",
      "provenance": [],
      "collapsed_sections": [],
      "machine_shape": "hm",
      "include_colab_link": true
    },
    "accelerator": "TPU"
  },
  "cells": [
    {
      "cell_type": "markdown",
      "metadata": {
        "id": "view-in-github",
        "colab_type": "text"
      },
      "source": [
        "<a href=\"https://colab.research.google.com/github/bobbercheng/ventilator-pressure-prediction/blob/master/ventilator_gb_rescaling_eda_V3.ipynb\" target=\"_parent\"><img src=\"https://colab.research.google.com/assets/colab-badge.svg\" alt=\"Open In Colab\"/></a>"
      ]
    },
    {
      "cell_type": "markdown",
      "metadata": {
        "id": "Yh6Zg50KJQBQ"
      },
      "source": [
        "V1: Keep R/C, improve\n",
        "\n",
        "V2: Add R**2, no improve\n",
        "\n",
        "V3: Update model from https://www.kaggle.com/dlaststark/gb-vpp-pulp-fiction. Not much improve compare V1\n",
        "\n",
        "V4\n"
      ]
    },
    {
      "cell_type": "code",
      "metadata": {
        "id": "uslq2jL49nGk"
      },
      "source": [
        "# Update pandas version for Colab TPU\n",
        "#!pip install pandas==1.3.2"
      ],
      "execution_count": 1,
      "outputs": []
    },
    {
      "cell_type": "markdown",
      "metadata": {
        "id": "RBJlpUNI9com"
      },
      "source": [
        "## Import libraries"
      ]
    },
    {
      "cell_type": "code",
      "metadata": {
        "id": "iXzLriPA9coq"
      },
      "source": [
        "try:\n",
        "  import google.colab\n",
        "  IN_COLAB = True\n",
        "except:\n",
        "  IN_COLAB = False"
      ],
      "execution_count": 2,
      "outputs": []
    },
    {
      "cell_type": "code",
      "metadata": {
        "colab": {
          "base_uri": "https://localhost:8080/"
        },
        "id": "9esF__aG9cor",
        "outputId": "647ea1f3-8a6f-4b7f-c91c-68efe897b103"
      },
      "source": [
        "if IN_COLAB:\n",
        "  from google.colab import drive\n",
        "  drive.mount(\"/gdrive\", force_remount=True)"
      ],
      "execution_count": 3,
      "outputs": [
        {
          "output_type": "stream",
          "name": "stdout",
          "text": [
            "Mounted at /gdrive\n"
          ]
        }
      ]
    },
    {
      "cell_type": "code",
      "metadata": {
        "colab": {
          "base_uri": "https://localhost:8080/"
        },
        "id": "MZ_f3Z2M9cos",
        "outputId": "c41275df-9d39-4471-f53a-ec8ab739c25b"
      },
      "source": [
        "if IN_COLAB:\n",
        "  !pip install kaggle\n",
        "  !mkdir /root/.kaggle\n",
        "  !cp /gdrive/MyDrive/ventilator-pressure-prediction/kaggle.json /root/.kaggle\n",
        "  !kaggle competitions download -c ventilator-pressure-prediction\n",
        "  !mkdir -p ../input/ventilator-pressure-prediction\n",
        "  !unzip '*.zip' -d ../input/ventilator-pressure-prediction\n",
        "  !ls ../input/ventilator-pressure-prediction"
      ],
      "execution_count": 4,
      "outputs": [
        {
          "output_type": "stream",
          "name": "stdout",
          "text": [
            "Requirement already satisfied: kaggle in /usr/local/lib/python3.7/dist-packages (1.5.12)\n",
            "Requirement already satisfied: python-slugify in /usr/local/lib/python3.7/dist-packages (from kaggle) (5.0.2)\n",
            "Requirement already satisfied: six>=1.10 in /usr/local/lib/python3.7/dist-packages (from kaggle) (1.15.0)\n",
            "Requirement already satisfied: certifi in /usr/local/lib/python3.7/dist-packages (from kaggle) (2021.5.30)\n",
            "Requirement already satisfied: python-dateutil in /usr/local/lib/python3.7/dist-packages (from kaggle) (2.8.2)\n",
            "Requirement already satisfied: requests in /usr/local/lib/python3.7/dist-packages (from kaggle) (2.23.0)\n",
            "Requirement already satisfied: tqdm in /usr/local/lib/python3.7/dist-packages (from kaggle) (4.62.3)\n",
            "Requirement already satisfied: urllib3 in /usr/local/lib/python3.7/dist-packages (from kaggle) (1.24.3)\n",
            "Requirement already satisfied: text-unidecode>=1.3 in /usr/local/lib/python3.7/dist-packages (from python-slugify->kaggle) (1.3)\n",
            "Requirement already satisfied: idna<3,>=2.5 in /usr/local/lib/python3.7/dist-packages (from requests->kaggle) (2.10)\n",
            "Requirement already satisfied: chardet<4,>=3.0.2 in /usr/local/lib/python3.7/dist-packages (from requests->kaggle) (3.0.4)\n",
            "mkdir: cannot create directory ‘/root/.kaggle’: File exists\n",
            "Warning: Looks like you're using an outdated API Version, please consider updating (server 1.5.12 / client 1.5.4)\n",
            "train.csv.zip: Skipping, found more recently modified local copy (use --force to force download)\n",
            "test.csv.zip: Skipping, found more recently modified local copy (use --force to force download)\n",
            "sample_submission.csv.zip: Skipping, found more recently modified local copy (use --force to force download)\n",
            "Archive:  train.csv.zip\n",
            "replace ../input/ventilator-pressure-prediction/train.csv? [y]es, [n]o, [A]ll, [N]one, [r]ename: N\n",
            "\n",
            "Archive:  sample_submission.csv.zip\n",
            "\n",
            "Archive:  test.csv.zip\n",
            "\n",
            "3 archives were successfully processed.\n",
            "sample_submission.csv  test.csv  train.csv\n"
          ]
        }
      ]
    },
    {
      "cell_type": "code",
      "metadata": {
        "execution": {
          "iopub.status.busy": "2021-10-21T17:30:55.782617Z",
          "iopub.execute_input": "2021-10-21T17:30:55.783998Z",
          "iopub.status.idle": "2021-10-21T17:30:55.793669Z",
          "shell.execute_reply.started": "2021-10-21T17:30:55.783937Z",
          "shell.execute_reply": "2021-10-21T17:30:55.792667Z"
        },
        "trusted": true,
        "id": "1TfjZidC9cos"
      },
      "source": [
        "import gc\n",
        "import numpy as np\n",
        "import pandas as pd\n",
        "import random\n",
        "import os\n",
        "from sklearn.model_selection import KFold\n",
        "from sklearn.preprocessing import RobustScaler\n",
        "from sklearn.metrics import mean_absolute_error\n",
        "\n",
        "import tensorflow as tf\n",
        "from tensorflow.keras.utils import plot_model\n",
        "from tensorflow.keras.models import Model, load_model\n",
        "from tensorflow.keras.callbacks import EarlyStopping\n",
        "from tensorflow.keras.callbacks import ModelCheckpoint\n",
        "from tensorflow.keras.callbacks import ReduceLROnPlateau\n",
        "from tensorflow.keras.layers import BatchNormalization\n",
        "from tensorflow.keras.layers import Dense, Dropout, Input\n",
        "from tensorflow.keras.layers import Concatenate, LSTM, GRU\n",
        "from tensorflow.keras.layers import Bidirectional, Multiply\n",
        "\n",
        "\n",
        "\n",
        "# Random Seed Initialize\n",
        "RANDOM_SEED = 42\n",
        "\n",
        "def seed_everything(seed=RANDOM_SEED):\n",
        "    os.environ['PYTHONHASHSEED'] = str(seed)\n",
        "    np.random.seed(seed)\n",
        "    random.seed(seed)\n",
        "    tf.random.set_seed(seed)\n",
        "    \n",
        "seed_everything()"
      ],
      "execution_count": 5,
      "outputs": []
    },
    {
      "cell_type": "markdown",
      "metadata": {
        "id": "XycyrO7g9cot"
      },
      "source": [
        "## Load datasets"
      ]
    },
    {
      "cell_type": "code",
      "metadata": {
        "execution": {
          "iopub.status.busy": "2021-10-21T17:24:55.352925Z",
          "iopub.execute_input": "2021-10-21T17:24:55.353455Z",
          "iopub.status.idle": "2021-10-21T17:25:06.101910Z",
          "shell.execute_reply.started": "2021-10-21T17:24:55.353418Z",
          "shell.execute_reply": "2021-10-21T17:25:06.100969Z"
        },
        "trusted": true,
        "colab": {
          "base_uri": "https://localhost:8080/",
          "height": 220
        },
        "id": "p_vUMe_39cot",
        "outputId": "84874864-7fa0-4565-e4ba-ead2594b2c64"
      },
      "source": [
        "train_df = pd.read_csv('../input/ventilator-pressure-prediction/train.csv')\n",
        "print(f\"train_df: {train_df.shape}\")\n",
        "train_df.head()"
      ],
      "execution_count": 6,
      "outputs": [
        {
          "output_type": "stream",
          "name": "stdout",
          "text": [
            "train_df: (6036000, 8)\n"
          ]
        },
        {
          "output_type": "execute_result",
          "data": {
            "text/html": [
              "<div>\n",
              "<style scoped>\n",
              "    .dataframe tbody tr th:only-of-type {\n",
              "        vertical-align: middle;\n",
              "    }\n",
              "\n",
              "    .dataframe tbody tr th {\n",
              "        vertical-align: top;\n",
              "    }\n",
              "\n",
              "    .dataframe thead th {\n",
              "        text-align: right;\n",
              "    }\n",
              "</style>\n",
              "<table border=\"1\" class=\"dataframe\">\n",
              "  <thead>\n",
              "    <tr style=\"text-align: right;\">\n",
              "      <th></th>\n",
              "      <th>id</th>\n",
              "      <th>breath_id</th>\n",
              "      <th>R</th>\n",
              "      <th>C</th>\n",
              "      <th>time_step</th>\n",
              "      <th>u_in</th>\n",
              "      <th>u_out</th>\n",
              "      <th>pressure</th>\n",
              "    </tr>\n",
              "  </thead>\n",
              "  <tbody>\n",
              "    <tr>\n",
              "      <th>0</th>\n",
              "      <td>1</td>\n",
              "      <td>1</td>\n",
              "      <td>20</td>\n",
              "      <td>50</td>\n",
              "      <td>0.000000</td>\n",
              "      <td>0.083334</td>\n",
              "      <td>0</td>\n",
              "      <td>5.837492</td>\n",
              "    </tr>\n",
              "    <tr>\n",
              "      <th>1</th>\n",
              "      <td>2</td>\n",
              "      <td>1</td>\n",
              "      <td>20</td>\n",
              "      <td>50</td>\n",
              "      <td>0.033652</td>\n",
              "      <td>18.383041</td>\n",
              "      <td>0</td>\n",
              "      <td>5.907794</td>\n",
              "    </tr>\n",
              "    <tr>\n",
              "      <th>2</th>\n",
              "      <td>3</td>\n",
              "      <td>1</td>\n",
              "      <td>20</td>\n",
              "      <td>50</td>\n",
              "      <td>0.067514</td>\n",
              "      <td>22.509278</td>\n",
              "      <td>0</td>\n",
              "      <td>7.876254</td>\n",
              "    </tr>\n",
              "    <tr>\n",
              "      <th>3</th>\n",
              "      <td>4</td>\n",
              "      <td>1</td>\n",
              "      <td>20</td>\n",
              "      <td>50</td>\n",
              "      <td>0.101542</td>\n",
              "      <td>22.808822</td>\n",
              "      <td>0</td>\n",
              "      <td>11.742872</td>\n",
              "    </tr>\n",
              "    <tr>\n",
              "      <th>4</th>\n",
              "      <td>5</td>\n",
              "      <td>1</td>\n",
              "      <td>20</td>\n",
              "      <td>50</td>\n",
              "      <td>0.135756</td>\n",
              "      <td>25.355850</td>\n",
              "      <td>0</td>\n",
              "      <td>12.234987</td>\n",
              "    </tr>\n",
              "  </tbody>\n",
              "</table>\n",
              "</div>"
            ],
            "text/plain": [
              "   id  breath_id   R   C  time_step       u_in  u_out   pressure\n",
              "0   1          1  20  50   0.000000   0.083334      0   5.837492\n",
              "1   2          1  20  50   0.033652  18.383041      0   5.907794\n",
              "2   3          1  20  50   0.067514  22.509278      0   7.876254\n",
              "3   4          1  20  50   0.101542  22.808822      0  11.742872\n",
              "4   5          1  20  50   0.135756  25.355850      0  12.234987"
            ]
          },
          "metadata": {},
          "execution_count": 6
        }
      ]
    },
    {
      "cell_type": "code",
      "metadata": {
        "execution": {
          "iopub.status.busy": "2021-10-21T17:25:11.213742Z",
          "iopub.execute_input": "2021-10-21T17:25:11.214675Z",
          "iopub.status.idle": "2021-10-21T17:25:11.297152Z",
          "shell.execute_reply.started": "2021-10-21T17:25:11.214617Z",
          "shell.execute_reply": "2021-10-21T17:25:11.295985Z"
        },
        "trusted": true,
        "id": "R5oBMjYJ9cov"
      },
      "source": [
        "all_pressure = np.sort(train_df['pressure'].unique())\n",
        "pressure_min =  all_pressure[0].item()\n",
        "pressure_max = all_pressure[-1].item()\n",
        "pressure_step = (all_pressure[1] - all_pressure[0]).item()"
      ],
      "execution_count": 7,
      "outputs": []
    },
    {
      "cell_type": "code",
      "metadata": {
        "id": "80hIcGg09cou"
      },
      "source": [
        "DEBUG = True\n",
        "\n",
        "if DEBUG:\n",
        "    train_df = train_df[:80*10000]"
      ],
      "execution_count": 8,
      "outputs": []
    },
    {
      "cell_type": "code",
      "metadata": {
        "execution": {
          "iopub.status.busy": "2021-10-21T17:25:06.103441Z",
          "iopub.execute_input": "2021-10-21T17:25:06.104426Z",
          "iopub.status.idle": "2021-10-21T17:25:11.211412Z",
          "shell.execute_reply.started": "2021-10-21T17:25:06.104376Z",
          "shell.execute_reply": "2021-10-21T17:25:11.209506Z"
        },
        "trusted": true,
        "colab": {
          "base_uri": "https://localhost:8080/",
          "height": 220
        },
        "id": "y-0XhQ3a9cov",
        "outputId": "1eace9b5-d017-40c7-b71c-0b54ce3c0ade"
      },
      "source": [
        "test_df = pd.read_csv('../input/ventilator-pressure-prediction/test.csv')\n",
        "print(f\"test_df: {test_df.shape}\")\n",
        "test_df.head()"
      ],
      "execution_count": 9,
      "outputs": [
        {
          "output_type": "stream",
          "name": "stdout",
          "text": [
            "test_df: (4024000, 7)\n"
          ]
        },
        {
          "output_type": "execute_result",
          "data": {
            "text/html": [
              "<div>\n",
              "<style scoped>\n",
              "    .dataframe tbody tr th:only-of-type {\n",
              "        vertical-align: middle;\n",
              "    }\n",
              "\n",
              "    .dataframe tbody tr th {\n",
              "        vertical-align: top;\n",
              "    }\n",
              "\n",
              "    .dataframe thead th {\n",
              "        text-align: right;\n",
              "    }\n",
              "</style>\n",
              "<table border=\"1\" class=\"dataframe\">\n",
              "  <thead>\n",
              "    <tr style=\"text-align: right;\">\n",
              "      <th></th>\n",
              "      <th>id</th>\n",
              "      <th>breath_id</th>\n",
              "      <th>R</th>\n",
              "      <th>C</th>\n",
              "      <th>time_step</th>\n",
              "      <th>u_in</th>\n",
              "      <th>u_out</th>\n",
              "    </tr>\n",
              "  </thead>\n",
              "  <tbody>\n",
              "    <tr>\n",
              "      <th>0</th>\n",
              "      <td>1</td>\n",
              "      <td>0</td>\n",
              "      <td>5</td>\n",
              "      <td>20</td>\n",
              "      <td>0.000000</td>\n",
              "      <td>0.000000</td>\n",
              "      <td>0</td>\n",
              "    </tr>\n",
              "    <tr>\n",
              "      <th>1</th>\n",
              "      <td>2</td>\n",
              "      <td>0</td>\n",
              "      <td>5</td>\n",
              "      <td>20</td>\n",
              "      <td>0.031904</td>\n",
              "      <td>7.515046</td>\n",
              "      <td>0</td>\n",
              "    </tr>\n",
              "    <tr>\n",
              "      <th>2</th>\n",
              "      <td>3</td>\n",
              "      <td>0</td>\n",
              "      <td>5</td>\n",
              "      <td>20</td>\n",
              "      <td>0.063827</td>\n",
              "      <td>14.651675</td>\n",
              "      <td>0</td>\n",
              "    </tr>\n",
              "    <tr>\n",
              "      <th>3</th>\n",
              "      <td>4</td>\n",
              "      <td>0</td>\n",
              "      <td>5</td>\n",
              "      <td>20</td>\n",
              "      <td>0.095751</td>\n",
              "      <td>21.230610</td>\n",
              "      <td>0</td>\n",
              "    </tr>\n",
              "    <tr>\n",
              "      <th>4</th>\n",
              "      <td>5</td>\n",
              "      <td>0</td>\n",
              "      <td>5</td>\n",
              "      <td>20</td>\n",
              "      <td>0.127644</td>\n",
              "      <td>26.320956</td>\n",
              "      <td>0</td>\n",
              "    </tr>\n",
              "  </tbody>\n",
              "</table>\n",
              "</div>"
            ],
            "text/plain": [
              "   id  breath_id  R   C  time_step       u_in  u_out\n",
              "0   1          0  5  20   0.000000   0.000000      0\n",
              "1   2          0  5  20   0.031904   7.515046      0\n",
              "2   3          0  5  20   0.063827  14.651675      0\n",
              "3   4          0  5  20   0.095751  21.230610      0\n",
              "4   5          0  5  20   0.127644  26.320956      0"
            ]
          },
          "metadata": {},
          "execution_count": 9
        }
      ]
    },
    {
      "cell_type": "markdown",
      "metadata": {
        "id": "IVPWgQDL9cow"
      },
      "source": [
        "## Feature Engineering"
      ]
    },
    {
      "cell_type": "code",
      "metadata": {
        "execution": {
          "iopub.status.busy": "2021-10-21T17:25:11.298767Z",
          "iopub.execute_input": "2021-10-21T17:25:11.299164Z",
          "iopub.status.idle": "2021-10-21T17:27:48.006762Z",
          "shell.execute_reply.started": "2021-10-21T17:25:11.299125Z",
          "shell.execute_reply": "2021-10-21T17:27:48.005658Z"
        },
        "trusted": true,
        "colab": {
          "base_uri": "https://localhost:8080/"
        },
        "id": "1NHNQSZp9cow",
        "outputId": "fb1734f5-292b-45f9-d7b6-0eaa13feab9a"
      },
      "source": [
        "def add_features(df):\n",
        "    df['cross']= df['u_in'] * df['u_out']\n",
        "    df['cross2']= df['time_step'] * df['u_out']\n",
        "    df['area'] = df['time_step'] * df['u_in']\n",
        "    df['area'] = df.groupby('breath_id')['area'].cumsum()\n",
        "    df['time_step_cumsum'] = df.groupby(['breath_id'])['time_step'].cumsum()\n",
        "    df['u_in_cumsum'] = (df['u_in']).groupby(df['breath_id']).cumsum()\n",
        "    print(\"Step-1...Completed\")\n",
        "    \n",
        "    df['u_in_lag1'] = df.groupby('breath_id')['u_in'].shift(1)\n",
        "    df['u_out_lag1'] = df.groupby('breath_id')['u_out'].shift(1)\n",
        "    df['u_in_lag_back1'] = df.groupby('breath_id')['u_in'].shift(-1)\n",
        "    df['u_out_lag_back1'] = df.groupby('breath_id')['u_out'].shift(-1)\n",
        "    df['u_in_lag2'] = df.groupby('breath_id')['u_in'].shift(2)\n",
        "    df['u_out_lag2'] = df.groupby('breath_id')['u_out'].shift(2)\n",
        "    df['u_in_lag_back2'] = df.groupby('breath_id')['u_in'].shift(-2)\n",
        "    df['u_out_lag_back2'] = df.groupby('breath_id')['u_out'].shift(-2)\n",
        "    df['u_in_lag3'] = df.groupby('breath_id')['u_in'].shift(3)\n",
        "    df['u_out_lag3'] = df.groupby('breath_id')['u_out'].shift(3)\n",
        "    df['u_in_lag_back3'] = df.groupby('breath_id')['u_in'].shift(-3)\n",
        "    df['u_out_lag_back3'] = df.groupby('breath_id')['u_out'].shift(-3)\n",
        "    df['u_in_lag4'] = df.groupby('breath_id')['u_in'].shift(4)\n",
        "    df['u_out_lag4'] = df.groupby('breath_id')['u_out'].shift(4)\n",
        "    df['u_in_lag_back4'] = df.groupby('breath_id')['u_in'].shift(-4)\n",
        "    df['u_out_lag_back4'] = df.groupby('breath_id')['u_out'].shift(-4)\n",
        "    df = df.fillna(0)\n",
        "    print(\"Step-2...Completed\")\n",
        "    \n",
        "    df['breath_id__u_in__max'] = df.groupby(['breath_id'])['u_in'].transform('max')\n",
        "    df['breath_id__u_out__max'] = df.groupby(['breath_id'])['u_out'].transform('max')\n",
        "    df['breath_id__u_in__diffmax'] = df.groupby(['breath_id'])['u_in'].transform('max') - df['u_in']\n",
        "    df['breath_id__u_in__diffmean'] = df.groupby(['breath_id'])['u_in'].transform('mean') - df['u_in']\n",
        "    df['breath_id__u_in__diffmax'] = df.groupby(['breath_id'])['u_in'].transform('max') - df['u_in']\n",
        "    df['breath_id__u_in__diffmean'] = df.groupby(['breath_id'])['u_in'].transform('mean') - df['u_in']\n",
        "    print(\"Step-3...Completed\")\n",
        "    \n",
        "    df['u_in_diff1'] = df['u_in'] - df['u_in_lag1']\n",
        "    df['u_out_diff1'] = df['u_out'] - df['u_out_lag1']\n",
        "    df['u_in_diff2'] = df['u_in'] - df['u_in_lag2']\n",
        "    df['u_out_diff2'] = df['u_out'] - df['u_out_lag2']\n",
        "    df['u_in_diff3'] = df['u_in'] - df['u_in_lag3']\n",
        "    df['u_out_diff3'] = df['u_out'] - df['u_out_lag3']\n",
        "    df['u_in_diff4'] = df['u_in'] - df['u_in_lag4']\n",
        "    df['u_out_diff4'] = df['u_out'] - df['u_out_lag4']\n",
        "    print(\"Step-4...Completed\")\n",
        "    \n",
        "    df['one'] = 1\n",
        "    df['count'] = (df['one']).groupby(df['breath_id']).cumsum()\n",
        "    df['u_in_cummean'] =df['u_in_cumsum'] /df['count']\n",
        "    \n",
        "    df['breath_id_lag']=df['breath_id'].shift(1).fillna(0)\n",
        "    df['breath_id_lag2']=df['breath_id'].shift(2).fillna(0)\n",
        "    df['breath_id_lagsame']=np.select([df['breath_id_lag']==df['breath_id']],[1],0)\n",
        "    df['breath_id_lag2same']=np.select([df['breath_id_lag2']==df['breath_id']],[1],0)\n",
        "    df['breath_id__u_in_lag'] = df['u_in'].shift(1).fillna(0)\n",
        "    df['breath_id__u_in_lag'] = df['breath_id__u_in_lag'] * df['breath_id_lagsame']\n",
        "    df['breath_id__u_in_lag2'] = df['u_in'].shift(2).fillna(0)\n",
        "    df['breath_id__u_in_lag2'] = df['breath_id__u_in_lag2'] * df['breath_id_lag2same']\n",
        "    print(\"Step-5...Completed\")\n",
        "    \n",
        "    df['time_step_diff'] = df.groupby('breath_id')['time_step'].diff().fillna(0)\n",
        "    df['ewm_u_in_mean'] = (df\\\n",
        "                           .groupby('breath_id')['u_in']\\\n",
        "                           .ewm(halflife=9)\\\n",
        "                           .mean()\\\n",
        "                           .reset_index(level=0,drop=True))\n",
        "    df[[\"15_in_sum\",\"15_in_min\",\"15_in_max\",\"15_in_mean\"]] = (df\\\n",
        "                                                              .groupby('breath_id')['u_in']\\\n",
        "                                                              .rolling(window=15,min_periods=1)\\\n",
        "                                                              .agg({\"15_in_sum\":\"sum\",\n",
        "                                                                    \"15_in_min\":\"min\",\n",
        "                                                                    \"15_in_max\":\"max\",\n",
        "                                                                    \"15_in_mean\":\"mean\"\n",
        "                                                                    #\"15_in_std\":\"std\"\n",
        "                                                               })\\\n",
        "                                                               .reset_index(level=0,drop=True))\n",
        "    print(\"Step-6...Completed\")\n",
        "    \n",
        "    #df['u_in_diff_1_2'] = df['u_in_lag1'] - df['u_in_lag2']\n",
        "    #df['u_out_diff_1_2'] = df['u_out_lag1'] - df['u_out_lag2']\n",
        "    #df['u_in_lagback_diff_1_2'] = df['u_in_lag_back1'] - df['u_in_lag_back2']\n",
        "    #df['u_out_lagback_diff_1_2'] = df['u_out_lag_back1'] - df['u_out_lag_back2']\n",
        "    \n",
        "    df['u_in_lagback_diff1'] = df['u_in'] - df['u_in_lag_back1']\n",
        "    df['u_out_lagback_diff1'] = df['u_out'] - df['u_out_lag_back1']\n",
        "    df['u_in_lagback_diff2'] = df['u_in'] - df['u_in_lag_back2']\n",
        "    df['u_out_lagback_diff2'] = df['u_out'] - df['u_out_lag_back2']\n",
        "    print(\"Step-7...Completed\")\n",
        "    \n",
        "    df['R_cat'] = df['R'].astype(str)\n",
        "    df['C_cat'] = df['C'].astype(str)\n",
        "    df['R__C'] = df[\"R\"].astype(str) + '__' + df[\"C\"].astype(str)\n",
        "    df = pd.get_dummies(df)\n",
        "    print(\"Step-8...Completed\")\n",
        "    \n",
        "    return df\n",
        "\n",
        "\n",
        "print(\"Train data...\\n\")\n",
        "train = add_features(train_df)\n",
        "\n",
        "print(\"\\nTest data...\\n\")\n",
        "test = add_features(test_df)"
      ],
      "execution_count": 10,
      "outputs": [
        {
          "output_type": "stream",
          "name": "stdout",
          "text": [
            "Train data...\n",
            "\n",
            "Step-1...Completed\n",
            "Step-2...Completed\n",
            "Step-3...Completed\n",
            "Step-4...Completed\n",
            "Step-5...Completed\n",
            "Step-6...Completed\n",
            "Step-7...Completed\n",
            "Step-8...Completed\n",
            "\n",
            "Test data...\n",
            "\n",
            "Step-1...Completed\n",
            "Step-2...Completed\n",
            "Step-3...Completed\n",
            "Step-4...Completed\n",
            "Step-5...Completed\n",
            "Step-6...Completed\n",
            "Step-7...Completed\n",
            "Step-8...Completed\n"
          ]
        }
      ]
    },
    {
      "cell_type": "code",
      "metadata": {
        "execution": {
          "iopub.status.busy": "2021-10-21T17:28:07.762733Z",
          "iopub.execute_input": "2021-10-21T17:28:07.763099Z",
          "iopub.status.idle": "2021-10-21T17:28:07.795291Z",
          "shell.execute_reply.started": "2021-10-21T17:28:07.763065Z",
          "shell.execute_reply": "2021-10-21T17:28:07.794126Z"
        },
        "trusted": true,
        "colab": {
          "base_uri": "https://localhost:8080/",
          "height": 223
        },
        "id": "PgRvxlmB9co0",
        "outputId": "57d4bf8e-03f5-4b5e-92a4-0d8c8ffa3f13"
      },
      "source": [
        "train.head()"
      ],
      "execution_count": 11,
      "outputs": [
        {
          "output_type": "execute_result",
          "data": {
            "text/html": [
              "<div>\n",
              "<style scoped>\n",
              "    .dataframe tbody tr th:only-of-type {\n",
              "        vertical-align: middle;\n",
              "    }\n",
              "\n",
              "    .dataframe tbody tr th {\n",
              "        vertical-align: top;\n",
              "    }\n",
              "\n",
              "    .dataframe thead th {\n",
              "        text-align: right;\n",
              "    }\n",
              "</style>\n",
              "<table border=\"1\" class=\"dataframe\">\n",
              "  <thead>\n",
              "    <tr style=\"text-align: right;\">\n",
              "      <th></th>\n",
              "      <th>id</th>\n",
              "      <th>breath_id</th>\n",
              "      <th>R</th>\n",
              "      <th>C</th>\n",
              "      <th>time_step</th>\n",
              "      <th>u_in</th>\n",
              "      <th>u_out</th>\n",
              "      <th>pressure</th>\n",
              "      <th>cross</th>\n",
              "      <th>cross2</th>\n",
              "      <th>area</th>\n",
              "      <th>time_step_cumsum</th>\n",
              "      <th>u_in_cumsum</th>\n",
              "      <th>u_in_lag1</th>\n",
              "      <th>u_out_lag1</th>\n",
              "      <th>u_in_lag_back1</th>\n",
              "      <th>u_out_lag_back1</th>\n",
              "      <th>u_in_lag2</th>\n",
              "      <th>u_out_lag2</th>\n",
              "      <th>u_in_lag_back2</th>\n",
              "      <th>u_out_lag_back2</th>\n",
              "      <th>u_in_lag3</th>\n",
              "      <th>u_out_lag3</th>\n",
              "      <th>u_in_lag_back3</th>\n",
              "      <th>u_out_lag_back3</th>\n",
              "      <th>u_in_lag4</th>\n",
              "      <th>u_out_lag4</th>\n",
              "      <th>u_in_lag_back4</th>\n",
              "      <th>u_out_lag_back4</th>\n",
              "      <th>breath_id__u_in__max</th>\n",
              "      <th>breath_id__u_out__max</th>\n",
              "      <th>breath_id__u_in__diffmax</th>\n",
              "      <th>breath_id__u_in__diffmean</th>\n",
              "      <th>u_in_diff1</th>\n",
              "      <th>u_out_diff1</th>\n",
              "      <th>u_in_diff2</th>\n",
              "      <th>u_out_diff2</th>\n",
              "      <th>u_in_diff3</th>\n",
              "      <th>u_out_diff3</th>\n",
              "      <th>u_in_diff4</th>\n",
              "      <th>u_out_diff4</th>\n",
              "      <th>one</th>\n",
              "      <th>count</th>\n",
              "      <th>u_in_cummean</th>\n",
              "      <th>breath_id_lag</th>\n",
              "      <th>breath_id_lag2</th>\n",
              "      <th>breath_id_lagsame</th>\n",
              "      <th>breath_id_lag2same</th>\n",
              "      <th>breath_id__u_in_lag</th>\n",
              "      <th>breath_id__u_in_lag2</th>\n",
              "      <th>time_step_diff</th>\n",
              "      <th>ewm_u_in_mean</th>\n",
              "      <th>15_in_sum</th>\n",
              "      <th>15_in_min</th>\n",
              "      <th>15_in_max</th>\n",
              "      <th>15_in_mean</th>\n",
              "      <th>u_in_lagback_diff1</th>\n",
              "      <th>u_out_lagback_diff1</th>\n",
              "      <th>u_in_lagback_diff2</th>\n",
              "      <th>u_out_lagback_diff2</th>\n",
              "      <th>R_cat_20</th>\n",
              "      <th>R_cat_5</th>\n",
              "      <th>R_cat_50</th>\n",
              "      <th>C_cat_10</th>\n",
              "      <th>C_cat_20</th>\n",
              "      <th>C_cat_50</th>\n",
              "      <th>R__C_20__10</th>\n",
              "      <th>R__C_20__20</th>\n",
              "      <th>R__C_20__50</th>\n",
              "      <th>R__C_50__10</th>\n",
              "      <th>R__C_50__20</th>\n",
              "      <th>R__C_50__50</th>\n",
              "      <th>R__C_5__10</th>\n",
              "      <th>R__C_5__20</th>\n",
              "      <th>R__C_5__50</th>\n",
              "    </tr>\n",
              "  </thead>\n",
              "  <tbody>\n",
              "    <tr>\n",
              "      <th>0</th>\n",
              "      <td>1</td>\n",
              "      <td>1</td>\n",
              "      <td>20</td>\n",
              "      <td>50</td>\n",
              "      <td>0.000000</td>\n",
              "      <td>0.083334</td>\n",
              "      <td>0</td>\n",
              "      <td>5.837492</td>\n",
              "      <td>0.0</td>\n",
              "      <td>0.0</td>\n",
              "      <td>0.000000</td>\n",
              "      <td>0.000000</td>\n",
              "      <td>0.083334</td>\n",
              "      <td>0.000000</td>\n",
              "      <td>0.0</td>\n",
              "      <td>18.383041</td>\n",
              "      <td>0.0</td>\n",
              "      <td>0.000000</td>\n",
              "      <td>0.0</td>\n",
              "      <td>22.509278</td>\n",
              "      <td>0.0</td>\n",
              "      <td>0.000000</td>\n",
              "      <td>0.0</td>\n",
              "      <td>22.808822</td>\n",
              "      <td>0.0</td>\n",
              "      <td>0.000000</td>\n",
              "      <td>0.0</td>\n",
              "      <td>25.355850</td>\n",
              "      <td>0.0</td>\n",
              "      <td>28.313036</td>\n",
              "      <td>1</td>\n",
              "      <td>28.229702</td>\n",
              "      <td>10.062673</td>\n",
              "      <td>0.083334</td>\n",
              "      <td>0.0</td>\n",
              "      <td>0.083334</td>\n",
              "      <td>0.0</td>\n",
              "      <td>0.083334</td>\n",
              "      <td>0.0</td>\n",
              "      <td>0.083334</td>\n",
              "      <td>0.0</td>\n",
              "      <td>1</td>\n",
              "      <td>1</td>\n",
              "      <td>0.083334</td>\n",
              "      <td>0.0</td>\n",
              "      <td>0.0</td>\n",
              "      <td>0</td>\n",
              "      <td>0</td>\n",
              "      <td>0.000000</td>\n",
              "      <td>0.000000</td>\n",
              "      <td>0.000000</td>\n",
              "      <td>0.083334</td>\n",
              "      <td>0.083334</td>\n",
              "      <td>0.083334</td>\n",
              "      <td>0.083334</td>\n",
              "      <td>0.083334</td>\n",
              "      <td>-18.299707</td>\n",
              "      <td>0.0</td>\n",
              "      <td>-22.425944</td>\n",
              "      <td>0.0</td>\n",
              "      <td>1</td>\n",
              "      <td>0</td>\n",
              "      <td>0</td>\n",
              "      <td>0</td>\n",
              "      <td>0</td>\n",
              "      <td>1</td>\n",
              "      <td>0</td>\n",
              "      <td>0</td>\n",
              "      <td>1</td>\n",
              "      <td>0</td>\n",
              "      <td>0</td>\n",
              "      <td>0</td>\n",
              "      <td>0</td>\n",
              "      <td>0</td>\n",
              "      <td>0</td>\n",
              "    </tr>\n",
              "    <tr>\n",
              "      <th>1</th>\n",
              "      <td>2</td>\n",
              "      <td>1</td>\n",
              "      <td>20</td>\n",
              "      <td>50</td>\n",
              "      <td>0.033652</td>\n",
              "      <td>18.383041</td>\n",
              "      <td>0</td>\n",
              "      <td>5.907794</td>\n",
              "      <td>0.0</td>\n",
              "      <td>0.0</td>\n",
              "      <td>0.618632</td>\n",
              "      <td>0.033652</td>\n",
              "      <td>18.466375</td>\n",
              "      <td>0.083334</td>\n",
              "      <td>0.0</td>\n",
              "      <td>22.509278</td>\n",
              "      <td>0.0</td>\n",
              "      <td>0.000000</td>\n",
              "      <td>0.0</td>\n",
              "      <td>22.808822</td>\n",
              "      <td>0.0</td>\n",
              "      <td>0.000000</td>\n",
              "      <td>0.0</td>\n",
              "      <td>25.355850</td>\n",
              "      <td>0.0</td>\n",
              "      <td>0.000000</td>\n",
              "      <td>0.0</td>\n",
              "      <td>27.259866</td>\n",
              "      <td>0.0</td>\n",
              "      <td>28.313036</td>\n",
              "      <td>1</td>\n",
              "      <td>9.929994</td>\n",
              "      <td>-8.237035</td>\n",
              "      <td>18.299707</td>\n",
              "      <td>0.0</td>\n",
              "      <td>18.383041</td>\n",
              "      <td>0.0</td>\n",
              "      <td>18.383041</td>\n",
              "      <td>0.0</td>\n",
              "      <td>18.383041</td>\n",
              "      <td>0.0</td>\n",
              "      <td>1</td>\n",
              "      <td>2</td>\n",
              "      <td>9.233188</td>\n",
              "      <td>1.0</td>\n",
              "      <td>0.0</td>\n",
              "      <td>1</td>\n",
              "      <td>0</td>\n",
              "      <td>0.083334</td>\n",
              "      <td>0.000000</td>\n",
              "      <td>0.033652</td>\n",
              "      <td>9.585358</td>\n",
              "      <td>18.466375</td>\n",
              "      <td>0.083334</td>\n",
              "      <td>18.383041</td>\n",
              "      <td>9.233188</td>\n",
              "      <td>-4.126236</td>\n",
              "      <td>0.0</td>\n",
              "      <td>-4.425781</td>\n",
              "      <td>0.0</td>\n",
              "      <td>1</td>\n",
              "      <td>0</td>\n",
              "      <td>0</td>\n",
              "      <td>0</td>\n",
              "      <td>0</td>\n",
              "      <td>1</td>\n",
              "      <td>0</td>\n",
              "      <td>0</td>\n",
              "      <td>1</td>\n",
              "      <td>0</td>\n",
              "      <td>0</td>\n",
              "      <td>0</td>\n",
              "      <td>0</td>\n",
              "      <td>0</td>\n",
              "      <td>0</td>\n",
              "    </tr>\n",
              "    <tr>\n",
              "      <th>2</th>\n",
              "      <td>3</td>\n",
              "      <td>1</td>\n",
              "      <td>20</td>\n",
              "      <td>50</td>\n",
              "      <td>0.067514</td>\n",
              "      <td>22.509278</td>\n",
              "      <td>0</td>\n",
              "      <td>7.876254</td>\n",
              "      <td>0.0</td>\n",
              "      <td>0.0</td>\n",
              "      <td>2.138333</td>\n",
              "      <td>0.101167</td>\n",
              "      <td>40.975653</td>\n",
              "      <td>18.383041</td>\n",
              "      <td>0.0</td>\n",
              "      <td>22.808822</td>\n",
              "      <td>0.0</td>\n",
              "      <td>0.083334</td>\n",
              "      <td>0.0</td>\n",
              "      <td>25.355850</td>\n",
              "      <td>0.0</td>\n",
              "      <td>0.000000</td>\n",
              "      <td>0.0</td>\n",
              "      <td>27.259866</td>\n",
              "      <td>0.0</td>\n",
              "      <td>0.000000</td>\n",
              "      <td>0.0</td>\n",
              "      <td>27.127486</td>\n",
              "      <td>0.0</td>\n",
              "      <td>28.313036</td>\n",
              "      <td>1</td>\n",
              "      <td>5.803758</td>\n",
              "      <td>-12.363271</td>\n",
              "      <td>4.126236</td>\n",
              "      <td>0.0</td>\n",
              "      <td>22.425944</td>\n",
              "      <td>0.0</td>\n",
              "      <td>22.509278</td>\n",
              "      <td>0.0</td>\n",
              "      <td>22.509278</td>\n",
              "      <td>0.0</td>\n",
              "      <td>1</td>\n",
              "      <td>3</td>\n",
              "      <td>13.658551</td>\n",
              "      <td>1.0</td>\n",
              "      <td>1.0</td>\n",
              "      <td>1</td>\n",
              "      <td>1</td>\n",
              "      <td>18.383041</td>\n",
              "      <td>0.083334</td>\n",
              "      <td>0.033862</td>\n",
              "      <td>14.229040</td>\n",
              "      <td>40.975653</td>\n",
              "      <td>0.083334</td>\n",
              "      <td>22.509278</td>\n",
              "      <td>13.658551</td>\n",
              "      <td>-0.299544</td>\n",
              "      <td>0.0</td>\n",
              "      <td>-2.846573</td>\n",
              "      <td>0.0</td>\n",
              "      <td>1</td>\n",
              "      <td>0</td>\n",
              "      <td>0</td>\n",
              "      <td>0</td>\n",
              "      <td>0</td>\n",
              "      <td>1</td>\n",
              "      <td>0</td>\n",
              "      <td>0</td>\n",
              "      <td>1</td>\n",
              "      <td>0</td>\n",
              "      <td>0</td>\n",
              "      <td>0</td>\n",
              "      <td>0</td>\n",
              "      <td>0</td>\n",
              "      <td>0</td>\n",
              "    </tr>\n",
              "    <tr>\n",
              "      <th>3</th>\n",
              "      <td>4</td>\n",
              "      <td>1</td>\n",
              "      <td>20</td>\n",
              "      <td>50</td>\n",
              "      <td>0.101542</td>\n",
              "      <td>22.808822</td>\n",
              "      <td>0</td>\n",
              "      <td>11.742872</td>\n",
              "      <td>0.0</td>\n",
              "      <td>0.0</td>\n",
              "      <td>4.454391</td>\n",
              "      <td>0.202709</td>\n",
              "      <td>63.784476</td>\n",
              "      <td>22.509278</td>\n",
              "      <td>0.0</td>\n",
              "      <td>25.355850</td>\n",
              "      <td>0.0</td>\n",
              "      <td>18.383041</td>\n",
              "      <td>0.0</td>\n",
              "      <td>27.259866</td>\n",
              "      <td>0.0</td>\n",
              "      <td>0.083334</td>\n",
              "      <td>0.0</td>\n",
              "      <td>27.127486</td>\n",
              "      <td>0.0</td>\n",
              "      <td>0.000000</td>\n",
              "      <td>0.0</td>\n",
              "      <td>26.807732</td>\n",
              "      <td>0.0</td>\n",
              "      <td>28.313036</td>\n",
              "      <td>1</td>\n",
              "      <td>5.504214</td>\n",
              "      <td>-12.662816</td>\n",
              "      <td>0.299544</td>\n",
              "      <td>0.0</td>\n",
              "      <td>4.425781</td>\n",
              "      <td>0.0</td>\n",
              "      <td>22.725488</td>\n",
              "      <td>0.0</td>\n",
              "      <td>22.808822</td>\n",
              "      <td>0.0</td>\n",
              "      <td>1</td>\n",
              "      <td>4</td>\n",
              "      <td>15.946119</td>\n",
              "      <td>1.0</td>\n",
              "      <td>1.0</td>\n",
              "      <td>1</td>\n",
              "      <td>1</td>\n",
              "      <td>22.509278</td>\n",
              "      <td>18.383041</td>\n",
              "      <td>0.034028</td>\n",
              "      <td>16.627759</td>\n",
              "      <td>63.784476</td>\n",
              "      <td>0.083334</td>\n",
              "      <td>22.808822</td>\n",
              "      <td>15.946119</td>\n",
              "      <td>-2.547028</td>\n",
              "      <td>0.0</td>\n",
              "      <td>-4.451044</td>\n",
              "      <td>0.0</td>\n",
              "      <td>1</td>\n",
              "      <td>0</td>\n",
              "      <td>0</td>\n",
              "      <td>0</td>\n",
              "      <td>0</td>\n",
              "      <td>1</td>\n",
              "      <td>0</td>\n",
              "      <td>0</td>\n",
              "      <td>1</td>\n",
              "      <td>0</td>\n",
              "      <td>0</td>\n",
              "      <td>0</td>\n",
              "      <td>0</td>\n",
              "      <td>0</td>\n",
              "      <td>0</td>\n",
              "    </tr>\n",
              "    <tr>\n",
              "      <th>4</th>\n",
              "      <td>5</td>\n",
              "      <td>1</td>\n",
              "      <td>20</td>\n",
              "      <td>50</td>\n",
              "      <td>0.135756</td>\n",
              "      <td>25.355850</td>\n",
              "      <td>0</td>\n",
              "      <td>12.234987</td>\n",
              "      <td>0.0</td>\n",
              "      <td>0.0</td>\n",
              "      <td>7.896588</td>\n",
              "      <td>0.338464</td>\n",
              "      <td>89.140326</td>\n",
              "      <td>22.808822</td>\n",
              "      <td>0.0</td>\n",
              "      <td>27.259866</td>\n",
              "      <td>0.0</td>\n",
              "      <td>22.509278</td>\n",
              "      <td>0.0</td>\n",
              "      <td>27.127486</td>\n",
              "      <td>0.0</td>\n",
              "      <td>18.383041</td>\n",
              "      <td>0.0</td>\n",
              "      <td>26.807732</td>\n",
              "      <td>0.0</td>\n",
              "      <td>0.083334</td>\n",
              "      <td>0.0</td>\n",
              "      <td>27.864715</td>\n",
              "      <td>0.0</td>\n",
              "      <td>28.313036</td>\n",
              "      <td>1</td>\n",
              "      <td>2.957185</td>\n",
              "      <td>-15.209844</td>\n",
              "      <td>2.547028</td>\n",
              "      <td>0.0</td>\n",
              "      <td>2.846573</td>\n",
              "      <td>0.0</td>\n",
              "      <td>6.972809</td>\n",
              "      <td>0.0</td>\n",
              "      <td>25.272516</td>\n",
              "      <td>0.0</td>\n",
              "      <td>1</td>\n",
              "      <td>5</td>\n",
              "      <td>17.828065</td>\n",
              "      <td>1.0</td>\n",
              "      <td>1.0</td>\n",
              "      <td>1</td>\n",
              "      <td>1</td>\n",
              "      <td>22.808822</td>\n",
              "      <td>22.509278</td>\n",
              "      <td>0.034213</td>\n",
              "      <td>18.652046</td>\n",
              "      <td>89.140326</td>\n",
              "      <td>0.083334</td>\n",
              "      <td>25.355850</td>\n",
              "      <td>17.828065</td>\n",
              "      <td>-1.904016</td>\n",
              "      <td>0.0</td>\n",
              "      <td>-1.771635</td>\n",
              "      <td>0.0</td>\n",
              "      <td>1</td>\n",
              "      <td>0</td>\n",
              "      <td>0</td>\n",
              "      <td>0</td>\n",
              "      <td>0</td>\n",
              "      <td>1</td>\n",
              "      <td>0</td>\n",
              "      <td>0</td>\n",
              "      <td>1</td>\n",
              "      <td>0</td>\n",
              "      <td>0</td>\n",
              "      <td>0</td>\n",
              "      <td>0</td>\n",
              "      <td>0</td>\n",
              "      <td>0</td>\n",
              "    </tr>\n",
              "  </tbody>\n",
              "</table>\n",
              "</div>"
            ],
            "text/plain": [
              "   id  breath_id   R   C  ...  R__C_50__50  R__C_5__10  R__C_5__20  R__C_5__50\n",
              "0   1          1  20  50  ...            0           0           0           0\n",
              "1   2          1  20  50  ...            0           0           0           0\n",
              "2   3          1  20  50  ...            0           0           0           0\n",
              "3   4          1  20  50  ...            0           0           0           0\n",
              "4   5          1  20  50  ...            0           0           0           0\n",
              "\n",
              "[5 rows x 75 columns]"
            ]
          },
          "metadata": {},
          "execution_count": 11
        }
      ]
    },
    {
      "cell_type": "code",
      "metadata": {
        "colab": {
          "base_uri": "https://localhost:8080/"
        },
        "id": "Zcyv-iig9co0",
        "outputId": "3331aa29-114f-4d02-846b-20805e0dfd11"
      },
      "source": [
        "del train_df\n",
        "del test_df\n",
        "gc.collect()"
      ],
      "execution_count": 12,
      "outputs": [
        {
          "output_type": "execute_result",
          "data": {
            "text/plain": [
              "50"
            ]
          },
          "metadata": {},
          "execution_count": 12
        }
      ]
    },
    {
      "cell_type": "code",
      "metadata": {
        "colab": {
          "base_uri": "https://localhost:8080/"
        },
        "id": "qip05b0r9co0",
        "outputId": "be5f34fc-f914-4fcf-9687-ccb313ffcc57"
      },
      "source": [
        "targets = train[['pressure']].to_numpy().reshape(-1, 80)\n",
        "\n",
        "train.drop(['pressure','id', 'breath_id','one','count',\n",
        "            'breath_id_lag','breath_id_lag2','breath_id_lagsame',\n",
        "            'breath_id_lag2same'], axis=1, inplace=True)\n",
        "\n",
        "test = test.drop(['id', 'breath_id','one','count','breath_id_lag',\n",
        "                  'breath_id_lag2','breath_id_lagsame',\n",
        "                  'breath_id_lag2same'], axis=1)\n",
        "\n",
        "print(f\"train: {train.shape} \\ntest: {test.shape}\")"
      ],
      "execution_count": 13,
      "outputs": [
        {
          "output_type": "stream",
          "name": "stdout",
          "text": [
            "train: (800000, 66) \n",
            "test: (4024000, 66)\n"
          ]
        }
      ]
    },
    {
      "cell_type": "code",
      "metadata": {
        "colab": {
          "base_uri": "https://localhost:8080/"
        },
        "id": "OYWzQtL49co1",
        "outputId": "17eda8e0-5d38-42c3-b746-d1a31c6f7b77"
      },
      "source": [
        "scaler = RobustScaler()\n",
        "train = scaler.fit_transform(train)\n",
        "test = scaler.transform(test)\n",
        "\n",
        "train = train.reshape(-1, 80, train.shape[-1])\n",
        "test = test.reshape(-1, 80, train.shape[-1])\n",
        "\n",
        "print(f\"train: {train.shape} \\ntest: {test.shape} \\ntargets: {targets.shape}\")"
      ],
      "execution_count": 14,
      "outputs": [
        {
          "output_type": "stream",
          "name": "stdout",
          "text": [
            "train: (10000, 80, 66) \n",
            "test: (50300, 80, 66) \n",
            "targets: (10000, 80)\n"
          ]
        }
      ]
    },
    {
      "cell_type": "markdown",
      "metadata": {
        "id": "Osu14DeV9co1"
      },
      "source": [
        "## Hardware config"
      ]
    },
    {
      "cell_type": "code",
      "metadata": {
        "colab": {
          "base_uri": "https://localhost:8080/"
        },
        "id": "CisxazED9co1",
        "outputId": "14c72110-bdfa-4589-bbc8-9a4bba7829f8"
      },
      "source": [
        "try:\n",
        "    tpu = tf.distribute.cluster_resolver.TPUClusterResolver()\n",
        "    tf.config.experimental_connect_to_cluster(tpu)\n",
        "    tf.tpu.experimental.initialize_tpu_system(tpu)\n",
        "    tpu_strategy = tf.distribute.experimental.TPUStrategy(tpu)\n",
        "    BATCH_SIZE = tpu_strategy.num_replicas_in_sync * 64\n",
        "    print(\"Running on TPU:\", tpu.master())\n",
        "    print(f\"Batch Size: {BATCH_SIZE}\")\n",
        "    \n",
        "except ValueError:\n",
        "    tpu_strategy = tf.distribute.get_strategy()\n",
        "    BATCH_SIZE = 512\n",
        "    print(f\"Running on {strategy.num_replicas_in_sync} replicas\")\n",
        "    print(f\"Batch Size: {BATCH_SIZE}\")"
      ],
      "execution_count": 15,
      "outputs": [
        {
          "output_type": "stream",
          "name": "stdout",
          "text": [
            "INFO:tensorflow:Clearing out eager caches\n"
          ]
        },
        {
          "output_type": "stream",
          "name": "stderr",
          "text": [
            "INFO:tensorflow:Clearing out eager caches\n"
          ]
        },
        {
          "output_type": "stream",
          "name": "stdout",
          "text": [
            "INFO:tensorflow:Initializing the TPU system: grpc://10.21.194.242:8470\n"
          ]
        },
        {
          "output_type": "stream",
          "name": "stderr",
          "text": [
            "INFO:tensorflow:Initializing the TPU system: grpc://10.21.194.242:8470\n"
          ]
        },
        {
          "output_type": "stream",
          "name": "stdout",
          "text": [
            "INFO:tensorflow:Finished initializing TPU system.\n"
          ]
        },
        {
          "output_type": "stream",
          "name": "stderr",
          "text": [
            "INFO:tensorflow:Finished initializing TPU system.\n",
            "WARNING:absl:`tf.distribute.experimental.TPUStrategy` is deprecated, please use  the non experimental symbol `tf.distribute.TPUStrategy` instead.\n"
          ]
        },
        {
          "output_type": "stream",
          "name": "stdout",
          "text": [
            "INFO:tensorflow:Found TPU system:\n"
          ]
        },
        {
          "output_type": "stream",
          "name": "stderr",
          "text": [
            "INFO:tensorflow:Found TPU system:\n"
          ]
        },
        {
          "output_type": "stream",
          "name": "stdout",
          "text": [
            "INFO:tensorflow:*** Num TPU Cores: 8\n"
          ]
        },
        {
          "output_type": "stream",
          "name": "stderr",
          "text": [
            "INFO:tensorflow:*** Num TPU Cores: 8\n"
          ]
        },
        {
          "output_type": "stream",
          "name": "stdout",
          "text": [
            "INFO:tensorflow:*** Num TPU Workers: 1\n"
          ]
        },
        {
          "output_type": "stream",
          "name": "stderr",
          "text": [
            "INFO:tensorflow:*** Num TPU Workers: 1\n"
          ]
        },
        {
          "output_type": "stream",
          "name": "stdout",
          "text": [
            "INFO:tensorflow:*** Num TPU Cores Per Worker: 8\n"
          ]
        },
        {
          "output_type": "stream",
          "name": "stderr",
          "text": [
            "INFO:tensorflow:*** Num TPU Cores Per Worker: 8\n"
          ]
        },
        {
          "output_type": "stream",
          "name": "stdout",
          "text": [
            "INFO:tensorflow:*** Available Device: _DeviceAttributes(/job:localhost/replica:0/task:0/device:CPU:0, CPU, 0, 0)\n"
          ]
        },
        {
          "output_type": "stream",
          "name": "stderr",
          "text": [
            "INFO:tensorflow:*** Available Device: _DeviceAttributes(/job:localhost/replica:0/task:0/device:CPU:0, CPU, 0, 0)\n"
          ]
        },
        {
          "output_type": "stream",
          "name": "stdout",
          "text": [
            "INFO:tensorflow:*** Available Device: _DeviceAttributes(/job:worker/replica:0/task:0/device:CPU:0, CPU, 0, 0)\n"
          ]
        },
        {
          "output_type": "stream",
          "name": "stderr",
          "text": [
            "INFO:tensorflow:*** Available Device: _DeviceAttributes(/job:worker/replica:0/task:0/device:CPU:0, CPU, 0, 0)\n"
          ]
        },
        {
          "output_type": "stream",
          "name": "stdout",
          "text": [
            "INFO:tensorflow:*** Available Device: _DeviceAttributes(/job:worker/replica:0/task:0/device:TPU:0, TPU, 0, 0)\n"
          ]
        },
        {
          "output_type": "stream",
          "name": "stderr",
          "text": [
            "INFO:tensorflow:*** Available Device: _DeviceAttributes(/job:worker/replica:0/task:0/device:TPU:0, TPU, 0, 0)\n"
          ]
        },
        {
          "output_type": "stream",
          "name": "stdout",
          "text": [
            "INFO:tensorflow:*** Available Device: _DeviceAttributes(/job:worker/replica:0/task:0/device:TPU:1, TPU, 0, 0)\n"
          ]
        },
        {
          "output_type": "stream",
          "name": "stderr",
          "text": [
            "INFO:tensorflow:*** Available Device: _DeviceAttributes(/job:worker/replica:0/task:0/device:TPU:1, TPU, 0, 0)\n"
          ]
        },
        {
          "output_type": "stream",
          "name": "stdout",
          "text": [
            "INFO:tensorflow:*** Available Device: _DeviceAttributes(/job:worker/replica:0/task:0/device:TPU:2, TPU, 0, 0)\n"
          ]
        },
        {
          "output_type": "stream",
          "name": "stderr",
          "text": [
            "INFO:tensorflow:*** Available Device: _DeviceAttributes(/job:worker/replica:0/task:0/device:TPU:2, TPU, 0, 0)\n"
          ]
        },
        {
          "output_type": "stream",
          "name": "stdout",
          "text": [
            "INFO:tensorflow:*** Available Device: _DeviceAttributes(/job:worker/replica:0/task:0/device:TPU:3, TPU, 0, 0)\n"
          ]
        },
        {
          "output_type": "stream",
          "name": "stderr",
          "text": [
            "INFO:tensorflow:*** Available Device: _DeviceAttributes(/job:worker/replica:0/task:0/device:TPU:3, TPU, 0, 0)\n"
          ]
        },
        {
          "output_type": "stream",
          "name": "stdout",
          "text": [
            "INFO:tensorflow:*** Available Device: _DeviceAttributes(/job:worker/replica:0/task:0/device:TPU:4, TPU, 0, 0)\n"
          ]
        },
        {
          "output_type": "stream",
          "name": "stderr",
          "text": [
            "INFO:tensorflow:*** Available Device: _DeviceAttributes(/job:worker/replica:0/task:0/device:TPU:4, TPU, 0, 0)\n"
          ]
        },
        {
          "output_type": "stream",
          "name": "stdout",
          "text": [
            "INFO:tensorflow:*** Available Device: _DeviceAttributes(/job:worker/replica:0/task:0/device:TPU:5, TPU, 0, 0)\n"
          ]
        },
        {
          "output_type": "stream",
          "name": "stderr",
          "text": [
            "INFO:tensorflow:*** Available Device: _DeviceAttributes(/job:worker/replica:0/task:0/device:TPU:5, TPU, 0, 0)\n"
          ]
        },
        {
          "output_type": "stream",
          "name": "stdout",
          "text": [
            "INFO:tensorflow:*** Available Device: _DeviceAttributes(/job:worker/replica:0/task:0/device:TPU:6, TPU, 0, 0)\n"
          ]
        },
        {
          "output_type": "stream",
          "name": "stderr",
          "text": [
            "INFO:tensorflow:*** Available Device: _DeviceAttributes(/job:worker/replica:0/task:0/device:TPU:6, TPU, 0, 0)\n"
          ]
        },
        {
          "output_type": "stream",
          "name": "stdout",
          "text": [
            "INFO:tensorflow:*** Available Device: _DeviceAttributes(/job:worker/replica:0/task:0/device:TPU:7, TPU, 0, 0)\n"
          ]
        },
        {
          "output_type": "stream",
          "name": "stderr",
          "text": [
            "INFO:tensorflow:*** Available Device: _DeviceAttributes(/job:worker/replica:0/task:0/device:TPU:7, TPU, 0, 0)\n"
          ]
        },
        {
          "output_type": "stream",
          "name": "stdout",
          "text": [
            "INFO:tensorflow:*** Available Device: _DeviceAttributes(/job:worker/replica:0/task:0/device:TPU_SYSTEM:0, TPU_SYSTEM, 0, 0)\n"
          ]
        },
        {
          "output_type": "stream",
          "name": "stderr",
          "text": [
            "INFO:tensorflow:*** Available Device: _DeviceAttributes(/job:worker/replica:0/task:0/device:TPU_SYSTEM:0, TPU_SYSTEM, 0, 0)\n"
          ]
        },
        {
          "output_type": "stream",
          "name": "stdout",
          "text": [
            "INFO:tensorflow:*** Available Device: _DeviceAttributes(/job:worker/replica:0/task:0/device:XLA_CPU:0, XLA_CPU, 0, 0)\n"
          ]
        },
        {
          "output_type": "stream",
          "name": "stderr",
          "text": [
            "INFO:tensorflow:*** Available Device: _DeviceAttributes(/job:worker/replica:0/task:0/device:XLA_CPU:0, XLA_CPU, 0, 0)\n"
          ]
        },
        {
          "output_type": "stream",
          "name": "stdout",
          "text": [
            "Running on TPU: grpc://10.21.194.242:8470\n",
            "Batch Size: 512\n"
          ]
        }
      ]
    },
    {
      "cell_type": "markdown",
      "metadata": {
        "id": "GAZMw10A9co1"
      },
      "source": [
        "## Rescaling layer"
      ]
    },
    {
      "cell_type": "code",
      "metadata": {
        "id": "qLou5BDt9co2"
      },
      "source": [
        "@tf.custom_gradient\n",
        "def round_with_gradients(x):\n",
        "    def grad(dy):\n",
        "        return dy\n",
        "    return tf.round(x), grad\n",
        "\n",
        "class ScaleLayer(tf.keras.layers.Layer):\n",
        "    def __init__(self):\n",
        "        super(ScaleLayer, self).__init__()\n",
        "        self.min = tf.constant(pressure_min, dtype=np.float32)\n",
        "        self.max = tf.constant(pressure_max, dtype=np.float32)\n",
        "        self.step = tf.constant(pressure_step, dtype=np.float32)\n",
        "\n",
        "    def call(self, inputs):\n",
        "        steps = tf.math.divide(tf.math.add(inputs, -self.min), self.step)\n",
        "        int_steps = round_with_gradients(steps)\n",
        "        rescaled_steps = tf.math.add(tf.math.multiply(int_steps, self.step), self.min)\n",
        "        clipped = tf.clip_by_value(rescaled_steps, self.min, self.max)\n",
        "        return clipped"
      ],
      "execution_count": 16,
      "outputs": []
    },
    {
      "cell_type": "markdown",
      "metadata": {
        "id": "5Ft0JBPC9co2"
      },
      "source": [
        "## Keras DNN Model"
      ]
    },
    {
      "cell_type": "code",
      "metadata": {
        "id": "_HuMFGY39co2"
      },
      "source": [
        "def dnn_model():\n",
        "    \n",
        "    x_input = Input(shape=(train.shape[-2:]))\n",
        "    \n",
        "    x1 = Bidirectional(LSTM(units=768, return_sequences=True))(x_input)\n",
        "    x2 = Bidirectional(LSTM(units=512, return_sequences=True))(x1)\n",
        "    x3 = Bidirectional(LSTM(units=384, return_sequences=True))(x2)\n",
        "    x4 = Bidirectional(LSTM(units=256, return_sequences=True))(x3)\n",
        "    x5 = Bidirectional(LSTM(units=128, return_sequences=True))(x4)\n",
        "    \n",
        "    z2 = Bidirectional(GRU(units=384, return_sequences=True))(x2)\n",
        "    \n",
        "    z31 = Multiply()([x3, z2])\n",
        "    z31 = BatchNormalization()(z31)\n",
        "    z3 = Bidirectional(GRU(units=256, return_sequences=True))(z31)\n",
        "    \n",
        "    z41 = Multiply()([x4, z3])\n",
        "    z41 = BatchNormalization()(z41)\n",
        "    z4 = Bidirectional(GRU(units=128, return_sequences=True))(z41)\n",
        "    \n",
        "    z51 = Multiply()([x5, z4])\n",
        "    z51 = BatchNormalization()(z51)\n",
        "    z5 = Bidirectional(GRU(units=64, return_sequences=True))(z51)\n",
        "    \n",
        "    x = Concatenate(axis=2)([x5, z2, z3, z4, z5])\n",
        "    \n",
        "    x = Dense(units=128, activation='selu')(x)\n",
        "    \n",
        "    x_output = Dense(units=1)(x)\n",
        "    \n",
        "    x_output = ScaleLayer()(x_output)\n",
        "\n",
        "    model = Model(inputs=x_input, outputs=x_output, \n",
        "                  name='DNN_Model')\n",
        "    return model"
      ],
      "execution_count": 17,
      "outputs": []
    },
    {
      "cell_type": "code",
      "metadata": {
        "colab": {
          "base_uri": "https://localhost:8080/"
        },
        "id": "_d8ybRJc9co2",
        "outputId": "1c2af5b2-0cfe-46b2-82b8-d0be4ea80c02"
      },
      "source": [
        "model = dnn_model()\n",
        "model.summary()"
      ],
      "execution_count": 18,
      "outputs": [
        {
          "output_type": "stream",
          "name": "stdout",
          "text": [
            "Model: \"DNN_Model\"\n",
            "__________________________________________________________________________________________________\n",
            "Layer (type)                    Output Shape         Param #     Connected to                     \n",
            "==================================================================================================\n",
            "input_1 (InputLayer)            [(None, 80, 66)]     0                                            \n",
            "__________________________________________________________________________________________________\n",
            "bidirectional (Bidirectional)   (None, 80, 1536)     5130240     input_1[0][0]                    \n",
            "__________________________________________________________________________________________________\n",
            "bidirectional_1 (Bidirectional) (None, 80, 1024)     8392704     bidirectional[0][0]              \n",
            "__________________________________________________________________________________________________\n",
            "bidirectional_2 (Bidirectional) (None, 80, 768)      4328448     bidirectional_1[0][0]            \n",
            "__________________________________________________________________________________________________\n",
            "bidirectional_5 (Bidirectional) (None, 80, 768)      3248640     bidirectional_1[0][0]            \n",
            "__________________________________________________________________________________________________\n",
            "multiply (Multiply)             (None, 80, 768)      0           bidirectional_2[0][0]            \n",
            "                                                                 bidirectional_5[0][0]            \n",
            "__________________________________________________________________________________________________\n",
            "batch_normalization (BatchNorma (None, 80, 768)      3072        multiply[0][0]                   \n",
            "__________________________________________________________________________________________________\n",
            "bidirectional_3 (Bidirectional) (None, 80, 512)      2099200     bidirectional_2[0][0]            \n",
            "__________________________________________________________________________________________________\n",
            "bidirectional_6 (Bidirectional) (None, 80, 512)      1575936     batch_normalization[0][0]        \n",
            "__________________________________________________________________________________________________\n",
            "multiply_1 (Multiply)           (None, 80, 512)      0           bidirectional_3[0][0]            \n",
            "                                                                 bidirectional_6[0][0]            \n",
            "__________________________________________________________________________________________________\n",
            "batch_normalization_1 (BatchNor (None, 80, 512)      2048        multiply_1[0][0]                 \n",
            "__________________________________________________________________________________________________\n",
            "bidirectional_4 (Bidirectional) (None, 80, 256)      656384      bidirectional_3[0][0]            \n",
            "__________________________________________________________________________________________________\n",
            "bidirectional_7 (Bidirectional) (None, 80, 256)      493056      batch_normalization_1[0][0]      \n",
            "__________________________________________________________________________________________________\n",
            "multiply_2 (Multiply)           (None, 80, 256)      0           bidirectional_4[0][0]            \n",
            "                                                                 bidirectional_7[0][0]            \n",
            "__________________________________________________________________________________________________\n",
            "batch_normalization_2 (BatchNor (None, 80, 256)      1024        multiply_2[0][0]                 \n",
            "__________________________________________________________________________________________________\n",
            "bidirectional_8 (Bidirectional) (None, 80, 128)      123648      batch_normalization_2[0][0]      \n",
            "__________________________________________________________________________________________________\n",
            "concatenate (Concatenate)       (None, 80, 1920)     0           bidirectional_4[0][0]            \n",
            "                                                                 bidirectional_5[0][0]            \n",
            "                                                                 bidirectional_6[0][0]            \n",
            "                                                                 bidirectional_7[0][0]            \n",
            "                                                                 bidirectional_8[0][0]            \n",
            "__________________________________________________________________________________________________\n",
            "dense (Dense)                   (None, 80, 128)      245888      concatenate[0][0]                \n",
            "__________________________________________________________________________________________________\n",
            "dense_1 (Dense)                 (None, 80, 1)        129         dense[0][0]                      \n",
            "__________________________________________________________________________________________________\n",
            "scale_layer (ScaleLayer)        (None, 80, 1)        0           dense_1[0][0]                    \n",
            "==================================================================================================\n",
            "Total params: 26,300,417\n",
            "Trainable params: 26,297,345\n",
            "Non-trainable params: 3,072\n",
            "__________________________________________________________________________________________________\n"
          ]
        }
      ]
    },
    {
      "cell_type": "code",
      "metadata": {
        "colab": {
          "base_uri": "https://localhost:8080/",
          "height": 1000
        },
        "id": "e-M0ZMvC9co3",
        "outputId": "99a92d62-efe6-4280-adbf-800817d324d9"
      },
      "source": [
        "plot_model(\n",
        "    model, \n",
        "    to_file='Google_Brain_Keras_Model.png', \n",
        "    show_shapes=True,\n",
        "    show_layer_names=True\n",
        ")\n"
      ],
      "execution_count": 19,
      "outputs": [
        {
          "output_type": "execute_result",
          "data": {
            "image/png": "[encoded data removed]",
            "text/plain": [
              "<IPython.core.display.Image object>"
            ]
          },
          "metadata": {},
          "execution_count": 19
        }
      ]
    },
    {
      "cell_type": "code",
      "metadata": {
        "colab": {
          "base_uri": "https://localhost:8080/"
        },
        "id": "rxWQVBYm-0VK",
        "outputId": "8a6a4920-71d6-447d-8a4c-cc8ab5038d2c"
      },
      "source": [
        "del model\n",
        "gc.collect()"
      ],
      "execution_count": 20,
      "outputs": [
        {
          "output_type": "execute_result",
          "data": {
            "text/plain": [
              "25603"
            ]
          },
          "metadata": {},
          "execution_count": 20
        }
      ]
    },
    {
      "cell_type": "code",
      "metadata": {
        "id": "u1v9SMji9co3"
      },
      "source": [
        "#reset Keras Session\n",
        "def reset_keras():\n",
        "    sess = tf.compat.v1.keras.backend.get_session()\n",
        "    tf.compat.v1.keras.backend.clear_session()\n",
        "    sess.close()\n",
        "    sess = tf.compat.v1.keras.backend.get_session()\n",
        "\n",
        "    # use the same config as you used to create the session\n",
        "    config = tf.compat.v1.ConfigProto()\n",
        "    config.gpu_options.per_process_gpu_memory_fraction = 1\n",
        "    config.gpu_options.visible_device_list = \"0\"\n",
        "    tf.compat.v1.keras.backend.set_session(tf.compat.v1.Session(config=config))\n",
        "    gc.collect()\n",
        "\n",
        "reset_keras()"
      ],
      "execution_count": 21,
      "outputs": []
    },
    {
      "cell_type": "code",
      "metadata": {
        "id": "qDsDMBnE9co3"
      },
      "source": [
        "train_pred = np.zeros(targets.shape)"
      ],
      "execution_count": 22,
      "outputs": []
    },
    {
      "cell_type": "code",
      "metadata": {
        "colab": {
          "base_uri": "https://localhost:8080/",
          "height": 1000
        },
        "id": "SYJkCi1-9co3",
        "outputId": "f5b68499-75f4-435f-85fc-8358809366ac"
      },
      "source": [
        "with tpu_strategy.scope():\n",
        "    \n",
        "    VERBOSE = 1\n",
        "    EPOCHS = 300\n",
        "    FOLDS = 7\n",
        "    if DEBUG:\n",
        "      EPOCHS = 100\n",
        "    test_preds = []\n",
        "    kf = KFold(n_splits=FOLDS, shuffle=True, random_state=2021)\n",
        "    \n",
        "    for fold, (train_idx, test_idx) in enumerate(kf.split(train, targets)):\n",
        "        if DEBUG and fold > 0:\n",
        "          continue\n",
        "        X_train, X_valid = train[train_idx], train[test_idx]\n",
        "        y_train, y_valid = targets[train_idx], targets[test_idx]\n",
        "        \n",
        "        model = dnn_model()\n",
        "        model.compile(optimizer=\"adam\", loss=\"mae\")\n",
        "\n",
        "        lr = ReduceLROnPlateau(monitor=\"val_loss\", factor=0.75, \n",
        "                               patience=10, verbose=VERBOSE)\n",
        "        \n",
        "        chk_point = ModelCheckpoint(f'./Bidirect_LSTM_model_{fold+1}C.h5',\n",
        "                                    monitor='val_loss', verbose=VERBOSE, \n",
        "                                    save_best_only=True, mode='min')\n",
        "\n",
        "        es = EarlyStopping(monitor=\"val_loss\", patience=50, \n",
        "                           verbose=VERBOSE, mode=\"min\", \n",
        "                           restore_best_weights=True)\n",
        "        \n",
        "        model.fit(X_train, y_train, \n",
        "                  validation_data=(X_valid, y_valid), \n",
        "                  epochs=EPOCHS,\n",
        "                  verbose=VERBOSE,\n",
        "                  batch_size=BATCH_SIZE, \n",
        "                  callbacks=[lr, chk_point, es])\n",
        "        \n",
        "        y_true = y_valid.squeeze().reshape(-1, 1)\n",
        "        y_pred = model.predict(X_valid, batch_size=BATCH_SIZE).squeeze().reshape(-1, 1)\n",
        "        train_pred[test_idx] = y_pred.reshape(-1, 80)\n",
        "        score = mean_absolute_error(y_true, y_pred)\n",
        "        print(f\"Fold-{fold+1} | OOF Score: {score}\")\n",
        "        \n",
        "        test_preds.append(model.predict(test, batch_size=BATCH_SIZE).squeeze().reshape(-1, 1).squeeze())\n",
        "        \n",
        "        del X_train, X_valid, y_train, y_valid, model\n",
        "        reset_keras()\n",
        "        gc.collect()\n"
      ],
      "execution_count": 23,
      "outputs": [
        {
          "output_type": "stream",
          "name": "stdout",
          "text": [
            "Epoch 1/100\n",
            "17/17 [==============================] - 124s 4s/step - loss: 4.6040 - val_loss: 3.3819\n",
            "\n",
            "Epoch 00001: val_loss improved from inf to 3.38189, saving model to ./Bidirect_LSTM_model_1C.h5\n"
          ]
        },
        {
          "output_type": "stream",
          "name": "stderr",
          "text": [
            "/usr/local/lib/python3.7/dist-packages/keras/utils/generic_utils.py:497: CustomMaskWarning: Custom mask layers require a config and must override get_config. When loading, the custom mask layer must be passed to the custom_objects argument.\n",
            "  category=CustomMaskWarning)\n"
          ]
        },
        {
          "output_type": "stream",
          "name": "stdout",
          "text": [
            "Epoch 2/100\n",
            "17/17 [==============================] - 11s 660ms/step - loss: 1.8599 - val_loss: 2.6377\n",
            "\n",
            "Epoch 00002: val_loss improved from 3.38189 to 2.63775, saving model to ./Bidirect_LSTM_model_1C.h5\n",
            "Epoch 3/100\n",
            "17/17 [==============================] - 11s 658ms/step - loss: 1.2156 - val_loss: 2.2241\n",
            "\n",
            "Epoch 00003: val_loss improved from 2.63775 to 2.22405, saving model to ./Bidirect_LSTM_model_1C.h5\n",
            "Epoch 4/100\n",
            "17/17 [==============================] - 11s 659ms/step - loss: 0.9889 - val_loss: 2.2768\n",
            "\n",
            "Epoch 00004: val_loss did not improve from 2.22405\n",
            "Epoch 5/100\n",
            "17/17 [==============================] - 11s 659ms/step - loss: 0.9191 - val_loss: 1.9717\n",
            "\n",
            "Epoch 00005: val_loss improved from 2.22405 to 1.97167, saving model to ./Bidirect_LSTM_model_1C.h5\n",
            "Epoch 6/100\n",
            "17/17 [==============================] - 11s 657ms/step - loss: 0.7888 - val_loss: 1.8194\n",
            "\n",
            "Epoch 00006: val_loss improved from 1.97167 to 1.81942, saving model to ./Bidirect_LSTM_model_1C.h5\n",
            "Epoch 7/100\n",
            "17/17 [==============================] - 11s 658ms/step - loss: 0.7089 - val_loss: 1.5527\n",
            "\n",
            "Epoch 00007: val_loss improved from 1.81942 to 1.55269, saving model to ./Bidirect_LSTM_model_1C.h5\n",
            "Epoch 8/100\n",
            "17/17 [==============================] - 11s 659ms/step - loss: 0.7395 - val_loss: 1.3880\n",
            "\n",
            "Epoch 00008: val_loss improved from 1.55269 to 1.38802, saving model to ./Bidirect_LSTM_model_1C.h5\n",
            "Epoch 9/100\n",
            "17/17 [==============================] - 11s 658ms/step - loss: 0.6201 - val_loss: 1.5101\n",
            "\n",
            "Epoch 00009: val_loss did not improve from 1.38802\n",
            "Epoch 10/100\n",
            "17/17 [==============================] - 11s 659ms/step - loss: 0.6283 - val_loss: 1.4220\n",
            "\n",
            "Epoch 00010: val_loss did not improve from 1.38802\n",
            "Epoch 11/100\n",
            "17/17 [==============================] - 11s 659ms/step - loss: 0.6509 - val_loss: 1.4064\n",
            "\n",
            "Epoch 00011: val_loss did not improve from 1.38802\n",
            "Epoch 12/100\n",
            "17/17 [==============================] - 11s 657ms/step - loss: 0.5688 - val_loss: 1.1374\n",
            "\n",
            "Epoch 00012: val_loss improved from 1.38802 to 1.13745, saving model to ./Bidirect_LSTM_model_1C.h5\n",
            "Epoch 13/100\n",
            "17/17 [==============================] - 11s 659ms/step - loss: 0.6078 - val_loss: 1.0454\n",
            "\n",
            "Epoch 00013: val_loss improved from 1.13745 to 1.04541, saving model to ./Bidirect_LSTM_model_1C.h5\n",
            "Epoch 14/100\n",
            "17/17 [==============================] - 11s 659ms/step - loss: 0.5915 - val_loss: 1.0258\n",
            "\n",
            "Epoch 00014: val_loss improved from 1.04541 to 1.02582, saving model to ./Bidirect_LSTM_model_1C.h5\n",
            "Epoch 15/100\n",
            "17/17 [==============================] - 11s 660ms/step - loss: 0.6213 - val_loss: 0.9135\n",
            "\n",
            "Epoch 00015: val_loss improved from 1.02582 to 0.91347, saving model to ./Bidirect_LSTM_model_1C.h5\n",
            "Epoch 16/100\n",
            "17/17 [==============================] - 11s 658ms/step - loss: 0.5574 - val_loss: 0.8703\n",
            "\n",
            "Epoch 00016: val_loss improved from 0.91347 to 0.87032, saving model to ./Bidirect_LSTM_model_1C.h5\n",
            "Epoch 17/100\n",
            "17/17 [==============================] - 11s 659ms/step - loss: 0.5343 - val_loss: 0.7780\n",
            "\n",
            "Epoch 00017: val_loss improved from 0.87032 to 0.77798, saving model to ./Bidirect_LSTM_model_1C.h5\n",
            "Epoch 18/100\n",
            "17/17 [==============================] - 11s 659ms/step - loss: 0.5310 - val_loss: 0.8673\n",
            "\n",
            "Epoch 00018: val_loss did not improve from 0.77798\n",
            "Epoch 19/100\n",
            "17/17 [==============================] - 11s 659ms/step - loss: 0.4925 - val_loss: 0.6301\n",
            "\n",
            "Epoch 00019: val_loss improved from 0.77798 to 0.63011, saving model to ./Bidirect_LSTM_model_1C.h5\n",
            "Epoch 20/100\n",
            "17/17 [==============================] - 11s 657ms/step - loss: 0.4835 - val_loss: 0.8279\n",
            "\n",
            "Epoch 00020: val_loss did not improve from 0.63011\n",
            "Epoch 21/100\n",
            "17/17 [==============================] - 11s 659ms/step - loss: 0.4940 - val_loss: 0.6528\n",
            "\n",
            "Epoch 00021: val_loss did not improve from 0.63011\n",
            "Epoch 22/100\n",
            "17/17 [==============================] - 11s 658ms/step - loss: 0.5110 - val_loss: 0.6410\n",
            "\n",
            "Epoch 00022: val_loss did not improve from 0.63011\n",
            "Epoch 23/100\n",
            "17/17 [==============================] - 11s 658ms/step - loss: 0.4590 - val_loss: 0.5350\n",
            "\n",
            "Epoch 00023: val_loss improved from 0.63011 to 0.53502, saving model to ./Bidirect_LSTM_model_1C.h5\n",
            "Epoch 24/100\n",
            "17/17 [==============================] - 11s 666ms/step - loss: 0.4510 - val_loss: 0.5126\n",
            "\n",
            "Epoch 00024: val_loss improved from 0.53502 to 0.51259, saving model to ./Bidirect_LSTM_model_1C.h5\n",
            "Epoch 25/100\n",
            "17/17 [==============================] - 11s 659ms/step - loss: 0.4511 - val_loss: 0.5076\n",
            "\n",
            "Epoch 00025: val_loss improved from 0.51259 to 0.50758, saving model to ./Bidirect_LSTM_model_1C.h5\n",
            "Epoch 26/100\n",
            "17/17 [==============================] - 11s 659ms/step - loss: 0.4547 - val_loss: 0.4987\n",
            "\n",
            "Epoch 00026: val_loss improved from 0.50758 to 0.49868, saving model to ./Bidirect_LSTM_model_1C.h5\n",
            "Epoch 27/100\n",
            "17/17 [==============================] - 11s 657ms/step - loss: 0.4561 - val_loss: 0.5597\n",
            "\n",
            "Epoch 00027: val_loss did not improve from 0.49868\n",
            "Epoch 28/100\n",
            "17/17 [==============================] - 11s 658ms/step - loss: 0.4355 - val_loss: 0.4621\n",
            "\n",
            "Epoch 00028: val_loss improved from 0.49868 to 0.46209, saving model to ./Bidirect_LSTM_model_1C.h5\n",
            "Epoch 29/100\n",
            "17/17 [==============================] - 11s 657ms/step - loss: 0.4290 - val_loss: 0.5296\n",
            "\n",
            "Epoch 00029: val_loss did not improve from 0.46209\n",
            "Epoch 30/100\n",
            "17/17 [==============================] - 11s 658ms/step - loss: 0.4061 - val_loss: 0.4315\n",
            "\n",
            "Epoch 00030: val_loss improved from 0.46209 to 0.43151, saving model to ./Bidirect_LSTM_model_1C.h5\n",
            "Epoch 31/100\n",
            "17/17 [==============================] - 11s 659ms/step - loss: 0.4065 - val_loss: 0.4455\n",
            "\n",
            "Epoch 00031: val_loss did not improve from 0.43151\n",
            "Epoch 32/100\n",
            "17/17 [==============================] - 11s 658ms/step - loss: 0.4103 - val_loss: 0.4538\n",
            "\n",
            "Epoch 00032: val_loss did not improve from 0.43151\n",
            "Epoch 33/100\n",
            "17/17 [==============================] - 11s 658ms/step - loss: 0.4026 - val_loss: 0.5170\n",
            "\n",
            "Epoch 00033: val_loss did not improve from 0.43151\n",
            "Epoch 34/100\n",
            "17/17 [==============================] - 11s 661ms/step - loss: 0.4126 - val_loss: 0.4200\n",
            "\n",
            "Epoch 00034: val_loss improved from 0.43151 to 0.41999, saving model to ./Bidirect_LSTM_model_1C.h5\n",
            "Epoch 35/100\n",
            "17/17 [==============================] - 11s 659ms/step - loss: 0.3983 - val_loss: 0.5251\n",
            "\n",
            "Epoch 00035: val_loss did not improve from 0.41999\n",
            "Epoch 36/100\n",
            "17/17 [==============================] - 11s 659ms/step - loss: 0.4160 - val_loss: 0.4656\n",
            "\n",
            "Epoch 00036: val_loss did not improve from 0.41999\n",
            "Epoch 37/100\n",
            "17/17 [==============================] - 11s 661ms/step - loss: 0.3953 - val_loss: 0.4526\n",
            "\n",
            "Epoch 00037: val_loss did not improve from 0.41999\n",
            "Epoch 38/100\n",
            "17/17 [==============================] - 11s 659ms/step - loss: 0.3793 - val_loss: 0.4089\n",
            "\n",
            "Epoch 00038: val_loss improved from 0.41999 to 0.40889, saving model to ./Bidirect_LSTM_model_1C.h5\n",
            "Epoch 39/100\n",
            "17/17 [==============================] - 11s 658ms/step - loss: 0.4070 - val_loss: 0.3954\n",
            "\n",
            "Epoch 00039: val_loss improved from 0.40889 to 0.39541, saving model to ./Bidirect_LSTM_model_1C.h5\n",
            "Epoch 40/100\n",
            "17/17 [==============================] - 11s 661ms/step - loss: 0.4091 - val_loss: 0.4829\n",
            "\n",
            "Epoch 00040: val_loss did not improve from 0.39541\n",
            "Epoch 41/100\n",
            "17/17 [==============================] - 11s 657ms/step - loss: 0.4215 - val_loss: 0.4494\n",
            "\n",
            "Epoch 00041: val_loss did not improve from 0.39541\n",
            "Epoch 42/100\n",
            "17/17 [==============================] - 12s 693ms/step - loss: 0.3852 - val_loss: 0.4254\n",
            "\n",
            "Epoch 00042: val_loss did not improve from 0.39541\n",
            "Epoch 43/100\n",
            "17/17 [==============================] - 11s 658ms/step - loss: 0.3751 - val_loss: 0.4631\n",
            "\n",
            "Epoch 00043: val_loss did not improve from 0.39541\n",
            "Epoch 44/100\n",
            "17/17 [==============================] - 11s 659ms/step - loss: 0.3585 - val_loss: 0.3844\n",
            "\n",
            "Epoch 00044: val_loss improved from 0.39541 to 0.38439, saving model to ./Bidirect_LSTM_model_1C.h5\n",
            "Epoch 45/100\n",
            "17/17 [==============================] - 11s 659ms/step - loss: 0.3366 - val_loss: 0.3854\n",
            "\n",
            "Epoch 00045: val_loss did not improve from 0.38439\n",
            "Epoch 46/100\n",
            "17/17 [==============================] - 11s 660ms/step - loss: 0.3700 - val_loss: 0.3930\n",
            "\n",
            "Epoch 00046: val_loss did not improve from 0.38439\n",
            "Epoch 47/100\n",
            "17/17 [==============================] - 11s 657ms/step - loss: 0.3547 - val_loss: 0.4107\n",
            "\n",
            "Epoch 00047: val_loss did not improve from 0.38439\n",
            "Epoch 48/100\n",
            "17/17 [==============================] - 11s 662ms/step - loss: 0.3331 - val_loss: 0.3743\n",
            "\n",
            "Epoch 00048: val_loss improved from 0.38439 to 0.37435, saving model to ./Bidirect_LSTM_model_1C.h5\n",
            "Epoch 49/100\n",
            "17/17 [==============================] - 11s 659ms/step - loss: 0.3248 - val_loss: 0.3696\n",
            "\n",
            "Epoch 00049: val_loss improved from 0.37435 to 0.36959, saving model to ./Bidirect_LSTM_model_1C.h5\n",
            "Epoch 50/100\n",
            "17/17 [==============================] - 11s 659ms/step - loss: 0.3326 - val_loss: 0.4068\n",
            "\n",
            "Epoch 00050: val_loss did not improve from 0.36959\n",
            "Epoch 51/100\n",
            "17/17 [==============================] - 11s 659ms/step - loss: 0.3358 - val_loss: 0.3888\n",
            "\n",
            "Epoch 00051: val_loss did not improve from 0.36959\n",
            "Epoch 52/100\n",
            "17/17 [==============================] - 11s 659ms/step - loss: 0.3394 - val_loss: 0.3973\n",
            "\n",
            "Epoch 00052: val_loss did not improve from 0.36959\n",
            "Epoch 53/100\n",
            "17/17 [==============================] - 11s 658ms/step - loss: 0.3187 - val_loss: 0.3663\n",
            "\n",
            "Epoch 00053: val_loss improved from 0.36959 to 0.36625, saving model to ./Bidirect_LSTM_model_1C.h5\n",
            "Epoch 54/100\n",
            "17/17 [==============================] - 11s 659ms/step - loss: 0.3209 - val_loss: 0.3628\n",
            "\n",
            "Epoch 00054: val_loss improved from 0.36625 to 0.36279, saving model to ./Bidirect_LSTM_model_1C.h5\n",
            "Epoch 55/100\n",
            "17/17 [==============================] - 11s 660ms/step - loss: 0.3035 - val_loss: 0.3557\n",
            "\n",
            "Epoch 00055: val_loss improved from 0.36279 to 0.35574, saving model to ./Bidirect_LSTM_model_1C.h5\n",
            "Epoch 56/100\n",
            "17/17 [==============================] - 11s 659ms/step - loss: 0.3044 - val_loss: 0.3744\n",
            "\n",
            "Epoch 00056: val_loss did not improve from 0.35574\n",
            "Epoch 57/100\n",
            "17/17 [==============================] - 11s 658ms/step - loss: 0.3156 - val_loss: 0.3867\n",
            "\n",
            "Epoch 00057: val_loss did not improve from 0.35574\n",
            "Epoch 58/100\n",
            "17/17 [==============================] - 11s 660ms/step - loss: 0.3149 - val_loss: 0.3971\n",
            "\n",
            "Epoch 00058: val_loss did not improve from 0.35574\n",
            "Epoch 59/100\n",
            "17/17 [==============================] - 11s 659ms/step - loss: 0.3198 - val_loss: 0.3779\n",
            "\n",
            "Epoch 00059: val_loss did not improve from 0.35574\n",
            "Epoch 60/100\n",
            "17/17 [==============================] - 11s 658ms/step - loss: 0.3095 - val_loss: 0.3554\n",
            "\n",
            "Epoch 00060: val_loss improved from 0.35574 to 0.35538, saving model to ./Bidirect_LSTM_model_1C.h5\n",
            "Epoch 61/100\n",
            "17/17 [==============================] - 11s 660ms/step - loss: 0.2973 - val_loss: 0.3549\n",
            "\n",
            "Epoch 00061: val_loss improved from 0.35538 to 0.35492, saving model to ./Bidirect_LSTM_model_1C.h5\n",
            "Epoch 62/100\n",
            "17/17 [==============================] - 11s 659ms/step - loss: 0.3047 - val_loss: 0.3797\n",
            "\n",
            "Epoch 00062: val_loss did not improve from 0.35492\n",
            "Epoch 63/100\n",
            "17/17 [==============================] - 11s 658ms/step - loss: 0.3065 - val_loss: 0.4312\n",
            "\n",
            "Epoch 00063: val_loss did not improve from 0.35492\n",
            "Epoch 64/100\n",
            "17/17 [==============================] - 11s 662ms/step - loss: 0.3412 - val_loss: 0.4107\n",
            "\n",
            "Epoch 00064: val_loss did not improve from 0.35492\n",
            "Epoch 65/100\n",
            "17/17 [==============================] - 11s 658ms/step - loss: 0.3283 - val_loss: 0.3725\n",
            "\n",
            "Epoch 00065: val_loss did not improve from 0.35492\n",
            "Epoch 66/100\n",
            "17/17 [==============================] - 11s 658ms/step - loss: 0.2964 - val_loss: 0.3869\n",
            "\n",
            "Epoch 00066: val_loss did not improve from 0.35492\n",
            "Epoch 67/100\n",
            "17/17 [==============================] - 11s 659ms/step - loss: 0.3029 - val_loss: 0.3663\n",
            "\n",
            "Epoch 00067: val_loss did not improve from 0.35492\n",
            "Epoch 68/100\n",
            "17/17 [==============================] - 11s 659ms/step - loss: 0.2980 - val_loss: 0.3474\n",
            "\n",
            "Epoch 00068: val_loss improved from 0.35492 to 0.34741, saving model to ./Bidirect_LSTM_model_1C.h5\n",
            "Epoch 69/100\n",
            "17/17 [==============================] - 11s 660ms/step - loss: 0.2790 - val_loss: 0.3508\n",
            "\n",
            "Epoch 00069: val_loss did not improve from 0.34741\n",
            "Epoch 70/100\n",
            "17/17 [==============================] - 11s 660ms/step - loss: 0.2813 - val_loss: 0.3547\n",
            "\n",
            "Epoch 00070: val_loss did not improve from 0.34741\n",
            "Epoch 71/100\n",
            "17/17 [==============================] - 11s 659ms/step - loss: 0.2718 - val_loss: 0.3414\n",
            "\n",
            "Epoch 00071: val_loss improved from 0.34741 to 0.34138, saving model to ./Bidirect_LSTM_model_1C.h5\n",
            "Epoch 72/100\n",
            "17/17 [==============================] - 11s 658ms/step - loss: 0.2988 - val_loss: 0.3725\n",
            "\n",
            "Epoch 00072: val_loss did not improve from 0.34138\n",
            "Epoch 73/100\n",
            "17/17 [==============================] - 11s 661ms/step - loss: 0.2834 - val_loss: 0.3507\n",
            "\n",
            "Epoch 00073: val_loss did not improve from 0.34138\n",
            "Epoch 74/100\n",
            "17/17 [==============================] - 11s 661ms/step - loss: 0.2897 - val_loss: 0.3447\n",
            "\n",
            "Epoch 00074: val_loss did not improve from 0.34138\n",
            "Epoch 75/100\n",
            "17/17 [==============================] - 11s 660ms/step - loss: 0.2888 - val_loss: 0.3603\n",
            "\n",
            "Epoch 00075: val_loss did not improve from 0.34138\n",
            "Epoch 76/100\n",
            "17/17 [==============================] - 11s 659ms/step - loss: 0.2814 - val_loss: 0.3380\n",
            "\n",
            "Epoch 00076: val_loss improved from 0.34138 to 0.33799, saving model to ./Bidirect_LSTM_model_1C.h5\n",
            "Epoch 77/100\n",
            "17/17 [==============================] - 11s 658ms/step - loss: 0.2753 - val_loss: 0.3376\n",
            "\n",
            "Epoch 00077: val_loss improved from 0.33799 to 0.33761, saving model to ./Bidirect_LSTM_model_1C.h5\n",
            "Epoch 78/100\n",
            "17/17 [==============================] - 11s 661ms/step - loss: 0.2767 - val_loss: 0.3661\n",
            "\n",
            "Epoch 00078: val_loss did not improve from 0.33761\n",
            "Epoch 79/100\n",
            "17/17 [==============================] - 11s 659ms/step - loss: 0.2686 - val_loss: 0.3407\n",
            "\n",
            "Epoch 00079: val_loss did not improve from 0.33761\n",
            "Epoch 80/100\n",
            "17/17 [==============================] - 11s 659ms/step - loss: 0.2584 - val_loss: 0.3394\n",
            "\n",
            "Epoch 00080: val_loss did not improve from 0.33761\n",
            "Epoch 81/100\n",
            "17/17 [==============================] - 11s 660ms/step - loss: 0.2805 - val_loss: 0.3462\n",
            "\n",
            "Epoch 00081: val_loss did not improve from 0.33761\n",
            "Epoch 82/100\n",
            "17/17 [==============================] - 11s 660ms/step - loss: 0.2620 - val_loss: 0.3294\n",
            "\n",
            "Epoch 00082: val_loss improved from 0.33761 to 0.32941, saving model to ./Bidirect_LSTM_model_1C.h5\n",
            "Epoch 83/100\n",
            "17/17 [==============================] - 11s 657ms/step - loss: 0.2625 - val_loss: 0.3421\n",
            "\n",
            "Epoch 00083: val_loss did not improve from 0.32941\n",
            "Epoch 84/100\n",
            "17/17 [==============================] - 11s 660ms/step - loss: 0.2660 - val_loss: 0.3596\n",
            "\n",
            "Epoch 00084: val_loss did not improve from 0.32941\n",
            "Epoch 85/100\n",
            "17/17 [==============================] - 11s 657ms/step - loss: 0.2711 - val_loss: 0.3794\n",
            "\n",
            "Epoch 00085: val_loss did not improve from 0.32941\n",
            "Epoch 86/100\n",
            "17/17 [==============================] - 11s 659ms/step - loss: 0.2749 - val_loss: 0.3609\n",
            "\n",
            "Epoch 00086: val_loss did not improve from 0.32941\n",
            "Epoch 87/100\n",
            "17/17 [==============================] - 11s 658ms/step - loss: 0.2656 - val_loss: 0.3476\n",
            "\n",
            "Epoch 00087: val_loss did not improve from 0.32941\n",
            "Epoch 88/100\n",
            "17/17 [==============================] - 11s 658ms/step - loss: 0.2531 - val_loss: 0.3330\n",
            "\n",
            "Epoch 00088: val_loss did not improve from 0.32941\n",
            "Epoch 89/100\n",
            "17/17 [==============================] - 11s 658ms/step - loss: 0.2597 - val_loss: 0.3670\n",
            "\n",
            "Epoch 00089: val_loss did not improve from 0.32941\n",
            "Epoch 90/100\n",
            "17/17 [==============================] - 11s 659ms/step - loss: 0.2636 - val_loss: 0.3357\n",
            "\n",
            "Epoch 00090: val_loss did not improve from 0.32941\n",
            "Epoch 91/100\n",
            "17/17 [==============================] - 11s 658ms/step - loss: 0.2567 - val_loss: 0.3249\n",
            "\n",
            "Epoch 00091: val_loss improved from 0.32941 to 0.32488, saving model to ./Bidirect_LSTM_model_1C.h5\n",
            "Epoch 92/100\n",
            "17/17 [==============================] - 11s 658ms/step - loss: 0.2467 - val_loss: 0.3386\n",
            "\n",
            "Epoch 00092: val_loss did not improve from 0.32488\n",
            "Epoch 93/100\n",
            "17/17 [==============================] - 11s 659ms/step - loss: 0.2554 - val_loss: 0.3476\n",
            "\n",
            "Epoch 00093: val_loss did not improve from 0.32488\n",
            "Epoch 94/100\n",
            "17/17 [==============================] - 11s 657ms/step - loss: 0.2939 - val_loss: 0.3669\n",
            "\n",
            "Epoch 00094: val_loss did not improve from 0.32488\n",
            "Epoch 95/100\n",
            "17/17 [==============================] - 11s 659ms/step - loss: 0.2633 - val_loss: 0.3300\n",
            "\n",
            "Epoch 00095: val_loss did not improve from 0.32488\n",
            "Epoch 96/100\n",
            "17/17 [==============================] - 11s 658ms/step - loss: 0.2548 - val_loss: 0.3392\n",
            "\n",
            "Epoch 00096: val_loss did not improve from 0.32488\n",
            "Epoch 97/100\n",
            "17/17 [==============================] - 11s 658ms/step - loss: 0.2554 - val_loss: 0.3167\n",
            "\n",
            "Epoch 00097: val_loss improved from 0.32488 to 0.31665, saving model to ./Bidirect_LSTM_model_1C.h5\n",
            "Epoch 98/100\n",
            "17/17 [==============================] - 11s 659ms/step - loss: 0.2343 - val_loss: 0.3199\n",
            "\n",
            "Epoch 00098: val_loss did not improve from 0.31665\n",
            "Epoch 99/100\n",
            "17/17 [==============================] - 11s 658ms/step - loss: 0.2392 - val_loss: 0.3220\n",
            "\n",
            "Epoch 00099: val_loss did not improve from 0.31665\n",
            "Epoch 100/100\n",
            "17/17 [==============================] - 11s 658ms/step - loss: 0.2363 - val_loss: 0.3235\n",
            "\n",
            "Epoch 00100: val_loss did not improve from 0.31665\n",
            "Fold-1 | OOF Score: 0.32352821814565763\n"
          ]
        },
        {
          "output_type": "error",
          "ename": "IndexError",
          "evalue": "ignored",
          "traceback": [
            "\u001b[0;31m---------------------------------------------------------------------------\u001b[0m",
            "\u001b[0;31mIndexError\u001b[0m                                Traceback (most recent call last)",
            "\u001b[0;32m<ipython-input-23-bdfa31dd6938>\u001b[0m in \u001b[0;36m<module>\u001b[0;34m()\u001b[0m\n\u001b[1;32m     47\u001b[0m \u001b[0;34m\u001b[0m\u001b[0m\n\u001b[1;32m     48\u001b[0m         \u001b[0;32mif\u001b[0m \u001b[0mDEBUG\u001b[0m\u001b[0;34m:\u001b[0m\u001b[0;34m\u001b[0m\u001b[0;34m\u001b[0m\u001b[0m\n\u001b[0;32m---> 49\u001b[0;31m           \u001b[0;32mbreak\u001b[0m\u001b[0;34m\u001b[0m\u001b[0;34m\u001b[0m\u001b[0m\n\u001b[0m",
            "\u001b[0;32m/usr/local/lib/python3.7/dist-packages/tensorflow/python/distribute/distribute_lib.py\u001b[0m in \u001b[0;36m__exit__\u001b[0;34m(self, exception_type, exception_value, traceback)\u001b[0m\n\u001b[1;32m    431\u001b[0m                          \"tf.distribute.set_strategy() out of `with` scope.\"),\n\u001b[1;32m    432\u001b[0m             e)\n\u001b[0;32m--> 433\u001b[0;31m     \u001b[0m_pop_per_thread_mode\u001b[0m\u001b[0;34m(\u001b[0m\u001b[0;34m)\u001b[0m\u001b[0;34m\u001b[0m\u001b[0;34m\u001b[0m\u001b[0m\n\u001b[0m\u001b[1;32m    434\u001b[0m \u001b[0;34m\u001b[0m\u001b[0m\n\u001b[1;32m    435\u001b[0m \u001b[0;34m\u001b[0m\u001b[0m\n",
            "\u001b[0;32m/usr/local/lib/python3.7/dist-packages/tensorflow/python/distribute/distribution_strategy_context.py\u001b[0m in \u001b[0;36m_pop_per_thread_mode\u001b[0;34m()\u001b[0m\n\u001b[1;32m     64\u001b[0m \u001b[0;34m\u001b[0m\u001b[0m\n\u001b[1;32m     65\u001b[0m \u001b[0;32mdef\u001b[0m \u001b[0m_pop_per_thread_mode\u001b[0m\u001b[0;34m(\u001b[0m\u001b[0;34m)\u001b[0m\u001b[0;34m:\u001b[0m\u001b[0;34m\u001b[0m\u001b[0;34m\u001b[0m\u001b[0m\n\u001b[0;32m---> 66\u001b[0;31m   \u001b[0mops\u001b[0m\u001b[0;34m.\u001b[0m\u001b[0mget_default_graph\u001b[0m\u001b[0;34m(\u001b[0m\u001b[0;34m)\u001b[0m\u001b[0;34m.\u001b[0m\u001b[0m_distribution_strategy_stack\u001b[0m\u001b[0;34m.\u001b[0m\u001b[0mpop\u001b[0m\u001b[0;34m(\u001b[0m\u001b[0;34m-\u001b[0m\u001b[0;36m1\u001b[0m\u001b[0;34m)\u001b[0m  \u001b[0;31m# pylint: disable=protected-access\u001b[0m\u001b[0;34m\u001b[0m\u001b[0;34m\u001b[0m\u001b[0m\n\u001b[0m\u001b[1;32m     67\u001b[0m \u001b[0;34m\u001b[0m\u001b[0m\n\u001b[1;32m     68\u001b[0m \u001b[0;34m\u001b[0m\u001b[0m\n",
            "\u001b[0;31mIndexError\u001b[0m: pop from empty list"
          ]
        }
      ]
    },
    {
      "cell_type": "code",
      "metadata": {
        "id": "fUanGPDq9co3"
      },
      "source": [
        "if not DEBUG:\n",
        "  train_pred = train_pred.flatten()\n",
        "  targets = targets.flatten()\n",
        "  score = mean_absolute_error(targets, train_pred)\n",
        "  print(f\"Train Score: {score}\")"
      ],
      "execution_count": null,
      "outputs": []
    },
    {
      "cell_type": "markdown",
      "metadata": {
        "id": "QHx2oF849co4"
      },
      "source": [
        "## Create submission file"
      ]
    },
    {
      "cell_type": "code",
      "metadata": {
        "id": "tS9VjV7K9co4"
      },
      "source": [
        "if not DEBUG:\n",
        "  submission = pd.read_csv('../input/ventilator-pressure-prediction/sample_submission.csv')\n",
        "  submission[\"pressure\"] = sum(test_preds)/5\n",
        "  submission.to_csv('submission.csv', index=False)\n",
        "\n",
        "  # ENSEMBLE FOLDS WITH MEDIAN\n",
        "  #取中位数\n",
        "  submission[\"pressure\"] = np.median(np.vstack(test_preds),axis=0)\n",
        "  submission.to_csv('submission_median.csv', index=False)\n",
        "\n",
        "\n",
        "  # ENSEMBLE FOLDS WITH MEDIAN AND ROUND PREDICTIONS\n",
        "  submission[\"pressure\"] =\\\n",
        "      np.round( (submission.pressure - pressure_min)/pressure_step ) * pressure_step + pressure_min\n",
        "  submission.pressure = np.clip(submission.pressure, pressure_min, pressure_max)\n",
        "  submission.to_csv('submission_median_round.csv', index=False)"
      ],
      "execution_count": null,
      "outputs": []
    }
  ]
}