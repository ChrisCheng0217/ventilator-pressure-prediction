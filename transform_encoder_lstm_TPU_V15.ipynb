{
  "nbformat": 4,
  "nbformat_minor": 0,
  "metadata": {
    "kernelspec": {
      "language": "python",
      "display_name": "Python 3",
      "name": "python3"
    },
    "language_info": {
      "name": "python",
      "version": "3.7.10",
      "mimetype": "text/x-python",
      "codemirror_mode": {
        "name": "ipython",
        "version": 3
      },
      "pygments_lexer": "ipython3",
      "nbconvert_exporter": "python",
      "file_extension": ".py"
    },
    "colab": {
      "name": "transform_encoder_lstm_TPU-V15.ipynb",
      "provenance": [],
      "collapsed_sections": [],
      "machine_shape": "hm",
      "include_colab_link": true
    },
    "accelerator": "TPU"
  },
  "cells": [
    {
      "cell_type": "markdown",
      "metadata": {
        "id": "view-in-github",
        "colab_type": "text"
      },
      "source": [
        "<a href=\"https://colab.research.google.com/github/bobbercheng/ventilator-pressure-prediction/blob/master/transform_encoder_lstm_TPU_V15.ipynb\" target=\"_parent\"><img src=\"https://colab.research.google.com/assets/colab-badge.svg\" alt=\"Open In Colab\"/></a>"
      ]
    },
    {
      "cell_type": "markdown",
      "metadata": {
        "id": "Yh6Zg50KJQBQ"
      },
      "source": [
        "V1: Keep R/C, improve\n",
        "\n",
        "V2: Add R**2, no improve\n",
        "\n",
        "V3: Update model from https://www.kaggle.com/dlaststark/gb-vpp-pulp-fiction. Not much improve compare V1\n",
        "\n",
        "V4: Use whole db for test Fold-1\n",
        "Fold-1 | OOF Score: 0.15912771348961205\n",
        "\n",
        "Run it again in Kaggle:\n",
        "\n",
        "Fold-1 | OOF Score: 0.1606402072946816\n",
        "\n",
        "V5: Add loading ScaleLayer from saved model\n",
        "\n",
        "V6: Add TransformerEncoder. TransformerEncoder(128, 512, 8, name=\"transformer_layer\")(x). Testing in GPU.\n",
        "\n",
        "V7: Try to scale targe to 0-1, but it slow the train as MASE cannot be scaled.\n",
        "\n",
        "V8: Removed target scale.\n",
        "Epoch 00022: val_loss improved from 0.32912 to 0.30967, saving model to ./model-gpu/Bidirect_LSTM_model_1C.h5\n",
        "Epoch 23/150\n",
        "127/127 [==============================] - 161s 1s/step - loss: 0.3176 - val_loss: 0.2917\n",
        "\n",
        "Not Good as without TransformerEncoder. Change paramemter back to \n",
        "\n",
        "V8: Change attention result to multiple instead of concate.\n",
        "\n",
        "Loss is smaller than without LayerNormalization, but CV is bigger. It means it overfit the train data.\n",
        "\n",
        "TransformerEncoder(128, 512, 8, 0.3, name=\"transformer_layer\")\n",
        "\n",
        "Epoch 00181: val_loss did not improve from 0.16212\n",
        "Epoch 182/200\n",
        "127/127 [==============================] - 163s 1s/step - loss: 0.0448 - val_loss: 0.1655\n",
        "\n",
        "Epoch 00182: ReduceLROnPlateau reducing learning rate to 5.6313510867767036e-05.\n",
        "\n",
        "Epoch 00182: val_loss did not improve from 0.16212\n",
        "Restoring model weights from the end of the best epoch.\n",
        "Epoch 00182: early stopping\n",
        "Fold-1 | OOF Score: 0.16211654680482343\n",
        "\n",
        "V9: Increase attention dropout to 0.6, add 0.01 droupout to input\n",
        "Epoch 00123: ReduceLROnPlateau reducing learning rate to 0.00031640623637940735.\n",
        "\n",
        "Epoch 00123: val_loss did not improve from 0.16714\n",
        "Epoch 124/200\n",
        "127/127 - 161s - loss: 0.0838 - val_loss: 0.1694\n",
        "\n",
        "Epoch 00124: val_loss did not improve from 0.16714\n",
        "Epoch 125/200\n",
        "127/127 - 161s - loss: 0.0796 - val_loss: 0.1727\n",
        "\n",
        "V10: add TransformerEncoder to all layer with Multiply\n",
        "\n",
        "Epoch 164/200\n",
        "253/253 - 387s - loss: 0.0568 - val_loss: 0.1679\n",
        "\n",
        "Epoch 00164: val_loss did not improve from 0.16158\n",
        "Restoring model weights from the end of the best epoch.\n",
        "Epoch 00164: early stopping\n",
        "Fold-1 | OOF Score: 0.16158229343436334\n",
        "\n",
        "V10: analy_predict.\n",
        "\n",
        "Here is analyze result for V4:\n",
        "20__10 - MAE  0.16386306650915122, count: 25870\n",
        "20__20 - MAE  0.15764106283234391, count: 26272\n",
        "20__50 - MAE  0.16384391190488698, count: 34729\n",
        "50__10 - MAE  0.1585241009544335, count: 60574\n",
        "50__20 - MAE  0.24078390163257296, count: 37108\n",
        "50__50 - MAE  0.23760641023725088, count: 34699\n",
        "5__10 - MAE  0.15540978004136713, count: 36361\n",
        "5__20 - MAE  0.10102388763185534, count: 35935\n",
        "5__50 - MAE  0.11535413256937187, count: 35522\n",
        "\n",
        "\n",
        "V11: add dnn_model_GaussianNoise(), no improve\n",
        "\n",
        "Epoch 00183: val_loss did not improve from 0.16240\n",
        "Epoch 184/200\n",
        "127/127 - 150s - loss: 0.0498 - val_loss: 0.1642\n",
        "\n",
        "Epoch 00184: ReduceLROnPlateau reducing learning rate to 7.508467933803331e-05.\n",
        "\n",
        "Epoch 00184: val_loss did not improve from 0.16240\n",
        "Restoring model weights from the end of the best epoch.\n",
        "Epoch 00184: early stopping\n",
        "Fold-1 | OOF Score: 0.16240143234043636\n",
        "\n",
        "V12: dnn_model_aen(), use auto encoder to remove noise and learn encode.\n",
        "\n",
        "Epoch 200/200\n",
        "127/127 - 153s - loss: 4.1734 - decoder_loss: 3.8822 - ae_action_loss: 0.2257 - output_loss: 0.0654 - val_loss: 0.7126 - val_decoder_loss: 0.3742 - val_ae_action_loss: 0.1702 - val_output_loss: 0.1682\n",
        "\n",
        "Epoch 00200: val_loss did not improve from 0.69120\n",
        "\n",
        "Fold-1 | OOF Score: 0.16817480317739367\n",
        "20__10 - MAE  0.16644539428012722, count: 25870\n",
        "20__20 - MAE  0.15768315124243204, count: 26272\n",
        "20__50 - MAE  0.16684243562006307, count: 34729\n",
        "50__10 - MAE  0.16641273893399433, count: 60574\n",
        "50__20 - MAE  0.2518146440943941, count: 37108\n",
        "50__50 - MAE  0.2752187431993935, count: 34699\n",
        "5__10 - MAE  0.16763255549569941, count: 36361\n",
        "5__20 - MAE  0.10697168010290617, count: 35935\n",
        "5__50 - MAE  0.11503387157283243, count: 35522\n",
        "\n",
        "decoder_loss is very large. It means GaussianNoise() and dropout causes side effect.\n",
        "\n",
        "V13. Remove GaussianNoise and dropout, use encoder feature only. CV score is a little worse.\n",
        "\n",
        "Epoch 200/200\n",
        "127/127 - 150s - loss: 0.5841 - decoder_loss: 0.3983 - ae_action_loss: 0.1025 - output_loss: 0.0832 - val_loss: 0.4930 - val_decoder_loss: 0.1541 - val_ae_action_loss: 0.1693 - val_output_loss: 0.1696\n",
        "\n",
        "Epoch 00200: val_output_loss did not improve from 0.16793\n",
        "Fold-1 | OOF Score: 0.16959694784227083\n",
        "20__10 - MAE  0.18958046275757853, count: 25870\n",
        "20__20 - MAE  0.16960937531364753, count: 26272\n",
        "20__50 - MAE  0.1714088869810135, count: 34729\n",
        "50__10 - MAE  0.17159657573233353, count: 60574\n",
        "50__20 - MAE  0.2590598477978727, count: 37108\n",
        "50__50 - MAE  0.26932839218852966, count: 34699\n",
        "5__10 - MAE  0.16335297055531042, count: 36361\n",
        "5__20 - MAE  0.11217990298083265, count: 35935\n",
        "5__50 - MAE  0.12327488392594069, count: 35522\n",
        "\n",
        "V14: add RC_loss\n",
        "\n",
        "V15: change weight of RC_loss to 50\n",
        "Epoch 00209: val_loss did not improve from 2.45837\n",
        "Epoch 210/300\n",
        "Fold-1 | OOF Score: 0.1673458640660445\n",
        "20__10 - MAE  0.16871429221171652, count: 25870\n",
        "20__20 - MAE  0.17440932964643532, count: 26272\n",
        "20__50 - MAE  0.172235793440684, count: 34729\n",
        "50__10 - MAE  0.17126511889137416, count: 60574\n",
        "50__20 - MAE  0.2432283477323368, count: 37108\n",
        "50__50 - MAE  0.2597899337166222, count: 34699\n",
        "5__10 - MAE  0.16038654333096616, count: 36361\n",
        "5__20 - MAE  0.11624601028942623, count: 35935\n",
        "5__50 - MAE  0.12415466606839251, count: 35522\n",
        "\n",
        "V16: add transformer-lstm"
      ]
    },
    {
      "cell_type": "code",
      "metadata": {
        "id": "uslq2jL49nGk",
        "colab": {
          "base_uri": "https://localhost:8080/"
        },
        "outputId": "8b3a4c5d-145c-4afa-9ac4-fbcfaabf19eb"
      },
      "source": [
        "# Update pandas version for Colab TPU\n",
        "!pip install pandas==1.3.2"
      ],
      "execution_count": 44,
      "outputs": [
        {
          "output_type": "stream",
          "name": "stdout",
          "text": [
            "Requirement already satisfied: pandas==1.3.2 in /usr/local/lib/python3.7/dist-packages (1.3.2)\n",
            "Requirement already satisfied: pytz>=2017.3 in /usr/local/lib/python3.7/dist-packages (from pandas==1.3.2) (2018.9)\n",
            "Requirement already satisfied: python-dateutil>=2.7.3 in /usr/local/lib/python3.7/dist-packages (from pandas==1.3.2) (2.8.2)\n",
            "Requirement already satisfied: numpy>=1.17.3 in /usr/local/lib/python3.7/dist-packages (from pandas==1.3.2) (1.19.5)\n",
            "Requirement already satisfied: six>=1.5 in /usr/local/lib/python3.7/dist-packages (from python-dateutil>=2.7.3->pandas==1.3.2) (1.15.0)\n"
          ]
        }
      ]
    },
    {
      "cell_type": "markdown",
      "metadata": {
        "id": "RBJlpUNI9com"
      },
      "source": [
        "## Import libraries"
      ]
    },
    {
      "cell_type": "code",
      "metadata": {
        "id": "iXzLriPA9coq"
      },
      "source": [
        "try:\n",
        "  import google.colab\n",
        "  IN_COLAB = True\n",
        "except:\n",
        "  IN_COLAB = False\n",
        "\n",
        "LOAD_PRE_FEATURE = True"
      ],
      "execution_count": 3,
      "outputs": []
    },
    {
      "cell_type": "code",
      "metadata": {
        "colab": {
          "base_uri": "https://localhost:8080/"
        },
        "id": "9esF__aG9cor",
        "outputId": "8c913d7e-dade-4920-ce5b-50a366bf6448"
      },
      "source": [
        "if IN_COLAB:\n",
        "  from google.colab import drive\n",
        "  drive.mount(\"/gdrive\", force_remount=True)"
      ],
      "execution_count": 4,
      "outputs": [
        {
          "output_type": "stream",
          "name": "stdout",
          "text": [
            "Mounted at /gdrive\n"
          ]
        }
      ]
    },
    {
      "cell_type": "code",
      "metadata": {
        "colab": {
          "base_uri": "https://localhost:8080/"
        },
        "id": "MZ_f3Z2M9cos",
        "outputId": "2582e423-9036-4228-cbf3-4158530441b4"
      },
      "source": [
        "if IN_COLAB:\n",
        "  !pip install kaggle\n",
        "  !mkdir /root/.kaggle\n",
        "  !cp /gdrive/MyDrive/ventilator-pressure-prediction/kaggle.json /root/.kaggle\n",
        "  !kaggle competitions download -c ventilator-pressure-prediction\n",
        "  !kaggle datasets download -d  ventilatorpressurepredictionfeatures\n",
        "  !mkdir -p ../input/ventilator-pressure-prediction\n",
        "  !unzip '*.zip' -d ../input/ventilator-pressure-prediction\n",
        "  !ls ../input/ventilator-pressure-prediction\n",
        "  !mkdir -p ../input/ventilatorpressurepredictionfeatures/\n",
        "  !mv ../input/ventilator-pressure-prediction/*.npy ../input/ventilatorpressurepredictionfeatures\n",
        "  !mkdir /gdrive/MyDrive/ventilator-pressure-prediction/transformer_encoder_lstm_tpu\n",
        "  #Map Google driver folder to local folder model to save model\n",
        "  !ln -s /gdrive/MyDrive/ventilator-pressure-prediction/transformer_encoder_lstm_tpu model-gpu\n",
        "else:\n",
        "  !mkdir ./model-gpu\n",
        "  "
      ],
      "execution_count": 5,
      "outputs": [
        {
          "output_type": "stream",
          "name": "stdout",
          "text": [
            "Requirement already satisfied: kaggle in /usr/local/lib/python3.7/dist-packages (1.5.12)\n",
            "Requirement already satisfied: six>=1.10 in /usr/local/lib/python3.7/dist-packages (from kaggle) (1.15.0)\n",
            "Requirement already satisfied: certifi in /usr/local/lib/python3.7/dist-packages (from kaggle) (2021.5.30)\n",
            "Requirement already satisfied: python-dateutil in /usr/local/lib/python3.7/dist-packages (from kaggle) (2.8.2)\n",
            "Requirement already satisfied: urllib3 in /usr/local/lib/python3.7/dist-packages (from kaggle) (1.24.3)\n",
            "Requirement already satisfied: requests in /usr/local/lib/python3.7/dist-packages (from kaggle) (2.23.0)\n",
            "Requirement already satisfied: python-slugify in /usr/local/lib/python3.7/dist-packages (from kaggle) (5.0.2)\n",
            "Requirement already satisfied: tqdm in /usr/local/lib/python3.7/dist-packages (from kaggle) (4.62.3)\n",
            "Requirement already satisfied: text-unidecode>=1.3 in /usr/local/lib/python3.7/dist-packages (from python-slugify->kaggle) (1.3)\n",
            "Requirement already satisfied: chardet<4,>=3.0.2 in /usr/local/lib/python3.7/dist-packages (from requests->kaggle) (3.0.4)\n",
            "Requirement already satisfied: idna<3,>=2.5 in /usr/local/lib/python3.7/dist-packages (from requests->kaggle) (2.10)\n",
            "Warning: Looks like you're using an outdated API Version, please consider updating (server 1.5.12 / client 1.5.4)\n",
            "Downloading test.csv.zip to /content\n",
            " 88% 66.0M/75.4M [00:01<00:00, 48.5MB/s]\n",
            "100% 75.4M/75.4M [00:01<00:00, 65.0MB/s]\n",
            "Downloading train.csv.zip to /content\n",
            " 88% 123M/139M [00:01<00:00, 95.1MB/s]\n",
            "100% 139M/139M [00:01<00:00, 93.1MB/s]\n",
            "Downloading sample_submission.csv.zip to /content\n",
            "  0% 0.00/8.50M [00:00<?, ?B/s]\n",
            "100% 8.50M/8.50M [00:00<00:00, 78.0MB/s]\n",
            "Downloading ventilatorpressurepredictionfeatures.zip to /content\n",
            "100% 1.95G/1.95G [00:23<00:00, 89.3MB/s]\n",
            "100% 1.95G/1.95G [00:23<00:00, 89.1MB/s]\n",
            "Archive:  test.csv.zip\n",
            "  inflating: ../input/ventilator-pressure-prediction/test.csv  \n",
            "\n",
            "Archive:  sample_submission.csv.zip\n",
            "  inflating: ../input/ventilator-pressure-prediction/sample_submission.csv  \n",
            "\n",
            "Archive:  train.csv.zip\n",
            "  inflating: ../input/ventilator-pressure-prediction/train.csv  \n",
            "\n",
            "Archive:  ventilatorpressurepredictionfeatures.zip\n",
            "  inflating: ../input/ventilator-pressure-prediction/test.npy  \n",
            "  inflating: ../input/ventilator-pressure-prediction/train.npy  \n",
            "\n",
            "4 archives were successfully processed.\n",
            "sample_submission.csv  test.csv  test.npy  train.csv  train.npy\n"
          ]
        }
      ]
    },
    {
      "cell_type": "code",
      "metadata": {
        "execution": {
          "iopub.status.busy": "2021-10-21T17:30:55.782617Z",
          "iopub.execute_input": "2021-10-21T17:30:55.783998Z",
          "iopub.status.idle": "2021-10-21T17:30:55.793669Z",
          "shell.execute_reply.started": "2021-10-21T17:30:55.783937Z",
          "shell.execute_reply": "2021-10-21T17:30:55.792667Z"
        },
        "trusted": true,
        "id": "1TfjZidC9cos"
      },
      "source": [
        "import gc\n",
        "import numpy as np\n",
        "import pandas as pd\n",
        "import random\n",
        "import os\n",
        "from sklearn.model_selection import KFold\n",
        "from sklearn.preprocessing import RobustScaler, MinMaxScaler\n",
        "from sklearn.metrics import mean_absolute_error\n",
        "\n",
        "import tensorflow as tf\n",
        "gpus = tf.config.experimental.list_physical_devices('GPU')\n",
        "for gpu in gpus:\n",
        "  tf.config.experimental.set_memory_growth(gpu, True)\n",
        "from tensorflow.keras import backend as K\n",
        "\n",
        "from tensorflow.keras.utils import plot_model\n",
        "from tensorflow.keras.models import Model, load_model\n",
        "from tensorflow.keras.callbacks import EarlyStopping\n",
        "from tensorflow.keras.callbacks import ModelCheckpoint\n",
        "from tensorflow.keras.callbacks import ReduceLROnPlateau\n",
        "from tensorflow.keras.layers import BatchNormalization\n",
        "from tensorflow.keras.layers import Dense, Dropout, Input\n",
        "from tensorflow.keras.layers import Concatenate, LSTM, GRU\n",
        "from tensorflow.keras.layers import Bidirectional, Multiply\n",
        "\n",
        "\n",
        "\n",
        "# Random Seed Initialize\n",
        "RANDOM_SEED = 42\n",
        "\n",
        "def seed_everything(seed=RANDOM_SEED):\n",
        "    os.environ['PYTHONHASHSEED'] = str(seed)\n",
        "    np.random.seed(seed)\n",
        "    random.seed(seed)\n",
        "    tf.random.set_seed(seed)\n",
        "    \n",
        "seed_everything()"
      ],
      "execution_count": 6,
      "outputs": []
    },
    {
      "cell_type": "markdown",
      "metadata": {
        "id": "XycyrO7g9cot"
      },
      "source": [
        "## Load datasets"
      ]
    },
    {
      "cell_type": "code",
      "metadata": {
        "execution": {
          "iopub.status.busy": "2021-10-21T17:24:55.352925Z",
          "iopub.execute_input": "2021-10-21T17:24:55.353455Z",
          "iopub.status.idle": "2021-10-21T17:25:06.101910Z",
          "shell.execute_reply.started": "2021-10-21T17:24:55.353418Z",
          "shell.execute_reply": "2021-10-21T17:25:06.100969Z"
        },
        "trusted": true,
        "colab": {
          "base_uri": "https://localhost:8080/",
          "height": 220
        },
        "id": "p_vUMe_39cot",
        "outputId": "32c6ea16-5ca7-49ab-eeee-263df03b4760"
      },
      "source": [
        "train_df = pd.read_csv('../input/ventilator-pressure-prediction/train.csv')\n",
        "print(f\"train_df: {train_df.shape}\")\n",
        "train_df.head()"
      ],
      "execution_count": 7,
      "outputs": [
        {
          "output_type": "stream",
          "name": "stdout",
          "text": [
            "train_df: (6036000, 8)\n"
          ]
        },
        {
          "output_type": "execute_result",
          "data": {
            "text/html": [
              "<div>\n",
              "<style scoped>\n",
              "    .dataframe tbody tr th:only-of-type {\n",
              "        vertical-align: middle;\n",
              "    }\n",
              "\n",
              "    .dataframe tbody tr th {\n",
              "        vertical-align: top;\n",
              "    }\n",
              "\n",
              "    .dataframe thead th {\n",
              "        text-align: right;\n",
              "    }\n",
              "</style>\n",
              "<table border=\"1\" class=\"dataframe\">\n",
              "  <thead>\n",
              "    <tr style=\"text-align: right;\">\n",
              "      <th></th>\n",
              "      <th>id</th>\n",
              "      <th>breath_id</th>\n",
              "      <th>R</th>\n",
              "      <th>C</th>\n",
              "      <th>time_step</th>\n",
              "      <th>u_in</th>\n",
              "      <th>u_out</th>\n",
              "      <th>pressure</th>\n",
              "    </tr>\n",
              "  </thead>\n",
              "  <tbody>\n",
              "    <tr>\n",
              "      <th>0</th>\n",
              "      <td>1</td>\n",
              "      <td>1</td>\n",
              "      <td>20</td>\n",
              "      <td>50</td>\n",
              "      <td>0.000000</td>\n",
              "      <td>0.083334</td>\n",
              "      <td>0</td>\n",
              "      <td>5.837492</td>\n",
              "    </tr>\n",
              "    <tr>\n",
              "      <th>1</th>\n",
              "      <td>2</td>\n",
              "      <td>1</td>\n",
              "      <td>20</td>\n",
              "      <td>50</td>\n",
              "      <td>0.033652</td>\n",
              "      <td>18.383041</td>\n",
              "      <td>0</td>\n",
              "      <td>5.907794</td>\n",
              "    </tr>\n",
              "    <tr>\n",
              "      <th>2</th>\n",
              "      <td>3</td>\n",
              "      <td>1</td>\n",
              "      <td>20</td>\n",
              "      <td>50</td>\n",
              "      <td>0.067514</td>\n",
              "      <td>22.509278</td>\n",
              "      <td>0</td>\n",
              "      <td>7.876254</td>\n",
              "    </tr>\n",
              "    <tr>\n",
              "      <th>3</th>\n",
              "      <td>4</td>\n",
              "      <td>1</td>\n",
              "      <td>20</td>\n",
              "      <td>50</td>\n",
              "      <td>0.101542</td>\n",
              "      <td>22.808822</td>\n",
              "      <td>0</td>\n",
              "      <td>11.742872</td>\n",
              "    </tr>\n",
              "    <tr>\n",
              "      <th>4</th>\n",
              "      <td>5</td>\n",
              "      <td>1</td>\n",
              "      <td>20</td>\n",
              "      <td>50</td>\n",
              "      <td>0.135756</td>\n",
              "      <td>25.355850</td>\n",
              "      <td>0</td>\n",
              "      <td>12.234987</td>\n",
              "    </tr>\n",
              "  </tbody>\n",
              "</table>\n",
              "</div>"
            ],
            "text/plain": [
              "   id  breath_id   R   C  time_step       u_in  u_out   pressure\n",
              "0   1          1  20  50   0.000000   0.083334      0   5.837492\n",
              "1   2          1  20  50   0.033652  18.383041      0   5.907794\n",
              "2   3          1  20  50   0.067514  22.509278      0   7.876254\n",
              "3   4          1  20  50   0.101542  22.808822      0  11.742872\n",
              "4   5          1  20  50   0.135756  25.355850      0  12.234987"
            ]
          },
          "metadata": {},
          "execution_count": 7
        }
      ]
    },
    {
      "cell_type": "code",
      "metadata": {
        "execution": {
          "iopub.status.busy": "2021-10-21T17:25:11.213742Z",
          "iopub.execute_input": "2021-10-21T17:25:11.214675Z",
          "iopub.status.idle": "2021-10-21T17:25:11.297152Z",
          "shell.execute_reply.started": "2021-10-21T17:25:11.214617Z",
          "shell.execute_reply": "2021-10-21T17:25:11.295985Z"
        },
        "trusted": true,
        "id": "R5oBMjYJ9cov",
        "colab": {
          "base_uri": "https://localhost:8080/"
        },
        "outputId": "23584e83-26a0-4c72-c43c-39409080fde6"
      },
      "source": [
        "all_pressure = np.sort(train_df['pressure'].unique())\n",
        "pressure_min =  all_pressure[0].item()\n",
        "pressure_max = all_pressure[-1].item()\n",
        "pressure_step = (all_pressure[1] - all_pressure[0]).item()\n",
        "\n",
        "pressure_min,pressure_max,pressure_step"
      ],
      "execution_count": 8,
      "outputs": [
        {
          "output_type": "execute_result",
          "data": {
            "text/plain": [
              "(-1.895744294564641, 64.8209917386395, 0.07030214545121005)"
            ]
          },
          "metadata": {},
          "execution_count": 8
        }
      ]
    },
    {
      "cell_type": "code",
      "metadata": {
        "id": "80hIcGg09cou"
      },
      "source": [
        "DEBUG = False\n",
        "\n",
        "if DEBUG:\n",
        "    train_df = train_df[:80*10000]\n",
        "\n",
        "targets = train_df[['pressure']].to_numpy().reshape(-1, 80)"
      ],
      "execution_count": 9,
      "outputs": []
    },
    {
      "cell_type": "code",
      "metadata": {
        "execution": {
          "iopub.status.busy": "2021-10-21T17:25:06.103441Z",
          "iopub.execute_input": "2021-10-21T17:25:06.104426Z",
          "iopub.status.idle": "2021-10-21T17:25:11.211412Z",
          "shell.execute_reply.started": "2021-10-21T17:25:06.104376Z",
          "shell.execute_reply": "2021-10-21T17:25:11.209506Z"
        },
        "trusted": true,
        "colab": {
          "base_uri": "https://localhost:8080/",
          "height": 220
        },
        "id": "y-0XhQ3a9cov",
        "outputId": "3a93e7a6-b38a-419b-f98b-c8bbb1b63e52"
      },
      "source": [
        "test_df = pd.read_csv('../input/ventilator-pressure-prediction/test.csv')\n",
        "print(f\"test_df: {test_df.shape}\")\n",
        "test_df.head()"
      ],
      "execution_count": 10,
      "outputs": [
        {
          "output_type": "stream",
          "name": "stdout",
          "text": [
            "test_df: (4024000, 7)\n"
          ]
        },
        {
          "output_type": "execute_result",
          "data": {
            "text/html": [
              "<div>\n",
              "<style scoped>\n",
              "    .dataframe tbody tr th:only-of-type {\n",
              "        vertical-align: middle;\n",
              "    }\n",
              "\n",
              "    .dataframe tbody tr th {\n",
              "        vertical-align: top;\n",
              "    }\n",
              "\n",
              "    .dataframe thead th {\n",
              "        text-align: right;\n",
              "    }\n",
              "</style>\n",
              "<table border=\"1\" class=\"dataframe\">\n",
              "  <thead>\n",
              "    <tr style=\"text-align: right;\">\n",
              "      <th></th>\n",
              "      <th>id</th>\n",
              "      <th>breath_id</th>\n",
              "      <th>R</th>\n",
              "      <th>C</th>\n",
              "      <th>time_step</th>\n",
              "      <th>u_in</th>\n",
              "      <th>u_out</th>\n",
              "    </tr>\n",
              "  </thead>\n",
              "  <tbody>\n",
              "    <tr>\n",
              "      <th>0</th>\n",
              "      <td>1</td>\n",
              "      <td>0</td>\n",
              "      <td>5</td>\n",
              "      <td>20</td>\n",
              "      <td>0.000000</td>\n",
              "      <td>0.000000</td>\n",
              "      <td>0</td>\n",
              "    </tr>\n",
              "    <tr>\n",
              "      <th>1</th>\n",
              "      <td>2</td>\n",
              "      <td>0</td>\n",
              "      <td>5</td>\n",
              "      <td>20</td>\n",
              "      <td>0.031904</td>\n",
              "      <td>7.515046</td>\n",
              "      <td>0</td>\n",
              "    </tr>\n",
              "    <tr>\n",
              "      <th>2</th>\n",
              "      <td>3</td>\n",
              "      <td>0</td>\n",
              "      <td>5</td>\n",
              "      <td>20</td>\n",
              "      <td>0.063827</td>\n",
              "      <td>14.651675</td>\n",
              "      <td>0</td>\n",
              "    </tr>\n",
              "    <tr>\n",
              "      <th>3</th>\n",
              "      <td>4</td>\n",
              "      <td>0</td>\n",
              "      <td>5</td>\n",
              "      <td>20</td>\n",
              "      <td>0.095751</td>\n",
              "      <td>21.230610</td>\n",
              "      <td>0</td>\n",
              "    </tr>\n",
              "    <tr>\n",
              "      <th>4</th>\n",
              "      <td>5</td>\n",
              "      <td>0</td>\n",
              "      <td>5</td>\n",
              "      <td>20</td>\n",
              "      <td>0.127644</td>\n",
              "      <td>26.320956</td>\n",
              "      <td>0</td>\n",
              "    </tr>\n",
              "  </tbody>\n",
              "</table>\n",
              "</div>"
            ],
            "text/plain": [
              "   id  breath_id  R   C  time_step       u_in  u_out\n",
              "0   1          0  5  20   0.000000   0.000000      0\n",
              "1   2          0  5  20   0.031904   7.515046      0\n",
              "2   3          0  5  20   0.063827  14.651675      0\n",
              "3   4          0  5  20   0.095751  21.230610      0\n",
              "4   5          0  5  20   0.127644  26.320956      0"
            ]
          },
          "metadata": {},
          "execution_count": 10
        }
      ]
    },
    {
      "cell_type": "markdown",
      "metadata": {
        "id": "IVPWgQDL9cow"
      },
      "source": [
        "## Feature Engineering"
      ]
    },
    {
      "cell_type": "code",
      "metadata": {
        "execution": {
          "iopub.status.busy": "2021-10-21T17:25:11.298767Z",
          "iopub.execute_input": "2021-10-21T17:25:11.299164Z",
          "iopub.status.idle": "2021-10-21T17:27:48.006762Z",
          "shell.execute_reply.started": "2021-10-21T17:25:11.299125Z",
          "shell.execute_reply": "2021-10-21T17:27:48.005658Z"
        },
        "trusted": true,
        "id": "1NHNQSZp9cow"
      },
      "source": [
        "def add_features(df):\n",
        "    df['cross']= df['u_in'] * df['u_out']\n",
        "    df['cross2']= df['time_step'] * df['u_out']\n",
        "    df['area'] = df['time_step'] * df['u_in']\n",
        "    df['area'] = df.groupby('breath_id')['area'].cumsum()\n",
        "    df['time_step_cumsum'] = df.groupby(['breath_id'])['time_step'].cumsum()\n",
        "    df['u_in_cumsum'] = (df['u_in']).groupby(df['breath_id']).cumsum()\n",
        "    print(\"Step-1...Completed\")\n",
        "    \n",
        "    df['u_in_lag1'] = df.groupby('breath_id')['u_in'].shift(1)\n",
        "    df['u_out_lag1'] = df.groupby('breath_id')['u_out'].shift(1)\n",
        "    df['u_in_lag_back1'] = df.groupby('breath_id')['u_in'].shift(-1)\n",
        "    df['u_out_lag_back1'] = df.groupby('breath_id')['u_out'].shift(-1)\n",
        "    df['u_in_lag2'] = df.groupby('breath_id')['u_in'].shift(2)\n",
        "    df['u_out_lag2'] = df.groupby('breath_id')['u_out'].shift(2)\n",
        "    df['u_in_lag_back2'] = df.groupby('breath_id')['u_in'].shift(-2)\n",
        "    df['u_out_lag_back2'] = df.groupby('breath_id')['u_out'].shift(-2)\n",
        "    df['u_in_lag3'] = df.groupby('breath_id')['u_in'].shift(3)\n",
        "    df['u_out_lag3'] = df.groupby('breath_id')['u_out'].shift(3)\n",
        "    df['u_in_lag_back3'] = df.groupby('breath_id')['u_in'].shift(-3)\n",
        "    df['u_out_lag_back3'] = df.groupby('breath_id')['u_out'].shift(-3)\n",
        "    df['u_in_lag4'] = df.groupby('breath_id')['u_in'].shift(4)\n",
        "    df['u_out_lag4'] = df.groupby('breath_id')['u_out'].shift(4)\n",
        "    df['u_in_lag_back4'] = df.groupby('breath_id')['u_in'].shift(-4)\n",
        "    df['u_out_lag_back4'] = df.groupby('breath_id')['u_out'].shift(-4)\n",
        "    df = df.fillna(0)\n",
        "    print(\"Step-2...Completed\")\n",
        "    \n",
        "    df['breath_id__u_in__max'] = df.groupby(['breath_id'])['u_in'].transform('max')\n",
        "    df['breath_id__u_out__max'] = df.groupby(['breath_id'])['u_out'].transform('max')\n",
        "    df['breath_id__u_in__diffmax'] = df.groupby(['breath_id'])['u_in'].transform('max') - df['u_in']\n",
        "    df['breath_id__u_in__diffmean'] = df.groupby(['breath_id'])['u_in'].transform('mean') - df['u_in']\n",
        "    df['breath_id__u_in__diffmax'] = df.groupby(['breath_id'])['u_in'].transform('max') - df['u_in']\n",
        "    df['breath_id__u_in__diffmean'] = df.groupby(['breath_id'])['u_in'].transform('mean') - df['u_in']\n",
        "    print(\"Step-3...Completed\")\n",
        "    \n",
        "    df['u_in_diff1'] = df['u_in'] - df['u_in_lag1']\n",
        "    df['u_out_diff1'] = df['u_out'] - df['u_out_lag1']\n",
        "    df['u_in_diff2'] = df['u_in'] - df['u_in_lag2']\n",
        "    df['u_out_diff2'] = df['u_out'] - df['u_out_lag2']\n",
        "    df['u_in_diff3'] = df['u_in'] - df['u_in_lag3']\n",
        "    df['u_out_diff3'] = df['u_out'] - df['u_out_lag3']\n",
        "    df['u_in_diff4'] = df['u_in'] - df['u_in_lag4']\n",
        "    df['u_out_diff4'] = df['u_out'] - df['u_out_lag4']\n",
        "    print(\"Step-4...Completed\")\n",
        "    \n",
        "    df['one'] = 1\n",
        "    df['count'] = (df['one']).groupby(df['breath_id']).cumsum()\n",
        "    df['u_in_cummean'] =df['u_in_cumsum'] /df['count']\n",
        "    \n",
        "    df['breath_id_lag']=df['breath_id'].shift(1).fillna(0)\n",
        "    df['breath_id_lag2']=df['breath_id'].shift(2).fillna(0)\n",
        "    df['breath_id_lagsame']=np.select([df['breath_id_lag']==df['breath_id']],[1],0)\n",
        "    df['breath_id_lag2same']=np.select([df['breath_id_lag2']==df['breath_id']],[1],0)\n",
        "    df['breath_id__u_in_lag'] = df['u_in'].shift(1).fillna(0)\n",
        "    df['breath_id__u_in_lag'] = df['breath_id__u_in_lag'] * df['breath_id_lagsame']\n",
        "    df['breath_id__u_in_lag2'] = df['u_in'].shift(2).fillna(0)\n",
        "    df['breath_id__u_in_lag2'] = df['breath_id__u_in_lag2'] * df['breath_id_lag2same']\n",
        "    print(\"Step-5...Completed\")\n",
        "    \n",
        "    df['time_step_diff'] = df.groupby('breath_id')['time_step'].diff().fillna(0)\n",
        "    df['ewm_u_in_mean'] = (df\\\n",
        "                           .groupby('breath_id')['u_in']\\\n",
        "                           .ewm(halflife=9)\\\n",
        "                           .mean()\\\n",
        "                           .reset_index(level=0,drop=True))\n",
        "    df[[\"15_in_sum\",\"15_in_min\",\"15_in_max\",\"15_in_mean\"]] = (df\\\n",
        "                                                              .groupby('breath_id')['u_in']\\\n",
        "                                                              .rolling(window=15,min_periods=1)\\\n",
        "                                                              .agg({\"15_in_sum\":\"sum\",\n",
        "                                                                    \"15_in_min\":\"min\",\n",
        "                                                                    \"15_in_max\":\"max\",\n",
        "                                                                    \"15_in_mean\":\"mean\"\n",
        "                                                                    #\"15_in_std\":\"std\"\n",
        "                                                               })\\\n",
        "                                                               .reset_index(level=0,drop=True))\n",
        "    print(\"Step-6...Completed\")\n",
        "    \n",
        "    #df['u_in_diff_1_2'] = df['u_in_lag1'] - df['u_in_lag2']\n",
        "    #df['u_out_diff_1_2'] = df['u_out_lag1'] - df['u_out_lag2']\n",
        "    #df['u_in_lagback_diff_1_2'] = df['u_in_lag_back1'] - df['u_in_lag_back2']\n",
        "    #df['u_out_lagback_diff_1_2'] = df['u_out_lag_back1'] - df['u_out_lag_back2']\n",
        "    \n",
        "    df['u_in_lagback_diff1'] = df['u_in'] - df['u_in_lag_back1']\n",
        "    df['u_out_lagback_diff1'] = df['u_out'] - df['u_out_lag_back1']\n",
        "    df['u_in_lagback_diff2'] = df['u_in'] - df['u_in_lag_back2']\n",
        "    df['u_out_lagback_diff2'] = df['u_out'] - df['u_out_lag_back2']\n",
        "    print(\"Step-7...Completed\")\n",
        "    \n",
        "    df['R_cat'] = df['R'].astype(str)\n",
        "    df['C_cat'] = df['C'].astype(str)\n",
        "    df['R__C'] = df[\"R\"].astype(str) + '__' + df[\"C\"].astype(str)\n",
        "    df = pd.get_dummies(df)\n",
        "    print(\"Step-8...Completed\")\n",
        "    \n",
        "    return df\n",
        "\n",
        "if not LOAD_PRE_FEATURE:\n",
        "  print(\"Train data...\\n\")\n",
        "  train = add_features(train_df)\n",
        "\n",
        "  print(\"\\nTest data...\\n\")\n",
        "  test = add_features(test_df)"
      ],
      "execution_count": 11,
      "outputs": []
    },
    {
      "cell_type": "code",
      "metadata": {
        "colab": {
          "base_uri": "https://localhost:8080/"
        },
        "id": "Zcyv-iig9co0",
        "outputId": "2c21f301-54f1-42c6-864c-c2a58e4ff8d7"
      },
      "source": [
        "del train_df\n",
        "del test_df\n",
        "gc.collect()"
      ],
      "execution_count": 12,
      "outputs": [
        {
          "output_type": "execute_result",
          "data": {
            "text/plain": [
              "89"
            ]
          },
          "metadata": {},
          "execution_count": 12
        }
      ]
    },
    {
      "cell_type": "code",
      "metadata": {
        "id": "qip05b0r9co0"
      },
      "source": [
        "if not LOAD_PRE_FEATURE:\n",
        "  train.drop(['pressure','id', 'breath_id','one','count',\n",
        "              'breath_id_lag','breath_id_lag2','breath_id_lagsame',\n",
        "              'breath_id_lag2same'], axis=1, inplace=True)\n",
        "\n",
        "  test = test.drop(['id', 'breath_id','one','count','breath_id_lag',\n",
        "                    'breath_id_lag2','breath_id_lagsame',\n",
        "                    'breath_id_lag2same'], axis=1)\n",
        "\n",
        "  print(f\"train: {train.shape} \\ntest: {test.shape}\")\n",
        "  train.head()"
      ],
      "execution_count": 13,
      "outputs": []
    },
    {
      "cell_type": "code",
      "metadata": {
        "colab": {
          "base_uri": "https://localhost:8080/"
        },
        "id": "OYWzQtL49co1",
        "outputId": "ea058217-ed51-4598-85be-0166d0c257b4"
      },
      "source": [
        "if not LOAD_PRE_FEATURE:\n",
        "  scaler = RobustScaler()\n",
        "  train = scaler.fit_transform(train)\n",
        "  test = scaler.transform(test)\n",
        "\n",
        "  train = train.reshape(-1, 80, train.shape[-1])\n",
        "  test = test.reshape(-1, 80, train.shape[-1])\n",
        "else:\n",
        "  train = np.load('../input/ventilatorpressurepredictionfeatures/train.npy')\n",
        "  test = np.load('../input/ventilatorpressurepredictionfeatures/test.npy')\n",
        "\n",
        "print(f\"train: {train.shape} \\ntest: {test.shape} \\ntargets: {targets.shape}\")"
      ],
      "execution_count": 14,
      "outputs": [
        {
          "output_type": "stream",
          "name": "stdout",
          "text": [
            "train: (75450, 80, 66) \n",
            "test: (50300, 80, 66) \n",
            "targets: (75450, 80)\n"
          ]
        }
      ]
    },
    {
      "cell_type": "markdown",
      "metadata": {
        "id": "VONzQKWBdixE"
      },
      "source": [
        "R_cat_20\tR_cat_5\tR_cat_50\tC_cat_10\tC_cat_20\tC_cat_50\tR__C_20__10\tR__C_20__20\tR__C_20__50\tR__C_50__10\tR__C_50__20\tR__C_50__50\tR__C_5__10\tR__C_5__20\tR__C_5__50"
      ]
    },
    {
      "cell_type": "code",
      "metadata": {
        "colab": {
          "base_uri": "https://localhost:8080/"
        },
        "id": "qAMo89gTBbqU",
        "outputId": "0fe44155-baac-4ef4-e701-4838a0197730"
      },
      "source": [
        "train[:3, 0, :]"
      ],
      "execution_count": 15,
      "outputs": [
        {
          "output_type": "execute_result",
          "data": {
            "text/plain": [
              "array([[ 0.00000000e+00,  7.50000000e-01, -9.89052161e-01,\n",
              "        -9.37384450e-01, -1.00000000e+00,  0.00000000e+00,\n",
              "        -6.65541311e-01, -5.16580501e-01, -4.96657632e-01,\n",
              "        -7.25227791e-01, -8.64120606e-01, -1.00000000e+00,\n",
              "         2.89020724e+00, -1.00000000e+00, -8.42526591e-01,\n",
              "        -1.00000000e+00,  3.66402550e+00, -1.00000000e+00,\n",
              "        -8.19257888e-01, -1.00000000e+00,  3.74391547e+00,\n",
              "        -1.00000000e+00, -7.94151600e-01, -1.00000000e+00,\n",
              "         4.27782420e+00, -1.00000000e+00,  1.12207936e-01,\n",
              "         0.00000000e+00,  3.26940916e-01,  1.27386353e+00,\n",
              "         4.71408803e-01,  0.00000000e+00,  2.17993186e-01,\n",
              "         0.00000000e+00,  1.21027987e-01,  0.00000000e+00,\n",
              "         6.83146754e-02,  0.00000000e+00, -6.48438329e-01,\n",
              "        -8.64120606e-01, -8.42526591e-01, -1.54759382e+01,\n",
              "        -6.74414709e-01, -8.06258228e-01,  7.89341177e-03,\n",
              "        -4.28435589e-01, -6.68749817e-01, -1.24171952e+02,\n",
              "         0.00000000e+00, -6.75689043e+01,  0.00000000e+00,\n",
              "         1.00000000e+00,  0.00000000e+00,  0.00000000e+00,\n",
              "         0.00000000e+00,  0.00000000e+00,  1.00000000e+00,\n",
              "         0.00000000e+00,  0.00000000e+00,  1.00000000e+00,\n",
              "         0.00000000e+00,  0.00000000e+00,  0.00000000e+00,\n",
              "         0.00000000e+00,  0.00000000e+00,  0.00000000e+00],\n",
              "       [ 0.00000000e+00,  0.00000000e+00, -9.89052161e-01,\n",
              "         1.69886631e+00, -1.00000000e+00,  0.00000000e+00,\n",
              "        -6.65541311e-01, -5.16580501e-01, -4.96657632e-01,\n",
              "        -6.93368579e-01, -8.64120606e-01, -1.00000000e+00,\n",
              "         1.98375688e+00, -1.00000000e+00, -8.42526591e-01,\n",
              "        -1.00000000e+00,  1.66759161e+00, -1.00000000e+00,\n",
              "        -8.19257888e-01, -1.00000000e+00,  1.51578530e+00,\n",
              "        -1.00000000e+00, -7.94151600e-01, -1.00000000e+00,\n",
              "         1.61468559e+00, -1.00000000e+00, -2.33263833e-01,\n",
              "         0.00000000e+00, -4.03073965e-01, -1.27954654e+00,\n",
              "         7.55340661e+01,  0.00000000e+00,  3.89316910e+01,\n",
              "         0.00000000e+00,  2.52293431e+01,  0.00000000e+00,\n",
              "         1.74186111e+01,  0.00000000e+00,  4.24631929e-01,\n",
              "        -8.64120606e-01, -8.42526591e-01, -1.54759382e+01,\n",
              "         1.23221688e+00, -6.47954643e-01,  2.88771552e+00,\n",
              "         6.35990341e-01,  1.21524300e+00, -1.21453746e+01,\n",
              "         0.00000000e+00, -1.14038297e+00,  0.00000000e+00,\n",
              "         1.00000000e+00,  0.00000000e+00,  0.00000000e+00,\n",
              "         0.00000000e+00,  1.00000000e+00,  0.00000000e+00,\n",
              "         0.00000000e+00,  1.00000000e+00,  0.00000000e+00,\n",
              "         0.00000000e+00,  0.00000000e+00,  0.00000000e+00,\n",
              "         0.00000000e+00,  0.00000000e+00,  0.00000000e+00],\n",
              "       [ 6.66666667e-01,  0.00000000e+00, -9.89052161e-01,\n",
              "        -9.55539088e-01, -1.00000000e+00,  0.00000000e+00,\n",
              "        -6.65541311e-01, -5.16580501e-01, -4.96657632e-01,\n",
              "        -7.25447190e-01, -8.64120606e-01, -1.00000000e+00,\n",
              "         5.85230064e-01, -1.00000000e+00, -8.42526591e-01,\n",
              "        -1.00000000e+00,  1.82123950e+00, -1.00000000e+00,\n",
              "        -8.19257888e-01, -1.00000000e+00,  2.59800328e+00,\n",
              "        -1.00000000e+00, -7.94151600e-01, -1.00000000e+00,\n",
              "         2.86855243e+00, -1.00000000e+00, -1.27840434e-01,\n",
              "         0.00000000e+00,  5.42062162e-02,  5.88358917e-01,\n",
              "        -4.55129464e-02,  0.00000000e+00, -4.86101177e-02,\n",
              "         0.00000000e+00, -5.18813481e-02,  0.00000000e+00,\n",
              "        -5.11687786e-02,  0.00000000e+00, -6.55828066e-01,\n",
              "        -8.64120606e-01, -8.42526591e-01, -1.54759382e+01,\n",
              "        -6.87544798e-01, -8.07348391e-01, -1.19385891e-02,\n",
              "        -4.35765797e-01, -6.81724002e-01, -4.87415356e+01,\n",
              "         0.00000000e+00, -4.01753866e+01,  0.00000000e+00,\n",
              "         0.00000000e+00,  0.00000000e+00,  1.00000000e+00,\n",
              "         0.00000000e+00,  1.00000000e+00,  0.00000000e+00,\n",
              "         0.00000000e+00,  0.00000000e+00,  0.00000000e+00,\n",
              "         0.00000000e+00,  1.00000000e+00,  0.00000000e+00,\n",
              "         0.00000000e+00,  0.00000000e+00,  0.00000000e+00]])"
            ]
          },
          "metadata": {},
          "execution_count": 15
        }
      ]
    },
    {
      "cell_type": "code",
      "metadata": {
        "id": "2AQScob_Bg43"
      },
      "source": [
        "# np.save('train.npy', train)\n",
        "# np.save('test.npy', test)\n",
        "# !zip features.zip train.npy test.npy"
      ],
      "execution_count": 16,
      "outputs": []
    },
    {
      "cell_type": "markdown",
      "metadata": {
        "id": "Osu14DeV9co1"
      },
      "source": [
        "## Hardware config"
      ]
    },
    {
      "cell_type": "code",
      "metadata": {
        "colab": {
          "base_uri": "https://localhost:8080/"
        },
        "id": "CisxazED9co1",
        "outputId": "363fb860-645d-40af-aa82-b6d6e367c8fa"
      },
      "source": [
        "IS_TPU = False\n",
        "try:\n",
        "    tpu = tf.distribute.cluster_resolver.TPUClusterResolver()\n",
        "    tf.config.experimental_connect_to_cluster(tpu)\n",
        "    tf.tpu.experimental.initialize_tpu_system(tpu)\n",
        "    tpu_strategy = tf.distribute.experimental.TPUStrategy(tpu)\n",
        "    BATCH_SIZE = tpu_strategy.num_replicas_in_sync * 64\n",
        "    print(\"Running on TPU:\", tpu.master())\n",
        "    print(f\"Batch Size: {BATCH_SIZE}\")\n",
        "    IS_TPU = True    \n",
        "except ValueError:\n",
        "    tpu_strategy = tf.distribute.get_strategy()\n",
        "    BATCH_SIZE = 512\n",
        "    print(f\"Running on {tpu_strategy.num_replicas_in_sync} replicas\")\n",
        "    print(f\"Batch Size: {BATCH_SIZE}\")"
      ],
      "execution_count": 17,
      "outputs": [
        {
          "output_type": "stream",
          "name": "stdout",
          "text": [
            "INFO:tensorflow:Clearing out eager caches\n"
          ]
        },
        {
          "output_type": "stream",
          "name": "stderr",
          "text": [
            "INFO:tensorflow:Clearing out eager caches\n"
          ]
        },
        {
          "output_type": "stream",
          "name": "stdout",
          "text": [
            "INFO:tensorflow:Initializing the TPU system: grpc://10.83.165.42:8470\n"
          ]
        },
        {
          "output_type": "stream",
          "name": "stderr",
          "text": [
            "INFO:tensorflow:Initializing the TPU system: grpc://10.83.165.42:8470\n"
          ]
        },
        {
          "output_type": "stream",
          "name": "stdout",
          "text": [
            "INFO:tensorflow:Finished initializing TPU system.\n"
          ]
        },
        {
          "output_type": "stream",
          "name": "stderr",
          "text": [
            "INFO:tensorflow:Finished initializing TPU system.\n",
            "WARNING:absl:`tf.distribute.experimental.TPUStrategy` is deprecated, please use  the non experimental symbol `tf.distribute.TPUStrategy` instead.\n"
          ]
        },
        {
          "output_type": "stream",
          "name": "stdout",
          "text": [
            "INFO:tensorflow:Found TPU system:\n"
          ]
        },
        {
          "output_type": "stream",
          "name": "stderr",
          "text": [
            "INFO:tensorflow:Found TPU system:\n"
          ]
        },
        {
          "output_type": "stream",
          "name": "stdout",
          "text": [
            "INFO:tensorflow:*** Num TPU Cores: 8\n"
          ]
        },
        {
          "output_type": "stream",
          "name": "stderr",
          "text": [
            "INFO:tensorflow:*** Num TPU Cores: 8\n"
          ]
        },
        {
          "output_type": "stream",
          "name": "stdout",
          "text": [
            "INFO:tensorflow:*** Num TPU Workers: 1\n"
          ]
        },
        {
          "output_type": "stream",
          "name": "stderr",
          "text": [
            "INFO:tensorflow:*** Num TPU Workers: 1\n"
          ]
        },
        {
          "output_type": "stream",
          "name": "stdout",
          "text": [
            "INFO:tensorflow:*** Num TPU Cores Per Worker: 8\n"
          ]
        },
        {
          "output_type": "stream",
          "name": "stderr",
          "text": [
            "INFO:tensorflow:*** Num TPU Cores Per Worker: 8\n"
          ]
        },
        {
          "output_type": "stream",
          "name": "stdout",
          "text": [
            "INFO:tensorflow:*** Available Device: _DeviceAttributes(/job:localhost/replica:0/task:0/device:CPU:0, CPU, 0, 0)\n"
          ]
        },
        {
          "output_type": "stream",
          "name": "stderr",
          "text": [
            "INFO:tensorflow:*** Available Device: _DeviceAttributes(/job:localhost/replica:0/task:0/device:CPU:0, CPU, 0, 0)\n"
          ]
        },
        {
          "output_type": "stream",
          "name": "stdout",
          "text": [
            "INFO:tensorflow:*** Available Device: _DeviceAttributes(/job:worker/replica:0/task:0/device:CPU:0, CPU, 0, 0)\n"
          ]
        },
        {
          "output_type": "stream",
          "name": "stderr",
          "text": [
            "INFO:tensorflow:*** Available Device: _DeviceAttributes(/job:worker/replica:0/task:0/device:CPU:0, CPU, 0, 0)\n"
          ]
        },
        {
          "output_type": "stream",
          "name": "stdout",
          "text": [
            "INFO:tensorflow:*** Available Device: _DeviceAttributes(/job:worker/replica:0/task:0/device:TPU:0, TPU, 0, 0)\n"
          ]
        },
        {
          "output_type": "stream",
          "name": "stderr",
          "text": [
            "INFO:tensorflow:*** Available Device: _DeviceAttributes(/job:worker/replica:0/task:0/device:TPU:0, TPU, 0, 0)\n"
          ]
        },
        {
          "output_type": "stream",
          "name": "stdout",
          "text": [
            "INFO:tensorflow:*** Available Device: _DeviceAttributes(/job:worker/replica:0/task:0/device:TPU:1, TPU, 0, 0)\n"
          ]
        },
        {
          "output_type": "stream",
          "name": "stderr",
          "text": [
            "INFO:tensorflow:*** Available Device: _DeviceAttributes(/job:worker/replica:0/task:0/device:TPU:1, TPU, 0, 0)\n"
          ]
        },
        {
          "output_type": "stream",
          "name": "stdout",
          "text": [
            "INFO:tensorflow:*** Available Device: _DeviceAttributes(/job:worker/replica:0/task:0/device:TPU:2, TPU, 0, 0)\n"
          ]
        },
        {
          "output_type": "stream",
          "name": "stderr",
          "text": [
            "INFO:tensorflow:*** Available Device: _DeviceAttributes(/job:worker/replica:0/task:0/device:TPU:2, TPU, 0, 0)\n"
          ]
        },
        {
          "output_type": "stream",
          "name": "stdout",
          "text": [
            "INFO:tensorflow:*** Available Device: _DeviceAttributes(/job:worker/replica:0/task:0/device:TPU:3, TPU, 0, 0)\n"
          ]
        },
        {
          "output_type": "stream",
          "name": "stderr",
          "text": [
            "INFO:tensorflow:*** Available Device: _DeviceAttributes(/job:worker/replica:0/task:0/device:TPU:3, TPU, 0, 0)\n"
          ]
        },
        {
          "output_type": "stream",
          "name": "stdout",
          "text": [
            "INFO:tensorflow:*** Available Device: _DeviceAttributes(/job:worker/replica:0/task:0/device:TPU:4, TPU, 0, 0)\n"
          ]
        },
        {
          "output_type": "stream",
          "name": "stderr",
          "text": [
            "INFO:tensorflow:*** Available Device: _DeviceAttributes(/job:worker/replica:0/task:0/device:TPU:4, TPU, 0, 0)\n"
          ]
        },
        {
          "output_type": "stream",
          "name": "stdout",
          "text": [
            "INFO:tensorflow:*** Available Device: _DeviceAttributes(/job:worker/replica:0/task:0/device:TPU:5, TPU, 0, 0)\n"
          ]
        },
        {
          "output_type": "stream",
          "name": "stderr",
          "text": [
            "INFO:tensorflow:*** Available Device: _DeviceAttributes(/job:worker/replica:0/task:0/device:TPU:5, TPU, 0, 0)\n"
          ]
        },
        {
          "output_type": "stream",
          "name": "stdout",
          "text": [
            "INFO:tensorflow:*** Available Device: _DeviceAttributes(/job:worker/replica:0/task:0/device:TPU:6, TPU, 0, 0)\n"
          ]
        },
        {
          "output_type": "stream",
          "name": "stderr",
          "text": [
            "INFO:tensorflow:*** Available Device: _DeviceAttributes(/job:worker/replica:0/task:0/device:TPU:6, TPU, 0, 0)\n"
          ]
        },
        {
          "output_type": "stream",
          "name": "stdout",
          "text": [
            "INFO:tensorflow:*** Available Device: _DeviceAttributes(/job:worker/replica:0/task:0/device:TPU:7, TPU, 0, 0)\n"
          ]
        },
        {
          "output_type": "stream",
          "name": "stderr",
          "text": [
            "INFO:tensorflow:*** Available Device: _DeviceAttributes(/job:worker/replica:0/task:0/device:TPU:7, TPU, 0, 0)\n"
          ]
        },
        {
          "output_type": "stream",
          "name": "stdout",
          "text": [
            "INFO:tensorflow:*** Available Device: _DeviceAttributes(/job:worker/replica:0/task:0/device:TPU_SYSTEM:0, TPU_SYSTEM, 0, 0)\n"
          ]
        },
        {
          "output_type": "stream",
          "name": "stderr",
          "text": [
            "INFO:tensorflow:*** Available Device: _DeviceAttributes(/job:worker/replica:0/task:0/device:TPU_SYSTEM:0, TPU_SYSTEM, 0, 0)\n"
          ]
        },
        {
          "output_type": "stream",
          "name": "stdout",
          "text": [
            "INFO:tensorflow:*** Available Device: _DeviceAttributes(/job:worker/replica:0/task:0/device:XLA_CPU:0, XLA_CPU, 0, 0)\n"
          ]
        },
        {
          "output_type": "stream",
          "name": "stderr",
          "text": [
            "INFO:tensorflow:*** Available Device: _DeviceAttributes(/job:worker/replica:0/task:0/device:XLA_CPU:0, XLA_CPU, 0, 0)\n"
          ]
        },
        {
          "output_type": "stream",
          "name": "stdout",
          "text": [
            "Running on TPU: grpc://10.83.165.42:8470\n",
            "Batch Size: 512\n"
          ]
        }
      ]
    },
    {
      "cell_type": "markdown",
      "metadata": {
        "id": "GAZMw10A9co1"
      },
      "source": [
        "## Rescaling layer"
      ]
    },
    {
      "cell_type": "code",
      "metadata": {
        "id": "qLou5BDt9co2"
      },
      "source": [
        "@tf.custom_gradient\n",
        "def round_with_gradients(x):\n",
        "    def grad(dy):\n",
        "        return dy\n",
        "    return tf.round(x), grad\n",
        "\n",
        "class ScaleLayer(tf.keras.layers.Layer):\n",
        "    def __init__(self, **kwargs):\n",
        "        super(ScaleLayer, self).__init__(**kwargs)\n",
        "        self.min = tf.constant(pressure_min, dtype=np.float32)\n",
        "        self.max = tf.constant(pressure_max, dtype=np.float32)\n",
        "        self.step = tf.constant(pressure_step, dtype=np.float32)\n",
        "\n",
        "    def call(self, inputs):\n",
        "        steps = tf.math.divide(tf.math.add(inputs, -self.min), self.step)\n",
        "        int_steps = round_with_gradients(steps)\n",
        "        rescaled_steps = tf.math.add(tf.math.multiply(int_steps, self.step), self.min)\n",
        "        clipped = tf.clip_by_value(rescaled_steps, self.min, self.max)\n",
        "        return clipped\n",
        "    # def get_config(self):\n",
        "    #     return super(ScaleLayer, self).get_config()\n"
      ],
      "execution_count": 18,
      "outputs": []
    },
    {
      "cell_type": "code",
      "metadata": {
        "id": "PfmPPh-U2EUY"
      },
      "source": [
        "class TransformerEncoder(tf.keras.layers.Layer):\n",
        "    def __init__(self, head_size, ff_dim, num_heads, dropout=0.3, **kwargs):\n",
        "        super().__init__(**kwargs)\n",
        "        self.embed_dim = head_size\n",
        "        self.dense_dim = ff_dim\n",
        "        self.num_heads = num_heads\n",
        "        self.dropout = dropout\n",
        "        self.attention_dropout = tf.keras.layers.Dropout(dropout)\n",
        "        self.attention = tf.keras.layers.MultiHeadAttention(\n",
        "            num_heads=num_heads, key_dim=head_size, dropout=dropout\n",
        "        )\n",
        "        self.attention_norm = tf.keras.layers.LayerNormalization(epsilon=1e-6)\n",
        "\n",
        "        self.ff_conv1 = tf.keras.layers.Conv1D(filters=ff_dim, kernel_size=1, activation='relu', name='ff_conv1')\n",
        "        self.ff_dropout = tf.keras.layers.Dropout(dropout)\n",
        "        self.ff_norm = tf.keras.layers.LayerNormalization(epsilon=1e-6)\n",
        "\n",
        "    def build(self, input_shape):\n",
        "      self.ff_conv2 = tf.keras.layers.Conv1D(filters=input_shape[-1], kernel_size=1, name='ff_conv2')\n",
        "\n",
        "    def call(self, inputs, mask=None):\n",
        "        if mask is not None:\n",
        "            mask = mask[:, tf.newaxis, :]\n",
        "\n",
        "        attention_output = self.attention(inputs, inputs, attention_mask=mask)\n",
        "        attention_output = self.attention_dropout(attention_output)\n",
        "        proj_input = self.attention_norm(inputs + attention_output)\n",
        "        proj_output = self.ff_conv1(proj_input)\n",
        "        proj_output = self.ff_conv2(proj_output)\n",
        "        proj_output = self.ff_dropout(proj_output)\n",
        "        return self.ff_norm(inputs + proj_output)\n",
        "    \n",
        "    def get_config(self):\n",
        "        config = super(TransformerEncoder, self).get_config()\n",
        "        config.update({\"head_size\": self.embed_dim,\n",
        "            \"ff_dim\": self.dense_dim,\n",
        "            \"num_heads\": self.num_heads,\n",
        "            \"dropout\": self.dropout})\n",
        "        return config\n",
        "\n",
        "#refer to https://www.kaggle.com/aimanlim0/transformer-lstm\n",
        "class Time2Vec(tf.keras.layers.Layer):\n",
        "    def __init__(self, kernel_size=1, **kwargs):\n",
        "        super(Time2Vec, self).__init__(**kwargs)\n",
        "        self.k = kernel_size\n",
        "    \n",
        "    def build(self, input_shape):\n",
        "        # print(input_shape)\n",
        "        # trend\n",
        "        self.wb = self.add_weight(name='wb',shape=(input_shape[1],),initializer='uniform',trainable=True)\n",
        "        self.bb = self.add_weight(name='bb',shape=(input_shape[1],),initializer='uniform',trainable=True)\n",
        "        # periodic\n",
        "        self.wa = self.add_weight(name='wa',shape=(1, input_shape[1], self.k),initializer='uniform',trainable=True)\n",
        "        self.ba = self.add_weight(name='ba',shape=(1, input_shape[1], self.k),initializer='uniform',trainable=True)\n",
        "        super(Time2Vec, self).build(input_shape)\n",
        "    \n",
        "    def call(self, inputs, **kwargs):\n",
        "        bias = self.wb * inputs + self.bb\n",
        "        dp = K.dot(inputs, self.wa) + self.ba\n",
        "        wgts = K.sin(dp) # or K.cos(.)\n",
        "\n",
        "        ret = K.concatenate([K.expand_dims(bias, -1), wgts], -1)\n",
        "        ret = K.reshape(ret, (-1, inputs.shape[1]*(self.k+1)))\n",
        "        return ret\n",
        "    \n",
        "    def compute_output_shape(self, input_shape):\n",
        "        return (input_shape[0], input_shape[1]*(self.k + 1))\n",
        "\n",
        "    def get_config(self):\n",
        "        config = super(Time2Vec, self).get_config()\n",
        "        config.update({\n",
        "            \"kernel_size\": self.k\n",
        "            })\n",
        "        return config\n",
        "\n",
        "class ModelTrunk(tf.keras.Model):\n",
        "    def __init__(self, name='ModelTrunk', time2vec_dim=1, num_heads=2, head_size=128, ff_dim=None, num_layers=1, dropout=0, **kwargs):\n",
        "        super().__init__(name=name, **kwargs)\n",
        "        self.time2vec = Time2Vec(kernel_size=time2vec_dim)\n",
        "        if ff_dim is None:\n",
        "            ff_dim = head_size\n",
        "        self.dropout = dropout\n",
        "        self.attention_layers = [TransformerEncoder(num_heads=num_heads, head_size=head_size, ff_dim=ff_dim, dropout=dropout) for _ in range(num_layers)]\n",
        "        #self.pooling=tf.keras.layers.AveragePooling1D(pool_size=4,data_format='channels_first')\n",
        "        self.final_layer = tf.keras.Sequential([\n",
        "                Bidirectional(LSTM(256, return_sequences=True)),\n",
        "                Bidirectional(LSTM(256, return_sequences=True)),\n",
        "                Dense(128, activation='selu'),\n",
        "                Dense(1)])\n",
        "    def call(self, inputs):\n",
        "        time_embedding = tf.keras.layers.TimeDistributed(self.time2vec)(inputs)\n",
        "        #time_embedding=inputs\n",
        "        #print(time_embedding.shape)\n",
        "        x = K.concatenate([inputs, time_embedding], -1)\n",
        "        for attention_layer in self.attention_layers:\n",
        "            x = attention_layer(x)\n",
        "        x=self.final_layer(x)\n",
        "        return x\n",
        "\n",
        "def do_TransformerEncoder_LSTM(inputs, time2vec_dim=1, num_heads=2, head_size=128, ff_dim=None, num_layers=1, dropout=0):\n",
        "    time2vec = Time2Vec(kernel_size=time2vec_dim)\n",
        "    if ff_dim is None:\n",
        "        ff_dim = head_size\n",
        "    dropout = dropout\n",
        "    attention_layers = [TransformerEncoder(num_heads=num_heads, head_size=head_size, ff_dim=ff_dim, dropout=dropout) for _ in range(num_layers)]\n",
        "    #self.pooling=tf.keras.layers.AveragePooling1D(pool_size=4,data_format='channels_first')\n",
        "    final_layer = tf.keras.Sequential([\n",
        "            Bidirectional(LSTM(256, return_sequences=True)),\n",
        "            Bidirectional(LSTM(256, return_sequences=True)),\n",
        "            Dense(128, activation='selu')\n",
        "    ])\n",
        "    \n",
        "    time_embedding = tf.keras.layers.TimeDistributed(time2vec)(inputs)\n",
        "    x = K.concatenate([inputs, time_embedding], -1)\n",
        "    for attention_layer in attention_layers:\n",
        "        x = attention_layer(x)\n",
        "    x=final_layer(x)\n",
        "    return x\n",
        "\n",
        "\n",
        "class PositionalEmbedding(tf.keras.layers.Layer):\n",
        "    def __init__(self, sequence_length, vocab_size, embed_dim, **kwargs):\n",
        "        super(PositionalEmbedding, self).__init__(**kwargs)\n",
        "        self.token_embeddings = tf.keras.layers.Layer.Embedding(\n",
        "            input_dim=vocab_size, output_dim=embed_dim\n",
        "        )\n",
        "        self.position_embeddings = tf.keras.layers.Layer.Embedding(\n",
        "            input_dim=sequence_length, output_dim=embed_dim\n",
        "        )\n",
        "        self.sequence_length = sequence_length\n",
        "        self.vocab_size = vocab_size\n",
        "        self.embed_dim = embed_dim\n",
        "\n",
        "    def call(self, inputs):\n",
        "        length = tf.shape(inputs)[-1]\n",
        "        positions = tf.range(start=0, limit=length, delta=1)\n",
        "        embedded_tokens = self.token_embeddings(inputs)\n",
        "        embedded_positions = self.position_embeddings(positions)\n",
        "        return embedded_tokens + embedded_positions\n",
        "\n",
        "    def compute_mask(self, inputs, mask=None):\n",
        "        return tf.math.not_equal(inputs, 0)\n",
        "\n",
        "\n",
        "class TransformerDecoder(tf.keras.layers.Layer):\n",
        "    def __init__(self, embed_dim, latent_dim, num_heads, **kwargs):\n",
        "        super(TransformerDecoder, self).__init__(**kwargs)\n",
        "        self.embed_dim = embed_dim\n",
        "        self.latent_dim = latent_dim\n",
        "        self.num_heads = num_heads\n",
        "        self.attention_1 = tf.keras.layers.MultiHeadAttention(\n",
        "            num_heads=num_heads, key_dim=embed_dim\n",
        "        )\n",
        "        self.attention_2 = tf.keras.layers.MultiHeadAttention(\n",
        "            num_heads=num_heads, key_dim=embed_dim\n",
        "        )\n",
        "        self.dense_proj = tf.keras.Sequential(\n",
        "            [Dense(latent_dim, activation=\"relu\"), Dense(embed_dim),]\n",
        "        )\n",
        "        self.layernorm_1 = tf.keras.layers.LayerNormalization()\n",
        "        self.layernorm_2 = tf.keras.layers.LayerNormalization()\n",
        "        self.layernorm_3 = tf.keras.layers.LayerNormalization()\n",
        "        self.supports_masking = True\n",
        "\n",
        "    def call(self, inputs, encoder_outputs, mask=None):\n",
        "        causal_mask = self.get_causal_attention_mask(inputs)\n",
        "        padding_mask = None\n",
        "        if mask is not None:\n",
        "            padding_mask = tf.cast(mask[:, tf.newaxis, :], dtype=\"int32\")\n",
        "            padding_mask = tf.minimum(padding_mask, causal_mask)\n",
        "\n",
        "        attention_output_1 = self.attention_1(\n",
        "            query=inputs, value=inputs, key=inputs, attention_mask=causal_mask\n",
        "        )\n",
        "        out_1 = self.layernorm_1(inputs + attention_output_1)\n",
        "\n",
        "        attention_output_2 = self.attention_2(\n",
        "            query=out_1,\n",
        "            value=encoder_outputs,\n",
        "            key=encoder_outputs,\n",
        "            attention_mask=padding_mask,\n",
        "        )\n",
        "        out_2 = self.layernorm_2(out_1 + attention_output_2)\n",
        "\n",
        "        proj_output = self.dense_proj(out_2)\n",
        "        return self.layernorm_3(out_2 + proj_output)\n",
        "\n",
        "    def get_causal_attention_mask(self, inputs):\n",
        "        input_shape = tf.shape(inputs)\n",
        "        batch_size, sequence_length = input_shape[0], input_shape[1]\n",
        "        i = tf.range(sequence_length)[:, tf.newaxis]\n",
        "        j = tf.range(sequence_length)\n",
        "        mask = tf.cast(i >= j, dtype=\"int32\")\n",
        "        mask = tf.reshape(mask, (1, input_shape[1], input_shape[1]))\n",
        "        mult = tf.concat(\n",
        "            [tf.expand_dims(batch_size, -1), tf.constant([1, 1], dtype=tf.int32)],\n",
        "            axis=0,\n",
        "        )\n",
        "        return tf.tile(mask, mult)\n",
        "\n",
        "def TransformerEncoder_LSTM_model(time2vec_dim=1, num_heads=2, head_size=128, ff_dim=None, num_layers=1, dropout=0):\n",
        "    inputs = Input(shape=(train.shape[-2:]))\n",
        "    x = do_TransformerEncoder_LSTM(inputs, time2vec_dim, num_heads, head_size, ff_dim, num_layers, dropout)\n",
        "    x = Dense(1)(x)\n",
        "    x_output = ScaleLayer()(x)\n",
        "\n",
        "    model = Model(inputs=inputs, outputs=x_output, \n",
        "                  name='DNN_Model')\n",
        "    return model    \n",
        "    \n",
        "def Transformer_LSTM_model(time2vec_dim=1, num_heads=2, head_size=128, ff_dim=None, num_layers=1, dropout=0):\n",
        "    encoder_inputs = Input(shape=(train.shape[-2:]))\n",
        "    encoder_outputs = do_TransformerEncoder_LSTM(encoder_inputs, time2vec_dim, num_heads, head_size, ff_dim, num_layers, dropout)\n",
        "\n",
        "    encoder_model = Model(inputs=encoder_inputs, outputs=encoder_outputs, \n",
        "                  name='encoder_model')\n",
        "    \n",
        "    embed_dim = 128\n",
        "    latent_dim = 1024\n",
        "    decoder_inputs = Input(shape=(40,), name=\"decoder_inputs\")\n",
        "    encoded_seq_inputs = Input(shape=(80, embed_dim), name=\"decoder_state_inputs\")\n",
        "    \n",
        "    time2vec = Time2Vec(kernel_size=1)\n",
        "    time_embedding = tf.keras.layers.TimeDistributed(time2vec)\n",
        "    #Expand target and embeding with time. 80x2\n",
        "    x = K.expand_dims(decoder_inputs, -1)\n",
        "    x = time_embedding(x)\n",
        "    #Expand 80x2 to 80xembed_dim\n",
        "    x = Dense(embed_dim)(x)\n",
        "    \n",
        "    x = TransformerDecoder(embed_dim, latent_dim, num_heads)(x, encoded_seq_inputs)\n",
        "#     x = Dropout(0.5)(x)\n",
        "    x = Dense(128, activation='selu')(x)\n",
        "    decoder_outputs = Dense(1)(x)\n",
        "    decoder = Model([decoder_inputs, encoded_seq_inputs], decoder_outputs, name='decoder_model')\n",
        "    decoder.summary()\n",
        "    \n",
        "    decoder_outputs = decoder([decoder_inputs, encoder_outputs])\n",
        "    transformer = Model(\n",
        "        [encoder_inputs, decoder_inputs], decoder_outputs, name=\"transformer\"\n",
        "    )\n",
        "    \n",
        "    return transformer"
      ],
      "execution_count": 55,
      "outputs": []
    },
    {
      "cell_type": "code",
      "metadata": {
        "colab": {
          "base_uri": "https://localhost:8080/"
        },
        "id": "b_lJ_vH8KmZ8",
        "outputId": "020ea1c0-ea8c-49f6-ea4f-baedd4514dc6"
      },
      "source": [
        "model=ModelTrunk(ff_dim=256,num_heads=4,num_layers=2,)\n",
        "x=tf.random.uniform((64,80,66))\n",
        "x=model(x)\n",
        "print(x.shape)\n",
        "del model"
      ],
      "execution_count": 20,
      "outputs": [
        {
          "output_type": "stream",
          "name": "stdout",
          "text": [
            "(64, 80, 1)\n"
          ]
        }
      ]
    },
    {
      "cell_type": "markdown",
      "metadata": {
        "id": "5Ft0JBPC9co2"
      },
      "source": [
        "## Keras DNN Model"
      ]
    },
    {
      "cell_type": "code",
      "metadata": {
        "id": "wJn6J6temxSO"
      },
      "source": [
        "def dnn_model_v4():\n",
        "    \n",
        "    x_input = Input(shape=(train.shape[-2:]))\n",
        "    \n",
        "    x1 = Bidirectional(LSTM(units=768, return_sequences=True))(x_input)\n",
        "    x2 = Bidirectional(LSTM(units=512, return_sequences=True))(x1)\n",
        "    x3 = Bidirectional(LSTM(units=384, return_sequences=True))(x2)\n",
        "    x4 = Bidirectional(LSTM(units=256, return_sequences=True))(x3)\n",
        "    x5 = Bidirectional(LSTM(units=128, return_sequences=True))(x4)\n",
        "    \n",
        "    z2 = Bidirectional(GRU(units=384, return_sequences=True))(x2)\n",
        "    \n",
        "    z31 = Multiply()([x3, z2])\n",
        "    z31 = BatchNormalization()(z31)\n",
        "    z3 = Bidirectional(GRU(units=256, return_sequences=True))(z31)\n",
        "    \n",
        "    z41 = Multiply()([x4, z3])\n",
        "    z41 = BatchNormalization()(z41)\n",
        "    z4 = Bidirectional(GRU(units=128, return_sequences=True))(z41)\n",
        "    \n",
        "    z51 = Multiply()([x5, z4])\n",
        "    z51 = BatchNormalization()(z51)\n",
        "    z5 = Bidirectional(GRU(units=64, return_sequences=True))(z51)\n",
        "    \n",
        "    x = Concatenate(axis=2)([x5, z2, z3, z4, z5])\n",
        "    \n",
        "    x = Dense(units=128, activation='selu')(x)\n",
        "    \n",
        "    x_output = Dense(units=1)(x)\n",
        "    \n",
        "    x_output = ScaleLayer()(x_output)\n",
        "\n",
        "    model = Model(inputs=x_input, outputs=x_output, \n",
        "                  name='DNN_Model')\n",
        "    return model"
      ],
      "execution_count": 21,
      "outputs": []
    },
    {
      "cell_type": "code",
      "metadata": {
        "id": "1vvobI5X05Od"
      },
      "source": [
        "#refer to https://www.kaggle.com/masato114/vp-wavenet-training-gpu\n",
        "# def conv_block(x: tf.Tensor, filters: int, kernel_size: int):\n",
        "#     \"\"\"\n",
        "#     Implements convolution block with residual connection.\n",
        "#     :param x: Input tensor.\n",
        "#     :param filters: Number of filters in convolution layer.\n",
        "#     :param kernel_size: Filter size.\n",
        "#     :return: Output tensor.\n",
        "#     \"\"\"\n",
        "#     x = tf.keras.layers.Conv1D(filters=filters,\n",
        "#                kernel_size=1,\n",
        "#                padding='same')(x)\n",
        "#     res_x = x\n",
        "#     x = tf.keras.layers.Conv1D(filters=filters,\n",
        "#                kernel_size=kernel_size,\n",
        "#                padding='same', activation='relu')(x)\n",
        "#     x = tf.keras.layers.Conv1D(filters=filters,\n",
        "#                kernel_size=kernel_size,\n",
        "#                padding='same', activation='relu')(x)\n",
        "#     x = tf.keras.layers.Conv1D(filters=filters,\n",
        "#                kernel_size=kernel_size,\n",
        "#                padding='same', activation='relu')(x)\n",
        "#     res_x = tf.keras.layers.Add()([res_x, x])\n",
        "#     return res_x\n",
        "\n",
        "# def wave_block(x: tf.Tensor, filters: int, kernel_size: int, n: int):\n",
        "#     \"\"\"\n",
        "#     Implements wavenet block.\n",
        "#     :param x: Input tensor.\n",
        "#     :param filters: Number of kernels.\n",
        "#     :param kernel_size: Filter size.\n",
        "#     :param n: Number of dilation rates for convolutions.\n",
        "#     :return: Output tensor.\n",
        "#     \"\"\"\n",
        "#     dilation_rates = [2 ** i for i in range(n)]\n",
        "#     x = tf.keras.layers.Conv1D(filters=filters,\n",
        "#                kernel_size=1,\n",
        "#                padding='same')(x)\n",
        "#     res_x = x\n",
        "#     for dilation_rate in dilation_rates:\n",
        "#         tanh_out = tf.keras.layers.Conv1D(filters=filters,\n",
        "#                           kernel_size=kernel_size,\n",
        "#                           padding='same',\n",
        "#                           activation='tanh',\n",
        "#                           dilation_rate=dilation_rate)(x)\n",
        "#         sigm_out = tf.keras.layers.Conv1D(filters=filters,\n",
        "#                           kernel_size=kernel_size,\n",
        "#                           padding='same',\n",
        "#                           activation='sigmoid',\n",
        "#                           dilation_rate=dilation_rate)(x)\n",
        "#         x = tf.keras.layers.Multiply()([tanh_out, sigm_out])\n",
        "#         x = tf.keras.layers.Conv1D(filters=filters,\n",
        "#                    kernel_size=1,\n",
        "#                    padding='same')(x)\n",
        "#         res_x = tf.keras.layers.Add()([res_x, x])\n",
        "#     return res_x\n",
        "\n",
        "# def do_wavenet(inp):\n",
        "#     x = conv_block(inp, 16, 3)\n",
        "#     x = wave_block(x, 16, 3, 12)\n",
        "#     x = conv_block(x, 32, 3)\n",
        "#     x = wave_block(x, 32, 3, 8)\n",
        "#     x = conv_block(x, 64, 3)\n",
        "#     x = wave_block(x, 64, 3, 4)\n",
        "#     x = conv_block(x, 128, 3)\n",
        "#     x = wave_block(x, 128, 3, 1)\n",
        "#     return x\n",
        "\n",
        "#refer to https://www.kaggle.com/meminozturk/into-the-wild-wavenet/\n",
        "i_wavenet_layer = 0\n",
        "def wave_block(x, filters, kernel_size, n):\n",
        "    global i_wavenet_layer\n",
        "    dilation_rates = [2**i for i in range(n)]\n",
        "    x = tf.keras.layers.Conv1D(filters = filters,\n",
        "                kernel_size = 1,\n",
        "                padding = 'same')(x)\n",
        "    res_x = x\n",
        "    for dilation_rate in dilation_rates:\n",
        "        tanh_out = tf.keras.layers.Conv1D(filters = filters,\n",
        "                          kernel_size = kernel_size,\n",
        "                          padding = 'same', \n",
        "                          activation = 'tanh', \n",
        "                          dilation_rate = dilation_rate)(x)\n",
        "        sigm_out = tf.keras.layers.Conv1D(filters = filters,\n",
        "                          kernel_size = kernel_size,\n",
        "                          padding = 'same',\n",
        "                          activation = 'sigmoid', \n",
        "                          dilation_rate = dilation_rate)(x)\n",
        "        x = tf.keras.layers.Multiply(name=f'wavenet_Multiply_{i_wavenet_layer}')([tanh_out, sigm_out])\n",
        "        x = tf.keras.layers.Conv1D(filters = filters,\n",
        "                    kernel_size = 1,\n",
        "                    padding = 'same')(x)\n",
        "        res_x = tf.keras.layers.Add()([res_x, x])\n",
        "        i_wavenet_layer += 1\n",
        "    return res_x\n",
        "\n",
        "def do_wavenet(inp):\n",
        "  x = wave_block(inp, 16, 3, 8)\n",
        "  x = wave_block(x, 32, 3, 12)\n",
        "  x = wave_block(x, 64, 3, 4)\n",
        "  x = wave_block(x, 128, 3, 1)\n",
        "  return x\n",
        "\n",
        "def load_model_until(checkpoint_name, drop_idx=-4, retrain=False):\n",
        "  print('Load pretrain weight from ', checkpoint_name)\n",
        "  load_locally = tf.saved_model.LoadOptions(experimental_io_device='/job:localhost')\n",
        "  try:\n",
        "    # At loading time, register the custom objects with a `custom_object_scope`:\n",
        "    custom_objects = {\"ScaleLayer\": ScaleLayer}\n",
        "    with tf.keras.utils.custom_object_scope(custom_objects):\n",
        "        base_model = load_model(checkpoint_name, options=load_locally)\n",
        "  except (OSError):\n",
        "    print('Cannot load pretrain weight from ', checkpoint_name)\n",
        "\n",
        "  # base_model.summary()\n",
        "  base_output = base_model.layers[drop_idx].output\n",
        "  # Frozen layers\n",
        "  for layer in base_model.layers[0:drop_idx]:\n",
        "    layer.trainable = retrain\n",
        "\n",
        "  return base_model.inputs, base_output\n",
        "\n",
        "def load_dnn_model_v4_add_wavenet(drop_idx=-4, retrain=False):\n",
        "  base_inputs, base_output = load_model_until('/gdrive/MyDrive/ventilator-pressure-prediction/gb-rescaling-eda-v3/Bidirect_LSTM_model_1C.h5', drop_idx, \n",
        "                                              drop_idx=drop_idx, retrain=retrain)\n",
        "  \n",
        "  wavenet_output = do_wavenet(base_output)\n",
        "\n",
        "  global i_wavenet_layer\n",
        "  x_output = Dense(units=1, name=f'wavenet_Dense_{i_wavenet_layer}')(wavenet_output)\n",
        "  i_wavenet_layer += 1\n",
        "  x_output = ScaleLayer()(x_output)\n",
        "\n",
        "  new_model = tf.keras.models.Model(inputs=base_inputs, outputs=x_output)\n",
        "  # new_model.summary()\n",
        "\n",
        "  return new_model\n",
        "\n",
        "def lstm_wavenet_model():\n",
        "    x_input = Input(shape=(train.shape[-2:]))\n",
        "    \n",
        "    x1 = Bidirectional(LSTM(units=768, return_sequences=True))(x_input)\n",
        "    x2 = Bidirectional(LSTM(units=512, return_sequences=True))(x1)\n",
        "    x3 = Bidirectional(LSTM(units=384, return_sequences=True))(x2)\n",
        "    x4 = Bidirectional(LSTM(units=256, return_sequences=True))(x3)\n",
        "    x5 = Bidirectional(LSTM(units=128, return_sequences=True))(x4)\n",
        "    \n",
        "    z2 = Bidirectional(GRU(units=384, return_sequences=True))(x2)\n",
        "    \n",
        "    z31 = Multiply()([x3, z2])\n",
        "    z31 = BatchNormalization()(z31)\n",
        "    z3 = Bidirectional(GRU(units=256, return_sequences=True))(z31)\n",
        "    \n",
        "    z41 = Multiply()([x4, z3])\n",
        "    z41 = BatchNormalization()(z41)\n",
        "    z4 = Bidirectional(GRU(units=128, return_sequences=True))(z41)\n",
        "    \n",
        "    z51 = Multiply()([x5, z4])\n",
        "    z51 = BatchNormalization()(z51)\n",
        "    z5 = Bidirectional(GRU(units=64, return_sequences=True))(z51)\n",
        "    \n",
        "    x = Concatenate(axis=2)([x5, z2, z3, z4, z5])\n",
        "    \n",
        "    x = do_wavenet(x)\n",
        "    \n",
        "    x = Dense(units=128, activation='selu')(x)\n",
        "    x_output = Dense(units=1)(x)\n",
        "    \n",
        "    x_output = ScaleLayer()(x_output)\n",
        "\n",
        "    model = Model(inputs=x_input, outputs=x_output, \n",
        "                  name='lstm_wavenet_model')\n",
        "    return model"
      ],
      "execution_count": 22,
      "outputs": []
    },
    {
      "cell_type": "code",
      "metadata": {
        "id": "KwdrVcpdwjvc"
      },
      "source": [
        "def dnn_model_aen():\n",
        "    \n",
        "    x_input = Input(shape=(train.shape[-2:]))\n",
        "\n",
        "    x0 = tf.keras.layers.BatchNormalization()(x_input)\n",
        "    \n",
        "    #remove noise\n",
        "    # encoder = tf.keras.layers.GaussianNoise(0.03527936123679956)(x0)\n",
        "    encoder = tf.keras.layers.Dense(16)(x0)\n",
        "    encoder = tf.keras.layers.BatchNormalization()(encoder)\n",
        "    encoder = tf.keras.layers.Activation('swish')(encoder)\n",
        "    \n",
        "    decoder = tf.keras.layers.Dropout(0.0)(encoder)\n",
        "    decoder = tf.keras.layers.Dense(train.shape[-1], name = 'decoder')(decoder)\n",
        "\n",
        "\n",
        "    # x = tf.keras.layers.Concatenate()([x0, encoder])\n",
        "    x = encoder\n",
        "    \n",
        "    x1 = Bidirectional(LSTM(units=768, return_sequences=True))(x)\n",
        "    x2 = Bidirectional(LSTM(units=512, return_sequences=True))(x1)\n",
        "    x3 = Bidirectional(LSTM(units=384, return_sequences=True))(x2)\n",
        "    x4 = Bidirectional(LSTM(units=256, return_sequences=True))(x3)\n",
        "    x5 = Bidirectional(LSTM(units=128, return_sequences=True))(x4)\n",
        "\n",
        "    x_ae = tf.keras.layers.Dense(128, activation='swish')(x5)\n",
        "    x_ae = tf.keras.layers.Dropout(0.0)(x_ae)\n",
        "\n",
        "    out_ae = tf.keras.layers.Dense(1, name = 'ae_action')(x_ae)\n",
        "\n",
        "    z2 = Bidirectional(GRU(units=384, return_sequences=True))(x2)\n",
        "    \n",
        "    z31 = Multiply()([x3, z2])\n",
        "    z31 = BatchNormalization()(z31)\n",
        "    z3 = Bidirectional(GRU(units=256, return_sequences=True))(z31)\n",
        "    \n",
        "    z41 = Multiply()([x4, z3])\n",
        "    z41 = BatchNormalization()(z41)\n",
        "    z4 = Bidirectional(GRU(units=128, return_sequences=True))(z41)\n",
        "    \n",
        "    z51 = Multiply()([x5, z4])\n",
        "    z51 = BatchNormalization()(z51)\n",
        "    z5 = Bidirectional(GRU(units=64, return_sequences=True))(z51)\n",
        "    \n",
        "    x = Concatenate(axis=2)([x5, z2, z3, z4, z5])\n",
        "    \n",
        "    x = Dense(units=128, activation='swish')(x)\n",
        "    \n",
        "    x_output = Dense(units=1)(x)\n",
        "    \n",
        "    x_output = ScaleLayer(name = 'output')(x_output)\n",
        "\n",
        "    model = Model(inputs=x_input, outputs=[decoder, out_ae, x_output], \n",
        "                  name='dnn_model_aen')\n",
        "    return model"
      ],
      "execution_count": 23,
      "outputs": []
    },
    {
      "cell_type": "code",
      "metadata": {
        "id": "82jplaDkoBg9"
      },
      "source": [
        "def dnn_model_GaussianNoise():\n",
        "    \n",
        "    x_input = Input(shape=(train.shape[-2:]))\n",
        "    \n",
        "    x1 = Bidirectional(LSTM(units=768, return_sequences=True))(x_input)\n",
        "    x2 = Bidirectional(LSTM(units=512, return_sequences=True))(x1)\n",
        "    x3 = Bidirectional(LSTM(units=384, return_sequences=True))(x2)\n",
        "    x4 = Bidirectional(LSTM(units=256, return_sequences=True))(x3)\n",
        "    x5 = Bidirectional(LSTM(units=128, return_sequences=True))(x4)\n",
        "    \n",
        "    z2 = Bidirectional(GRU(units=384, return_sequences=True))(x2)\n",
        "    \n",
        "    z31 = Multiply()([x3, z2])\n",
        "    z31 = BatchNormalization()(z31)\n",
        "    z31 = tf.keras.layers.GaussianNoise(0.035)(z31)\n",
        "    z3 = Bidirectional(GRU(units=256, return_sequences=True))(z31)\n",
        "    \n",
        "    z41 = Multiply()([x4, z3])\n",
        "    z41 = BatchNormalization()(z41)\n",
        "    z4 = Bidirectional(GRU(units=128, return_sequences=True))(z41)\n",
        "    \n",
        "    z51 = Multiply()([x5, z4])\n",
        "    z51 = BatchNormalization()(z51)\n",
        "    z5 = Bidirectional(GRU(units=64, return_sequences=True))(z51)\n",
        "    \n",
        "    x = Concatenate(axis=2)([x5, z2, z3, z4, z5])\n",
        "    \n",
        "    x = Dense(units=128, activation='selu')(x)\n",
        "    \n",
        "    x_output = Dense(units=1)(x)\n",
        "    \n",
        "    x_output = ScaleLayer()(x_output)\n",
        "\n",
        "    model = Model(inputs=x_input, outputs=x_output, \n",
        "                  name='dnn_model_GaussianNoise')\n",
        "    return model"
      ],
      "execution_count": 24,
      "outputs": []
    },
    {
      "cell_type": "code",
      "metadata": {
        "id": "_HuMFGY39co2"
      },
      "source": [
        "def dnn_TransformerEncoder_model():\n",
        "    \n",
        "    x_input = Input(shape=(train.shape[-2:]))\n",
        "    \n",
        "    x1 = Bidirectional(LSTM(units=768, return_sequences=True))(x_input)\n",
        "    x2 = Bidirectional(LSTM(units=512, return_sequences=True))(x1)\n",
        "    x3 = Bidirectional(LSTM(units=384, return_sequences=True))(x2)\n",
        "    x4 = Bidirectional(LSTM(units=256, return_sequences=True))(x3)\n",
        "    x5 = Bidirectional(LSTM(units=128, return_sequences=True))(x4)\n",
        "    \n",
        "    z2 = Bidirectional(GRU(units=384, return_sequences=True))(x2)\n",
        "\n",
        "    dropout_r = 0.01\n",
        "    \n",
        "    z31 = Multiply()([x3, z2])\n",
        "    z31 = BatchNormalization()(z31)\n",
        "    z31_transformer = TransformerEncoder(384*2, 512*2, 8, dropout_r, name=\"transformer_layer_z31\")(z31)\n",
        "    z31 = Multiply()([z31, z31_transformer])\n",
        "    \n",
        "    z3 = Bidirectional(GRU(units=256, return_sequences=True))(z31)\n",
        "    \n",
        "    z41 = Multiply()([x4, z3])\n",
        "    z41 = BatchNormalization()(z41)\n",
        "    z41_transformer = TransformerEncoder(256*2, 384*2, 8, dropout_r, name=\"transformer_layer_z41\")(z41)\n",
        "    z41 = Multiply()([z41, z41_transformer])\n",
        "    \n",
        "    z4 = Bidirectional(GRU(units=128, return_sequences=True))(z41)\n",
        "    \n",
        "    z51 = Multiply()([x5, z4])\n",
        "    z51 = BatchNormalization()(z51)\n",
        "    z51_transformer = TransformerEncoder(128*2, 256*2, 8, dropout_r, name=\"transformer_layer_z51\")(z51)\n",
        "    z51 = Multiply()([z51, z51_transformer])\n",
        "    \n",
        "    z5 = Bidirectional(GRU(units=64, return_sequences=True))(z51)\n",
        "    \n",
        "    x = Concatenate(axis=2)([x5, z2, z3, z4, z5])\n",
        "\n",
        "    x = Dense(units=128)(x)\n",
        "\n",
        "    x_transformer = BatchNormalization()(x)\n",
        "    x_transformer = TransformerEncoder(128, 512, 8, dropout_r, name=\"transformer_layer_128\")(x_transformer)\n",
        "    x = Multiply()([Dropout(0.01)(x), x_transformer])\n",
        "    \n",
        "    x = Dense(units=128, activation='selu')(x)\n",
        "    \n",
        "    x_output = Dense(units=1)(x)\n",
        "    \n",
        "    x_output = ScaleLayer()(x_output)\n",
        "\n",
        "    model = Model(inputs=x_input, outputs=x_output, \n",
        "                  name='dnn_TransformerEncoder_model')\n",
        "    return model"
      ],
      "execution_count": 25,
      "outputs": []
    },
    {
      "cell_type": "code",
      "metadata": {
        "colab": {
          "base_uri": "https://localhost:8080/"
        },
        "id": "_d8ybRJc9co2",
        "outputId": "21e5f5a0-09e1-4ae9-e7af-0840dbbe8969"
      },
      "source": [
        "model = TransformerEncoder_LSTM_model(ff_dim=256,num_heads=8,num_layers=2,)\n",
        "model.summary()"
      ],
      "execution_count": 46,
      "outputs": [
        {
          "output_type": "stream",
          "name": "stdout",
          "text": [
            "(None, 66)\n",
            "Model: \"DNN_Model\"\n",
            "__________________________________________________________________________________________________\n",
            "Layer (type)                    Output Shape         Param #     Connected to                     \n",
            "==================================================================================================\n",
            "input_2 (InputLayer)            [(None, 80, 66)]     0                                            \n",
            "__________________________________________________________________________________________________\n",
            "time_distributed_1 (TimeDistrib (None, 80, 132)      264         input_2[0][0]                    \n",
            "__________________________________________________________________________________________________\n",
            "tf.concat_1 (TFOpLambda)        (None, 80, 198)      0           input_2[0][0]                    \n",
            "                                                                 time_distributed_1[0][0]         \n",
            "__________________________________________________________________________________________________\n",
            "transformer_encoder_2 (Transfor (None, 80, 198)      916900      tf.concat_1[0][0]                \n",
            "__________________________________________________________________________________________________\n",
            "transformer_encoder_3 (Transfor (None, 80, 198)      916900      transformer_encoder_2[0][0]      \n",
            "__________________________________________________________________________________________________\n",
            "sequential_1 (Sequential)       (None, 80, 128)      2572416     transformer_encoder_3[0][0]      \n",
            "__________________________________________________________________________________________________\n",
            "dense_3 (Dense)                 (None, 80, 1)        129         sequential_1[0][0]               \n",
            "__________________________________________________________________________________________________\n",
            "scale_layer_1 (ScaleLayer)      (None, 80, 1)        0           dense_3[0][0]                    \n",
            "==================================================================================================\n",
            "Total params: 4,406,609\n",
            "Trainable params: 4,406,609\n",
            "Non-trainable params: 0\n",
            "__________________________________________________________________________________________________\n"
          ]
        }
      ]
    },
    {
      "cell_type": "code",
      "metadata": {
        "colab": {
          "base_uri": "https://localhost:8080/",
          "height": 865
        },
        "id": "CJtk8i_HSlnc",
        "outputId": "c5eeb81a-cf09-4f36-ab13-e2859e672ace"
      },
      "source": [
        "plot_model(\n",
        "    model, \n",
        "    to_file='Google_Brain_Keras_Model.png', \n",
        "    show_shapes=True,\n",
        "    show_layer_names=True\n",
        ")"
      ],
      "execution_count": 47,
      "outputs": [
        {
          "output_type": "execute_result",
          "data": {
            "image/png": "[encoded data removed]",
            "text/plain": [
              "<IPython.core.display.Image object>"
            ]
          },
          "metadata": {},
          "execution_count": 47
        }
      ]
    },
    {
      "cell_type": "code",
      "metadata": {
        "colab": {
          "base_uri": "https://localhost:8080/"
        },
        "id": "rxWQVBYm-0VK",
        "outputId": "33837110-44a1-4ce1-8adf-99f92b4db29e"
      },
      "source": [
        "del model\n",
        "gc.collect()"
      ],
      "execution_count": 28,
      "outputs": [
        {
          "output_type": "execute_result",
          "data": {
            "text/plain": [
              "18278"
            ]
          },
          "metadata": {},
          "execution_count": 28
        }
      ]
    },
    {
      "cell_type": "code",
      "metadata": {
        "id": "u1v9SMji9co3"
      },
      "source": [
        "#reset Keras Session\n",
        "def reset_keras():\n",
        "    sess = tf.compat.v1.keras.backend.get_session()\n",
        "    tf.compat.v1.keras.backend.clear_session()\n",
        "    sess.close()\n",
        "    sess = tf.compat.v1.keras.backend.get_session()\n",
        "\n",
        "    # use the same config as you used to create the session\n",
        "    config = tf.compat.v1.ConfigProto()\n",
        "    config.gpu_options.per_process_gpu_memory_fraction = 1\n",
        "    config.gpu_options.visible_device_list = \"0\"\n",
        "    tf.compat.v1.keras.backend.set_session(tf.compat.v1.Session(config=config))\n",
        "    gc.collect()\n",
        "\n",
        "reset_keras()"
      ],
      "execution_count": 29,
      "outputs": []
    },
    {
      "cell_type": "code",
      "metadata": {
        "id": "q5bA7_YiN-P9"
      },
      "source": [
        "import matplotlib.pyplot as plt\n",
        "import numpy as np\n",
        "%matplotlib inline\n",
        "import seaborn as sns\n",
        "\n",
        "def press_diff(series: np.ndarray):\n",
        "  return series.diff().abs()\n",
        "\n",
        "\n",
        "def analy_predict(last_test_idx, train_pred):\n",
        "  train_df = pd.read_csv('../input/ventilator-pressure-prediction/train.csv')\n",
        "  last_test_breath_ids = train_df['breath_id'].values.reshape(-1, 80)\n",
        "  last_test_breath_ids = last_test_breath_ids[:, 0]\n",
        "  last_test_breath_ids = last_test_breath_ids.flatten()\n",
        "  last_test_breath_ids = last_test_breath_ids[last_test_idx]\n",
        "\n",
        "  train_pred = train_pred[last_test_idx]\n",
        "  train_pred = train_pred.flatten()\n",
        "\n",
        "  train_df = train_df[train_df['breath_id'].isin(last_test_breath_ids)]\n",
        "  train_df['pred'] = train_pred\n",
        "  train_df['abs_error'] = np.abs(train_pred-train_df['pressure'])\n",
        "  train_df['RC'] = train_df[\"R\"].astype(str) + '__' + train_df[\"C\"].astype(str)\n",
        "  train_df['press_diff'] = train_df.groupby('breath_id')['pressure'].apply(press_diff)\n",
        "\n",
        "  df_feature = train_df[train_df['u_out']<1].groupby('breath_id').agg({'abs_error': ['mean' , 'max', 'min', 'sum', 'count'], \n",
        "                                                                      'RC': ['first'], \n",
        "                                                                      'press_diff':['mean', 'max'],\n",
        "                                                                      'u_in':['first', 'last'],\n",
        "                                                                      'pressure':['first', 'last', 'mean', 'std']\n",
        "                                                                      })\n",
        "  df_feature.columns = ['_'.join(col) for col in df_feature.columns]\n",
        "\n",
        "  plt.figure(figsize=(16,16))\n",
        "\n",
        "  plt.title(\"abs_error distribution by RC\")\n",
        "\n",
        "  for key, grp in df_feature.groupby(['RC_first']):\n",
        "    print(f'{key} - MAE  {grp.abs_error_mean.mean()}, count: {grp.abs_error_count.sum()}')\n",
        "    sns.kdeplot(grp['abs_error_mean'], clip=(0.0, 1), \n",
        "                label=key)\n",
        "\n",
        "  plt.axvline(df_feature['abs_error_mean'].mean())\n",
        "  plt.legend()\n",
        "  plt.show()\n",
        "\n"
      ],
      "execution_count": 30,
      "outputs": []
    },
    {
      "cell_type": "markdown",
      "metadata": {
        "id": "N1G5ttKepai8"
      },
      "source": [
        "with tpu_strategy.scope():\n",
        "    skip_folds = np.arange(1)\n",
        "    VERBOSE = 2\n",
        "    EPOCHS = 200\n",
        "    FOLDS = 7\n",
        "    if DEBUG:\n",
        "      EPOCHS = 100\n",
        "    test_preds = []\n",
        "    kf = KFold(n_splits=FOLDS, shuffle=True, random_state=2021)\n",
        "    last_test_idx = []\n",
        "    \n",
        "    for fold, (train_idx, test_idx) in enumerate(kf.split(train, targets)):\n",
        "        last_test_idx = test_idx\n",
        "        if len(test_preds) > fold:\n",
        "          print(f'Ignore corrent fold {fold+1} as we already predicted test data')\n",
        "\n",
        "        if DEBUG and fold > 0:\n",
        "          continue\n",
        "        X_train, X_valid = train[train_idx], train[test_idx]\n",
        "        y_train, y_valid = targets[train_idx], targets[test_idx]\n",
        "        \n",
        "        model = dnn_model_GaussianNoise()\n",
        "        model.compile(optimizer=\"adam\", loss=\"mae\")\n",
        "\n",
        "        lr = ReduceLROnPlateau(monitor=\"val_loss\", factor=0.75, \n",
        "                               patience=10, verbose=VERBOSE)\n",
        "        checkpoint_name = f'./model-gpu/Bidirect_LSTM_model_{fold+1}C.h5'\n",
        "        chk_point = ModelCheckpoint(checkpoint_name,\n",
        "                                    monitor='val_loss', verbose=VERBOSE, \n",
        "                                    save_best_only=True, mode='min')\n",
        "\n",
        "        es = EarlyStopping(monitor=\"val_loss\", patience=50,\n",
        "                           verbose=VERBOSE, mode=\"min\",\n",
        "                           restore_best_weights=True)\n",
        "        \n",
        "        if fold not in skip_folds:\n",
        "          model.fit(X_train, y_train, \n",
        "                    validation_data=(X_valid, y_valid), \n",
        "                    epochs=EPOCHS,\n",
        "                    verbose=VERBOSE,\n",
        "                    batch_size=BATCH_SIZE, \n",
        "                    callbacks=[lr, chk_point, es])\n",
        "        else:\n",
        "          print('Load pretrain weight from ', checkpoint_name)\n",
        "          load_locally = tf.saved_model.LoadOptions(experimental_io_device='/job:localhost')\n",
        "          try:\n",
        "            # At loading time, register the custom objects with a `custom_object_scope`:\n",
        "            custom_objects = {\"ScaleLayer\": ScaleLayer}\n",
        "            with tf.keras.utils.custom_object_scope(custom_objects):\n",
        "                model = load_model(checkpoint_name, options=load_locally)\n",
        "          except (OSError):\n",
        "            print('Cannot load pretrain weight from ', checkpoint_name)\n",
        "            break\n",
        "                \n",
        "        y_true = y_valid.squeeze().reshape(-1, 1)\n",
        "        y_pred = model.predict(X_valid, batch_size=BATCH_SIZE).squeeze().reshape(-1, 1)\n",
        "        train_pred[test_idx] = y_pred.reshape(-1, 80)\n",
        "        score = mean_absolute_error(y_true, y_pred)\n",
        "        test_preds.append(model.predict(test, batch_size=BATCH_SIZE).squeeze().reshape(-1, 1).squeeze())\n",
        "\n",
        "        print(f\"Fold-{fold+1} | OOF Score: {score}\")\n",
        "        \n",
        "        del X_train, X_valid, y_train, y_valid, model\n",
        "        reset_keras()\n",
        "        gc.collect()\n",
        "\n",
        "        analy_predict(test_idx, train_pred)\n",
        "        break"
      ]
    },
    {
      "cell_type": "code",
      "metadata": {
        "id": "INtJvC7xfKdV"
      },
      "source": [
        "skip_folds = []#np.arange(1)\n",
        "train_pred = np.zeros(targets.shape)"
      ],
      "execution_count": 51,
      "outputs": []
    },
    {
      "cell_type": "markdown",
      "metadata": {
        "id": "OgZKi4Q-2aoC"
      },
      "source": [
        "with tpu_strategy.scope():\n",
        "    \n",
        "    VERBOSE = 2\n",
        "    EPOCHS = 200\n",
        "    FOLDS = 7\n",
        "    if DEBUG:\n",
        "      EPOCHS = 100\n",
        "    test_preds = []\n",
        "    kf = KFold(n_splits=FOLDS, shuffle=True, random_state=2021)\n",
        "    last_test_idx = []\n",
        "    \n",
        "    for fold, (train_idx, test_idx) in enumerate(kf.split(train, targets)):\n",
        "        last_test_idx = test_idx\n",
        "        if len(test_preds) > fold:\n",
        "          print(f'Ignore corrent fold {fold+1} as we already predicted test data')\n",
        "\n",
        "        if DEBUG and fold > 0:\n",
        "          continue\n",
        "        X_train, X_valid = train[train_idx], train[test_idx]\n",
        "        y_train, y_valid = targets[train_idx], targets[test_idx]\n",
        "        \n",
        "        model = dnn_model_aen()\n",
        "        model.compile(optimizer = tf.keras.optimizers.Adam(learning_rate = 1e-3), \n",
        "              # loss=\"mae\"\n",
        "              loss = {\n",
        "                  'decoder': tf.keras.losses.MeanSquaredError(), \n",
        "                  #'decoder': tf.keras.losses.MeanAbsoluteError(), \n",
        "                  'ae_action': tf.keras.losses.MeanAbsoluteError(),\n",
        "                  'output': tf.keras.losses.MeanAbsoluteError(), \n",
        "                  },\n",
        "              loss_weights = [1, 1, 1]\n",
        "              )\n",
        "\n",
        "        lr = ReduceLROnPlateau(monitor=\"val_output_loss\", factor=0.75, \n",
        "                               patience=10, verbose=VERBOSE)\n",
        "        checkpoint_name = f'./model-gpu/Bidirect_LSTM_model_{fold+1}C.h5'\n",
        "        chk_point = ModelCheckpoint(checkpoint_name,\n",
        "                                    monitor='val_output_loss', \n",
        "                                    verbose=VERBOSE, \n",
        "                                    save_best_only=True, mode='min')\n",
        "\n",
        "        es = EarlyStopping(monitor=\"val_output_loss\", patience=50,\n",
        "                           verbose=VERBOSE, mode=\"min\",\n",
        "                           restore_best_weights=True)\n",
        "        \n",
        "        if fold not in skip_folds:\n",
        "          model.fit(X_train, [X_train, y_train, y_train], \n",
        "                    validation_data=(X_valid, [X_valid, y_valid, y_valid]), \n",
        "                    epochs=EPOCHS,\n",
        "                    verbose=VERBOSE,\n",
        "                    batch_size=BATCH_SIZE, \n",
        "                    callbacks=[lr, chk_point, es])\n",
        "        else:\n",
        "          print('Load pretrain weight from ', checkpoint_name)\n",
        "          load_locally = tf.saved_model.LoadOptions(experimental_io_device='/job:localhost')\n",
        "          try:\n",
        "            # At loading time, register the custom objects with a `custom_object_scope`:\n",
        "            custom_objects = {\"ScaleLayer\": ScaleLayer}\n",
        "            with tf.keras.utils.custom_object_scope(custom_objects):\n",
        "                model = load_model(checkpoint_name, options=load_locally)\n",
        "          except (OSError):\n",
        "            print('Cannot load pretrain weight from ', checkpoint_name)\n",
        "            break\n",
        "                \n",
        "        y_true = y_valid.squeeze().reshape(-1, 1)\n",
        "        y_pred = model.predict(X_valid, batch_size=BATCH_SIZE)[-1].squeeze().reshape(-1, 1)\n",
        "        train_pred[test_idx] = y_pred.reshape(-1, 80)\n",
        "        score = mean_absolute_error(y_true, y_pred)\n",
        "        test_preds.append(model.predict(test, batch_size=BATCH_SIZE)[-1].squeeze().reshape(-1, 1).squeeze())\n",
        "\n",
        "        print(f\"Fold-{fold+1} | OOF Score: {score}\")\n",
        "        \n",
        "        del X_train, X_valid, y_train, y_valid, model\n",
        "        reset_keras()\n",
        "        gc.collect()\n",
        "\n",
        "        analy_predict(test_idx, train_pred)\n"
      ]
    },
    {
      "cell_type": "code",
      "metadata": {
        "colab": {
          "base_uri": "https://localhost:8080/"
        },
        "id": "lOju5NCSivUg",
        "outputId": "8b945d24-90ce-4c42-cb20-c62cec17c378"
      },
      "source": [
        "train.shape, targets.shape"
      ],
      "execution_count": 32,
      "outputs": [
        {
          "output_type": "execute_result",
          "data": {
            "text/plain": [
              "((75450, 80, 66), (75450, 80))"
            ]
          },
          "metadata": {},
          "execution_count": 32
        }
      ]
    },
    {
      "cell_type": "markdown",
      "metadata": {
        "id": "lYPmE2GVeNCk"
      },
      "source": [
        "# Filter only RC==5050 or 5020\n",
        "retrain_idx = np.logical_or((train[:, 0, -4] == 1), (train[:, 0, -5] == 1))\n",
        "train = train[retrain_idx]\n",
        "targets = targets[retrain_idx]\n",
        "train.shape, targets.shape"
      ]
    },
    {
      "cell_type": "code",
      "metadata": {
        "id": "Lx4IqaDowlN2"
      },
      "source": [
        "def RC_loss(y_true, y_pred, weight=50, cols = 80):\n",
        "    rc = y_true[:, cols: ]\n",
        "    y = y_true[:, :cols ]\n",
        "\n",
        "    w = 1 + rc*50\n",
        "    mae = w * tf.abs(y - y_pred)\n",
        "    return tf.reduce_sum(mae, axis=-1) / 80"
      ],
      "execution_count": 33,
      "outputs": []
    },
    {
      "cell_type": "code",
      "metadata": {
        "id": "6Px5fe-WszKu"
      },
      "source": [
        "#Sometime TF creats model with same weight name and it causes failure of save.\n",
        "def resolve_weight_names(model):\n",
        "  for i in range(len(model.weights)):\n",
        "    print(i, model.weights[i].name)\n",
        "    # model.weights[i]._handle_name = model.weights[i].name + \"_\" + str(i)"
      ],
      "execution_count": 56,
      "outputs": []
    },
    {
      "cell_type": "code",
      "metadata": {
        "id": "SYJkCi1-9co3",
        "colab": {
          "base_uri": "https://localhost:8080/"
        },
        "outputId": "ec55f0d1-4f55-431f-f19d-ccbf4f61b14c"
      },
      "source": [
        "BATCH_SIZE=512\n",
        "IS_WAVENET=False\n",
        "USE_RC_LOSS=False\n",
        "\n",
        "with tpu_strategy.scope():\n",
        "    \n",
        "    VERBOSE = 2\n",
        "    EPOCHS = 300\n",
        "    FOLDS = 7\n",
        "    if DEBUG:\n",
        "      EPOCHS = 100\n",
        "    test_preds = []\n",
        "    kf = KFold(n_splits=FOLDS, shuffle=True, random_state=2021)\n",
        "    last_test_idx = []\n",
        "    \n",
        "    for fold, (train_idx, test_idx) in enumerate(kf.split(train, targets)):\n",
        "        last_test_idx = test_idx\n",
        "        if len(test_preds) > fold:\n",
        "          print(f'Ignore corrent fold {fold+1} as we already predicted test data')\n",
        "\n",
        "        if DEBUG and fold > 0:\n",
        "          continue\n",
        "\n",
        "        X_train, X_valid = train[train_idx], train[test_idx]\n",
        "        y_train, y_valid = targets[train_idx], targets[test_idx]\n",
        "        #Align data to batch size and drop remainder. We only need it for TPU not GPU\n",
        "        if IS_TPU and IS_WAVENET:\n",
        "          fit_batch_size = X_train.shape[0] - (X_train.shape[0]%BATCH_SIZE)\n",
        "          print(X_train.shape[0], fit_batch_size)\n",
        "          X_train, y_train = X_train[:fit_batch_size, :, :], y_train[:fit_batch_size, :]\n",
        "          \n",
        "          fit_batch_size = X_valid.shape[0] - (X_valid.shape[0]%BATCH_SIZE)\n",
        "          print(X_valid.shape[0], fit_batch_size)\n",
        "          X_valid, y_valid = X_valid[:fit_batch_size, :, :], y_valid[:fit_batch_size, :]\n",
        "        \n",
        "        \n",
        "        # model = load_dnn_model_v4_add_wavenet(-3, True)\n",
        "        # model = lstm_wavenet_model()\n",
        "        # model = dnn_TransformerEncoder_model()\n",
        "        model = TransformerEncoder_LSTM_model(ff_dim=256,num_heads=8,num_layers=2,)\n",
        "        resolve_weight_names(model)\n",
        "        model.compile(optimizer=tf.keras.optimizers.Adam(learning_rate = 1e-3),\n",
        "                      # loss=RC_loss\n",
        "                      loss=tf.keras.losses.MeanAbsoluteError()\n",
        "                      )\n",
        "        \n",
        "        \n",
        "\n",
        "        lr = ReduceLROnPlateau(monitor=\"val_loss\", factor=0.75, \n",
        "                               patience=10, verbose=VERBOSE)\n",
        "        \n",
        "        # scheduler = tf.keras.optimizers.schedules.ExponentialDecay(1e-3, 5, 0.9)\n",
        "        # lr = tf.keras.callbacks.LearningRateScheduler(scheduler)\n",
        "\n",
        "        checkpoint_name = f'./model-gpu/transform_encoder_lstm_gpu_{fold+1}C.h5'\n",
        "        chk_point = ModelCheckpoint(checkpoint_name,\n",
        "                                    monitor='val_loss', verbose=VERBOSE, \n",
        "                                    save_best_only=True, mode='min')\n",
        "\n",
        "        es = EarlyStopping(monitor=\"val_loss\", patience=50,\n",
        "                           verbose=VERBOSE, mode=\"min\",\n",
        "                           restore_best_weights=True)\n",
        "        \n",
        "        if fold not in skip_folds:\n",
        "          if USE_RC_LOSS:\n",
        "            model.fit(X_train, np.append(y_train, X_train[:, :, -4]+X_train[:, :, -5], axis =1), \n",
        "                      validation_data=(X_valid, np.append(y_valid, X_valid[:, :, -4]+X_valid[:, :, -5], axis =1)), \n",
        "                      epochs=EPOCHS,\n",
        "                      verbose=VERBOSE,\n",
        "                      batch_size=BATCH_SIZE, \n",
        "                      callbacks=[lr, chk_point, es])\n",
        "          else:\n",
        "            model.fit(X_train, y_train, \n",
        "                      validation_data=(X_valid, y_valid), \n",
        "                      epochs=EPOCHS,\n",
        "                      verbose=VERBOSE,\n",
        "                      batch_size=BATCH_SIZE, \n",
        "                      callbacks=[lr, chk_point, es])\n",
        "        else:\n",
        "          print('Load pretrain weight from ', checkpoint_name)\n",
        "          load_locally = tf.saved_model.LoadOptions(experimental_io_device='/job:localhost')\n",
        "          try:\n",
        "            # At loading time, register the custom objects with a `custom_object_scope`:\n",
        "            custom_objects = {\"ScaleLayer\": ScaleLayer, \"RC_loss\": RC_loss, \n",
        "                              \"Time2Vec\": Time2Vec, \n",
        "                              \"TransformerEncoder\": TransformerEncoder}\n",
        "            with tf.keras.utils.custom_object_scope(custom_objects):\n",
        "                model = load_model(checkpoint_name, options=load_locally)\n",
        "          except (OSError):\n",
        "            print('Cannot load pretrain weight from ', checkpoint_name)\n",
        "            break\n",
        "                \n",
        "        y_true = y_valid.squeeze().reshape(-1, 1)\n",
        "        y_pred = model.predict(X_valid, batch_size=BATCH_SIZE).squeeze().reshape(-1, 1)\n",
        "        score = mean_absolute_error(y_true, y_pred)\n",
        "        print(f\"Fold-{fold+1} | OOF Score: {score}\")\n",
        "\n",
        "        #Save CV predict\n",
        "        if not (IS_TPU and IS_WAVENET):\n",
        "          train_pred[test_idx] = y_pred.reshape(-1, 80)\n",
        "          test_preds.append(model.predict(test, batch_size=1).squeeze().reshape(-1, 1).squeeze())\n",
        "\n",
        "        \n",
        "        del X_train, X_valid, y_train, y_valid, model\n",
        "        reset_keras()\n",
        "        gc.collect()\n",
        "\n",
        "        if not (IS_TPU and IS_WAVENET):\n",
        "          analy_predict(test_idx, train_pred)\n",
        "        "
      ],
      "execution_count": null,
      "outputs": [
        {
          "output_type": "stream",
          "name": "stdout",
          "text": [
            "0 time_distributed_6/wb:0\n",
            "1 time_distributed_6/bb:0\n",
            "2 time_distributed_6/wa:0\n",
            "3 time_distributed_6/ba:0\n",
            "4 transformer_encoder_12/multi_head_attention_14/query/kernel:0\n",
            "5 transformer_encoder_12/multi_head_attention_14/query/bias:0\n",
            "6 transformer_encoder_12/multi_head_attention_14/key/kernel:0\n",
            "7 transformer_encoder_12/multi_head_attention_14/key/bias:0\n",
            "8 transformer_encoder_12/multi_head_attention_14/value/kernel:0\n",
            "9 transformer_encoder_12/multi_head_attention_14/value/bias:0\n",
            "10 transformer_encoder_12/multi_head_attention_14/attention_output/kernel:0\n",
            "11 transformer_encoder_12/multi_head_attention_14/attention_output/bias:0\n",
            "12 transformer_encoder_12/layer_normalization_28/gamma:0\n",
            "13 transformer_encoder_12/layer_normalization_28/beta:0\n",
            "14 transformer_encoder_12/ff_conv1/kernel:0\n",
            "15 transformer_encoder_12/ff_conv1/bias:0\n",
            "16 transformer_encoder_12/layer_normalization_29/gamma:0\n",
            "17 transformer_encoder_12/layer_normalization_29/beta:0\n",
            "18 transformer_encoder_12/ff_conv2/kernel:0\n",
            "19 transformer_encoder_12/ff_conv2/bias:0\n",
            "20 transformer_encoder_13/multi_head_attention_15/query/kernel:0\n",
            "21 transformer_encoder_13/multi_head_attention_15/query/bias:0\n",
            "22 transformer_encoder_13/multi_head_attention_15/key/kernel:0\n",
            "23 transformer_encoder_13/multi_head_attention_15/key/bias:0\n",
            "24 transformer_encoder_13/multi_head_attention_15/value/kernel:0\n",
            "25 transformer_encoder_13/multi_head_attention_15/value/bias:0\n",
            "26 transformer_encoder_13/multi_head_attention_15/attention_output/kernel:0\n",
            "27 transformer_encoder_13/multi_head_attention_15/attention_output/bias:0\n",
            "28 transformer_encoder_13/layer_normalization_30/gamma:0\n",
            "29 transformer_encoder_13/layer_normalization_30/beta:0\n",
            "30 transformer_encoder_13/ff_conv1/kernel:0\n",
            "31 transformer_encoder_13/ff_conv1/bias:0\n",
            "32 transformer_encoder_13/layer_normalization_31/gamma:0\n",
            "33 transformer_encoder_13/layer_normalization_31/beta:0\n",
            "34 transformer_encoder_13/ff_conv2/kernel:0\n",
            "35 transformer_encoder_13/ff_conv2/bias:0\n",
            "36 bidirectional_12/forward_lstm_12/lstm_cell_43/kernel:0\n",
            "37 bidirectional_12/forward_lstm_12/lstm_cell_43/recurrent_kernel:0\n",
            "38 bidirectional_12/forward_lstm_12/lstm_cell_43/bias:0\n",
            "39 bidirectional_12/backward_lstm_12/lstm_cell_44/kernel:0\n",
            "40 bidirectional_12/backward_lstm_12/lstm_cell_44/recurrent_kernel:0\n",
            "41 bidirectional_12/backward_lstm_12/lstm_cell_44/bias:0\n",
            "42 bidirectional_13/forward_lstm_13/lstm_cell_46/kernel:0\n",
            "43 bidirectional_13/forward_lstm_13/lstm_cell_46/recurrent_kernel:0\n",
            "44 bidirectional_13/forward_lstm_13/lstm_cell_46/bias:0\n",
            "45 bidirectional_13/backward_lstm_13/lstm_cell_47/kernel:0\n",
            "46 bidirectional_13/backward_lstm_13/lstm_cell_47/recurrent_kernel:0\n",
            "47 bidirectional_13/backward_lstm_13/lstm_cell_47/bias:0\n",
            "48 dense_11/kernel:0\n",
            "49 dense_11/bias:0\n",
            "50 dense_12/kernel:0\n",
            "51 dense_12/bias:0\n",
            "Epoch 1/300\n",
            "127/127 - 57s - loss: 1.5463 - val_loss: 0.7659\n",
            "\n",
            "Epoch 00001: val_loss improved from inf to 0.76592, saving model to ./model-gpu/transform_encoder_lstm_gpu_1C.h5\n",
            "Epoch 2/300\n",
            "127/127 - 13s - loss: 0.6633 - val_loss: 0.5500\n",
            "\n",
            "Epoch 00002: val_loss improved from 0.76592 to 0.54997, saving model to ./model-gpu/transform_encoder_lstm_gpu_1C.h5\n",
            "Epoch 3/300\n"
          ]
        }
      ]
    },
    {
      "cell_type": "markdown",
      "metadata": {
        "id": "fUanGPDq9co3"
      },
      "source": [
        "if not DEBUG:\n",
        "  train_pred = train_pred.flatten()\n",
        "  targets = targets.flatten()\n",
        "  score = mean_absolute_error(targets, train_pred)\n",
        "  print(f\"Train Score: {score}\")"
      ]
    },
    {
      "cell_type": "markdown",
      "metadata": {
        "id": "QHx2oF849co4"
      },
      "source": [
        "## Create submission file"
      ]
    },
    {
      "cell_type": "markdown",
      "metadata": {
        "id": "tS9VjV7K9co4"
      },
      "source": [
        "if not DEBUG:\n",
        "  submission = pd.read_csv('../input/ventilator-pressure-prediction/sample_submission.csv')\n",
        "  submission[\"pressure\"] = sum(test_preds)/5\n",
        "  submission.to_csv('submission.csv', index=False)\n",
        "\n",
        "  # ENSEMBLE FOLDS WITH MEDIAN\n",
        "  #取中位数\n",
        "  submission[\"pressure\"] = np.median(np.vstack(test_preds),axis=0)\n",
        "  submission.to_csv('submission_median.csv', index=False)\n",
        "\n",
        "\n",
        "  # ENSEMBLE FOLDS WITH MEDIAN AND ROUND PREDICTIONS\n",
        "  submission[\"pressure\"] =\\\n",
        "      np.round( (submission.pressure - pressure_min)/pressure_step ) * pressure_step + pressure_min\n",
        "  submission.pressure = np.clip(submission.pressure, pressure_min, pressure_max)\n",
        "  submission.to_csv('submission_median_round.csv', index=False)"
      ]
    },
    {
      "cell_type": "markdown",
      "metadata": {
        "id": "_NUXlVX70A_M"
      },
      "source": [
        "# Analyze predict data"
      ]
    },
    {
      "cell_type": "code",
      "metadata": {
        "id": "G7JStDQyQ5EJ"
      },
      "source": [
        "#analy_predict(last_test_idx, train_pred)"
      ],
      "execution_count": null,
      "outputs": []
    },
    {
      "cell_type": "code",
      "metadata": {
        "id": "9TsMS3kv3xZM"
      },
      "source": [
        ""
      ],
      "execution_count": null,
      "outputs": []
    }
  ]
}